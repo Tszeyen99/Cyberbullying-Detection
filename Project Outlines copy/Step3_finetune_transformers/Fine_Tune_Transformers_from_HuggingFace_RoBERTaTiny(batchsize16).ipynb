{
  "cells": [
    {
      "cell_type": "markdown",
      "id": "a0aff953",
      "metadata": {
        "id": "a0aff953"
      },
      "source": [
        "# Fine Tune Transformer from HuggingFace RoBERTa Tiny (batchsize16)"
      ]
    },
    {
      "cell_type": "code",
      "execution_count": null,
      "id": "lspbB923kCc5",
      "metadata": {
        "colab": {
          "base_uri": "https://localhost:8080/"
        },
        "id": "lspbB923kCc5",
        "outputId": "188b67a5-90f3-4e1c-ca39-2df53702d83a"
      },
      "outputs": [
        {
          "name": "stdout",
          "output_type": "stream",
          "text": [
            "Requirement already satisfied: transformers[torch] in /usr/local/lib/python3.10/dist-packages (4.40.2)\n",
            "Requirement already satisfied: filelock in /usr/local/lib/python3.10/dist-packages (from transformers[torch]) (3.14.0)\n",
            "Requirement already satisfied: huggingface-hub<1.0,>=0.19.3 in /usr/local/lib/python3.10/dist-packages (from transformers[torch]) (0.20.3)\n",
            "Requirement already satisfied: numpy>=1.17 in /usr/local/lib/python3.10/dist-packages (from transformers[torch]) (1.25.2)\n",
            "Requirement already satisfied: packaging>=20.0 in /usr/local/lib/python3.10/dist-packages (from transformers[torch]) (24.0)\n",
            "Requirement already satisfied: pyyaml>=5.1 in /usr/local/lib/python3.10/dist-packages (from transformers[torch]) (6.0.1)\n",
            "Requirement already satisfied: regex!=2019.12.17 in /usr/local/lib/python3.10/dist-packages (from transformers[torch]) (2023.12.25)\n",
            "Requirement already satisfied: requests in /usr/local/lib/python3.10/dist-packages (from transformers[torch]) (2.31.0)\n",
            "Requirement already satisfied: tokenizers<0.20,>=0.19 in /usr/local/lib/python3.10/dist-packages (from transformers[torch]) (0.19.1)\n",
            "Requirement already satisfied: safetensors>=0.4.1 in /usr/local/lib/python3.10/dist-packages (from transformers[torch]) (0.4.3)\n",
            "Requirement already satisfied: tqdm>=4.27 in /usr/local/lib/python3.10/dist-packages (from transformers[torch]) (4.66.4)\n",
            "Requirement already satisfied: torch in /usr/local/lib/python3.10/dist-packages (from transformers[torch]) (2.2.1+cu121)\n",
            "Collecting accelerate>=0.21.0 (from transformers[torch])\n",
            "  Downloading accelerate-0.30.1-py3-none-any.whl (302 kB)\n",
            "\u001b[2K     \u001b[90m━━━━━━━━━━━━━━━━━━━━━━━━━━━━━━━━━━━━━━━━\u001b[0m \u001b[32m302.6/302.6 kB\u001b[0m \u001b[31m7.2 MB/s\u001b[0m eta \u001b[36m0:00:00\u001b[0m\n",
            "\u001b[?25hRequirement already satisfied: psutil in /usr/local/lib/python3.10/dist-packages (from accelerate>=0.21.0->transformers[torch]) (5.9.5)\n",
            "Requirement already satisfied: fsspec>=2023.5.0 in /usr/local/lib/python3.10/dist-packages (from huggingface-hub<1.0,>=0.19.3->transformers[torch]) (2023.6.0)\n",
            "Requirement already satisfied: typing-extensions>=3.7.4.3 in /usr/local/lib/python3.10/dist-packages (from huggingface-hub<1.0,>=0.19.3->transformers[torch]) (4.11.0)\n",
            "Requirement already satisfied: sympy in /usr/local/lib/python3.10/dist-packages (from torch->transformers[torch]) (1.12)\n",
            "Requirement already satisfied: networkx in /usr/local/lib/python3.10/dist-packages (from torch->transformers[torch]) (3.3)\n",
            "Requirement already satisfied: jinja2 in /usr/local/lib/python3.10/dist-packages (from torch->transformers[torch]) (3.1.4)\n",
            "Collecting nvidia-cuda-nvrtc-cu12==12.1.105 (from torch->transformers[torch])\n",
            "  Using cached nvidia_cuda_nvrtc_cu12-12.1.105-py3-none-manylinux1_x86_64.whl (23.7 MB)\n",
            "Collecting nvidia-cuda-runtime-cu12==12.1.105 (from torch->transformers[torch])\n",
            "  Using cached nvidia_cuda_runtime_cu12-12.1.105-py3-none-manylinux1_x86_64.whl (823 kB)\n",
            "Collecting nvidia-cuda-cupti-cu12==12.1.105 (from torch->transformers[torch])\n",
            "  Using cached nvidia_cuda_cupti_cu12-12.1.105-py3-none-manylinux1_x86_64.whl (14.1 MB)\n",
            "Collecting nvidia-cudnn-cu12==8.9.2.26 (from torch->transformers[torch])\n",
            "  Using cached nvidia_cudnn_cu12-8.9.2.26-py3-none-manylinux1_x86_64.whl (731.7 MB)\n",
            "Collecting nvidia-cublas-cu12==12.1.3.1 (from torch->transformers[torch])\n",
            "  Using cached nvidia_cublas_cu12-12.1.3.1-py3-none-manylinux1_x86_64.whl (410.6 MB)\n",
            "Collecting nvidia-cufft-cu12==11.0.2.54 (from torch->transformers[torch])\n",
            "  Using cached nvidia_cufft_cu12-11.0.2.54-py3-none-manylinux1_x86_64.whl (121.6 MB)\n",
            "Collecting nvidia-curand-cu12==10.3.2.106 (from torch->transformers[torch])\n",
            "  Using cached nvidia_curand_cu12-10.3.2.106-py3-none-manylinux1_x86_64.whl (56.5 MB)\n",
            "Collecting nvidia-cusolver-cu12==11.4.5.107 (from torch->transformers[torch])\n",
            "  Using cached nvidia_cusolver_cu12-11.4.5.107-py3-none-manylinux1_x86_64.whl (124.2 MB)\n",
            "Collecting nvidia-cusparse-cu12==12.1.0.106 (from torch->transformers[torch])\n",
            "  Using cached nvidia_cusparse_cu12-12.1.0.106-py3-none-manylinux1_x86_64.whl (196.0 MB)\n",
            "Collecting nvidia-nccl-cu12==2.19.3 (from torch->transformers[torch])\n",
            "  Using cached nvidia_nccl_cu12-2.19.3-py3-none-manylinux1_x86_64.whl (166.0 MB)\n",
            "Collecting nvidia-nvtx-cu12==12.1.105 (from torch->transformers[torch])\n",
            "  Using cached nvidia_nvtx_cu12-12.1.105-py3-none-manylinux1_x86_64.whl (99 kB)\n",
            "Requirement already satisfied: triton==2.2.0 in /usr/local/lib/python3.10/dist-packages (from torch->transformers[torch]) (2.2.0)\n",
            "Collecting nvidia-nvjitlink-cu12 (from nvidia-cusolver-cu12==11.4.5.107->torch->transformers[torch])\n",
            "  Using cached nvidia_nvjitlink_cu12-12.4.127-py3-none-manylinux2014_x86_64.whl (21.1 MB)\n",
            "Requirement already satisfied: charset-normalizer<4,>=2 in /usr/local/lib/python3.10/dist-packages (from requests->transformers[torch]) (3.3.2)\n",
            "Requirement already satisfied: idna<4,>=2.5 in /usr/local/lib/python3.10/dist-packages (from requests->transformers[torch]) (3.7)\n",
            "Requirement already satisfied: urllib3<3,>=1.21.1 in /usr/local/lib/python3.10/dist-packages (from requests->transformers[torch]) (2.0.7)\n",
            "Requirement already satisfied: certifi>=2017.4.17 in /usr/local/lib/python3.10/dist-packages (from requests->transformers[torch]) (2024.2.2)\n",
            "Requirement already satisfied: MarkupSafe>=2.0 in /usr/local/lib/python3.10/dist-packages (from jinja2->torch->transformers[torch]) (2.1.5)\n",
            "Requirement already satisfied: mpmath>=0.19 in /usr/local/lib/python3.10/dist-packages (from sympy->torch->transformers[torch]) (1.3.0)\n",
            "Installing collected packages: nvidia-nvtx-cu12, nvidia-nvjitlink-cu12, nvidia-nccl-cu12, nvidia-curand-cu12, nvidia-cufft-cu12, nvidia-cuda-runtime-cu12, nvidia-cuda-nvrtc-cu12, nvidia-cuda-cupti-cu12, nvidia-cublas-cu12, nvidia-cusparse-cu12, nvidia-cudnn-cu12, nvidia-cusolver-cu12, accelerate\n",
            "Successfully installed accelerate-0.30.1 nvidia-cublas-cu12-12.1.3.1 nvidia-cuda-cupti-cu12-12.1.105 nvidia-cuda-nvrtc-cu12-12.1.105 nvidia-cuda-runtime-cu12-12.1.105 nvidia-cudnn-cu12-8.9.2.26 nvidia-cufft-cu12-11.0.2.54 nvidia-curand-cu12-10.3.2.106 nvidia-cusolver-cu12-11.4.5.107 nvidia-cusparse-cu12-12.1.0.106 nvidia-nccl-cu12-2.19.3 nvidia-nvjitlink-cu12-12.4.127 nvidia-nvtx-cu12-12.1.105\n"
          ]
        }
      ],
      "source": [
        "pip install transformers[torch] -U"
      ]
    },
    {
      "cell_type": "code",
      "execution_count": null,
      "id": "OItEYDmL1hi2",
      "metadata": {
        "colab": {
          "base_uri": "https://localhost:8080/"
        },
        "execution": {
          "iopub.execute_input": "2023-08-23T04:53:13.859409Z",
          "iopub.status.busy": "2023-08-23T04:53:13.858815Z",
          "iopub.status.idle": "2023-08-23T04:53:25.957475Z",
          "shell.execute_reply": "2023-08-23T04:53:25.956828Z",
          "shell.execute_reply.started": "2023-08-23T04:53:13.859386Z"
        },
        "id": "OItEYDmL1hi2",
        "outputId": "0e0f13e6-1eca-4bbb-f390-04ea14de7bcd"
      },
      "outputs": [
        {
          "name": "stdout",
          "output_type": "stream",
          "text": [
            "Requirement already satisfied: torch in /usr/local/lib/python3.10/dist-packages (2.2.1+cu121)\n",
            "Requirement already satisfied: filelock in /usr/local/lib/python3.10/dist-packages (from torch) (3.13.4)\n",
            "Requirement already satisfied: typing-extensions>=4.8.0 in /usr/local/lib/python3.10/dist-packages (from torch) (4.11.0)\n",
            "Requirement already satisfied: sympy in /usr/local/lib/python3.10/dist-packages (from torch) (1.12)\n",
            "Requirement already satisfied: networkx in /usr/local/lib/python3.10/dist-packages (from torch) (3.3)\n",
            "Requirement already satisfied: jinja2 in /usr/local/lib/python3.10/dist-packages (from torch) (3.1.3)\n",
            "Requirement already satisfied: fsspec in /usr/local/lib/python3.10/dist-packages (from torch) (2023.6.0)\n",
            "Requirement already satisfied: nvidia-cuda-nvrtc-cu12==12.1.105 in /usr/local/lib/python3.10/dist-packages (from torch) (12.1.105)\n",
            "Requirement already satisfied: nvidia-cuda-runtime-cu12==12.1.105 in /usr/local/lib/python3.10/dist-packages (from torch) (12.1.105)\n",
            "Requirement already satisfied: nvidia-cuda-cupti-cu12==12.1.105 in /usr/local/lib/python3.10/dist-packages (from torch) (12.1.105)\n",
            "Requirement already satisfied: nvidia-cudnn-cu12==8.9.2.26 in /usr/local/lib/python3.10/dist-packages (from torch) (8.9.2.26)\n",
            "Requirement already satisfied: nvidia-cublas-cu12==12.1.3.1 in /usr/local/lib/python3.10/dist-packages (from torch) (12.1.3.1)\n",
            "Requirement already satisfied: nvidia-cufft-cu12==11.0.2.54 in /usr/local/lib/python3.10/dist-packages (from torch) (11.0.2.54)\n",
            "Requirement already satisfied: nvidia-curand-cu12==10.3.2.106 in /usr/local/lib/python3.10/dist-packages (from torch) (10.3.2.106)\n",
            "Requirement already satisfied: nvidia-cusolver-cu12==11.4.5.107 in /usr/local/lib/python3.10/dist-packages (from torch) (11.4.5.107)\n",
            "Requirement already satisfied: nvidia-cusparse-cu12==12.1.0.106 in /usr/local/lib/python3.10/dist-packages (from torch) (12.1.0.106)\n",
            "Requirement already satisfied: nvidia-nccl-cu12==2.19.3 in /usr/local/lib/python3.10/dist-packages (from torch) (2.19.3)\n",
            "Requirement already satisfied: nvidia-nvtx-cu12==12.1.105 in /usr/local/lib/python3.10/dist-packages (from torch) (12.1.105)\n",
            "Requirement already satisfied: triton==2.2.0 in /usr/local/lib/python3.10/dist-packages (from torch) (2.2.0)\n",
            "Requirement already satisfied: nvidia-nvjitlink-cu12 in /usr/local/lib/python3.10/dist-packages (from nvidia-cusolver-cu12==11.4.5.107->torch) (12.4.127)\n",
            "Requirement already satisfied: MarkupSafe>=2.0 in /usr/local/lib/python3.10/dist-packages (from jinja2->torch) (2.1.5)\n",
            "Requirement already satisfied: mpmath>=0.19 in /usr/local/lib/python3.10/dist-packages (from sympy->torch) (1.3.0)\n",
            "Requirement already satisfied: imblearn in /usr/local/lib/python3.10/dist-packages (0.0)\n",
            "Requirement already satisfied: imbalanced-learn in /usr/local/lib/python3.10/dist-packages (from imblearn) (0.10.1)\n",
            "Requirement already satisfied: numpy>=1.17.3 in /usr/local/lib/python3.10/dist-packages (from imbalanced-learn->imblearn) (1.25.2)\n",
            "Requirement already satisfied: scipy>=1.3.2 in /usr/local/lib/python3.10/dist-packages (from imbalanced-learn->imblearn) (1.11.4)\n",
            "Requirement already satisfied: scikit-learn>=1.0.2 in /usr/local/lib/python3.10/dist-packages (from imbalanced-learn->imblearn) (1.2.2)\n",
            "Requirement already satisfied: joblib>=1.1.1 in /usr/local/lib/python3.10/dist-packages (from imbalanced-learn->imblearn) (1.4.0)\n",
            "Requirement already satisfied: threadpoolctl>=2.0.0 in /usr/local/lib/python3.10/dist-packages (from imbalanced-learn->imblearn) (3.4.0)\n"
          ]
        }
      ],
      "source": [
        "# %pip install transformers\n",
        "%pip install torch\n",
        "%pip install imblearn\n",
        "# %pip install wandb --upgrade\n"
      ]
    },
    {
      "cell_type": "code",
      "execution_count": null,
      "id": "6NQ1O-nyi2Zv",
      "metadata": {
        "colab": {
          "base_uri": "https://localhost:8080/"
        },
        "id": "6NQ1O-nyi2Zv",
        "outputId": "058ec15f-2b2f-42f4-f14b-3382282ccef6"
      },
      "outputs": [
        {
          "name": "stdout",
          "output_type": "stream",
          "text": [
            "Mounted at /content/drive\n"
          ]
        }
      ],
      "source": [
        "from google.colab import drive\n",
        "drive.mount('/content/drive')"
      ]
    },
    {
      "cell_type": "code",
      "execution_count": null,
      "id": "02505ed3",
      "metadata": {
        "colab": {
          "base_uri": "https://localhost:8080/"
        },
        "execution": {
          "iopub.execute_input": "2023-08-23T04:53:25.959174Z",
          "iopub.status.busy": "2023-08-23T04:53:25.958686Z",
          "iopub.status.idle": "2023-08-23T04:53:29.864916Z",
          "shell.execute_reply": "2023-08-23T04:53:29.864349Z",
          "shell.execute_reply.started": "2023-08-23T04:53:25.959137Z"
        },
        "id": "02505ed3",
        "outputId": "2ffe40a3-a72c-426f-b94b-a6f39380d286"
      },
      "outputs": [
        {
          "name": "stderr",
          "output_type": "stream",
          "text": [
            "<ipython-input-6-5c70c929f42e>:14: TqdmDeprecationWarning: This function will be removed in tqdm==5.0.0\n",
            "Please use `tqdm.notebook.*` instead of `tqdm._tqdm_notebook.*`\n",
            "  from tqdm._tqdm_notebook import tqdm_notebook\n"
          ]
        }
      ],
      "source": [
        "import numpy as np\n",
        "import pandas as pd\n",
        "\n",
        "from sklearn.model_selection import train_test_split, StratifiedKFold, StratifiedShuffleSplit\n",
        "from sklearn.metrics import accuracy_score, recall_score, precision_score, f1_score, roc_auc_score, classification_report\n",
        "\n",
        "import torch\n",
        "from transformers import AutoTokenizer, AutoModelForSequenceClassification\n",
        "from transformers import TrainingArguments, Trainer\n",
        "from transformers import BertTokenizer, BertForSequenceClassification\n",
        "from transformers import EarlyStoppingCallback, set_seed\n",
        "\n",
        "# Progress bar\n",
        "from tqdm._tqdm_notebook import tqdm_notebook\n",
        "from tqdm import tqdm\n",
        "tqdm_notebook.pandas()"
      ]
    },
    {
      "cell_type": "markdown",
      "id": "5a8c1621",
      "metadata": {
        "id": "5a8c1621"
      },
      "source": [
        "## Import Clean Data"
      ]
    },
    {
      "cell_type": "code",
      "execution_count": null,
      "id": "c58048aa",
      "metadata": {
        "colab": {
          "base_uri": "https://localhost:8080/",
          "height": 49,
          "referenced_widgets": [
            "94f3feed30f847b9b6cdf83a9251e2f6",
            "0daace08f5c24cbfb31f1eed769e2dac",
            "2ef934556cde422f8a91ff8064c98fa4",
            "e0e4d12de6cb49eb9ef078aecd30e510",
            "a5521c5705374f63b3e9284640a0adf8",
            "dc49312a214d4d4b88eb86b11202f19c",
            "2e80d58a541c4879915db99273289eca",
            "2475ca355aad485c847af7988b49df9e",
            "8f51ea078af54bb9aac4d636f113fdbb",
            "88af92aaa1364748ae2a67b6bb22a380",
            "f2552d92327a4f7ab8f910b01c0b3570"
          ]
        },
        "execution": {
          "iopub.execute_input": "2023-08-23T04:53:29.865991Z",
          "iopub.status.busy": "2023-08-23T04:53:29.865636Z",
          "iopub.status.idle": "2023-08-23T04:53:30.271020Z",
          "shell.execute_reply": "2023-08-23T04:53:30.270357Z",
          "shell.execute_reply.started": "2023-08-23T04:53:29.865973Z"
        },
        "id": "c58048aa",
        "outputId": "8f0f43e7-75e0-4ed3-b2c5-c9e11a20a7e5"
      },
      "outputs": [
        {
          "data": {
            "application/vnd.jupyter.widget-view+json": {
              "model_id": "94f3feed30f847b9b6cdf83a9251e2f6",
              "version_major": 2,
              "version_minor": 0
            },
            "text/plain": [
              "  0%|          | 0/112247 [00:00<?, ?it/s]"
            ]
          },
          "metadata": {},
          "output_type": "display_data"
        }
      ],
      "source": [
        "###############################################################\n",
        "# Note: Change the name of data set used for feature creation\n",
        "###############################################################\n",
        "data_set='bully_data_clean_with_stopword'\n",
        "\n",
        "\n",
        "###################\n",
        "# Import Data Set #\n",
        "###################\n",
        "bully_data_cleaned = pd.read_csv('/content/drive/MyDrive/fyp/amica_data_clean_with_stopword_short.csv', encoding='utf8')\n",
        "bully_data_cleaned = bully_data_cleaned[~bully_data_cleaned['text_check'].isna()]\n",
        "bully_data_cleaned = bully_data_cleaned[bully_data_cleaned['text_check'] != \"\"]\n",
        "#bully_data_cleaned = bully_data_cleaned[bully_data_cleaned['role']!='None']\n",
        "bully_data_cleaned = bully_data_cleaned[['label','text_check']]\n",
        "bully_data_cleaned['label'] = bully_data_cleaned['label'].progress_apply(lambda x: 1 if x ==\"Cyberbullying\" else 0)\n",
        "bully_data_cleaned.rename(columns = {'text_check':'text'}, inplace = True)\n",
        "bully_data_cleaned = bully_data_cleaned.reset_index(drop=True)"
      ]
    },
    {
      "cell_type": "code",
      "execution_count": null,
      "id": "f1ad3546",
      "metadata": {
        "colab": {
          "base_uri": "https://localhost:8080/"
        },
        "execution": {
          "iopub.execute_input": "2023-08-23T04:53:30.272539Z",
          "iopub.status.busy": "2023-08-23T04:53:30.272352Z",
          "iopub.status.idle": "2023-08-23T04:53:30.294272Z",
          "shell.execute_reply": "2023-08-23T04:53:30.293624Z",
          "shell.execute_reply.started": "2023-08-23T04:53:30.272523Z"
        },
        "id": "f1ad3546",
        "outputId": "92ff894e-b73c-4952-d435-9c7a9061a769",
        "scrolled": true
      },
      "outputs": [
        {
          "name": "stdout",
          "output_type": "stream",
          "text": [
            "<class 'pandas.core.frame.DataFrame'>\n",
            "RangeIndex: 112247 entries, 0 to 112246\n",
            "Data columns (total 2 columns):\n",
            " #   Column  Non-Null Count   Dtype \n",
            "---  ------  --------------   ----- \n",
            " 0   label   112247 non-null  int64 \n",
            " 1   text    112247 non-null  object\n",
            "dtypes: int64(1), object(1)\n",
            "memory usage: 1.7+ MB\n"
          ]
        }
      ],
      "source": [
        "bully_data_cleaned.info()"
      ]
    },
    {
      "cell_type": "code",
      "execution_count": null,
      "id": "y2TxGLSm81wJ",
      "metadata": {
        "colab": {
          "base_uri": "https://localhost:8080/"
        },
        "execution": {
          "iopub.execute_input": "2023-08-22T18:23:25.555382Z",
          "iopub.status.busy": "2023-08-22T18:23:25.554992Z",
          "iopub.status.idle": "2023-08-22T18:23:25.561868Z",
          "shell.execute_reply": "2023-08-22T18:23:25.561230Z",
          "shell.execute_reply.started": "2023-08-22T18:23:25.555350Z"
        },
        "id": "y2TxGLSm81wJ",
        "outputId": "0f94062c-e397-4151-db46-cf52625967cd"
      },
      "outputs": [
        {
          "data": {
            "text/plain": [
              "label\n",
              "0    106872\n",
              "1      5375\n",
              "Name: count, dtype: int64"
            ]
          },
          "execution_count": 8,
          "metadata": {},
          "output_type": "execute_result"
        }
      ],
      "source": [
        "bully_data_cleaned['label'].value_counts()"
      ]
    },
    {
      "cell_type": "markdown",
      "id": "61d6da90",
      "metadata": {
        "id": "61d6da90"
      },
      "source": [
        "## Define pretrained tokenizer and model"
      ]
    },
    {
      "cell_type": "code",
      "execution_count": null,
      "id": "b09bcba2",
      "metadata": {
        "colab": {
          "base_uri": "https://localhost:8080/",
          "height": 336,
          "referenced_widgets": [
            "9ba4fb9ef5ce4b6bb6c7726cf333b61d",
            "0db125b851b348fba3499ca2714379bc",
            "a8fda36b30dc4bb1a5f4aa7e9fb83421",
            "e259de4b7295429797670b5b0704eb70",
            "c73dd0427c824400b4d95f9053cbb57f",
            "4d34f676ab1540b28c489af959048481",
            "8be5333fd746484f9778d74c78b5a18b",
            "4dba221386144f9a8c34ccdf45fcddf3",
            "e3f825d2bd494b4b97bd5eb3958c386b",
            "4ea6d96a21cd43f89cb922648aa23006",
            "be5444a7944145ab80fd077bc922833c",
            "9a1a32046de540489ea3d3f454a64bd1",
            "920fca6403c342db9ccf69aac780d9d2",
            "4217398ca58749b594e5833f786aad02",
            "3433b80ee96a4c98a1c4986ee0194e1d",
            "d85cd572bbe74ca8ada2ae35bac42e88",
            "613f680658e9482a9c3050d177afa2ca",
            "a4f6edcee5d743cd948a937ad05e971c",
            "aa4a588f34e945c8a784cc70ce504927",
            "4bb2ca3409fd4c6fa73134e13597b90f",
            "9374fada94ad401ab6e5e50a00b4b16e",
            "d1a80cfb6b544508a26f2e681fa40ff6",
            "5a14d59ec78445fc9fcc3dab128fb290",
            "f3f8a69709e642349c14a831e58570ab",
            "16c6d412ad0d47a7862667a52f2c702b",
            "fa7017595a8d4af38dabbcbdcad7b13d",
            "d78dffe1ddf848b6b8b4633e252d30cd",
            "7c0f2db619384a438444eb0e46aee072",
            "4953e2ed03004ef5b3607231c40e26a7",
            "a055d69133f645be8a5bed3fca93d9f2",
            "06f8cc0ed7f1465cb9d909209bbedb3f",
            "b3e94e80da7f418e98c1b8f8a596cae2",
            "0e8fc5629af94995a51a12a054daa41f",
            "c1aa3102ebd74fc6ad2f04356a76b940",
            "c8f850272a0243d8828298efcb6cf765",
            "3bbacc3305814b96ae18018103fb7764",
            "23d328fd23fa4c919b7e7b1f2cb65f85",
            "32d6a77f65c3424a8d963532fb17228b",
            "8d54db3efb3d46c2a188f55476360880",
            "a8e91c632cc34d4793ebf3224021aa9a",
            "9346ce63297a4db6a98e637d545f4424",
            "0555fc28f4b8475b975bec73d781b8c3",
            "2799fc961edb419aa23a196278cacfe6",
            "eeddf4c16a2a4faf9d623ae82c506ebb",
            "e4a9a371d8d2405d81737301583902c9",
            "4c1678c53408438e92fe801afe03fe17",
            "ac7a713e94014d07a3848f5c66d31a0c",
            "2cf52a8ad5354f128c1346bd560bb96f",
            "102ac7570eaa4b4c8f24d06ad56a3224",
            "cd1a0c2bef16454e9330a06bfd3f6c68",
            "fba12b7d6b8c4f99acc1f6cbe7d8436b",
            "6d1670df0b1b4d808795e553d432af9f",
            "14840f4774224d7b9363ecc0f479346c",
            "5982737a3d78416fab302ee46586af19",
            "3d0bac79f81449868a9b8ef3ffb47a2f"
          ]
        },
        "execution": {
          "iopub.execute_input": "2023-08-23T04:53:30.295746Z",
          "iopub.status.busy": "2023-08-23T04:53:30.295472Z",
          "iopub.status.idle": "2023-08-23T04:53:34.191351Z",
          "shell.execute_reply": "2023-08-23T04:53:34.190913Z",
          "shell.execute_reply.started": "2023-08-23T04:53:30.295724Z"
        },
        "id": "b09bcba2",
        "outputId": "04009894-fcbd-494b-f05a-d8c123abb558"
      },
      "outputs": [
        {
          "name": "stderr",
          "output_type": "stream",
          "text": [
            "/usr/local/lib/python3.10/dist-packages/huggingface_hub/utils/_token.py:88: UserWarning: \n",
            "The secret `HF_TOKEN` does not exist in your Colab secrets.\n",
            "To authenticate with the Hugging Face Hub, create a token in your settings tab (https://huggingface.co/settings/tokens), set it as secret in your Google Colab and restart your session.\n",
            "You will be able to reuse this secret in all of your notebooks.\n",
            "Please note that authentication is recommended but still optional to access public models or datasets.\n",
            "  warnings.warn(\n"
          ]
        },
        {
          "data": {
            "application/vnd.jupyter.widget-view+json": {
              "model_id": "9ba4fb9ef5ce4b6bb6c7726cf333b61d",
              "version_major": 2,
              "version_minor": 0
            },
            "text/plain": [
              "tokenizer_config.json:   0%|          | 0.00/62.0 [00:00<?, ?B/s]"
            ]
          },
          "metadata": {},
          "output_type": "display_data"
        },
        {
          "data": {
            "application/vnd.jupyter.widget-view+json": {
              "model_id": "9a1a32046de540489ea3d3f454a64bd1",
              "version_major": 2,
              "version_minor": 0
            },
            "text/plain": [
              "config.json:   0%|          | 0.00/460 [00:00<?, ?B/s]"
            ]
          },
          "metadata": {},
          "output_type": "display_data"
        },
        {
          "data": {
            "application/vnd.jupyter.widget-view+json": {
              "model_id": "5a14d59ec78445fc9fcc3dab128fb290",
              "version_major": 2,
              "version_minor": 0
            },
            "text/plain": [
              "vocab.txt:   0%|          | 0.00/213k [00:00<?, ?B/s]"
            ]
          },
          "metadata": {},
          "output_type": "display_data"
        },
        {
          "data": {
            "application/vnd.jupyter.widget-view+json": {
              "model_id": "c1aa3102ebd74fc6ad2f04356a76b940",
              "version_major": 2,
              "version_minor": 0
            },
            "text/plain": [
              "special_tokens_map.json:   0%|          | 0.00/112 [00:00<?, ?B/s]"
            ]
          },
          "metadata": {},
          "output_type": "display_data"
        },
        {
          "data": {
            "application/vnd.jupyter.widget-view+json": {
              "model_id": "e4a9a371d8d2405d81737301583902c9",
              "version_major": 2,
              "version_minor": 0
            },
            "text/plain": [
              "pytorch_model.bin:   0%|          | 0.00/112M [00:00<?, ?B/s]"
            ]
          },
          "metadata": {},
          "output_type": "display_data"
        },
        {
          "name": "stderr",
          "output_type": "stream",
          "text": [
            "Some weights of BertForSequenceClassification were not initialized from the model checkpoint at haisongzhang/roberta-tiny-cased and are newly initialized: ['classifier.bias', 'classifier.weight']\n",
            "You should probably TRAIN this model on a down-stream task to be able to use it for predictions and inference.\n"
          ]
        }
      ],
      "source": [
        "from transformers import AutoTokenizer, AutoModelForSequenceClassification\n",
        "\n",
        "\n",
        "model_name = \"haisongzhang/roberta-tiny-cased\"\n",
        "tokenizer = AutoTokenizer.from_pretrained(model_name)\n",
        "set_seed(1127)\n",
        "model = AutoModelForSequenceClassification.from_pretrained(model_name, num_labels=2)\n",
        "\n"
      ]
    },
    {
      "cell_type": "markdown",
      "id": "fe8c063e",
      "metadata": {
        "id": "fe8c063e"
      },
      "source": [
        "## Preprocess data and Fine Tune Transformers"
      ]
    },
    {
      "cell_type": "code",
      "execution_count": null,
      "id": "b5e716fb",
      "metadata": {
        "execution": {
          "iopub.execute_input": "2023-08-23T04:53:36.690066Z",
          "iopub.status.busy": "2023-08-23T04:53:36.689274Z",
          "iopub.status.idle": "2023-08-23T04:53:49.424016Z",
          "shell.execute_reply": "2023-08-23T04:53:49.423362Z",
          "shell.execute_reply.started": "2023-08-23T04:53:36.690042Z"
        },
        "id": "b5e716fb"
      },
      "outputs": [],
      "source": [
        "# Data: Text Input and Label #\n",
        "X = list(bully_data_cleaned[\"text\"])\n",
        "y = list(bully_data_cleaned[\"label\"])\n",
        "\n",
        "# Create torch dataset\n",
        "class Dataset(torch.utils.data.Dataset):\n",
        "    def __init__(self, encodings, labels=None):\n",
        "        self.encodings = encodings\n",
        "        self.labels = labels\n",
        "\n",
        "    def __getitem__(self, idx):\n",
        "        item = {key: torch.tensor(val[idx]) for key, val in self.encodings.items()}\n",
        "        if self.labels:\n",
        "            item[\"labels\"] = torch.tensor(self.labels[idx])\n",
        "        return item\n",
        "\n",
        "    def __len__(self):\n",
        "        return len(self.encodings[\"input_ids\"])\n",
        "\n",
        "\n",
        "# Define Trainer parameters\n",
        "def compute_metrics(p):\n",
        "    pred, labels = p\n",
        "    pred = np.argmax(pred, axis=1)\n",
        "\n",
        "    accuracy = accuracy_score(y_true=labels, y_pred=pred)\n",
        "    recall_cb = recall_score(y_true=labels, y_pred=pred, average='binary', pos_label=1)\n",
        "    precision_cb = precision_score(y_true=labels, y_pred=pred, average='binary', pos_label=1)\n",
        "    f1_cb = f1_score(y_true=labels, y_pred=pred, average='binary', pos_label=1)\n",
        "\n",
        "    recall_ncb = recall_score(y_true=labels, y_pred=pred, average='binary', pos_label=0)\n",
        "    precision_ncb = precision_score(y_true=labels, y_pred=pred, average='binary', pos_label=0)\n",
        "    f1_ncb = f1_score(y_true=labels, y_pred=pred, average='binary', pos_label=0)\n",
        "\n",
        "    recall_overall = recall_score(y_true=labels, y_pred=pred, average='macro')\n",
        "    precision_overall = precision_score(y_true=labels, y_pred=pred, average='macro')\n",
        "    f1_overall = f1_score(y_true=labels, y_pred=pred, average='macro')\n",
        "\n",
        "\n",
        "    return {\"accuracy\": accuracy,\n",
        "            \"precision_cb\": precision_cb, \"recall_cb\": recall_cb, \"f1_cb\": f1_cb,\n",
        "            \"precision_ncb\": precision_ncb, \"recall_ncb\": recall_ncb, \"f1_ncb\": f1_ncb,\n",
        "            \"precision_overall\": precision_overall, \"recall_overall\": recall_overall, \"f1_overall\": f1_overall}\n",
        "\n",
        "\n",
        "# Plot Confusion Matrix\n",
        "import numpy as np\n",
        "import matplotlib.pyplot as plt\n",
        "import seaborn as sns\n",
        "\n",
        "def make_confusion_matrix(cf,\n",
        "                          group_names=None,\n",
        "                          categories='auto',\n",
        "                          count=True,\n",
        "                          percent=True,\n",
        "                          cbar=True,\n",
        "                          xyticks=True,\n",
        "                          xyplotlabels=True,\n",
        "                          sum_stats=True,\n",
        "                          figsize=None,\n",
        "                          cmap='Blues',\n",
        "                          title=None):\n",
        "    '''\n",
        "    This function will make a pretty plot of an sklearn Confusion Matrix cm using a Seaborn heatmap visualization.\n",
        "\n",
        "    Arguments\n",
        "    ---------\n",
        "    cf:            confusion matrix to be passed in\n",
        "\n",
        "    group_names:   List of strings that represent the labels row by row to be shown in each square.\n",
        "\n",
        "    categories:    List of strings containing the categories to be displayed on the x,y axis. Default is 'auto'\n",
        "\n",
        "    count:         If True, show the raw number in the confusion matrix. Default is True.\n",
        "\n",
        "    normalize:     If True, show the proportions for each category. Default is True.\n",
        "\n",
        "    cbar:          If True, show the color bar. The cbar values are based off the values in the confusion matrix.\n",
        "                   Default is True.\n",
        "\n",
        "    xyticks:       If True, show x and y ticks. Default is True.\n",
        "\n",
        "    xyplotlabels:  If True, show 'True Label' and 'Predicted Label' on the figure. Default is True.\n",
        "\n",
        "    sum_stats:     If True, display summary statistics below the figure. Default is True.\n",
        "\n",
        "    figsize:       Tuple representing the figure size. Default will be the matplotlib rcParams value.\n",
        "\n",
        "    cmap:          Colormap of the values displayed from matplotlib.pyplot.cm. Default is 'Blues'\n",
        "                   See http://matplotlib.org/examples/color/colormaps_reference.html\n",
        "\n",
        "    title:         Title for the heatmap. Default is None.\n",
        "\n",
        "    '''\n",
        "\n",
        "\n",
        "    # CONFUSION MATRIX IN PERCENTAGE\n",
        "    cf_pct = cf.astype('float')/cf.sum(axis=1)[:, np.newaxis]\n",
        "    # CODE TO GENERATE TEXT INSIDE EACH SQUARE\n",
        "    blanks = ['' for i in range(cf.size)]\n",
        "\n",
        "    if group_names and len(group_names)==cf.size:\n",
        "        group_labels = [\"{}\\n\".format(value) for value in group_names]\n",
        "    else:\n",
        "        group_labels = blanks\n",
        "\n",
        "    if count:\n",
        "        group_counts = [\"{0:0.0f}\\n\".format(value) for value in cf.flatten()]\n",
        "    else:\n",
        "        group_counts = blanks\n",
        "\n",
        "    if percent:\n",
        "        group_percentages = [\"{0:.2%}\".format(value) for value in cf_pct.flatten()]\n",
        "    else:\n",
        "        group_percentages = blanks\n",
        "\n",
        "    box_labels = [f\"{v1}{v2}{v3}\".strip() for v1, v2, v3 in zip(group_labels,group_counts,group_percentages)]\n",
        "    box_labels = np.asarray(box_labels).reshape(cf.shape[0],cf.shape[1])\n",
        "\n",
        "\n",
        "    # CODE TO GENERATE SUMMARY STATISTICS & TEXT FOR SUMMARY STATS\n",
        "    if sum_stats:\n",
        "        #Accuracy is sum of diagonal divided by total observations\n",
        "        accuracy  = np.trace(cf) / float(np.sum(cf))\n",
        "\n",
        "        #if it is a binary confusion matrix, show some more stats\n",
        "        if len(cf)==2:\n",
        "            #Metrics for Binary Confusion Matrices\n",
        "            precision = cf[1,1] / sum(cf[:,1])\n",
        "            recall    = cf[1,1] / sum(cf[1,:])\n",
        "            f1_score  = 2*precision*recall / (precision + recall)\n",
        "            stats_text = \"\\n\\nAccuracy={:0.3f}\\nPrecision={:0.3f}\\nRecall={:0.3f}\\nF1 Score={:0.3f}\".format(\n",
        "                accuracy,precision,recall,f1_score)\n",
        "        else:\n",
        "            stats_text = \"\\n\\nAccuracy={:0.3f}\".format(accuracy)\n",
        "    else:\n",
        "        stats_text = \"\"\n",
        "\n",
        "\n",
        "    # SET FIGURE PARAMETERS ACCORDING TO OTHER ARGUMENTS\n",
        "    if figsize==None:\n",
        "        #Get default figure size if not set\n",
        "        figsize = plt.rcParams.get('figure.figsize')\n",
        "\n",
        "    if xyticks==False:\n",
        "        #Do not show categories if xyticks is False\n",
        "        categories=False\n",
        "\n",
        "\n",
        "    # MAKE THE HEATMAP VISUALIZATION\n",
        "    plt.figure(figsize=figsize)\n",
        "    sns.heatmap(cf_pct,annot=box_labels,fmt=\"\",cmap=cmap,cbar=cbar,xticklabels=categories,yticklabels=categories)\n",
        "\n",
        "    if xyplotlabels:\n",
        "        plt.ylabel('True label')\n",
        "        plt.xlabel('Predicted label' + stats_text)\n",
        "    else:\n",
        "        plt.xlabel(stats_text)\n",
        "\n",
        "    if title:\n",
        "        plt.title(title)\n",
        "\n",
        "# Run cross-validation\n",
        "def run_cross_validation(model_name='DistilBert',\n",
        "                         X=X,\n",
        "                         y=y,\n",
        "                         splits=5,\n",
        "                         epoch=8,\n",
        "                         checkpoint=False):\n",
        "\n",
        "    kfold = StratifiedShuffleSplit(n_splits=splits, test_size=0.1, random_state=1127)\n",
        "    # kfold = StratifiedKFold(n_splits=splits, shuffle=True, random_state=1127)\n",
        "    n_fold = 1\n",
        "\n",
        "    print(\"Developing Model with Cross validation for: \" + model_name)\n",
        "    for train, test in tqdm(kfold.split(X, y)):\n",
        "\n",
        "        print(\"Running for Fold: \",n_fold)\n",
        "        train_index = list(train)\n",
        "        test_index = list(test)\n",
        "\n",
        "        X_train = [X[i] for i in train_index]\n",
        "        y_train = [y[i] for i in train_index]\n",
        "        X_val = [X[i] for i in test_index]\n",
        "        y_val = [y[i] for i in test_index]\n",
        "\n",
        "        # Tokenize\n",
        "        X_train_tokenized = tokenizer(X_train, padding=True, truncation=True, max_length=512)\n",
        "        X_val_tokenized = tokenizer(X_val, padding=True, truncation=True, max_length=512)\n",
        "\n",
        "        # Create torch dataset\n",
        "        train_dataset = Dataset(X_train_tokenized, y_train)\n",
        "        val_dataset = Dataset(X_val_tokenized, y_val)\n",
        "\n",
        "        # Fine Tune Transformer\n",
        "        # Define Trainer\n",
        "        args = TrainingArguments(\n",
        "            output_dir=\"content/drive/MyDrive_binary/output_\" + model_name + \"/fold\"+str(n_fold),\n",
        "            learning_rate=2e-5,\n",
        "            evaluation_strategy=\"epoch\",\n",
        "            save_strategy=\"epoch\",\n",
        "            per_device_train_batch_size=16,\n",
        "            per_device_eval_batch_size=16,\n",
        "            num_train_epochs=epoch, #1 was okay\n",
        "            seed=1127,\n",
        "            load_best_model_at_end=True,\n",
        "        )\n",
        "\n",
        "        trainer = Trainer(\n",
        "        #model_init=model_init,\n",
        "        model=model,\n",
        "        args=args,\n",
        "        train_dataset=train_dataset,\n",
        "        eval_dataset=val_dataset,\n",
        "        compute_metrics=compute_metrics,\n",
        "        callbacks=[EarlyStoppingCallback(early_stopping_patience=3)],\n",
        "        )\n",
        "\n",
        "        if n_fold <=4:\n",
        "            checkpoint_temp=True\n",
        "        else:\n",
        "            checkpoint_temp=False\n",
        "\n",
        "        trainer.train(resume_from_checkpoint=checkpoint)\n",
        "        print(\"Complete for fold\", n_fold)\n",
        "        n_fold= n_fold + 1\n",
        "\n",
        "\n",
        "# Run Hold Out Test\n",
        "\n",
        "# Train and Test Set\n",
        "X_train, X_test, y_train, y_test = train_test_split(X, y, test_size=0.1, stratify=y, random_state=1127)\n",
        "\n",
        "# Train and Validate Set\n",
        "# X_train, X_val, y_train, y_val = train_test_split(X_train, y_train, test_size=0.1, stratify=y_train, random_state=1127)\n",
        "X_train_tokenized = tokenizer(X_train, padding=True, truncation=True, max_length=512)\n",
        "X_val_tokenized = tokenizer(X_test, padding=True, truncation=True, max_length=512)\n",
        "\n",
        "# Create torch dataset\n",
        "train_dataset = Dataset(X_train_tokenized, y_train)\n",
        "val_dataset = Dataset(X_val_tokenized, y_test)\n",
        "\n",
        "def run_hold_out_split(model_name='DistilBert',\n",
        "                       epoch=8,\n",
        "                       train_dataset=train_dataset,\n",
        "                       eval_dataset=val_dataset,\n",
        "                       checkpoint=False):\n",
        "\n",
        "    print(\"Developing Model with Hold Out Splits for: \" + model_name)\n",
        "    # Fine Tune Transformer\n",
        "    # Define Trainer\n",
        "    args = TrainingArguments(\n",
        "      output_dir=\"content/drive/MyDrive_binary/output_\" + model_name + \"/holdout\",\n",
        "      learning_rate=2e-5,\n",
        "      evaluation_strategy=\"epoch\",\n",
        "      save_strategy=\"epoch\",\n",
        "      per_device_train_batch_size=16,\n",
        "      per_device_eval_batch_size=16,\n",
        "      num_train_epochs=epoch, #1 was okay\n",
        "      seed=1127,\n",
        "      load_best_model_at_end=True,\n",
        "    )\n",
        "\n",
        "    trainer = Trainer(\n",
        "    # model_init=model_init,\n",
        "    args=args,\n",
        "    model=model,\n",
        "    train_dataset=train_dataset,\n",
        "    eval_dataset=val_dataset,\n",
        "    compute_metrics=compute_metrics,\n",
        "    callbacks=[EarlyStoppingCallback(early_stopping_patience=5)],\n",
        "    )\n",
        "\n",
        "    trainer.train(resume_from_checkpoint=checkpoint)\n",
        "    print(\"Complete for hold-out validate set\")\n"
      ]
    },
    {
      "cell_type": "code",
      "execution_count": null,
      "id": "EKrMcyWmEBlO",
      "metadata": {
        "execution": {
          "iopub.execute_input": "2023-08-23T04:53:49.425542Z",
          "iopub.status.busy": "2023-08-23T04:53:49.425029Z",
          "iopub.status.idle": "2023-08-23T04:53:49.435717Z",
          "shell.execute_reply": "2023-08-23T04:53:49.435258Z",
          "shell.execute_reply.started": "2023-08-23T04:53:49.425522Z"
        },
        "id": "EKrMcyWmEBlO"
      },
      "outputs": [],
      "source": [
        "# Predict (Hold Out Test)\n",
        "\n",
        "from sklearn.metrics import confusion_matrix\n",
        "def compute_metrics_holdout(model_name='DistilBert',\n",
        "                            model_path='content/drive/MyDrive_binary/output_DistilBert/holdout/checkpoint-3820',\n",
        "                            average_method='binary',\n",
        "                            X_test=X_test):\n",
        "\n",
        "    X_test_tokenized = tokenizer(X_test, padding=True, truncation=True, max_length=512)\n",
        "\n",
        "    # Create torch dataset\n",
        "    test_dataset = Dataset(X_test_tokenized)\n",
        "\n",
        "    # Load trained model\n",
        "    model_pred = AutoModelForSequenceClassification.from_pretrained(model_path, num_labels=2)\n",
        "\n",
        "    # Define test trainer\n",
        "    test_trainer = Trainer(model_pred)\n",
        "\n",
        "    # Make prediction\n",
        "    raw_pred, _, _ = test_trainer.predict(test_dataset)\n",
        "\n",
        "    # Preprocess raw predictions\n",
        "    y_pred = np.argmax(raw_pred, axis=1)\n",
        "\n",
        "    # Compute metrics\n",
        "    precision_cb = precision_score(y_test, y_pred, average=average_method, pos_label=1)\n",
        "    recall_cb = recall_score(y_test, y_pred, average=average_method, pos_label=1)\n",
        "    f1_cb = f1_score(y_test, y_pred, average=average_method, pos_label=1)\n",
        "\n",
        "    precision_ncb = precision_score(y_test, y_pred, average=average_method, pos_label=0)\n",
        "    recall_ncb = recall_score(y_test, y_pred, average=average_method, pos_label=0)\n",
        "    f1_ncb = f1_score(y_test, y_pred, average=average_method, pos_label=0)\n",
        "\n",
        "    precision_overall = precision_score(y_test, y_pred, average='macro')\n",
        "    recall_overall = recall_score(y_test, y_pred, average='macro')\n",
        "    f1_overall = f1_score(y_test, y_pred, average='macro')\n",
        "\n",
        "    # Print Results\n",
        "    print(\"Classification Report:\")\n",
        "    print(classification_report(y_test,y_pred))\n",
        "    print()\n",
        "    print(\"Label 1: Cyberbullying\")\n",
        "    print(\"Precision: \", precision_cb)\n",
        "    print(\"Recall: \", recall_cb)\n",
        "    print(\"F-measure: \", f1_cb)\n",
        "    print()\n",
        "    print(\"Label 0: Non-Cyberbullying\")\n",
        "    print(\"Precision: \", precision_ncb)\n",
        "    print(\"Recall: \", recall_ncb)\n",
        "    print(\"F-measure: \", f1_ncb)\n",
        "    print()\n",
        "    print(\"Macro Metrics\")\n",
        "    print(\"Precision: \", precision_overall)\n",
        "    print(\"Recall: \", recall_overall)\n",
        "    print(\"F-measure: \", f1_overall)\n",
        "    print()\n",
        "\n",
        "    # Confusion Matrix\n",
        "    conf_mat = confusion_matrix(y_test,y_pred)\n",
        "    categories = ['Non-Cyberbullying', 'Cyberbullying']\n",
        "    labels = ['True Negative','',\n",
        "            '','True Positive']\n",
        "\n",
        "    make_confusion_matrix(conf_mat,\n",
        "                        group_names=labels,\n",
        "                        categories=categories,\n",
        "                        figsize=(8,5),\n",
        "                        cbar=True,\n",
        "                        title='Fine Tuned ' + model_name + ' for Cyberbullying Detection',\n",
        "                        cmap='YlGnBu',\n",
        "                        sum_stats=False)\n",
        "\n"
      ]
    },
    {
      "cell_type": "markdown",
      "id": "q5A2sV2dKlPb",
      "metadata": {
        "id": "q5A2sV2dKlPb",
        "tags": []
      },
      "source": [
        "## Cross Validation (K = 5)"
      ]
    },
    {
      "cell_type": "code",
      "execution_count": null,
      "id": "CBsbcZJPdIco",
      "metadata": {
        "colab": {
          "base_uri": "https://localhost:8080/",
          "height": 1000
        },
        "id": "CBsbcZJPdIco",
        "outputId": "cfd70bef-9fb2-49f1-977c-9958c1ac944a"
      },
      "outputs": [
        {
          "name": "stdout",
          "output_type": "stream",
          "text": [
            "Developing Model with Cross validation for: RoBERTaTiny\n"
          ]
        },
        {
          "name": "stderr",
          "output_type": "stream",
          "text": [
            "\r0it [00:00, ?it/s]"
          ]
        },
        {
          "name": "stdout",
          "output_type": "stream",
          "text": [
            "Running for Fold:  1\n"
          ]
        },
        {
          "data": {
            "text/html": [
              "\n",
              "    <div>\n",
              "      \n",
              "      <progress value='25256' max='25256' style='width:300px; height:20px; vertical-align: middle;'></progress>\n",
              "      [25256/25256 30:39, Epoch 4/4]\n",
              "    </div>\n",
              "    <table border=\"1\" class=\"dataframe\">\n",
              "  <thead>\n",
              " <tr style=\"text-align: left;\">\n",
              "      <th>Epoch</th>\n",
              "      <th>Training Loss</th>\n",
              "      <th>Validation Loss</th>\n",
              "      <th>Accuracy</th>\n",
              "      <th>Precision Cb</th>\n",
              "      <th>Recall Cb</th>\n",
              "      <th>F1 Cb</th>\n",
              "      <th>Precision Ncb</th>\n",
              "      <th>Recall Ncb</th>\n",
              "      <th>F1 Ncb</th>\n",
              "      <th>Precision Overall</th>\n",
              "      <th>Recall Overall</th>\n",
              "      <th>F1 Overall</th>\n",
              "    </tr>\n",
              "  </thead>\n",
              "  <tbody>\n",
              "    <tr>\n",
              "      <td>1</td>\n",
              "      <td>0.110400</td>\n",
              "      <td>0.127197</td>\n",
              "      <td>0.965434</td>\n",
              "      <td>0.690355</td>\n",
              "      <td>0.505576</td>\n",
              "      <td>0.583691</td>\n",
              "      <td>0.975441</td>\n",
              "      <td>0.988584</td>\n",
              "      <td>0.981969</td>\n",
              "      <td>0.832898</td>\n",
              "      <td>0.747080</td>\n",
              "      <td>0.782830</td>\n",
              "    </tr>\n",
              "    <tr>\n",
              "      <td>2</td>\n",
              "      <td>0.085800</td>\n",
              "      <td>0.116619</td>\n",
              "      <td>0.965078</td>\n",
              "      <td>0.646586</td>\n",
              "      <td>0.598513</td>\n",
              "      <td>0.621622</td>\n",
              "      <td>0.979864</td>\n",
              "      <td>0.983531</td>\n",
              "      <td>0.981694</td>\n",
              "      <td>0.813225</td>\n",
              "      <td>0.791022</td>\n",
              "      <td>0.801658</td>\n",
              "    </tr>\n",
              "    <tr>\n",
              "      <td>3</td>\n",
              "      <td>0.085900</td>\n",
              "      <td>0.120466</td>\n",
              "      <td>0.968374</td>\n",
              "      <td>0.731646</td>\n",
              "      <td>0.537175</td>\n",
              "      <td>0.619507</td>\n",
              "      <td>0.977008</td>\n",
              "      <td>0.990081</td>\n",
              "      <td>0.983501</td>\n",
              "      <td>0.854327</td>\n",
              "      <td>0.763628</td>\n",
              "      <td>0.801504</td>\n",
              "    </tr>\n",
              "    <tr>\n",
              "      <td>4</td>\n",
              "      <td>0.077100</td>\n",
              "      <td>0.131854</td>\n",
              "      <td>0.965702</td>\n",
              "      <td>0.659708</td>\n",
              "      <td>0.587361</td>\n",
              "      <td>0.621436</td>\n",
              "      <td>0.979341</td>\n",
              "      <td>0.984748</td>\n",
              "      <td>0.982037</td>\n",
              "      <td>0.819524</td>\n",
              "      <td>0.786054</td>\n",
              "      <td>0.801736</td>\n",
              "    </tr>\n",
              "  </tbody>\n",
              "</table><p>"
            ],
            "text/plain": [
              "<IPython.core.display.HTML object>"
            ]
          },
          "metadata": {},
          "output_type": "display_data"
        },
        {
          "name": "stderr",
          "output_type": "stream",
          "text": [
            "\r1it [31:03, 1863.56s/it]"
          ]
        },
        {
          "name": "stdout",
          "output_type": "stream",
          "text": [
            "Complete for fold 1\n",
            "Running for Fold:  2\n"
          ]
        },
        {
          "data": {
            "text/html": [
              "\n",
              "    <div>\n",
              "      \n",
              "      <progress value='25256' max='25256' style='width:300px; height:20px; vertical-align: middle;'></progress>\n",
              "      [25256/25256 30:42, Epoch 4/4]\n",
              "    </div>\n",
              "    <table border=\"1\" class=\"dataframe\">\n",
              "  <thead>\n",
              " <tr style=\"text-align: left;\">\n",
              "      <th>Epoch</th>\n",
              "      <th>Training Loss</th>\n",
              "      <th>Validation Loss</th>\n",
              "      <th>Accuracy</th>\n",
              "      <th>Precision Cb</th>\n",
              "      <th>Recall Cb</th>\n",
              "      <th>F1 Cb</th>\n",
              "      <th>Precision Ncb</th>\n",
              "      <th>Recall Ncb</th>\n",
              "      <th>F1 Ncb</th>\n",
              "      <th>Precision Overall</th>\n",
              "      <th>Recall Overall</th>\n",
              "      <th>F1 Overall</th>\n",
              "    </tr>\n",
              "  </thead>\n",
              "  <tbody>\n",
              "    <tr>\n",
              "      <td>1</td>\n",
              "      <td>0.091800</td>\n",
              "      <td>0.089861</td>\n",
              "      <td>0.971759</td>\n",
              "      <td>0.749436</td>\n",
              "      <td>0.617100</td>\n",
              "      <td>0.676860</td>\n",
              "      <td>0.980894</td>\n",
              "      <td>0.989614</td>\n",
              "      <td>0.985235</td>\n",
              "      <td>0.865165</td>\n",
              "      <td>0.803357</td>\n",
              "      <td>0.831047</td>\n",
              "    </tr>\n",
              "    <tr>\n",
              "      <td>2</td>\n",
              "      <td>0.077600</td>\n",
              "      <td>0.100474</td>\n",
              "      <td>0.970601</td>\n",
              "      <td>0.710526</td>\n",
              "      <td>0.652416</td>\n",
              "      <td>0.680233</td>\n",
              "      <td>0.982574</td>\n",
              "      <td>0.986619</td>\n",
              "      <td>0.984592</td>\n",
              "      <td>0.846550</td>\n",
              "      <td>0.819518</td>\n",
              "      <td>0.832412</td>\n",
              "    </tr>\n",
              "    <tr>\n",
              "      <td>3</td>\n",
              "      <td>0.059500</td>\n",
              "      <td>0.119277</td>\n",
              "      <td>0.971047</td>\n",
              "      <td>0.721414</td>\n",
              "      <td>0.644981</td>\n",
              "      <td>0.681060</td>\n",
              "      <td>0.982223</td>\n",
              "      <td>0.987461</td>\n",
              "      <td>0.984835</td>\n",
              "      <td>0.851818</td>\n",
              "      <td>0.816221</td>\n",
              "      <td>0.832947</td>\n",
              "    </tr>\n",
              "    <tr>\n",
              "      <td>4</td>\n",
              "      <td>0.053300</td>\n",
              "      <td>0.126953</td>\n",
              "      <td>0.970958</td>\n",
              "      <td>0.717213</td>\n",
              "      <td>0.650558</td>\n",
              "      <td>0.682261</td>\n",
              "      <td>0.982490</td>\n",
              "      <td>0.987087</td>\n",
              "      <td>0.984783</td>\n",
              "      <td>0.849852</td>\n",
              "      <td>0.818822</td>\n",
              "      <td>0.833522</td>\n",
              "    </tr>\n",
              "  </tbody>\n",
              "</table><p>"
            ],
            "text/plain": [
              "<IPython.core.display.HTML object>"
            ]
          },
          "metadata": {},
          "output_type": "display_data"
        },
        {
          "name": "stderr",
          "output_type": "stream",
          "text": [
            "\r2it [1:02:09, 1865.15s/it]"
          ]
        },
        {
          "name": "stdout",
          "output_type": "stream",
          "text": [
            "Complete for fold 2\n",
            "Running for Fold:  3\n"
          ]
        },
        {
          "data": {
            "text/html": [
              "\n",
              "    <div>\n",
              "      \n",
              "      <progress value='25256' max='25256' style='width:300px; height:20px; vertical-align: middle;'></progress>\n",
              "      [25256/25256 30:48, Epoch 4/4]\n",
              "    </div>\n",
              "    <table border=\"1\" class=\"dataframe\">\n",
              "  <thead>\n",
              " <tr style=\"text-align: left;\">\n",
              "      <th>Epoch</th>\n",
              "      <th>Training Loss</th>\n",
              "      <th>Validation Loss</th>\n",
              "      <th>Accuracy</th>\n",
              "      <th>Precision Cb</th>\n",
              "      <th>Recall Cb</th>\n",
              "      <th>F1 Cb</th>\n",
              "      <th>Precision Ncb</th>\n",
              "      <th>Recall Ncb</th>\n",
              "      <th>F1 Ncb</th>\n",
              "      <th>Precision Overall</th>\n",
              "      <th>Recall Overall</th>\n",
              "      <th>F1 Overall</th>\n",
              "    </tr>\n",
              "  </thead>\n",
              "  <tbody>\n",
              "    <tr>\n",
              "      <td>1</td>\n",
              "      <td>0.080400</td>\n",
              "      <td>0.076427</td>\n",
              "      <td>0.979777</td>\n",
              "      <td>0.871122</td>\n",
              "      <td>0.678439</td>\n",
              "      <td>0.762800</td>\n",
              "      <td>0.983990</td>\n",
              "      <td>0.994947</td>\n",
              "      <td>0.989438</td>\n",
              "      <td>0.927556</td>\n",
              "      <td>0.836693</td>\n",
              "      <td>0.876119</td>\n",
              "    </tr>\n",
              "    <tr>\n",
              "      <td>2</td>\n",
              "      <td>0.067500</td>\n",
              "      <td>0.078325</td>\n",
              "      <td>0.978619</td>\n",
              "      <td>0.806584</td>\n",
              "      <td>0.728625</td>\n",
              "      <td>0.765625</td>\n",
              "      <td>0.986405</td>\n",
              "      <td>0.991204</td>\n",
              "      <td>0.988799</td>\n",
              "      <td>0.896495</td>\n",
              "      <td>0.859914</td>\n",
              "      <td>0.877212</td>\n",
              "    </tr>\n",
              "    <tr>\n",
              "      <td>3</td>\n",
              "      <td>0.055400</td>\n",
              "      <td>0.090416</td>\n",
              "      <td>0.978797</td>\n",
              "      <td>0.819149</td>\n",
              "      <td>0.715613</td>\n",
              "      <td>0.763889</td>\n",
              "      <td>0.985774</td>\n",
              "      <td>0.992046</td>\n",
              "      <td>0.988900</td>\n",
              "      <td>0.902461</td>\n",
              "      <td>0.853830</td>\n",
              "      <td>0.876395</td>\n",
              "    </tr>\n",
              "    <tr>\n",
              "      <td>4</td>\n",
              "      <td>0.040500</td>\n",
              "      <td>0.103193</td>\n",
              "      <td>0.978619</td>\n",
              "      <td>0.802846</td>\n",
              "      <td>0.734201</td>\n",
              "      <td>0.766990</td>\n",
              "      <td>0.986677</td>\n",
              "      <td>0.990924</td>\n",
              "      <td>0.988796</td>\n",
              "      <td>0.894761</td>\n",
              "      <td>0.862562</td>\n",
              "      <td>0.877893</td>\n",
              "    </tr>\n",
              "  </tbody>\n",
              "</table><p>"
            ],
            "text/plain": [
              "<IPython.core.display.HTML object>"
            ]
          },
          "metadata": {},
          "output_type": "display_data"
        },
        {
          "name": "stderr",
          "output_type": "stream",
          "text": [
            "\r3it [1:33:24, 1869.55s/it]"
          ]
        },
        {
          "name": "stdout",
          "output_type": "stream",
          "text": [
            "Complete for fold 3\n",
            "Running for Fold:  4\n"
          ]
        },
        {
          "data": {
            "text/html": [
              "\n",
              "    <div>\n",
              "      \n",
              "      <progress value='25256' max='25256' style='width:300px; height:20px; vertical-align: middle;'></progress>\n",
              "      [25256/25256 30:40, Epoch 4/4]\n",
              "    </div>\n",
              "    <table border=\"1\" class=\"dataframe\">\n",
              "  <thead>\n",
              " <tr style=\"text-align: left;\">\n",
              "      <th>Epoch</th>\n",
              "      <th>Training Loss</th>\n",
              "      <th>Validation Loss</th>\n",
              "      <th>Accuracy</th>\n",
              "      <th>Precision Cb</th>\n",
              "      <th>Recall Cb</th>\n",
              "      <th>F1 Cb</th>\n",
              "      <th>Precision Ncb</th>\n",
              "      <th>Recall Ncb</th>\n",
              "      <th>F1 Ncb</th>\n",
              "      <th>Precision Overall</th>\n",
              "      <th>Recall Overall</th>\n",
              "      <th>F1 Overall</th>\n",
              "    </tr>\n",
              "  </thead>\n",
              "  <tbody>\n",
              "    <tr>\n",
              "      <td>1</td>\n",
              "      <td>0.071200</td>\n",
              "      <td>0.074137</td>\n",
              "      <td>0.979421</td>\n",
              "      <td>0.792381</td>\n",
              "      <td>0.773234</td>\n",
              "      <td>0.782690</td>\n",
              "      <td>0.988598</td>\n",
              "      <td>0.989801</td>\n",
              "      <td>0.989199</td>\n",
              "      <td>0.890490</td>\n",
              "      <td>0.881517</td>\n",
              "      <td>0.885945</td>\n",
              "    </tr>\n",
              "    <tr>\n",
              "      <td>2</td>\n",
              "      <td>0.055500</td>\n",
              "      <td>0.077658</td>\n",
              "      <td>0.981470</td>\n",
              "      <td>0.852564</td>\n",
              "      <td>0.741636</td>\n",
              "      <td>0.793241</td>\n",
              "      <td>0.987078</td>\n",
              "      <td>0.993544</td>\n",
              "      <td>0.990300</td>\n",
              "      <td>0.919821</td>\n",
              "      <td>0.867590</td>\n",
              "      <td>0.891770</td>\n",
              "    </tr>\n",
              "    <tr>\n",
              "      <td>3</td>\n",
              "      <td>0.044000</td>\n",
              "      <td>0.075385</td>\n",
              "      <td>0.980312</td>\n",
              "      <td>0.795158</td>\n",
              "      <td>0.793680</td>\n",
              "      <td>0.794419</td>\n",
              "      <td>0.989615</td>\n",
              "      <td>0.989707</td>\n",
              "      <td>0.989661</td>\n",
              "      <td>0.892386</td>\n",
              "      <td>0.891694</td>\n",
              "      <td>0.892040</td>\n",
              "    </tr>\n",
              "    <tr>\n",
              "      <td>4</td>\n",
              "      <td>0.033200</td>\n",
              "      <td>0.093789</td>\n",
              "      <td>0.980579</td>\n",
              "      <td>0.811284</td>\n",
              "      <td>0.775093</td>\n",
              "      <td>0.792776</td>\n",
              "      <td>0.988703</td>\n",
              "      <td>0.990924</td>\n",
              "      <td>0.989812</td>\n",
              "      <td>0.899994</td>\n",
              "      <td>0.883008</td>\n",
              "      <td>0.891294</td>\n",
              "    </tr>\n",
              "  </tbody>\n",
              "</table><p>"
            ],
            "text/plain": [
              "<IPython.core.display.HTML object>"
            ]
          },
          "metadata": {},
          "output_type": "display_data"
        },
        {
          "name": "stderr",
          "output_type": "stream",
          "text": [
            "\r4it [2:04:29, 1867.74s/it]"
          ]
        },
        {
          "name": "stdout",
          "output_type": "stream",
          "text": [
            "Complete for fold 4\n",
            "Running for Fold:  5\n"
          ]
        },
        {
          "data": {
            "text/html": [
              "\n",
              "    <div>\n",
              "      \n",
              "      <progress value='25256' max='25256' style='width:300px; height:20px; vertical-align: middle;'></progress>\n",
              "      [25256/25256 30:35, Epoch 4/4]\n",
              "    </div>\n",
              "    <table border=\"1\" class=\"dataframe\">\n",
              "  <thead>\n",
              " <tr style=\"text-align: left;\">\n",
              "      <th>Epoch</th>\n",
              "      <th>Training Loss</th>\n",
              "      <th>Validation Loss</th>\n",
              "      <th>Accuracy</th>\n",
              "      <th>Precision Cb</th>\n",
              "      <th>Recall Cb</th>\n",
              "      <th>F1 Cb</th>\n",
              "      <th>Precision Ncb</th>\n",
              "      <th>Recall Ncb</th>\n",
              "      <th>F1 Ncb</th>\n",
              "      <th>Precision Overall</th>\n",
              "      <th>Recall Overall</th>\n",
              "      <th>F1 Overall</th>\n",
              "    </tr>\n",
              "  </thead>\n",
              "  <tbody>\n",
              "    <tr>\n",
              "      <td>1</td>\n",
              "      <td>0.062700</td>\n",
              "      <td>0.069287</td>\n",
              "      <td>0.981915</td>\n",
              "      <td>0.871397</td>\n",
              "      <td>0.730483</td>\n",
              "      <td>0.794742</td>\n",
              "      <td>0.986542</td>\n",
              "      <td>0.994573</td>\n",
              "      <td>0.990541</td>\n",
              "      <td>0.928969</td>\n",
              "      <td>0.862528</td>\n",
              "      <td>0.892642</td>\n",
              "    </tr>\n",
              "    <tr>\n",
              "      <td>2</td>\n",
              "      <td>0.046800</td>\n",
              "      <td>0.073067</td>\n",
              "      <td>0.982272</td>\n",
              "      <td>0.836978</td>\n",
              "      <td>0.782528</td>\n",
              "      <td>0.808838</td>\n",
              "      <td>0.989088</td>\n",
              "      <td>0.992327</td>\n",
              "      <td>0.990705</td>\n",
              "      <td>0.913033</td>\n",
              "      <td>0.887428</td>\n",
              "      <td>0.899771</td>\n",
              "    </tr>\n",
              "    <tr>\n",
              "      <td>3</td>\n",
              "      <td>0.036900</td>\n",
              "      <td>0.078933</td>\n",
              "      <td>0.982895</td>\n",
              "      <td>0.840551</td>\n",
              "      <td>0.793680</td>\n",
              "      <td>0.816444</td>\n",
              "      <td>0.989643</td>\n",
              "      <td>0.992421</td>\n",
              "      <td>0.991030</td>\n",
              "      <td>0.915097</td>\n",
              "      <td>0.893050</td>\n",
              "      <td>0.903737</td>\n",
              "    </tr>\n",
              "    <tr>\n",
              "      <td>4</td>\n",
              "      <td>0.031200</td>\n",
              "      <td>0.082737</td>\n",
              "      <td>0.983697</td>\n",
              "      <td>0.846004</td>\n",
              "      <td>0.806691</td>\n",
              "      <td>0.825880</td>\n",
              "      <td>0.990291</td>\n",
              "      <td>0.992608</td>\n",
              "      <td>0.991448</td>\n",
              "      <td>0.918148</td>\n",
              "      <td>0.899650</td>\n",
              "      <td>0.908664</td>\n",
              "    </tr>\n",
              "  </tbody>\n",
              "</table><p>"
            ],
            "text/plain": [
              "<IPython.core.display.HTML object>"
            ]
          },
          "metadata": {},
          "output_type": "display_data"
        },
        {
          "name": "stderr",
          "output_type": "stream",
          "text": [
            "5it [2:35:31, 1866.25s/it]"
          ]
        },
        {
          "name": "stdout",
          "output_type": "stream",
          "text": [
            "Complete for fold 5\n"
          ]
        },
        {
          "name": "stderr",
          "output_type": "stream",
          "text": [
            "\n"
          ]
        }
      ],
      "source": [
        "run_cross_validation(model_name='RoBERTaTiny',\n",
        "                         X=X,\n",
        "                         y=y,\n",
        "                         splits=5,\n",
        "                         epoch=4,\n",
        "                         checkpoint=False)"
      ]
    },
    {
      "cell_type": "code",
      "execution_count": null,
      "id": "p5QGotWv8_-V",
      "metadata": {
        "colab": {
          "base_uri": "https://localhost:8080/",
          "height": 516
        },
        "execution": {
          "iopub.execute_input": "2023-08-22T18:23:41.378281Z",
          "iopub.status.busy": "2023-08-22T18:23:41.377633Z",
          "iopub.status.idle": "2023-08-23T04:43:08.137120Z",
          "shell.execute_reply": "2023-08-23T04:43:08.136085Z",
          "shell.execute_reply.started": "2023-08-22T18:23:41.378281Z"
        },
        "id": "p5QGotWv8_-V",
        "outputId": "6fb46675-60c1-4d96-b361-9c8d43adf660"
      },
      "outputs": [
        {
          "name": "stdout",
          "output_type": "stream",
          "text": [
            "Developing Model with Cross validation for: RoBERTaTiny\n"
          ]
        },
        {
          "name": "stderr",
          "output_type": "stream",
          "text": [
            "\r0it [00:00, ?it/s]"
          ]
        },
        {
          "name": "stdout",
          "output_type": "stream",
          "text": [
            "Running for Fold:  1\n"
          ]
        },
        {
          "data": {
            "text/html": [
              "\n",
              "    <div>\n",
              "      \n",
              "      <progress value='25256' max='25256' style='width:300px; height:20px; vertical-align: middle;'></progress>\n",
              "      [25256/25256 : < :, Epoch 4/4]\n",
              "    </div>\n",
              "    <table border=\"1\" class=\"dataframe\">\n",
              "  <thead>\n",
              " <tr style=\"text-align: left;\">\n",
              "      <th>Epoch</th>\n",
              "      <th>Training Loss</th>\n",
              "      <th>Validation Loss</th>\n",
              "    </tr>\n",
              "  </thead>\n",
              "  <tbody>\n",
              "  </tbody>\n",
              "</table><p>"
            ],
            "text/plain": [
              "<IPython.core.display.HTML object>"
            ]
          },
          "metadata": {},
          "output_type": "display_data"
        },
        {
          "name": "stderr",
          "output_type": "stream",
          "text": [
            "\r1it [00:27, 27.20s/it]"
          ]
        },
        {
          "name": "stdout",
          "output_type": "stream",
          "text": [
            "Complete for fold 1\n",
            "Running for Fold:  2\n"
          ]
        },
        {
          "data": {
            "text/html": [
              "\n",
              "    <div>\n",
              "      \n",
              "      <progress value='25256' max='25256' style='width:300px; height:20px; vertical-align: middle;'></progress>\n",
              "      [25256/25256 : < :, Epoch 4/4]\n",
              "    </div>\n",
              "    <table border=\"1\" class=\"dataframe\">\n",
              "  <thead>\n",
              " <tr style=\"text-align: left;\">\n",
              "      <th>Epoch</th>\n",
              "      <th>Training Loss</th>\n",
              "      <th>Validation Loss</th>\n",
              "    </tr>\n",
              "  </thead>\n",
              "  <tbody>\n",
              "  </tbody>\n",
              "</table><p>"
            ],
            "text/plain": [
              "<IPython.core.display.HTML object>"
            ]
          },
          "metadata": {},
          "output_type": "display_data"
        },
        {
          "name": "stderr",
          "output_type": "stream",
          "text": [
            "\r2it [00:59, 30.11s/it]"
          ]
        },
        {
          "name": "stdout",
          "output_type": "stream",
          "text": [
            "Complete for fold 2\n",
            "Running for Fold:  3\n"
          ]
        },
        {
          "data": {
            "text/html": [
              "\n",
              "    <div>\n",
              "      \n",
              "      <progress value='25256' max='25256' style='width:300px; height:20px; vertical-align: middle;'></progress>\n",
              "      [25256/25256 : < :, Epoch 4/4]\n",
              "    </div>\n",
              "    <table border=\"1\" class=\"dataframe\">\n",
              "  <thead>\n",
              " <tr style=\"text-align: left;\">\n",
              "      <th>Epoch</th>\n",
              "      <th>Training Loss</th>\n",
              "      <th>Validation Loss</th>\n",
              "    </tr>\n",
              "  </thead>\n",
              "  <tbody>\n",
              "  </tbody>\n",
              "</table><p>"
            ],
            "text/plain": [
              "<IPython.core.display.HTML object>"
            ]
          },
          "metadata": {},
          "output_type": "display_data"
        },
        {
          "name": "stderr",
          "output_type": "stream",
          "text": [
            "\r3it [01:22, 26.80s/it]"
          ]
        },
        {
          "name": "stdout",
          "output_type": "stream",
          "text": [
            "Complete for fold 3\n",
            "Running for Fold:  4\n"
          ]
        },
        {
          "data": {
            "text/html": [
              "\n",
              "    <div>\n",
              "      \n",
              "      <progress value='25256' max='25256' style='width:300px; height:20px; vertical-align: middle;'></progress>\n",
              "      [25256/25256 : < :, Epoch 4/4]\n",
              "    </div>\n",
              "    <table border=\"1\" class=\"dataframe\">\n",
              "  <thead>\n",
              " <tr style=\"text-align: left;\">\n",
              "      <th>Epoch</th>\n",
              "      <th>Training Loss</th>\n",
              "      <th>Validation Loss</th>\n",
              "    </tr>\n",
              "  </thead>\n",
              "  <tbody>\n",
              "  </tbody>\n",
              "</table><p>"
            ],
            "text/plain": [
              "<IPython.core.display.HTML object>"
            ]
          },
          "metadata": {},
          "output_type": "display_data"
        },
        {
          "name": "stderr",
          "output_type": "stream",
          "text": [
            "\r4it [01:44, 25.19s/it]"
          ]
        },
        {
          "name": "stdout",
          "output_type": "stream",
          "text": [
            "Complete for fold 4\n",
            "Running for Fold:  5\n"
          ]
        },
        {
          "data": {
            "text/html": [
              "\n",
              "    <div>\n",
              "      \n",
              "      <progress value='25256' max='25256' style='width:300px; height:20px; vertical-align: middle;'></progress>\n",
              "      [25256/25256 : < :, Epoch 4/4]\n",
              "    </div>\n",
              "    <table border=\"1\" class=\"dataframe\">\n",
              "  <thead>\n",
              " <tr style=\"text-align: left;\">\n",
              "      <th>Epoch</th>\n",
              "      <th>Training Loss</th>\n",
              "      <th>Validation Loss</th>\n",
              "    </tr>\n",
              "  </thead>\n",
              "  <tbody>\n",
              "  </tbody>\n",
              "</table><p>"
            ],
            "text/plain": [
              "<IPython.core.display.HTML object>"
            ]
          },
          "metadata": {},
          "output_type": "display_data"
        },
        {
          "name": "stderr",
          "output_type": "stream",
          "text": [
            "5it [02:07, 25.54s/it]"
          ]
        },
        {
          "name": "stdout",
          "output_type": "stream",
          "text": [
            "Complete for fold 5\n"
          ]
        },
        {
          "name": "stderr",
          "output_type": "stream",
          "text": [
            "\n"
          ]
        }
      ],
      "source": [
        "run_cross_validation(model_name='RoBERTaTiny',\n",
        "                         X=X,\n",
        "                         y=y,\n",
        "                         splits=5,\n",
        "                         epoch=4,\n",
        "                         checkpoint=True)"
      ]
    },
    {
      "cell_type": "markdown",
      "id": "W4F4117sKwZQ",
      "metadata": {
        "id": "W4F4117sKwZQ"
      },
      "source": [
        "## Hold Out Split"
      ]
    },
    {
      "cell_type": "code",
      "execution_count": null,
      "id": "6f37e94d-0b71-406e-b0d3-e2e6c6ead9c7",
      "metadata": {
        "colab": {
          "base_uri": "https://localhost:8080/",
          "height": 253
        },
        "execution": {
          "iopub.execute_input": "2023-08-23T04:55:36.875039Z",
          "iopub.status.busy": "2023-08-23T04:55:36.874397Z",
          "iopub.status.idle": "2023-08-23T05:54:30.844732Z",
          "shell.execute_reply": "2023-08-23T05:54:30.844170Z",
          "shell.execute_reply.started": "2023-08-23T04:55:36.875014Z"
        },
        "id": "6f37e94d-0b71-406e-b0d3-e2e6c6ead9c7",
        "outputId": "235c2c25-46bd-41ea-85bc-4e145304aa81"
      },
      "outputs": [
        {
          "name": "stdout",
          "output_type": "stream",
          "text": [
            "Developing Model with Hold Out Splits for: RoBERTaTiny\n"
          ]
        },
        {
          "data": {
            "text/html": [
              "\n",
              "    <div>\n",
              "      \n",
              "      <progress value='25256' max='25256' style='width:300px; height:20px; vertical-align: middle;'></progress>\n",
              "      [25256/25256 30:40, Epoch 4/4]\n",
              "    </div>\n",
              "    <table border=\"1\" class=\"dataframe\">\n",
              "  <thead>\n",
              " <tr style=\"text-align: left;\">\n",
              "      <th>Epoch</th>\n",
              "      <th>Training Loss</th>\n",
              "      <th>Validation Loss</th>\n",
              "      <th>Accuracy</th>\n",
              "      <th>Precision Cb</th>\n",
              "      <th>Recall Cb</th>\n",
              "      <th>F1 Cb</th>\n",
              "      <th>Precision Ncb</th>\n",
              "      <th>Recall Ncb</th>\n",
              "      <th>F1 Ncb</th>\n",
              "      <th>Precision Overall</th>\n",
              "      <th>Recall Overall</th>\n",
              "      <th>F1 Overall</th>\n",
              "    </tr>\n",
              "  </thead>\n",
              "  <tbody>\n",
              "    <tr>\n",
              "      <td>1</td>\n",
              "      <td>0.045600</td>\n",
              "      <td>0.074455</td>\n",
              "      <td>0.985301</td>\n",
              "      <td>0.886128</td>\n",
              "      <td>0.795539</td>\n",
              "      <td>0.838394</td>\n",
              "      <td>0.989760</td>\n",
              "      <td>0.994854</td>\n",
              "      <td>0.992300</td>\n",
              "      <td>0.937944</td>\n",
              "      <td>0.895196</td>\n",
              "      <td>0.915347</td>\n",
              "    </tr>\n",
              "    <tr>\n",
              "      <td>2</td>\n",
              "      <td>0.036900</td>\n",
              "      <td>0.074511</td>\n",
              "      <td>0.986013</td>\n",
              "      <td>0.861480</td>\n",
              "      <td>0.843866</td>\n",
              "      <td>0.852582</td>\n",
              "      <td>0.992148</td>\n",
              "      <td>0.993169</td>\n",
              "      <td>0.992658</td>\n",
              "      <td>0.926814</td>\n",
              "      <td>0.918518</td>\n",
              "      <td>0.922620</td>\n",
              "    </tr>\n",
              "    <tr>\n",
              "      <td>3</td>\n",
              "      <td>0.034000</td>\n",
              "      <td>0.077306</td>\n",
              "      <td>0.985746</td>\n",
              "      <td>0.864865</td>\n",
              "      <td>0.832714</td>\n",
              "      <td>0.848485</td>\n",
              "      <td>0.991594</td>\n",
              "      <td>0.993450</td>\n",
              "      <td>0.992521</td>\n",
              "      <td>0.928230</td>\n",
              "      <td>0.913082</td>\n",
              "      <td>0.920503</td>\n",
              "    </tr>\n",
              "    <tr>\n",
              "      <td>4</td>\n",
              "      <td>0.023300</td>\n",
              "      <td>0.078296</td>\n",
              "      <td>0.985835</td>\n",
              "      <td>0.872299</td>\n",
              "      <td>0.825279</td>\n",
              "      <td>0.848138</td>\n",
              "      <td>0.991228</td>\n",
              "      <td>0.993918</td>\n",
              "      <td>0.992571</td>\n",
              "      <td>0.931763</td>\n",
              "      <td>0.909598</td>\n",
              "      <td>0.920354</td>\n",
              "    </tr>\n",
              "  </tbody>\n",
              "</table><p>"
            ],
            "text/plain": [
              "<IPython.core.display.HTML object>"
            ]
          },
          "metadata": {},
          "output_type": "display_data"
        },
        {
          "name": "stdout",
          "output_type": "stream",
          "text": [
            "Complete for hold-out validate set\n"
          ]
        }
      ],
      "source": [
        "#holdout\n",
        "run_hold_out_split(model_name='RoBERTaTiny',\n",
        "                       epoch=4,\n",
        "                       train_dataset=train_dataset,\n",
        "                       eval_dataset=val_dataset,\n",
        "                       checkpoint=False)"
      ]
    },
    {
      "cell_type": "code",
      "execution_count": null,
      "id": "cbb07800-22ad-4740-8778-ff3922c37e18",
      "metadata": {
        "colab": {
          "base_uri": "https://localhost:8080/",
          "height": 110
        },
        "execution": {
          "iopub.execute_input": "2023-08-23T05:55:01.121071Z",
          "iopub.status.busy": "2023-08-23T05:55:01.120514Z",
          "iopub.status.idle": "2023-08-23T05:55:01.735365Z",
          "shell.execute_reply": "2023-08-23T05:55:01.734847Z",
          "shell.execute_reply.started": "2023-08-23T05:55:01.121048Z"
        },
        "id": "cbb07800-22ad-4740-8778-ff3922c37e18",
        "outputId": "8cbf01cb-083c-4dc4-9cbc-820aeb5da2c0"
      },
      "outputs": [
        {
          "name": "stdout",
          "output_type": "stream",
          "text": [
            "Developing Model with Hold Out Splits for: RoBERTaTiny\n"
          ]
        },
        {
          "data": {
            "text/html": [
              "\n",
              "    <div>\n",
              "      \n",
              "      <progress value='25256' max='25256' style='width:300px; height:20px; vertical-align: middle;'></progress>\n",
              "      [25256/25256 : < :, Epoch 4/4]\n",
              "    </div>\n",
              "    <table border=\"1\" class=\"dataframe\">\n",
              "  <thead>\n",
              " <tr style=\"text-align: left;\">\n",
              "      <th>Epoch</th>\n",
              "      <th>Training Loss</th>\n",
              "      <th>Validation Loss</th>\n",
              "    </tr>\n",
              "  </thead>\n",
              "  <tbody>\n",
              "  </tbody>\n",
              "</table><p>"
            ],
            "text/plain": [
              "<IPython.core.display.HTML object>"
            ]
          },
          "metadata": {},
          "output_type": "display_data"
        },
        {
          "name": "stdout",
          "output_type": "stream",
          "text": [
            "Complete for hold-out validate set\n"
          ]
        }
      ],
      "source": [
        "#holdout\n",
        "run_hold_out_split(model_name='RoBERTaTiny',\n",
        "                       epoch=4,\n",
        "                       train_dataset=train_dataset,\n",
        "                       eval_dataset=val_dataset,\n",
        "                       checkpoint=True)"
      ]
    },
    {
      "cell_type": "markdown",
      "id": "w5vyE3EkK2JQ",
      "metadata": {
        "id": "w5vyE3EkK2JQ",
        "tags": []
      },
      "source": [
        "### Test Split Confusion Matrix"
      ]
    },
    {
      "cell_type": "markdown",
      "id": "fG7eAEaFtIYk",
      "metadata": {
        "id": "fG7eAEaFtIYk"
      },
      "source": [
        "#### Epoch 1\n"
      ]
    },
    {
      "cell_type": "code",
      "execution_count": null,
      "id": "MrkHnZgHL4MC",
      "metadata": {
        "colab": {
          "base_uri": "https://localhost:8080/",
          "height": 938
        },
        "execution": {
          "iopub.execute_input": "2023-08-23T05:55:36.421405Z",
          "iopub.status.busy": "2023-08-23T05:55:36.421117Z",
          "iopub.status.idle": "2023-08-23T05:56:11.719122Z",
          "shell.execute_reply": "2023-08-23T05:56:11.718573Z",
          "shell.execute_reply.started": "2023-08-23T05:55:36.421389Z"
        },
        "id": "MrkHnZgHL4MC",
        "outputId": "77a2e044-9c25-4eb3-e324-08e1bcddbd3e"
      },
      "outputs": [
        {
          "data": {
            "text/html": [],
            "text/plain": [
              "<IPython.core.display.HTML object>"
            ]
          },
          "metadata": {},
          "output_type": "display_data"
        },
        {
          "name": "stdout",
          "output_type": "stream",
          "text": [
            "Classification Report:\n",
            "              precision    recall  f1-score   support\n",
            "\n",
            "           0       0.99      0.99      0.99     10687\n",
            "           1       0.89      0.80      0.84       538\n",
            "\n",
            "    accuracy                           0.99     11225\n",
            "   macro avg       0.94      0.90      0.92     11225\n",
            "weighted avg       0.98      0.99      0.98     11225\n",
            "\n",
            "\n",
            "Label 1: Cyberbullying\n",
            "Precision:  0.8861283643892339\n",
            "Recall:  0.7955390334572491\n",
            "F-measure:  0.8383937316356513\n",
            "\n",
            "Label 0: Non-Cyberbullying\n",
            "Precision:  0.9897598212623347\n",
            "Recall:  0.9948535604004866\n",
            "F-measure:  0.9923001539969201\n",
            "\n",
            "Macro Metrics\n",
            "Precision:  0.9379440928257843\n",
            "Recall:  0.8951962969288678\n",
            "F-measure:  0.9153469428162857\n",
            "\n"
          ]
        },
        {
          "data": {
            "image/png": "[encoded data removed]",
            "text/plain": [
              "<Figure size 800x500 with 2 Axes>"
            ]
          },
          "metadata": {},
          "output_type": "display_data"
        }
      ],
      "source": [
        "compute_metrics_holdout(model_name='RoBERTaTiny',\n",
        "                        model_path='/content/content/drive/MyDrive_binary/output_RoBERTaTiny/holdout/checkpoint-6314',\n",
        "                        average_method='binary',\n",
        "                        X_test=X_test)"
      ]
    },
    {
      "cell_type": "markdown",
      "id": "Ir4eL3T8gtLf",
      "metadata": {
        "id": "Ir4eL3T8gtLf"
      },
      "source": [
        "#### Epoch 2"
      ]
    },
    {
      "cell_type": "code",
      "execution_count": null,
      "id": "ab06398b",
      "metadata": {
        "colab": {
          "base_uri": "https://localhost:8080/",
          "height": 938
        },
        "execution": {
          "iopub.execute_input": "2023-08-23T05:56:21.384593Z",
          "iopub.status.busy": "2023-08-23T05:56:21.384326Z",
          "iopub.status.idle": "2023-08-23T05:56:56.201275Z",
          "shell.execute_reply": "2023-08-23T05:56:56.200795Z",
          "shell.execute_reply.started": "2023-08-23T05:56:21.384574Z"
        },
        "id": "ab06398b",
        "outputId": "de5f0fb4-7d91-4d01-c766-05b1d5f570e5"
      },
      "outputs": [
        {
          "data": {
            "text/html": [],
            "text/plain": [
              "<IPython.core.display.HTML object>"
            ]
          },
          "metadata": {},
          "output_type": "display_data"
        },
        {
          "name": "stdout",
          "output_type": "stream",
          "text": [
            "Classification Report:\n",
            "              precision    recall  f1-score   support\n",
            "\n",
            "           0       0.99      0.99      0.99     10687\n",
            "           1       0.86      0.84      0.85       538\n",
            "\n",
            "    accuracy                           0.99     11225\n",
            "   macro avg       0.93      0.92      0.92     11225\n",
            "weighted avg       0.99      0.99      0.99     11225\n",
            "\n",
            "\n",
            "Label 1: Cyberbullying\n",
            "Precision:  0.8614800759013282\n",
            "Recall:  0.8438661710037175\n",
            "F-measure:  0.8525821596244131\n",
            "\n",
            "Label 0: Non-Cyberbullying\n",
            "Precision:  0.9921480650588895\n",
            "Recall:  0.9931692710770095\n",
            "F-measure:  0.9926584054243629\n",
            "\n",
            "Macro Metrics\n",
            "Precision:  0.9268140704801089\n",
            "Recall:  0.9185177210403634\n",
            "F-measure:  0.922620282524388\n",
            "\n"
          ]
        },
        {
          "data": {
            "image/png": "[encoded data removed]",
            "text/plain": [
              "<Figure size 800x500 with 2 Axes>"
            ]
          },
          "metadata": {},
          "output_type": "display_data"
        }
      ],
      "source": [
        "compute_metrics_holdout(model_name='RoBERTaTiny',\n",
        "                        model_path='/content/content/drive/MyDrive_binary/output_RoBERTaTiny/holdout/checkpoint-12628',\n",
        "                        average_method='binary',\n",
        "                        X_test=X_test)"
      ]
    },
    {
      "cell_type": "markdown",
      "id": "KdECewOiL4tf",
      "metadata": {
        "id": "KdECewOiL4tf"
      },
      "source": [
        "#### Epoch 3"
      ]
    },
    {
      "cell_type": "code",
      "execution_count": null,
      "id": "u34gKYLGgtLr",
      "metadata": {
        "colab": {
          "base_uri": "https://localhost:8080/",
          "height": 938
        },
        "execution": {
          "iopub.execute_input": "2023-08-23T05:56:56.203218Z",
          "iopub.status.busy": "2023-08-23T05:56:56.202987Z",
          "iopub.status.idle": "2023-08-23T05:57:31.982347Z",
          "shell.execute_reply": "2023-08-23T05:57:31.981753Z",
          "shell.execute_reply.started": "2023-08-23T05:56:56.203199Z"
        },
        "id": "u34gKYLGgtLr",
        "outputId": "8d1c3cea-3fc4-41c4-d523-e4f4e9276f5c"
      },
      "outputs": [
        {
          "data": {
            "text/html": [],
            "text/plain": [
              "<IPython.core.display.HTML object>"
            ]
          },
          "metadata": {},
          "output_type": "display_data"
        },
        {
          "name": "stdout",
          "output_type": "stream",
          "text": [
            "Classification Report:\n",
            "              precision    recall  f1-score   support\n",
            "\n",
            "           0       0.99      0.99      0.99     10687\n",
            "           1       0.86      0.83      0.85       538\n",
            "\n",
            "    accuracy                           0.99     11225\n",
            "   macro avg       0.93      0.91      0.92     11225\n",
            "weighted avg       0.99      0.99      0.99     11225\n",
            "\n",
            "\n",
            "Label 1: Cyberbullying\n",
            "Precision:  0.8648648648648649\n",
            "Recall:  0.8327137546468402\n",
            "F-measure:  0.8484848484848485\n",
            "\n",
            "Label 0: Non-Cyberbullying\n",
            "Precision:  0.9915942841131969\n",
            "Recall:  0.9934499859642556\n",
            "F-measure:  0.992521267645134\n",
            "\n",
            "Macro Metrics\n",
            "Precision:  0.928229574489031\n",
            "Recall:  0.9130818703055479\n",
            "F-measure:  0.9205030580649913\n",
            "\n"
          ]
        },
        {
          "data": {
            "image/png": "[encoded data removed]",
            "text/plain": [
              "<Figure size 800x500 with 2 Axes>"
            ]
          },
          "metadata": {},
          "output_type": "display_data"
        }
      ],
      "source": [
        "compute_metrics_holdout(model_name='RoBERTaTiny',\n",
        "                        model_path='/content/content/drive/MyDrive_binary/output_RoBERTaTiny/holdout/checkpoint-18942',\n",
        "                        average_method='binary',\n",
        "                        X_test=X_test)"
      ]
    },
    {
      "cell_type": "markdown",
      "id": "uFLTBUzxL4MC",
      "metadata": {
        "id": "uFLTBUzxL4MC"
      },
      "source": [
        "#### Epoch 4"
      ]
    },
    {
      "cell_type": "code",
      "execution_count": null,
      "id": "Rj2PqaNBL4tg",
      "metadata": {
        "colab": {
          "base_uri": "https://localhost:8080/",
          "height": 938
        },
        "execution": {
          "iopub.execute_input": "2023-08-23T05:57:31.983262Z",
          "iopub.status.busy": "2023-08-23T05:57:31.983091Z",
          "iopub.status.idle": "2023-08-23T05:58:07.367089Z",
          "shell.execute_reply": "2023-08-23T05:58:07.366320Z",
          "shell.execute_reply.started": "2023-08-23T05:57:31.983246Z"
        },
        "id": "Rj2PqaNBL4tg",
        "outputId": "cf5dc1cd-23d1-452f-ed37-c66a73c41c12"
      },
      "outputs": [
        {
          "data": {
            "text/html": [],
            "text/plain": [
              "<IPython.core.display.HTML object>"
            ]
          },
          "metadata": {},
          "output_type": "display_data"
        },
        {
          "name": "stdout",
          "output_type": "stream",
          "text": [
            "Classification Report:\n",
            "              precision    recall  f1-score   support\n",
            "\n",
            "           0       0.99      0.99      0.99     10687\n",
            "           1       0.87      0.83      0.85       538\n",
            "\n",
            "    accuracy                           0.99     11225\n",
            "   macro avg       0.93      0.91      0.92     11225\n",
            "weighted avg       0.99      0.99      0.99     11225\n",
            "\n",
            "\n",
            "Label 1: Cyberbullying\n",
            "Precision:  0.8722986247544204\n",
            "Recall:  0.8252788104089219\n",
            "F-measure:  0.848137535816619\n",
            "\n",
            "Label 0: Non-Cyberbullying\n",
            "Precision:  0.9912280701754386\n",
            "Recall:  0.993917844109666\n",
            "F-measure:  0.9925711348876326\n",
            "\n",
            "Macro Metrics\n",
            "Precision:  0.9317633474649295\n",
            "Recall:  0.909598327259294\n",
            "F-measure:  0.9203543353521257\n",
            "\n"
          ]
        },
        {
          "data": {
            "image/png": "[encoded data removed]",
            "text/plain": [
              "<Figure size 800x500 with 2 Axes>"
            ]
          },
          "metadata": {},
          "output_type": "display_data"
        }
      ],
      "source": [
        "compute_metrics_holdout(model_name='RoBERTaTiny',\n",
        "                        model_path='/content/content/drive/MyDrive_binary/output_RoBERTaTiny/holdout/checkpoint-25256',\n",
        "                        average_method='binary',\n",
        "                        X_test=X_test)"
      ]
    }
  ],
  "metadata": {
    "colab": {
      "collapsed_sections": [
        "fG7eAEaFtIYk",
        "Ir4eL3T8gtLf",
        "KdECewOiL4tf",
        "uFLTBUzxL4MC"
      ],
      "machine_shape": "hm",
      "provenance": []
    },
    "kernelspec": {
      "display_name": "Python 3",
      "name": "python3"
    },
    "language_info": {
      "codemirror_mode": {
        "name": "ipython",
        "version": 3
      },
      "file_extension": ".py",
      "mimetype": "text/x-python",
      "name": "python",
      "nbconvert_exporter": "python",
      "pygments_lexer": "ipython3",
      "version": "3.9.16"
    },
    "widgets": {
      "application/vnd.jupyter.widget-state+json": {
        "0555fc28f4b8475b975bec73d781b8c3": {
          "model_module": "@jupyter-widgets/controls",
          "model_module_version": "1.5.0",
          "model_name": "ProgressStyleModel",
          "state": {
            "_model_module": "@jupyter-widgets/controls",
            "_model_module_version": "1.5.0",
            "_model_name": "ProgressStyleModel",
            "_view_count": null,
            "_view_module": "@jupyter-widgets/base",
            "_view_module_version": "1.2.0",
            "_view_name": "StyleView",
            "bar_color": null,
            "description_width": ""
          }
        },
        "06f8cc0ed7f1465cb9d909209bbedb3f": {
          "model_module": "@jupyter-widgets/controls",
          "model_module_version": "1.5.0",
          "model_name": "ProgressStyleModel",
          "state": {
            "_model_module": "@jupyter-widgets/controls",
            "_model_module_version": "1.5.0",
            "_model_name": "ProgressStyleModel",
            "_view_count": null,
            "_view_module": "@jupyter-widgets/base",
            "_view_module_version": "1.2.0",
            "_view_name": "StyleView",
            "bar_color": null,
            "description_width": ""
          }
        },
        "0daace08f5c24cbfb31f1eed769e2dac": {
          "model_module": "@jupyter-widgets/controls",
          "model_module_version": "1.5.0",
          "model_name": "HTMLModel",
          "state": {
            "_dom_classes": [],
            "_model_module": "@jupyter-widgets/controls",
            "_model_module_version": "1.5.0",
            "_model_name": "HTMLModel",
            "_view_count": null,
            "_view_module": "@jupyter-widgets/controls",
            "_view_module_version": "1.5.0",
            "_view_name": "HTMLView",
            "description": "",
            "description_tooltip": null,
            "layout": "IPY_MODEL_dc49312a214d4d4b88eb86b11202f19c",
            "placeholder": "​",
            "style": "IPY_MODEL_2e80d58a541c4879915db99273289eca",
            "value": "100%"
          }
        },
        "0db125b851b348fba3499ca2714379bc": {
          "model_module": "@jupyter-widgets/controls",
          "model_module_version": "1.5.0",
          "model_name": "HTMLModel",
          "state": {
            "_dom_classes": [],
            "_model_module": "@jupyter-widgets/controls",
            "_model_module_version": "1.5.0",
            "_model_name": "HTMLModel",
            "_view_count": null,
            "_view_module": "@jupyter-widgets/controls",
            "_view_module_version": "1.5.0",
            "_view_name": "HTMLView",
            "description": "",
            "description_tooltip": null,
            "layout": "IPY_MODEL_4d34f676ab1540b28c489af959048481",
            "placeholder": "​",
            "style": "IPY_MODEL_8be5333fd746484f9778d74c78b5a18b",
            "value": "tokenizer_config.json: 100%"
          }
        },
        "0e8fc5629af94995a51a12a054daa41f": {
          "model_module": "@jupyter-widgets/controls",
          "model_module_version": "1.5.0",
          "model_name": "DescriptionStyleModel",
          "state": {
            "_model_module": "@jupyter-widgets/controls",
            "_model_module_version": "1.5.0",
            "_model_name": "DescriptionStyleModel",
            "_view_count": null,
            "_view_module": "@jupyter-widgets/base",
            "_view_module_version": "1.2.0",
            "_view_name": "StyleView",
            "description_width": ""
          }
        },
        "102ac7570eaa4b4c8f24d06ad56a3224": {
          "model_module": "@jupyter-widgets/base",
          "model_module_version": "1.2.0",
          "model_name": "LayoutModel",
          "state": {
            "_model_module": "@jupyter-widgets/base",
            "_model_module_version": "1.2.0",
            "_model_name": "LayoutModel",
            "_view_count": null,
            "_view_module": "@jupyter-widgets/base",
            "_view_module_version": "1.2.0",
            "_view_name": "LayoutView",
            "align_content": null,
            "align_items": null,
            "align_self": null,
            "border": null,
            "bottom": null,
            "display": null,
            "flex": null,
            "flex_flow": null,
            "grid_area": null,
            "grid_auto_columns": null,
            "grid_auto_flow": null,
            "grid_auto_rows": null,
            "grid_column": null,
            "grid_gap": null,
            "grid_row": null,
            "grid_template_areas": null,
            "grid_template_columns": null,
            "grid_template_rows": null,
            "height": null,
            "justify_content": null,
            "justify_items": null,
            "left": null,
            "margin": null,
            "max_height": null,
            "max_width": null,
            "min_height": null,
            "min_width": null,
            "object_fit": null,
            "object_position": null,
            "order": null,
            "overflow": null,
            "overflow_x": null,
            "overflow_y": null,
            "padding": null,
            "right": null,
            "top": null,
            "visibility": null,
            "width": null
          }
        },
        "14840f4774224d7b9363ecc0f479346c": {
          "model_module": "@jupyter-widgets/controls",
          "model_module_version": "1.5.0",
          "model_name": "ProgressStyleModel",
          "state": {
            "_model_module": "@jupyter-widgets/controls",
            "_model_module_version": "1.5.0",
            "_model_name": "ProgressStyleModel",
            "_view_count": null,
            "_view_module": "@jupyter-widgets/base",
            "_view_module_version": "1.2.0",
            "_view_name": "StyleView",
            "bar_color": null,
            "description_width": ""
          }
        },
        "16c6d412ad0d47a7862667a52f2c702b": {
          "model_module": "@jupyter-widgets/controls",
          "model_module_version": "1.5.0",
          "model_name": "FloatProgressModel",
          "state": {
            "_dom_classes": [],
            "_model_module": "@jupyter-widgets/controls",
            "_model_module_version": "1.5.0",
            "_model_name": "FloatProgressModel",
            "_view_count": null,
            "_view_module": "@jupyter-widgets/controls",
            "_view_module_version": "1.5.0",
            "_view_name": "ProgressView",
            "bar_style": "success",
            "description": "",
            "description_tooltip": null,
            "layout": "IPY_MODEL_a055d69133f645be8a5bed3fca93d9f2",
            "max": 213450,
            "min": 0,
            "orientation": "horizontal",
            "style": "IPY_MODEL_06f8cc0ed7f1465cb9d909209bbedb3f",
            "value": 213450
          }
        },
        "23d328fd23fa4c919b7e7b1f2cb65f85": {
          "model_module": "@jupyter-widgets/controls",
          "model_module_version": "1.5.0",
          "model_name": "HTMLModel",
          "state": {
            "_dom_classes": [],
            "_model_module": "@jupyter-widgets/controls",
            "_model_module_version": "1.5.0",
            "_model_name": "HTMLModel",
            "_view_count": null,
            "_view_module": "@jupyter-widgets/controls",
            "_view_module_version": "1.5.0",
            "_view_name": "HTMLView",
            "description": "",
            "description_tooltip": null,
            "layout": "IPY_MODEL_2799fc961edb419aa23a196278cacfe6",
            "placeholder": "​",
            "style": "IPY_MODEL_eeddf4c16a2a4faf9d623ae82c506ebb",
            "value": " 112/112 [00:00&lt;00:00, 7.78kB/s]"
          }
        },
        "2475ca355aad485c847af7988b49df9e": {
          "model_module": "@jupyter-widgets/base",
          "model_module_version": "1.2.0",
          "model_name": "LayoutModel",
          "state": {
            "_model_module": "@jupyter-widgets/base",
            "_model_module_version": "1.2.0",
            "_model_name": "LayoutModel",
            "_view_count": null,
            "_view_module": "@jupyter-widgets/base",
            "_view_module_version": "1.2.0",
            "_view_name": "LayoutView",
            "align_content": null,
            "align_items": null,
            "align_self": null,
            "border": null,
            "bottom": null,
            "display": null,
            "flex": null,
            "flex_flow": null,
            "grid_area": null,
            "grid_auto_columns": null,
            "grid_auto_flow": null,
            "grid_auto_rows": null,
            "grid_column": null,
            "grid_gap": null,
            "grid_row": null,
            "grid_template_areas": null,
            "grid_template_columns": null,
            "grid_template_rows": null,
            "height": null,
            "justify_content": null,
            "justify_items": null,
            "left": null,
            "margin": null,
            "max_height": null,
            "max_width": null,
            "min_height": null,
            "min_width": null,
            "object_fit": null,
            "object_position": null,
            "order": null,
            "overflow": null,
            "overflow_x": null,
            "overflow_y": null,
            "padding": null,
            "right": null,
            "top": null,
            "visibility": null,
            "width": null
          }
        },
        "2799fc961edb419aa23a196278cacfe6": {
          "model_module": "@jupyter-widgets/base",
          "model_module_version": "1.2.0",
          "model_name": "LayoutModel",
          "state": {
            "_model_module": "@jupyter-widgets/base",
            "_model_module_version": "1.2.0",
            "_model_name": "LayoutModel",
            "_view_count": null,
            "_view_module": "@jupyter-widgets/base",
            "_view_module_version": "1.2.0",
            "_view_name": "LayoutView",
            "align_content": null,
            "align_items": null,
            "align_self": null,
            "border": null,
            "bottom": null,
            "display": null,
            "flex": null,
            "flex_flow": null,
            "grid_area": null,
            "grid_auto_columns": null,
            "grid_auto_flow": null,
            "grid_auto_rows": null,
            "grid_column": null,
            "grid_gap": null,
            "grid_row": null,
            "grid_template_areas": null,
            "grid_template_columns": null,
            "grid_template_rows": null,
            "height": null,
            "justify_content": null,
            "justify_items": null,
            "left": null,
            "margin": null,
            "max_height": null,
            "max_width": null,
            "min_height": null,
            "min_width": null,
            "object_fit": null,
            "object_position": null,
            "order": null,
            "overflow": null,
            "overflow_x": null,
            "overflow_y": null,
            "padding": null,
            "right": null,
            "top": null,
            "visibility": null,
            "width": null
          }
        },
        "2cf52a8ad5354f128c1346bd560bb96f": {
          "model_module": "@jupyter-widgets/controls",
          "model_module_version": "1.5.0",
          "model_name": "HTMLModel",
          "state": {
            "_dom_classes": [],
            "_model_module": "@jupyter-widgets/controls",
            "_model_module_version": "1.5.0",
            "_model_name": "HTMLModel",
            "_view_count": null,
            "_view_module": "@jupyter-widgets/controls",
            "_view_module_version": "1.5.0",
            "_view_name": "HTMLView",
            "description": "",
            "description_tooltip": null,
            "layout": "IPY_MODEL_5982737a3d78416fab302ee46586af19",
            "placeholder": "​",
            "style": "IPY_MODEL_3d0bac79f81449868a9b8ef3ffb47a2f",
            "value": " 112M/112M [00:00&lt;00:00, 296MB/s]"
          }
        },
        "2e80d58a541c4879915db99273289eca": {
          "model_module": "@jupyter-widgets/controls",
          "model_module_version": "1.5.0",
          "model_name": "DescriptionStyleModel",
          "state": {
            "_model_module": "@jupyter-widgets/controls",
            "_model_module_version": "1.5.0",
            "_model_name": "DescriptionStyleModel",
            "_view_count": null,
            "_view_module": "@jupyter-widgets/base",
            "_view_module_version": "1.2.0",
            "_view_name": "StyleView",
            "description_width": ""
          }
        },
        "2ef934556cde422f8a91ff8064c98fa4": {
          "model_module": "@jupyter-widgets/controls",
          "model_module_version": "1.5.0",
          "model_name": "FloatProgressModel",
          "state": {
            "_dom_classes": [],
            "_model_module": "@jupyter-widgets/controls",
            "_model_module_version": "1.5.0",
            "_model_name": "FloatProgressModel",
            "_view_count": null,
            "_view_module": "@jupyter-widgets/controls",
            "_view_module_version": "1.5.0",
            "_view_name": "ProgressView",
            "bar_style": "success",
            "description": "",
            "description_tooltip": null,
            "layout": "IPY_MODEL_2475ca355aad485c847af7988b49df9e",
            "max": 112247,
            "min": 0,
            "orientation": "horizontal",
            "style": "IPY_MODEL_8f51ea078af54bb9aac4d636f113fdbb",
            "value": 112247
          }
        },
        "32d6a77f65c3424a8d963532fb17228b": {
          "model_module": "@jupyter-widgets/base",
          "model_module_version": "1.2.0",
          "model_name": "LayoutModel",
          "state": {
            "_model_module": "@jupyter-widgets/base",
            "_model_module_version": "1.2.0",
            "_model_name": "LayoutModel",
            "_view_count": null,
            "_view_module": "@jupyter-widgets/base",
            "_view_module_version": "1.2.0",
            "_view_name": "LayoutView",
            "align_content": null,
            "align_items": null,
            "align_self": null,
            "border": null,
            "bottom": null,
            "display": null,
            "flex": null,
            "flex_flow": null,
            "grid_area": null,
            "grid_auto_columns": null,
            "grid_auto_flow": null,
            "grid_auto_rows": null,
            "grid_column": null,
            "grid_gap": null,
            "grid_row": null,
            "grid_template_areas": null,
            "grid_template_columns": null,
            "grid_template_rows": null,
            "height": null,
            "justify_content": null,
            "justify_items": null,
            "left": null,
            "margin": null,
            "max_height": null,
            "max_width": null,
            "min_height": null,
            "min_width": null,
            "object_fit": null,
            "object_position": null,
            "order": null,
            "overflow": null,
            "overflow_x": null,
            "overflow_y": null,
            "padding": null,
            "right": null,
            "top": null,
            "visibility": null,
            "width": null
          }
        },
        "3433b80ee96a4c98a1c4986ee0194e1d": {
          "model_module": "@jupyter-widgets/controls",
          "model_module_version": "1.5.0",
          "model_name": "HTMLModel",
          "state": {
            "_dom_classes": [],
            "_model_module": "@jupyter-widgets/controls",
            "_model_module_version": "1.5.0",
            "_model_name": "HTMLModel",
            "_view_count": null,
            "_view_module": "@jupyter-widgets/controls",
            "_view_module_version": "1.5.0",
            "_view_name": "HTMLView",
            "description": "",
            "description_tooltip": null,
            "layout": "IPY_MODEL_9374fada94ad401ab6e5e50a00b4b16e",
            "placeholder": "​",
            "style": "IPY_MODEL_d1a80cfb6b544508a26f2e681fa40ff6",
            "value": " 460/460 [00:00&lt;00:00, 34.9kB/s]"
          }
        },
        "3bbacc3305814b96ae18018103fb7764": {
          "model_module": "@jupyter-widgets/controls",
          "model_module_version": "1.5.0",
          "model_name": "FloatProgressModel",
          "state": {
            "_dom_classes": [],
            "_model_module": "@jupyter-widgets/controls",
            "_model_module_version": "1.5.0",
            "_model_name": "FloatProgressModel",
            "_view_count": null,
            "_view_module": "@jupyter-widgets/controls",
            "_view_module_version": "1.5.0",
            "_view_name": "ProgressView",
            "bar_style": "success",
            "description": "",
            "description_tooltip": null,
            "layout": "IPY_MODEL_9346ce63297a4db6a98e637d545f4424",
            "max": 112,
            "min": 0,
            "orientation": "horizontal",
            "style": "IPY_MODEL_0555fc28f4b8475b975bec73d781b8c3",
            "value": 112
          }
        },
        "3d0bac79f81449868a9b8ef3ffb47a2f": {
          "model_module": "@jupyter-widgets/controls",
          "model_module_version": "1.5.0",
          "model_name": "DescriptionStyleModel",
          "state": {
            "_model_module": "@jupyter-widgets/controls",
            "_model_module_version": "1.5.0",
            "_model_name": "DescriptionStyleModel",
            "_view_count": null,
            "_view_module": "@jupyter-widgets/base",
            "_view_module_version": "1.2.0",
            "_view_name": "StyleView",
            "description_width": ""
          }
        },
        "4217398ca58749b594e5833f786aad02": {
          "model_module": "@jupyter-widgets/controls",
          "model_module_version": "1.5.0",
          "model_name": "FloatProgressModel",
          "state": {
            "_dom_classes": [],
            "_model_module": "@jupyter-widgets/controls",
            "_model_module_version": "1.5.0",
            "_model_name": "FloatProgressModel",
            "_view_count": null,
            "_view_module": "@jupyter-widgets/controls",
            "_view_module_version": "1.5.0",
            "_view_name": "ProgressView",
            "bar_style": "success",
            "description": "",
            "description_tooltip": null,
            "layout": "IPY_MODEL_aa4a588f34e945c8a784cc70ce504927",
            "max": 460,
            "min": 0,
            "orientation": "horizontal",
            "style": "IPY_MODEL_4bb2ca3409fd4c6fa73134e13597b90f",
            "value": 460
          }
        },
        "4953e2ed03004ef5b3607231c40e26a7": {
          "model_module": "@jupyter-widgets/controls",
          "model_module_version": "1.5.0",
          "model_name": "DescriptionStyleModel",
          "state": {
            "_model_module": "@jupyter-widgets/controls",
            "_model_module_version": "1.5.0",
            "_model_name": "DescriptionStyleModel",
            "_view_count": null,
            "_view_module": "@jupyter-widgets/base",
            "_view_module_version": "1.2.0",
            "_view_name": "StyleView",
            "description_width": ""
          }
        },
        "4bb2ca3409fd4c6fa73134e13597b90f": {
          "model_module": "@jupyter-widgets/controls",
          "model_module_version": "1.5.0",
          "model_name": "ProgressStyleModel",
          "state": {
            "_model_module": "@jupyter-widgets/controls",
            "_model_module_version": "1.5.0",
            "_model_name": "ProgressStyleModel",
            "_view_count": null,
            "_view_module": "@jupyter-widgets/base",
            "_view_module_version": "1.2.0",
            "_view_name": "StyleView",
            "bar_color": null,
            "description_width": ""
          }
        },
        "4c1678c53408438e92fe801afe03fe17": {
          "model_module": "@jupyter-widgets/controls",
          "model_module_version": "1.5.0",
          "model_name": "HTMLModel",
          "state": {
            "_dom_classes": [],
            "_model_module": "@jupyter-widgets/controls",
            "_model_module_version": "1.5.0",
            "_model_name": "HTMLModel",
            "_view_count": null,
            "_view_module": "@jupyter-widgets/controls",
            "_view_module_version": "1.5.0",
            "_view_name": "HTMLView",
            "description": "",
            "description_tooltip": null,
            "layout": "IPY_MODEL_cd1a0c2bef16454e9330a06bfd3f6c68",
            "placeholder": "​",
            "style": "IPY_MODEL_fba12b7d6b8c4f99acc1f6cbe7d8436b",
            "value": "pytorch_model.bin: 100%"
          }
        },
        "4d34f676ab1540b28c489af959048481": {
          "model_module": "@jupyter-widgets/base",
          "model_module_version": "1.2.0",
          "model_name": "LayoutModel",
          "state": {
            "_model_module": "@jupyter-widgets/base",
            "_model_module_version": "1.2.0",
            "_model_name": "LayoutModel",
            "_view_count": null,
            "_view_module": "@jupyter-widgets/base",
            "_view_module_version": "1.2.0",
            "_view_name": "LayoutView",
            "align_content": null,
            "align_items": null,
            "align_self": null,
            "border": null,
            "bottom": null,
            "display": null,
            "flex": null,
            "flex_flow": null,
            "grid_area": null,
            "grid_auto_columns": null,
            "grid_auto_flow": null,
            "grid_auto_rows": null,
            "grid_column": null,
            "grid_gap": null,
            "grid_row": null,
            "grid_template_areas": null,
            "grid_template_columns": null,
            "grid_template_rows": null,
            "height": null,
            "justify_content": null,
            "justify_items": null,
            "left": null,
            "margin": null,
            "max_height": null,
            "max_width": null,
            "min_height": null,
            "min_width": null,
            "object_fit": null,
            "object_position": null,
            "order": null,
            "overflow": null,
            "overflow_x": null,
            "overflow_y": null,
            "padding": null,
            "right": null,
            "top": null,
            "visibility": null,
            "width": null
          }
        },
        "4dba221386144f9a8c34ccdf45fcddf3": {
          "model_module": "@jupyter-widgets/base",
          "model_module_version": "1.2.0",
          "model_name": "LayoutModel",
          "state": {
            "_model_module": "@jupyter-widgets/base",
            "_model_module_version": "1.2.0",
            "_model_name": "LayoutModel",
            "_view_count": null,
            "_view_module": "@jupyter-widgets/base",
            "_view_module_version": "1.2.0",
            "_view_name": "LayoutView",
            "align_content": null,
            "align_items": null,
            "align_self": null,
            "border": null,
            "bottom": null,
            "display": null,
            "flex": null,
            "flex_flow": null,
            "grid_area": null,
            "grid_auto_columns": null,
            "grid_auto_flow": null,
            "grid_auto_rows": null,
            "grid_column": null,
            "grid_gap": null,
            "grid_row": null,
            "grid_template_areas": null,
            "grid_template_columns": null,
            "grid_template_rows": null,
            "height": null,
            "justify_content": null,
            "justify_items": null,
            "left": null,
            "margin": null,
            "max_height": null,
            "max_width": null,
            "min_height": null,
            "min_width": null,
            "object_fit": null,
            "object_position": null,
            "order": null,
            "overflow": null,
            "overflow_x": null,
            "overflow_y": null,
            "padding": null,
            "right": null,
            "top": null,
            "visibility": null,
            "width": null
          }
        },
        "4ea6d96a21cd43f89cb922648aa23006": {
          "model_module": "@jupyter-widgets/base",
          "model_module_version": "1.2.0",
          "model_name": "LayoutModel",
          "state": {
            "_model_module": "@jupyter-widgets/base",
            "_model_module_version": "1.2.0",
            "_model_name": "LayoutModel",
            "_view_count": null,
            "_view_module": "@jupyter-widgets/base",
            "_view_module_version": "1.2.0",
            "_view_name": "LayoutView",
            "align_content": null,
            "align_items": null,
            "align_self": null,
            "border": null,
            "bottom": null,
            "display": null,
            "flex": null,
            "flex_flow": null,
            "grid_area": null,
            "grid_auto_columns": null,
            "grid_auto_flow": null,
            "grid_auto_rows": null,
            "grid_column": null,
            "grid_gap": null,
            "grid_row": null,
            "grid_template_areas": null,
            "grid_template_columns": null,
            "grid_template_rows": null,
            "height": null,
            "justify_content": null,
            "justify_items": null,
            "left": null,
            "margin": null,
            "max_height": null,
            "max_width": null,
            "min_height": null,
            "min_width": null,
            "object_fit": null,
            "object_position": null,
            "order": null,
            "overflow": null,
            "overflow_x": null,
            "overflow_y": null,
            "padding": null,
            "right": null,
            "top": null,
            "visibility": null,
            "width": null
          }
        },
        "5982737a3d78416fab302ee46586af19": {
          "model_module": "@jupyter-widgets/base",
          "model_module_version": "1.2.0",
          "model_name": "LayoutModel",
          "state": {
            "_model_module": "@jupyter-widgets/base",
            "_model_module_version": "1.2.0",
            "_model_name": "LayoutModel",
            "_view_count": null,
            "_view_module": "@jupyter-widgets/base",
            "_view_module_version": "1.2.0",
            "_view_name": "LayoutView",
            "align_content": null,
            "align_items": null,
            "align_self": null,
            "border": null,
            "bottom": null,
            "display": null,
            "flex": null,
            "flex_flow": null,
            "grid_area": null,
            "grid_auto_columns": null,
            "grid_auto_flow": null,
            "grid_auto_rows": null,
            "grid_column": null,
            "grid_gap": null,
            "grid_row": null,
            "grid_template_areas": null,
            "grid_template_columns": null,
            "grid_template_rows": null,
            "height": null,
            "justify_content": null,
            "justify_items": null,
            "left": null,
            "margin": null,
            "max_height": null,
            "max_width": null,
            "min_height": null,
            "min_width": null,
            "object_fit": null,
            "object_position": null,
            "order": null,
            "overflow": null,
            "overflow_x": null,
            "overflow_y": null,
            "padding": null,
            "right": null,
            "top": null,
            "visibility": null,
            "width": null
          }
        },
        "5a14d59ec78445fc9fcc3dab128fb290": {
          "model_module": "@jupyter-widgets/controls",
          "model_module_version": "1.5.0",
          "model_name": "HBoxModel",
          "state": {
            "_dom_classes": [],
            "_model_module": "@jupyter-widgets/controls",
            "_model_module_version": "1.5.0",
            "_model_name": "HBoxModel",
            "_view_count": null,
            "_view_module": "@jupyter-widgets/controls",
            "_view_module_version": "1.5.0",
            "_view_name": "HBoxView",
            "box_style": "",
            "children": [
              "IPY_MODEL_f3f8a69709e642349c14a831e58570ab",
              "IPY_MODEL_16c6d412ad0d47a7862667a52f2c702b",
              "IPY_MODEL_fa7017595a8d4af38dabbcbdcad7b13d"
            ],
            "layout": "IPY_MODEL_d78dffe1ddf848b6b8b4633e252d30cd"
          }
        },
        "613f680658e9482a9c3050d177afa2ca": {
          "model_module": "@jupyter-widgets/base",
          "model_module_version": "1.2.0",
          "model_name": "LayoutModel",
          "state": {
            "_model_module": "@jupyter-widgets/base",
            "_model_module_version": "1.2.0",
            "_model_name": "LayoutModel",
            "_view_count": null,
            "_view_module": "@jupyter-widgets/base",
            "_view_module_version": "1.2.0",
            "_view_name": "LayoutView",
            "align_content": null,
            "align_items": null,
            "align_self": null,
            "border": null,
            "bottom": null,
            "display": null,
            "flex": null,
            "flex_flow": null,
            "grid_area": null,
            "grid_auto_columns": null,
            "grid_auto_flow": null,
            "grid_auto_rows": null,
            "grid_column": null,
            "grid_gap": null,
            "grid_row": null,
            "grid_template_areas": null,
            "grid_template_columns": null,
            "grid_template_rows": null,
            "height": null,
            "justify_content": null,
            "justify_items": null,
            "left": null,
            "margin": null,
            "max_height": null,
            "max_width": null,
            "min_height": null,
            "min_width": null,
            "object_fit": null,
            "object_position": null,
            "order": null,
            "overflow": null,
            "overflow_x": null,
            "overflow_y": null,
            "padding": null,
            "right": null,
            "top": null,
            "visibility": null,
            "width": null
          }
        },
        "6d1670df0b1b4d808795e553d432af9f": {
          "model_module": "@jupyter-widgets/base",
          "model_module_version": "1.2.0",
          "model_name": "LayoutModel",
          "state": {
            "_model_module": "@jupyter-widgets/base",
            "_model_module_version": "1.2.0",
            "_model_name": "LayoutModel",
            "_view_count": null,
            "_view_module": "@jupyter-widgets/base",
            "_view_module_version": "1.2.0",
            "_view_name": "LayoutView",
            "align_content": null,
            "align_items": null,
            "align_self": null,
            "border": null,
            "bottom": null,
            "display": null,
            "flex": null,
            "flex_flow": null,
            "grid_area": null,
            "grid_auto_columns": null,
            "grid_auto_flow": null,
            "grid_auto_rows": null,
            "grid_column": null,
            "grid_gap": null,
            "grid_row": null,
            "grid_template_areas": null,
            "grid_template_columns": null,
            "grid_template_rows": null,
            "height": null,
            "justify_content": null,
            "justify_items": null,
            "left": null,
            "margin": null,
            "max_height": null,
            "max_width": null,
            "min_height": null,
            "min_width": null,
            "object_fit": null,
            "object_position": null,
            "order": null,
            "overflow": null,
            "overflow_x": null,
            "overflow_y": null,
            "padding": null,
            "right": null,
            "top": null,
            "visibility": null,
            "width": null
          }
        },
        "7c0f2db619384a438444eb0e46aee072": {
          "model_module": "@jupyter-widgets/base",
          "model_module_version": "1.2.0",
          "model_name": "LayoutModel",
          "state": {
            "_model_module": "@jupyter-widgets/base",
            "_model_module_version": "1.2.0",
            "_model_name": "LayoutModel",
            "_view_count": null,
            "_view_module": "@jupyter-widgets/base",
            "_view_module_version": "1.2.0",
            "_view_name": "LayoutView",
            "align_content": null,
            "align_items": null,
            "align_self": null,
            "border": null,
            "bottom": null,
            "display": null,
            "flex": null,
            "flex_flow": null,
            "grid_area": null,
            "grid_auto_columns": null,
            "grid_auto_flow": null,
            "grid_auto_rows": null,
            "grid_column": null,
            "grid_gap": null,
            "grid_row": null,
            "grid_template_areas": null,
            "grid_template_columns": null,
            "grid_template_rows": null,
            "height": null,
            "justify_content": null,
            "justify_items": null,
            "left": null,
            "margin": null,
            "max_height": null,
            "max_width": null,
            "min_height": null,
            "min_width": null,
            "object_fit": null,
            "object_position": null,
            "order": null,
            "overflow": null,
            "overflow_x": null,
            "overflow_y": null,
            "padding": null,
            "right": null,
            "top": null,
            "visibility": null,
            "width": null
          }
        },
        "88af92aaa1364748ae2a67b6bb22a380": {
          "model_module": "@jupyter-widgets/base",
          "model_module_version": "1.2.0",
          "model_name": "LayoutModel",
          "state": {
            "_model_module": "@jupyter-widgets/base",
            "_model_module_version": "1.2.0",
            "_model_name": "LayoutModel",
            "_view_count": null,
            "_view_module": "@jupyter-widgets/base",
            "_view_module_version": "1.2.0",
            "_view_name": "LayoutView",
            "align_content": null,
            "align_items": null,
            "align_self": null,
            "border": null,
            "bottom": null,
            "display": null,
            "flex": null,
            "flex_flow": null,
            "grid_area": null,
            "grid_auto_columns": null,
            "grid_auto_flow": null,
            "grid_auto_rows": null,
            "grid_column": null,
            "grid_gap": null,
            "grid_row": null,
            "grid_template_areas": null,
            "grid_template_columns": null,
            "grid_template_rows": null,
            "height": null,
            "justify_content": null,
            "justify_items": null,
            "left": null,
            "margin": null,
            "max_height": null,
            "max_width": null,
            "min_height": null,
            "min_width": null,
            "object_fit": null,
            "object_position": null,
            "order": null,
            "overflow": null,
            "overflow_x": null,
            "overflow_y": null,
            "padding": null,
            "right": null,
            "top": null,
            "visibility": null,
            "width": null
          }
        },
        "8be5333fd746484f9778d74c78b5a18b": {
          "model_module": "@jupyter-widgets/controls",
          "model_module_version": "1.5.0",
          "model_name": "DescriptionStyleModel",
          "state": {
            "_model_module": "@jupyter-widgets/controls",
            "_model_module_version": "1.5.0",
            "_model_name": "DescriptionStyleModel",
            "_view_count": null,
            "_view_module": "@jupyter-widgets/base",
            "_view_module_version": "1.2.0",
            "_view_name": "StyleView",
            "description_width": ""
          }
        },
        "8d54db3efb3d46c2a188f55476360880": {
          "model_module": "@jupyter-widgets/base",
          "model_module_version": "1.2.0",
          "model_name": "LayoutModel",
          "state": {
            "_model_module": "@jupyter-widgets/base",
            "_model_module_version": "1.2.0",
            "_model_name": "LayoutModel",
            "_view_count": null,
            "_view_module": "@jupyter-widgets/base",
            "_view_module_version": "1.2.0",
            "_view_name": "LayoutView",
            "align_content": null,
            "align_items": null,
            "align_self": null,
            "border": null,
            "bottom": null,
            "display": null,
            "flex": null,
            "flex_flow": null,
            "grid_area": null,
            "grid_auto_columns": null,
            "grid_auto_flow": null,
            "grid_auto_rows": null,
            "grid_column": null,
            "grid_gap": null,
            "grid_row": null,
            "grid_template_areas": null,
            "grid_template_columns": null,
            "grid_template_rows": null,
            "height": null,
            "justify_content": null,
            "justify_items": null,
            "left": null,
            "margin": null,
            "max_height": null,
            "max_width": null,
            "min_height": null,
            "min_width": null,
            "object_fit": null,
            "object_position": null,
            "order": null,
            "overflow": null,
            "overflow_x": null,
            "overflow_y": null,
            "padding": null,
            "right": null,
            "top": null,
            "visibility": null,
            "width": null
          }
        },
        "8f51ea078af54bb9aac4d636f113fdbb": {
          "model_module": "@jupyter-widgets/controls",
          "model_module_version": "1.5.0",
          "model_name": "ProgressStyleModel",
          "state": {
            "_model_module": "@jupyter-widgets/controls",
            "_model_module_version": "1.5.0",
            "_model_name": "ProgressStyleModel",
            "_view_count": null,
            "_view_module": "@jupyter-widgets/base",
            "_view_module_version": "1.2.0",
            "_view_name": "StyleView",
            "bar_color": null,
            "description_width": ""
          }
        },
        "920fca6403c342db9ccf69aac780d9d2": {
          "model_module": "@jupyter-widgets/controls",
          "model_module_version": "1.5.0",
          "model_name": "HTMLModel",
          "state": {
            "_dom_classes": [],
            "_model_module": "@jupyter-widgets/controls",
            "_model_module_version": "1.5.0",
            "_model_name": "HTMLModel",
            "_view_count": null,
            "_view_module": "@jupyter-widgets/controls",
            "_view_module_version": "1.5.0",
            "_view_name": "HTMLView",
            "description": "",
            "description_tooltip": null,
            "layout": "IPY_MODEL_613f680658e9482a9c3050d177afa2ca",
            "placeholder": "​",
            "style": "IPY_MODEL_a4f6edcee5d743cd948a937ad05e971c",
            "value": "config.json: 100%"
          }
        },
        "9346ce63297a4db6a98e637d545f4424": {
          "model_module": "@jupyter-widgets/base",
          "model_module_version": "1.2.0",
          "model_name": "LayoutModel",
          "state": {
            "_model_module": "@jupyter-widgets/base",
            "_model_module_version": "1.2.0",
            "_model_name": "LayoutModel",
            "_view_count": null,
            "_view_module": "@jupyter-widgets/base",
            "_view_module_version": "1.2.0",
            "_view_name": "LayoutView",
            "align_content": null,
            "align_items": null,
            "align_self": null,
            "border": null,
            "bottom": null,
            "display": null,
            "flex": null,
            "flex_flow": null,
            "grid_area": null,
            "grid_auto_columns": null,
            "grid_auto_flow": null,
            "grid_auto_rows": null,
            "grid_column": null,
            "grid_gap": null,
            "grid_row": null,
            "grid_template_areas": null,
            "grid_template_columns": null,
            "grid_template_rows": null,
            "height": null,
            "justify_content": null,
            "justify_items": null,
            "left": null,
            "margin": null,
            "max_height": null,
            "max_width": null,
            "min_height": null,
            "min_width": null,
            "object_fit": null,
            "object_position": null,
            "order": null,
            "overflow": null,
            "overflow_x": null,
            "overflow_y": null,
            "padding": null,
            "right": null,
            "top": null,
            "visibility": null,
            "width": null
          }
        },
        "9374fada94ad401ab6e5e50a00b4b16e": {
          "model_module": "@jupyter-widgets/base",
          "model_module_version": "1.2.0",
          "model_name": "LayoutModel",
          "state": {
            "_model_module": "@jupyter-widgets/base",
            "_model_module_version": "1.2.0",
            "_model_name": "LayoutModel",
            "_view_count": null,
            "_view_module": "@jupyter-widgets/base",
            "_view_module_version": "1.2.0",
            "_view_name": "LayoutView",
            "align_content": null,
            "align_items": null,
            "align_self": null,
            "border": null,
            "bottom": null,
            "display": null,
            "flex": null,
            "flex_flow": null,
            "grid_area": null,
            "grid_auto_columns": null,
            "grid_auto_flow": null,
            "grid_auto_rows": null,
            "grid_column": null,
            "grid_gap": null,
            "grid_row": null,
            "grid_template_areas": null,
            "grid_template_columns": null,
            "grid_template_rows": null,
            "height": null,
            "justify_content": null,
            "justify_items": null,
            "left": null,
            "margin": null,
            "max_height": null,
            "max_width": null,
            "min_height": null,
            "min_width": null,
            "object_fit": null,
            "object_position": null,
            "order": null,
            "overflow": null,
            "overflow_x": null,
            "overflow_y": null,
            "padding": null,
            "right": null,
            "top": null,
            "visibility": null,
            "width": null
          }
        },
        "94f3feed30f847b9b6cdf83a9251e2f6": {
          "model_module": "@jupyter-widgets/controls",
          "model_module_version": "1.5.0",
          "model_name": "HBoxModel",
          "state": {
            "_dom_classes": [],
            "_model_module": "@jupyter-widgets/controls",
            "_model_module_version": "1.5.0",
            "_model_name": "HBoxModel",
            "_view_count": null,
            "_view_module": "@jupyter-widgets/controls",
            "_view_module_version": "1.5.0",
            "_view_name": "HBoxView",
            "box_style": "",
            "children": [
              "IPY_MODEL_0daace08f5c24cbfb31f1eed769e2dac",
              "IPY_MODEL_2ef934556cde422f8a91ff8064c98fa4",
              "IPY_MODEL_e0e4d12de6cb49eb9ef078aecd30e510"
            ],
            "layout": "IPY_MODEL_a5521c5705374f63b3e9284640a0adf8"
          }
        },
        "9a1a32046de540489ea3d3f454a64bd1": {
          "model_module": "@jupyter-widgets/controls",
          "model_module_version": "1.5.0",
          "model_name": "HBoxModel",
          "state": {
            "_dom_classes": [],
            "_model_module": "@jupyter-widgets/controls",
            "_model_module_version": "1.5.0",
            "_model_name": "HBoxModel",
            "_view_count": null,
            "_view_module": "@jupyter-widgets/controls",
            "_view_module_version": "1.5.0",
            "_view_name": "HBoxView",
            "box_style": "",
            "children": [
              "IPY_MODEL_920fca6403c342db9ccf69aac780d9d2",
              "IPY_MODEL_4217398ca58749b594e5833f786aad02",
              "IPY_MODEL_3433b80ee96a4c98a1c4986ee0194e1d"
            ],
            "layout": "IPY_MODEL_d85cd572bbe74ca8ada2ae35bac42e88"
          }
        },
        "9ba4fb9ef5ce4b6bb6c7726cf333b61d": {
          "model_module": "@jupyter-widgets/controls",
          "model_module_version": "1.5.0",
          "model_name": "HBoxModel",
          "state": {
            "_dom_classes": [],
            "_model_module": "@jupyter-widgets/controls",
            "_model_module_version": "1.5.0",
            "_model_name": "HBoxModel",
            "_view_count": null,
            "_view_module": "@jupyter-widgets/controls",
            "_view_module_version": "1.5.0",
            "_view_name": "HBoxView",
            "box_style": "",
            "children": [
              "IPY_MODEL_0db125b851b348fba3499ca2714379bc",
              "IPY_MODEL_a8fda36b30dc4bb1a5f4aa7e9fb83421",
              "IPY_MODEL_e259de4b7295429797670b5b0704eb70"
            ],
            "layout": "IPY_MODEL_c73dd0427c824400b4d95f9053cbb57f"
          }
        },
        "a055d69133f645be8a5bed3fca93d9f2": {
          "model_module": "@jupyter-widgets/base",
          "model_module_version": "1.2.0",
          "model_name": "LayoutModel",
          "state": {
            "_model_module": "@jupyter-widgets/base",
            "_model_module_version": "1.2.0",
            "_model_name": "LayoutModel",
            "_view_count": null,
            "_view_module": "@jupyter-widgets/base",
            "_view_module_version": "1.2.0",
            "_view_name": "LayoutView",
            "align_content": null,
            "align_items": null,
            "align_self": null,
            "border": null,
            "bottom": null,
            "display": null,
            "flex": null,
            "flex_flow": null,
            "grid_area": null,
            "grid_auto_columns": null,
            "grid_auto_flow": null,
            "grid_auto_rows": null,
            "grid_column": null,
            "grid_gap": null,
            "grid_row": null,
            "grid_template_areas": null,
            "grid_template_columns": null,
            "grid_template_rows": null,
            "height": null,
            "justify_content": null,
            "justify_items": null,
            "left": null,
            "margin": null,
            "max_height": null,
            "max_width": null,
            "min_height": null,
            "min_width": null,
            "object_fit": null,
            "object_position": null,
            "order": null,
            "overflow": null,
            "overflow_x": null,
            "overflow_y": null,
            "padding": null,
            "right": null,
            "top": null,
            "visibility": null,
            "width": null
          }
        },
        "a4f6edcee5d743cd948a937ad05e971c": {
          "model_module": "@jupyter-widgets/controls",
          "model_module_version": "1.5.0",
          "model_name": "DescriptionStyleModel",
          "state": {
            "_model_module": "@jupyter-widgets/controls",
            "_model_module_version": "1.5.0",
            "_model_name": "DescriptionStyleModel",
            "_view_count": null,
            "_view_module": "@jupyter-widgets/base",
            "_view_module_version": "1.2.0",
            "_view_name": "StyleView",
            "description_width": ""
          }
        },
        "a5521c5705374f63b3e9284640a0adf8": {
          "model_module": "@jupyter-widgets/base",
          "model_module_version": "1.2.0",
          "model_name": "LayoutModel",
          "state": {
            "_model_module": "@jupyter-widgets/base",
            "_model_module_version": "1.2.0",
            "_model_name": "LayoutModel",
            "_view_count": null,
            "_view_module": "@jupyter-widgets/base",
            "_view_module_version": "1.2.0",
            "_view_name": "LayoutView",
            "align_content": null,
            "align_items": null,
            "align_self": null,
            "border": null,
            "bottom": null,
            "display": null,
            "flex": null,
            "flex_flow": null,
            "grid_area": null,
            "grid_auto_columns": null,
            "grid_auto_flow": null,
            "grid_auto_rows": null,
            "grid_column": null,
            "grid_gap": null,
            "grid_row": null,
            "grid_template_areas": null,
            "grid_template_columns": null,
            "grid_template_rows": null,
            "height": null,
            "justify_content": null,
            "justify_items": null,
            "left": null,
            "margin": null,
            "max_height": null,
            "max_width": null,
            "min_height": null,
            "min_width": null,
            "object_fit": null,
            "object_position": null,
            "order": null,
            "overflow": null,
            "overflow_x": null,
            "overflow_y": null,
            "padding": null,
            "right": null,
            "top": null,
            "visibility": null,
            "width": null
          }
        },
        "a8e91c632cc34d4793ebf3224021aa9a": {
          "model_module": "@jupyter-widgets/controls",
          "model_module_version": "1.5.0",
          "model_name": "DescriptionStyleModel",
          "state": {
            "_model_module": "@jupyter-widgets/controls",
            "_model_module_version": "1.5.0",
            "_model_name": "DescriptionStyleModel",
            "_view_count": null,
            "_view_module": "@jupyter-widgets/base",
            "_view_module_version": "1.2.0",
            "_view_name": "StyleView",
            "description_width": ""
          }
        },
        "a8fda36b30dc4bb1a5f4aa7e9fb83421": {
          "model_module": "@jupyter-widgets/controls",
          "model_module_version": "1.5.0",
          "model_name": "FloatProgressModel",
          "state": {
            "_dom_classes": [],
            "_model_module": "@jupyter-widgets/controls",
            "_model_module_version": "1.5.0",
            "_model_name": "FloatProgressModel",
            "_view_count": null,
            "_view_module": "@jupyter-widgets/controls",
            "_view_module_version": "1.5.0",
            "_view_name": "ProgressView",
            "bar_style": "success",
            "description": "",
            "description_tooltip": null,
            "layout": "IPY_MODEL_4dba221386144f9a8c34ccdf45fcddf3",
            "max": 62,
            "min": 0,
            "orientation": "horizontal",
            "style": "IPY_MODEL_e3f825d2bd494b4b97bd5eb3958c386b",
            "value": 62
          }
        },
        "aa4a588f34e945c8a784cc70ce504927": {
          "model_module": "@jupyter-widgets/base",
          "model_module_version": "1.2.0",
          "model_name": "LayoutModel",
          "state": {
            "_model_module": "@jupyter-widgets/base",
            "_model_module_version": "1.2.0",
            "_model_name": "LayoutModel",
            "_view_count": null,
            "_view_module": "@jupyter-widgets/base",
            "_view_module_version": "1.2.0",
            "_view_name": "LayoutView",
            "align_content": null,
            "align_items": null,
            "align_self": null,
            "border": null,
            "bottom": null,
            "display": null,
            "flex": null,
            "flex_flow": null,
            "grid_area": null,
            "grid_auto_columns": null,
            "grid_auto_flow": null,
            "grid_auto_rows": null,
            "grid_column": null,
            "grid_gap": null,
            "grid_row": null,
            "grid_template_areas": null,
            "grid_template_columns": null,
            "grid_template_rows": null,
            "height": null,
            "justify_content": null,
            "justify_items": null,
            "left": null,
            "margin": null,
            "max_height": null,
            "max_width": null,
            "min_height": null,
            "min_width": null,
            "object_fit": null,
            "object_position": null,
            "order": null,
            "overflow": null,
            "overflow_x": null,
            "overflow_y": null,
            "padding": null,
            "right": null,
            "top": null,
            "visibility": null,
            "width": null
          }
        },
        "ac7a713e94014d07a3848f5c66d31a0c": {
          "model_module": "@jupyter-widgets/controls",
          "model_module_version": "1.5.0",
          "model_name": "FloatProgressModel",
          "state": {
            "_dom_classes": [],
            "_model_module": "@jupyter-widgets/controls",
            "_model_module_version": "1.5.0",
            "_model_name": "FloatProgressModel",
            "_view_count": null,
            "_view_module": "@jupyter-widgets/controls",
            "_view_module_version": "1.5.0",
            "_view_name": "ProgressView",
            "bar_style": "success",
            "description": "",
            "description_tooltip": null,
            "layout": "IPY_MODEL_6d1670df0b1b4d808795e553d432af9f",
            "max": 111944372,
            "min": 0,
            "orientation": "horizontal",
            "style": "IPY_MODEL_14840f4774224d7b9363ecc0f479346c",
            "value": 111944372
          }
        },
        "b3e94e80da7f418e98c1b8f8a596cae2": {
          "model_module": "@jupyter-widgets/base",
          "model_module_version": "1.2.0",
          "model_name": "LayoutModel",
          "state": {
            "_model_module": "@jupyter-widgets/base",
            "_model_module_version": "1.2.0",
            "_model_name": "LayoutModel",
            "_view_count": null,
            "_view_module": "@jupyter-widgets/base",
            "_view_module_version": "1.2.0",
            "_view_name": "LayoutView",
            "align_content": null,
            "align_items": null,
            "align_self": null,
            "border": null,
            "bottom": null,
            "display": null,
            "flex": null,
            "flex_flow": null,
            "grid_area": null,
            "grid_auto_columns": null,
            "grid_auto_flow": null,
            "grid_auto_rows": null,
            "grid_column": null,
            "grid_gap": null,
            "grid_row": null,
            "grid_template_areas": null,
            "grid_template_columns": null,
            "grid_template_rows": null,
            "height": null,
            "justify_content": null,
            "justify_items": null,
            "left": null,
            "margin": null,
            "max_height": null,
            "max_width": null,
            "min_height": null,
            "min_width": null,
            "object_fit": null,
            "object_position": null,
            "order": null,
            "overflow": null,
            "overflow_x": null,
            "overflow_y": null,
            "padding": null,
            "right": null,
            "top": null,
            "visibility": null,
            "width": null
          }
        },
        "be5444a7944145ab80fd077bc922833c": {
          "model_module": "@jupyter-widgets/controls",
          "model_module_version": "1.5.0",
          "model_name": "DescriptionStyleModel",
          "state": {
            "_model_module": "@jupyter-widgets/controls",
            "_model_module_version": "1.5.0",
            "_model_name": "DescriptionStyleModel",
            "_view_count": null,
            "_view_module": "@jupyter-widgets/base",
            "_view_module_version": "1.2.0",
            "_view_name": "StyleView",
            "description_width": ""
          }
        },
        "c1aa3102ebd74fc6ad2f04356a76b940": {
          "model_module": "@jupyter-widgets/controls",
          "model_module_version": "1.5.0",
          "model_name": "HBoxModel",
          "state": {
            "_dom_classes": [],
            "_model_module": "@jupyter-widgets/controls",
            "_model_module_version": "1.5.0",
            "_model_name": "HBoxModel",
            "_view_count": null,
            "_view_module": "@jupyter-widgets/controls",
            "_view_module_version": "1.5.0",
            "_view_name": "HBoxView",
            "box_style": "",
            "children": [
              "IPY_MODEL_c8f850272a0243d8828298efcb6cf765",
              "IPY_MODEL_3bbacc3305814b96ae18018103fb7764",
              "IPY_MODEL_23d328fd23fa4c919b7e7b1f2cb65f85"
            ],
            "layout": "IPY_MODEL_32d6a77f65c3424a8d963532fb17228b"
          }
        },
        "c73dd0427c824400b4d95f9053cbb57f": {
          "model_module": "@jupyter-widgets/base",
          "model_module_version": "1.2.0",
          "model_name": "LayoutModel",
          "state": {
            "_model_module": "@jupyter-widgets/base",
            "_model_module_version": "1.2.0",
            "_model_name": "LayoutModel",
            "_view_count": null,
            "_view_module": "@jupyter-widgets/base",
            "_view_module_version": "1.2.0",
            "_view_name": "LayoutView",
            "align_content": null,
            "align_items": null,
            "align_self": null,
            "border": null,
            "bottom": null,
            "display": null,
            "flex": null,
            "flex_flow": null,
            "grid_area": null,
            "grid_auto_columns": null,
            "grid_auto_flow": null,
            "grid_auto_rows": null,
            "grid_column": null,
            "grid_gap": null,
            "grid_row": null,
            "grid_template_areas": null,
            "grid_template_columns": null,
            "grid_template_rows": null,
            "height": null,
            "justify_content": null,
            "justify_items": null,
            "left": null,
            "margin": null,
            "max_height": null,
            "max_width": null,
            "min_height": null,
            "min_width": null,
            "object_fit": null,
            "object_position": null,
            "order": null,
            "overflow": null,
            "overflow_x": null,
            "overflow_y": null,
            "padding": null,
            "right": null,
            "top": null,
            "visibility": null,
            "width": null
          }
        },
        "c8f850272a0243d8828298efcb6cf765": {
          "model_module": "@jupyter-widgets/controls",
          "model_module_version": "1.5.0",
          "model_name": "HTMLModel",
          "state": {
            "_dom_classes": [],
            "_model_module": "@jupyter-widgets/controls",
            "_model_module_version": "1.5.0",
            "_model_name": "HTMLModel",
            "_view_count": null,
            "_view_module": "@jupyter-widgets/controls",
            "_view_module_version": "1.5.0",
            "_view_name": "HTMLView",
            "description": "",
            "description_tooltip": null,
            "layout": "IPY_MODEL_8d54db3efb3d46c2a188f55476360880",
            "placeholder": "​",
            "style": "IPY_MODEL_a8e91c632cc34d4793ebf3224021aa9a",
            "value": "special_tokens_map.json: 100%"
          }
        },
        "cd1a0c2bef16454e9330a06bfd3f6c68": {
          "model_module": "@jupyter-widgets/base",
          "model_module_version": "1.2.0",
          "model_name": "LayoutModel",
          "state": {
            "_model_module": "@jupyter-widgets/base",
            "_model_module_version": "1.2.0",
            "_model_name": "LayoutModel",
            "_view_count": null,
            "_view_module": "@jupyter-widgets/base",
            "_view_module_version": "1.2.0",
            "_view_name": "LayoutView",
            "align_content": null,
            "align_items": null,
            "align_self": null,
            "border": null,
            "bottom": null,
            "display": null,
            "flex": null,
            "flex_flow": null,
            "grid_area": null,
            "grid_auto_columns": null,
            "grid_auto_flow": null,
            "grid_auto_rows": null,
            "grid_column": null,
            "grid_gap": null,
            "grid_row": null,
            "grid_template_areas": null,
            "grid_template_columns": null,
            "grid_template_rows": null,
            "height": null,
            "justify_content": null,
            "justify_items": null,
            "left": null,
            "margin": null,
            "max_height": null,
            "max_width": null,
            "min_height": null,
            "min_width": null,
            "object_fit": null,
            "object_position": null,
            "order": null,
            "overflow": null,
            "overflow_x": null,
            "overflow_y": null,
            "padding": null,
            "right": null,
            "top": null,
            "visibility": null,
            "width": null
          }
        },
        "d1a80cfb6b544508a26f2e681fa40ff6": {
          "model_module": "@jupyter-widgets/controls",
          "model_module_version": "1.5.0",
          "model_name": "DescriptionStyleModel",
          "state": {
            "_model_module": "@jupyter-widgets/controls",
            "_model_module_version": "1.5.0",
            "_model_name": "DescriptionStyleModel",
            "_view_count": null,
            "_view_module": "@jupyter-widgets/base",
            "_view_module_version": "1.2.0",
            "_view_name": "StyleView",
            "description_width": ""
          }
        },
        "d78dffe1ddf848b6b8b4633e252d30cd": {
          "model_module": "@jupyter-widgets/base",
          "model_module_version": "1.2.0",
          "model_name": "LayoutModel",
          "state": {
            "_model_module": "@jupyter-widgets/base",
            "_model_module_version": "1.2.0",
            "_model_name": "LayoutModel",
            "_view_count": null,
            "_view_module": "@jupyter-widgets/base",
            "_view_module_version": "1.2.0",
            "_view_name": "LayoutView",
            "align_content": null,
            "align_items": null,
            "align_self": null,
            "border": null,
            "bottom": null,
            "display": null,
            "flex": null,
            "flex_flow": null,
            "grid_area": null,
            "grid_auto_columns": null,
            "grid_auto_flow": null,
            "grid_auto_rows": null,
            "grid_column": null,
            "grid_gap": null,
            "grid_row": null,
            "grid_template_areas": null,
            "grid_template_columns": null,
            "grid_template_rows": null,
            "height": null,
            "justify_content": null,
            "justify_items": null,
            "left": null,
            "margin": null,
            "max_height": null,
            "max_width": null,
            "min_height": null,
            "min_width": null,
            "object_fit": null,
            "object_position": null,
            "order": null,
            "overflow": null,
            "overflow_x": null,
            "overflow_y": null,
            "padding": null,
            "right": null,
            "top": null,
            "visibility": null,
            "width": null
          }
        },
        "d85cd572bbe74ca8ada2ae35bac42e88": {
          "model_module": "@jupyter-widgets/base",
          "model_module_version": "1.2.0",
          "model_name": "LayoutModel",
          "state": {
            "_model_module": "@jupyter-widgets/base",
            "_model_module_version": "1.2.0",
            "_model_name": "LayoutModel",
            "_view_count": null,
            "_view_module": "@jupyter-widgets/base",
            "_view_module_version": "1.2.0",
            "_view_name": "LayoutView",
            "align_content": null,
            "align_items": null,
            "align_self": null,
            "border": null,
            "bottom": null,
            "display": null,
            "flex": null,
            "flex_flow": null,
            "grid_area": null,
            "grid_auto_columns": null,
            "grid_auto_flow": null,
            "grid_auto_rows": null,
            "grid_column": null,
            "grid_gap": null,
            "grid_row": null,
            "grid_template_areas": null,
            "grid_template_columns": null,
            "grid_template_rows": null,
            "height": null,
            "justify_content": null,
            "justify_items": null,
            "left": null,
            "margin": null,
            "max_height": null,
            "max_width": null,
            "min_height": null,
            "min_width": null,
            "object_fit": null,
            "object_position": null,
            "order": null,
            "overflow": null,
            "overflow_x": null,
            "overflow_y": null,
            "padding": null,
            "right": null,
            "top": null,
            "visibility": null,
            "width": null
          }
        },
        "dc49312a214d4d4b88eb86b11202f19c": {
          "model_module": "@jupyter-widgets/base",
          "model_module_version": "1.2.0",
          "model_name": "LayoutModel",
          "state": {
            "_model_module": "@jupyter-widgets/base",
            "_model_module_version": "1.2.0",
            "_model_name": "LayoutModel",
            "_view_count": null,
            "_view_module": "@jupyter-widgets/base",
            "_view_module_version": "1.2.0",
            "_view_name": "LayoutView",
            "align_content": null,
            "align_items": null,
            "align_self": null,
            "border": null,
            "bottom": null,
            "display": null,
            "flex": null,
            "flex_flow": null,
            "grid_area": null,
            "grid_auto_columns": null,
            "grid_auto_flow": null,
            "grid_auto_rows": null,
            "grid_column": null,
            "grid_gap": null,
            "grid_row": null,
            "grid_template_areas": null,
            "grid_template_columns": null,
            "grid_template_rows": null,
            "height": null,
            "justify_content": null,
            "justify_items": null,
            "left": null,
            "margin": null,
            "max_height": null,
            "max_width": null,
            "min_height": null,
            "min_width": null,
            "object_fit": null,
            "object_position": null,
            "order": null,
            "overflow": null,
            "overflow_x": null,
            "overflow_y": null,
            "padding": null,
            "right": null,
            "top": null,
            "visibility": null,
            "width": null
          }
        },
        "e0e4d12de6cb49eb9ef078aecd30e510": {
          "model_module": "@jupyter-widgets/controls",
          "model_module_version": "1.5.0",
          "model_name": "HTMLModel",
          "state": {
            "_dom_classes": [],
            "_model_module": "@jupyter-widgets/controls",
            "_model_module_version": "1.5.0",
            "_model_name": "HTMLModel",
            "_view_count": null,
            "_view_module": "@jupyter-widgets/controls",
            "_view_module_version": "1.5.0",
            "_view_name": "HTMLView",
            "description": "",
            "description_tooltip": null,
            "layout": "IPY_MODEL_88af92aaa1364748ae2a67b6bb22a380",
            "placeholder": "​",
            "style": "IPY_MODEL_f2552d92327a4f7ab8f910b01c0b3570",
            "value": " 112247/112247 [00:00&lt;00:00, 571269.18it/s]"
          }
        },
        "e259de4b7295429797670b5b0704eb70": {
          "model_module": "@jupyter-widgets/controls",
          "model_module_version": "1.5.0",
          "model_name": "HTMLModel",
          "state": {
            "_dom_classes": [],
            "_model_module": "@jupyter-widgets/controls",
            "_model_module_version": "1.5.0",
            "_model_name": "HTMLModel",
            "_view_count": null,
            "_view_module": "@jupyter-widgets/controls",
            "_view_module_version": "1.5.0",
            "_view_name": "HTMLView",
            "description": "",
            "description_tooltip": null,
            "layout": "IPY_MODEL_4ea6d96a21cd43f89cb922648aa23006",
            "placeholder": "​",
            "style": "IPY_MODEL_be5444a7944145ab80fd077bc922833c",
            "value": " 62.0/62.0 [00:00&lt;00:00, 3.18kB/s]"
          }
        },
        "e3f825d2bd494b4b97bd5eb3958c386b": {
          "model_module": "@jupyter-widgets/controls",
          "model_module_version": "1.5.0",
          "model_name": "ProgressStyleModel",
          "state": {
            "_model_module": "@jupyter-widgets/controls",
            "_model_module_version": "1.5.0",
            "_model_name": "ProgressStyleModel",
            "_view_count": null,
            "_view_module": "@jupyter-widgets/base",
            "_view_module_version": "1.2.0",
            "_view_name": "StyleView",
            "bar_color": null,
            "description_width": ""
          }
        },
        "e4a9a371d8d2405d81737301583902c9": {
          "model_module": "@jupyter-widgets/controls",
          "model_module_version": "1.5.0",
          "model_name": "HBoxModel",
          "state": {
            "_dom_classes": [],
            "_model_module": "@jupyter-widgets/controls",
            "_model_module_version": "1.5.0",
            "_model_name": "HBoxModel",
            "_view_count": null,
            "_view_module": "@jupyter-widgets/controls",
            "_view_module_version": "1.5.0",
            "_view_name": "HBoxView",
            "box_style": "",
            "children": [
              "IPY_MODEL_4c1678c53408438e92fe801afe03fe17",
              "IPY_MODEL_ac7a713e94014d07a3848f5c66d31a0c",
              "IPY_MODEL_2cf52a8ad5354f128c1346bd560bb96f"
            ],
            "layout": "IPY_MODEL_102ac7570eaa4b4c8f24d06ad56a3224"
          }
        },
        "eeddf4c16a2a4faf9d623ae82c506ebb": {
          "model_module": "@jupyter-widgets/controls",
          "model_module_version": "1.5.0",
          "model_name": "DescriptionStyleModel",
          "state": {
            "_model_module": "@jupyter-widgets/controls",
            "_model_module_version": "1.5.0",
            "_model_name": "DescriptionStyleModel",
            "_view_count": null,
            "_view_module": "@jupyter-widgets/base",
            "_view_module_version": "1.2.0",
            "_view_name": "StyleView",
            "description_width": ""
          }
        },
        "f2552d92327a4f7ab8f910b01c0b3570": {
          "model_module": "@jupyter-widgets/controls",
          "model_module_version": "1.5.0",
          "model_name": "DescriptionStyleModel",
          "state": {
            "_model_module": "@jupyter-widgets/controls",
            "_model_module_version": "1.5.0",
            "_model_name": "DescriptionStyleModel",
            "_view_count": null,
            "_view_module": "@jupyter-widgets/base",
            "_view_module_version": "1.2.0",
            "_view_name": "StyleView",
            "description_width": ""
          }
        },
        "f3f8a69709e642349c14a831e58570ab": {
          "model_module": "@jupyter-widgets/controls",
          "model_module_version": "1.5.0",
          "model_name": "HTMLModel",
          "state": {
            "_dom_classes": [],
            "_model_module": "@jupyter-widgets/controls",
            "_model_module_version": "1.5.0",
            "_model_name": "HTMLModel",
            "_view_count": null,
            "_view_module": "@jupyter-widgets/controls",
            "_view_module_version": "1.5.0",
            "_view_name": "HTMLView",
            "description": "",
            "description_tooltip": null,
            "layout": "IPY_MODEL_7c0f2db619384a438444eb0e46aee072",
            "placeholder": "​",
            "style": "IPY_MODEL_4953e2ed03004ef5b3607231c40e26a7",
            "value": "vocab.txt: 100%"
          }
        },
        "fa7017595a8d4af38dabbcbdcad7b13d": {
          "model_module": "@jupyter-widgets/controls",
          "model_module_version": "1.5.0",
          "model_name": "HTMLModel",
          "state": {
            "_dom_classes": [],
            "_model_module": "@jupyter-widgets/controls",
            "_model_module_version": "1.5.0",
            "_model_name": "HTMLModel",
            "_view_count": null,
            "_view_module": "@jupyter-widgets/controls",
            "_view_module_version": "1.5.0",
            "_view_name": "HTMLView",
            "description": "",
            "description_tooltip": null,
            "layout": "IPY_MODEL_b3e94e80da7f418e98c1b8f8a596cae2",
            "placeholder": "​",
            "style": "IPY_MODEL_0e8fc5629af94995a51a12a054daa41f",
            "value": " 213k/213k [00:00&lt;00:00, 11.1MB/s]"
          }
        },
        "fba12b7d6b8c4f99acc1f6cbe7d8436b": {
          "model_module": "@jupyter-widgets/controls",
          "model_module_version": "1.5.0",
          "model_name": "DescriptionStyleModel",
          "state": {
            "_model_module": "@jupyter-widgets/controls",
            "_model_module_version": "1.5.0",
            "_model_name": "DescriptionStyleModel",
            "_view_count": null,
            "_view_module": "@jupyter-widgets/base",
            "_view_module_version": "1.2.0",
            "_view_name": "StyleView",
            "description_width": ""
          }
        }
      }
    }
  },
  "nbformat": 4,
  "nbformat_minor": 5
}
