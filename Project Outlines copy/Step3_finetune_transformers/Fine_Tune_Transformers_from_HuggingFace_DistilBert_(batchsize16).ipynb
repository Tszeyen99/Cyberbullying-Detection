{
  "cells": [
    {
      "cell_type": "markdown",
      "id": "a0aff953",
      "metadata": {
        "id": "a0aff953"
      },
      "source": [
        "# Fine Tune Transformer from HuggingFace DistilBert (batch16)"
      ]
    },
    {
      "cell_type": "code",
      "execution_count": 1,
      "id": "lspbB923kCc5",
      "metadata": {
        "colab": {
          "base_uri": "https://localhost:8080/"
        },
        "id": "lspbB923kCc5",
        "outputId": "09f3bb20-17b1-4577-d446-f6ddd07f6e18"
      },
      "outputs": [
        {
          "name": "stdout",
          "output_type": "stream",
          "text": [
            "Requirement already satisfied: transformers[torch] in /usr/local/lib/python3.10/dist-packages (4.41.0)\n",
            "Collecting transformers[torch]\n",
            "  Downloading transformers-4.41.1-py3-none-any.whl (9.1 MB)\n",
            "\u001b[2K     \u001b[90m━━━━━━━━━━━━━━━━━━━━━━━━━━━━━━━━━━━━━━━━\u001b[0m \u001b[32m9.1/9.1 MB\u001b[0m \u001b[31m28.8 MB/s\u001b[0m eta \u001b[36m0:00:00\u001b[0m\n",
            "\u001b[?25hRequirement already satisfied: filelock in /usr/local/lib/python3.10/dist-packages (from transformers[torch]) (3.14.0)\n",
            "Requirement already satisfied: huggingface-hub<1.0,>=0.23.0 in /usr/local/lib/python3.10/dist-packages (from transformers[torch]) (0.23.1)\n",
            "Requirement already satisfied: numpy>=1.17 in /usr/local/lib/python3.10/dist-packages (from transformers[torch]) (1.25.2)\n",
            "Requirement already satisfied: packaging>=20.0 in /usr/local/lib/python3.10/dist-packages (from transformers[torch]) (24.0)\n",
            "Requirement already satisfied: pyyaml>=5.1 in /usr/local/lib/python3.10/dist-packages (from transformers[torch]) (6.0.1)\n",
            "Requirement already satisfied: regex!=2019.12.17 in /usr/local/lib/python3.10/dist-packages (from transformers[torch]) (2023.12.25)\n",
            "Requirement already satisfied: requests in /usr/local/lib/python3.10/dist-packages (from transformers[torch]) (2.31.0)\n",
            "Requirement already satisfied: tokenizers<0.20,>=0.19 in /usr/local/lib/python3.10/dist-packages (from transformers[torch]) (0.19.1)\n",
            "Requirement already satisfied: safetensors>=0.4.1 in /usr/local/lib/python3.10/dist-packages (from transformers[torch]) (0.4.3)\n",
            "Requirement already satisfied: tqdm>=4.27 in /usr/local/lib/python3.10/dist-packages (from transformers[torch]) (4.66.4)\n",
            "Requirement already satisfied: torch in /usr/local/lib/python3.10/dist-packages (from transformers[torch]) (2.3.0+cu121)\n",
            "Collecting accelerate>=0.21.0 (from transformers[torch])\n",
            "  Downloading accelerate-0.30.1-py3-none-any.whl (302 kB)\n",
            "\u001b[2K     \u001b[90m━━━━━━━━━━━━━━━━━━━━━━━━━━━━━━━━━━━━━━━━\u001b[0m \u001b[32m302.6/302.6 kB\u001b[0m \u001b[31m35.0 MB/s\u001b[0m eta \u001b[36m0:00:00\u001b[0m\n",
            "\u001b[?25hRequirement already satisfied: psutil in /usr/local/lib/python3.10/dist-packages (from accelerate>=0.21.0->transformers[torch]) (5.9.5)\n",
            "Requirement already satisfied: fsspec>=2023.5.0 in /usr/local/lib/python3.10/dist-packages (from huggingface-hub<1.0,>=0.23.0->transformers[torch]) (2023.6.0)\n",
            "Requirement already satisfied: typing-extensions>=3.7.4.3 in /usr/local/lib/python3.10/dist-packages (from huggingface-hub<1.0,>=0.23.0->transformers[torch]) (4.11.0)\n",
            "Requirement already satisfied: sympy in /usr/local/lib/python3.10/dist-packages (from torch->transformers[torch]) (1.12)\n",
            "Requirement already satisfied: networkx in /usr/local/lib/python3.10/dist-packages (from torch->transformers[torch]) (3.3)\n",
            "Requirement already satisfied: jinja2 in /usr/local/lib/python3.10/dist-packages (from torch->transformers[torch]) (3.1.4)\n",
            "Collecting nvidia-cuda-nvrtc-cu12==12.1.105 (from torch->transformers[torch])\n",
            "  Using cached nvidia_cuda_nvrtc_cu12-12.1.105-py3-none-manylinux1_x86_64.whl (23.7 MB)\n",
            "Collecting nvidia-cuda-runtime-cu12==12.1.105 (from torch->transformers[torch])\n",
            "  Using cached nvidia_cuda_runtime_cu12-12.1.105-py3-none-manylinux1_x86_64.whl (823 kB)\n",
            "Collecting nvidia-cuda-cupti-cu12==12.1.105 (from torch->transformers[torch])\n",
            "  Using cached nvidia_cuda_cupti_cu12-12.1.105-py3-none-manylinux1_x86_64.whl (14.1 MB)\n",
            "Collecting nvidia-cudnn-cu12==8.9.2.26 (from torch->transformers[torch])\n",
            "  Using cached nvidia_cudnn_cu12-8.9.2.26-py3-none-manylinux1_x86_64.whl (731.7 MB)\n",
            "Collecting nvidia-cublas-cu12==12.1.3.1 (from torch->transformers[torch])\n",
            "  Using cached nvidia_cublas_cu12-12.1.3.1-py3-none-manylinux1_x86_64.whl (410.6 MB)\n",
            "Collecting nvidia-cufft-cu12==11.0.2.54 (from torch->transformers[torch])\n",
            "  Using cached nvidia_cufft_cu12-11.0.2.54-py3-none-manylinux1_x86_64.whl (121.6 MB)\n",
            "Collecting nvidia-curand-cu12==10.3.2.106 (from torch->transformers[torch])\n",
            "  Using cached nvidia_curand_cu12-10.3.2.106-py3-none-manylinux1_x86_64.whl (56.5 MB)\n",
            "Collecting nvidia-cusolver-cu12==11.4.5.107 (from torch->transformers[torch])\n",
            "  Using cached nvidia_cusolver_cu12-11.4.5.107-py3-none-manylinux1_x86_64.whl (124.2 MB)\n",
            "Collecting nvidia-cusparse-cu12==12.1.0.106 (from torch->transformers[torch])\n",
            "  Using cached nvidia_cusparse_cu12-12.1.0.106-py3-none-manylinux1_x86_64.whl (196.0 MB)\n",
            "Collecting nvidia-nccl-cu12==2.20.5 (from torch->transformers[torch])\n",
            "  Using cached nvidia_nccl_cu12-2.20.5-py3-none-manylinux2014_x86_64.whl (176.2 MB)\n",
            "Collecting nvidia-nvtx-cu12==12.1.105 (from torch->transformers[torch])\n",
            "  Using cached nvidia_nvtx_cu12-12.1.105-py3-none-manylinux1_x86_64.whl (99 kB)\n",
            "Requirement already satisfied: triton==2.3.0 in /usr/local/lib/python3.10/dist-packages (from torch->transformers[torch]) (2.3.0)\n",
            "Collecting nvidia-nvjitlink-cu12 (from nvidia-cusolver-cu12==11.4.5.107->torch->transformers[torch])\n",
            "  Downloading nvidia_nvjitlink_cu12-12.5.40-py3-none-manylinux2014_x86_64.whl (21.3 MB)\n",
            "\u001b[2K     \u001b[90m━━━━━━━━━━━━━━━━━━━━━━━━━━━━━━━━━━━━━━━━\u001b[0m \u001b[32m21.3/21.3 MB\u001b[0m \u001b[31m53.7 MB/s\u001b[0m eta \u001b[36m0:00:00\u001b[0m\n",
            "\u001b[?25hRequirement already satisfied: charset-normalizer<4,>=2 in /usr/local/lib/python3.10/dist-packages (from requests->transformers[torch]) (3.3.2)\n",
            "Requirement already satisfied: idna<4,>=2.5 in /usr/local/lib/python3.10/dist-packages (from requests->transformers[torch]) (3.7)\n",
            "Requirement already satisfied: urllib3<3,>=1.21.1 in /usr/local/lib/python3.10/dist-packages (from requests->transformers[torch]) (2.0.7)\n",
            "Requirement already satisfied: certifi>=2017.4.17 in /usr/local/lib/python3.10/dist-packages (from requests->transformers[torch]) (2024.2.2)\n",
            "Requirement already satisfied: MarkupSafe>=2.0 in /usr/local/lib/python3.10/dist-packages (from jinja2->torch->transformers[torch]) (2.1.5)\n",
            "Requirement already satisfied: mpmath>=0.19 in /usr/local/lib/python3.10/dist-packages (from sympy->torch->transformers[torch]) (1.3.0)\n",
            "Installing collected packages: nvidia-nvtx-cu12, nvidia-nvjitlink-cu12, nvidia-nccl-cu12, nvidia-curand-cu12, nvidia-cufft-cu12, nvidia-cuda-runtime-cu12, nvidia-cuda-nvrtc-cu12, nvidia-cuda-cupti-cu12, nvidia-cublas-cu12, nvidia-cusparse-cu12, nvidia-cudnn-cu12, nvidia-cusolver-cu12, transformers, accelerate\n",
            "  Attempting uninstall: transformers\n",
            "    Found existing installation: transformers 4.41.0\n",
            "    Uninstalling transformers-4.41.0:\n",
            "      Successfully uninstalled transformers-4.41.0\n",
            "Successfully installed accelerate-0.30.1 nvidia-cublas-cu12-12.1.3.1 nvidia-cuda-cupti-cu12-12.1.105 nvidia-cuda-nvrtc-cu12-12.1.105 nvidia-cuda-runtime-cu12-12.1.105 nvidia-cudnn-cu12-8.9.2.26 nvidia-cufft-cu12-11.0.2.54 nvidia-curand-cu12-10.3.2.106 nvidia-cusolver-cu12-11.4.5.107 nvidia-cusparse-cu12-12.1.0.106 nvidia-nccl-cu12-2.20.5 nvidia-nvjitlink-cu12-12.5.40 nvidia-nvtx-cu12-12.1.105 transformers-4.41.1\n"
          ]
        }
      ],
      "source": [
        "pip install transformers[torch] -U"
      ]
    },
    {
      "cell_type": "code",
      "execution_count": 2,
      "id": "OItEYDmL1hi2",
      "metadata": {
        "colab": {
          "base_uri": "https://localhost:8080/"
        },
        "execution": {
          "iopub.execute_input": "2023-08-23T04:53:13.859409Z",
          "iopub.status.busy": "2023-08-23T04:53:13.858815Z",
          "iopub.status.idle": "2023-08-23T04:53:25.957475Z",
          "shell.execute_reply": "2023-08-23T04:53:25.956828Z",
          "shell.execute_reply.started": "2023-08-23T04:53:13.859386Z"
        },
        "id": "OItEYDmL1hi2",
        "outputId": "4957fd7d-e490-408f-9171-4a89667c2d4f"
      },
      "outputs": [
        {
          "name": "stdout",
          "output_type": "stream",
          "text": [
            "Requirement already satisfied: torch in /usr/local/lib/python3.10/dist-packages (2.3.0+cu121)\n",
            "Requirement already satisfied: filelock in /usr/local/lib/python3.10/dist-packages (from torch) (3.14.0)\n",
            "Requirement already satisfied: typing-extensions>=4.8.0 in /usr/local/lib/python3.10/dist-packages (from torch) (4.11.0)\n",
            "Requirement already satisfied: sympy in /usr/local/lib/python3.10/dist-packages (from torch) (1.12)\n",
            "Requirement already satisfied: networkx in /usr/local/lib/python3.10/dist-packages (from torch) (3.3)\n",
            "Requirement already satisfied: jinja2 in /usr/local/lib/python3.10/dist-packages (from torch) (3.1.4)\n",
            "Requirement already satisfied: fsspec in /usr/local/lib/python3.10/dist-packages (from torch) (2023.6.0)\n",
            "Requirement already satisfied: nvidia-cuda-nvrtc-cu12==12.1.105 in /usr/local/lib/python3.10/dist-packages (from torch) (12.1.105)\n",
            "Requirement already satisfied: nvidia-cuda-runtime-cu12==12.1.105 in /usr/local/lib/python3.10/dist-packages (from torch) (12.1.105)\n",
            "Requirement already satisfied: nvidia-cuda-cupti-cu12==12.1.105 in /usr/local/lib/python3.10/dist-packages (from torch) (12.1.105)\n",
            "Requirement already satisfied: nvidia-cudnn-cu12==8.9.2.26 in /usr/local/lib/python3.10/dist-packages (from torch) (8.9.2.26)\n",
            "Requirement already satisfied: nvidia-cublas-cu12==12.1.3.1 in /usr/local/lib/python3.10/dist-packages (from torch) (12.1.3.1)\n",
            "Requirement already satisfied: nvidia-cufft-cu12==11.0.2.54 in /usr/local/lib/python3.10/dist-packages (from torch) (11.0.2.54)\n",
            "Requirement already satisfied: nvidia-curand-cu12==10.3.2.106 in /usr/local/lib/python3.10/dist-packages (from torch) (10.3.2.106)\n",
            "Requirement already satisfied: nvidia-cusolver-cu12==11.4.5.107 in /usr/local/lib/python3.10/dist-packages (from torch) (11.4.5.107)\n",
            "Requirement already satisfied: nvidia-cusparse-cu12==12.1.0.106 in /usr/local/lib/python3.10/dist-packages (from torch) (12.1.0.106)\n",
            "Requirement already satisfied: nvidia-nccl-cu12==2.20.5 in /usr/local/lib/python3.10/dist-packages (from torch) (2.20.5)\n",
            "Requirement already satisfied: nvidia-nvtx-cu12==12.1.105 in /usr/local/lib/python3.10/dist-packages (from torch) (12.1.105)\n",
            "Requirement already satisfied: triton==2.3.0 in /usr/local/lib/python3.10/dist-packages (from torch) (2.3.0)\n",
            "Requirement already satisfied: nvidia-nvjitlink-cu12 in /usr/local/lib/python3.10/dist-packages (from nvidia-cusolver-cu12==11.4.5.107->torch) (12.5.40)\n",
            "Requirement already satisfied: MarkupSafe>=2.0 in /usr/local/lib/python3.10/dist-packages (from jinja2->torch) (2.1.5)\n",
            "Requirement already satisfied: mpmath>=0.19 in /usr/local/lib/python3.10/dist-packages (from sympy->torch) (1.3.0)\n",
            "Collecting imblearn\n",
            "  Downloading imblearn-0.0-py2.py3-none-any.whl (1.9 kB)\n",
            "Requirement already satisfied: imbalanced-learn in /usr/local/lib/python3.10/dist-packages (from imblearn) (0.10.1)\n",
            "Requirement already satisfied: numpy>=1.17.3 in /usr/local/lib/python3.10/dist-packages (from imbalanced-learn->imblearn) (1.25.2)\n",
            "Requirement already satisfied: scipy>=1.3.2 in /usr/local/lib/python3.10/dist-packages (from imbalanced-learn->imblearn) (1.11.4)\n",
            "Requirement already satisfied: scikit-learn>=1.0.2 in /usr/local/lib/python3.10/dist-packages (from imbalanced-learn->imblearn) (1.2.2)\n",
            "Requirement already satisfied: joblib>=1.1.1 in /usr/local/lib/python3.10/dist-packages (from imbalanced-learn->imblearn) (1.4.2)\n",
            "Requirement already satisfied: threadpoolctl>=2.0.0 in /usr/local/lib/python3.10/dist-packages (from imbalanced-learn->imblearn) (3.5.0)\n",
            "Installing collected packages: imblearn\n",
            "Successfully installed imblearn-0.0\n",
            "Collecting wandb\n",
            "  Downloading wandb-0.17.0-py3-none-manylinux_2_5_x86_64.manylinux1_x86_64.manylinux_2_17_x86_64.manylinux2014_x86_64.whl (6.7 MB)\n",
            "\u001b[2K     \u001b[90m━━━━━━━━━━━━━━━━━━━━━━━━━━━━━━━━━━━━━━━━\u001b[0m \u001b[32m6.7/6.7 MB\u001b[0m \u001b[31m22.1 MB/s\u001b[0m eta \u001b[36m0:00:00\u001b[0m\n",
            "\u001b[?25hRequirement already satisfied: click!=8.0.0,>=7.1 in /usr/local/lib/python3.10/dist-packages (from wandb) (8.1.7)\n",
            "Collecting docker-pycreds>=0.4.0 (from wandb)\n",
            "  Downloading docker_pycreds-0.4.0-py2.py3-none-any.whl (9.0 kB)\n",
            "Collecting gitpython!=3.1.29,>=1.0.0 (from wandb)\n",
            "  Downloading GitPython-3.1.43-py3-none-any.whl (207 kB)\n",
            "\u001b[2K     \u001b[90m━━━━━━━━━━━━━━━━━━━━━━━━━━━━━━━━━━━━━━━━\u001b[0m \u001b[32m207.3/207.3 kB\u001b[0m \u001b[31m26.0 MB/s\u001b[0m eta \u001b[36m0:00:00\u001b[0m\n",
            "\u001b[?25hRequirement already satisfied: platformdirs in /usr/local/lib/python3.10/dist-packages (from wandb) (4.2.2)\n",
            "Requirement already satisfied: protobuf!=4.21.0,<5,>=3.19.0 in /usr/local/lib/python3.10/dist-packages (from wandb) (3.20.3)\n",
            "Requirement already satisfied: psutil>=5.0.0 in /usr/local/lib/python3.10/dist-packages (from wandb) (5.9.5)\n",
            "Requirement already satisfied: pyyaml in /usr/local/lib/python3.10/dist-packages (from wandb) (6.0.1)\n",
            "Requirement already satisfied: requests<3,>=2.0.0 in /usr/local/lib/python3.10/dist-packages (from wandb) (2.31.0)\n",
            "Collecting sentry-sdk>=1.0.0 (from wandb)\n",
            "  Downloading sentry_sdk-2.3.1-py2.py3-none-any.whl (289 kB)\n",
            "\u001b[2K     \u001b[90m━━━━━━━━━━━━━━━━━━━━━━━━━━━━━━━━━━━━━━━━\u001b[0m \u001b[32m289.0/289.0 kB\u001b[0m \u001b[31m33.4 MB/s\u001b[0m eta \u001b[36m0:00:00\u001b[0m\n",
            "\u001b[?25hCollecting setproctitle (from wandb)\n",
            "  Downloading setproctitle-1.3.3-cp310-cp310-manylinux_2_5_x86_64.manylinux1_x86_64.manylinux_2_17_x86_64.manylinux2014_x86_64.whl (30 kB)\n",
            "Requirement already satisfied: setuptools in /usr/local/lib/python3.10/dist-packages (from wandb) (67.7.2)\n",
            "Requirement already satisfied: six>=1.4.0 in /usr/local/lib/python3.10/dist-packages (from docker-pycreds>=0.4.0->wandb) (1.16.0)\n",
            "Collecting gitdb<5,>=4.0.1 (from gitpython!=3.1.29,>=1.0.0->wandb)\n",
            "  Downloading gitdb-4.0.11-py3-none-any.whl (62 kB)\n",
            "\u001b[2K     \u001b[90m━━━━━━━━━━━━━━━━━━━━━━━━━━━━━━━━━━━━━━━━\u001b[0m \u001b[32m62.7/62.7 kB\u001b[0m \u001b[31m9.0 MB/s\u001b[0m eta \u001b[36m0:00:00\u001b[0m\n",
            "\u001b[?25hRequirement already satisfied: charset-normalizer<4,>=2 in /usr/local/lib/python3.10/dist-packages (from requests<3,>=2.0.0->wandb) (3.3.2)\n",
            "Requirement already satisfied: idna<4,>=2.5 in /usr/local/lib/python3.10/dist-packages (from requests<3,>=2.0.0->wandb) (3.7)\n",
            "Requirement already satisfied: urllib3<3,>=1.21.1 in /usr/local/lib/python3.10/dist-packages (from requests<3,>=2.0.0->wandb) (2.0.7)\n",
            "Requirement already satisfied: certifi>=2017.4.17 in /usr/local/lib/python3.10/dist-packages (from requests<3,>=2.0.0->wandb) (2024.2.2)\n",
            "Collecting smmap<6,>=3.0.1 (from gitdb<5,>=4.0.1->gitpython!=3.1.29,>=1.0.0->wandb)\n",
            "  Downloading smmap-5.0.1-py3-none-any.whl (24 kB)\n",
            "Installing collected packages: smmap, setproctitle, sentry-sdk, docker-pycreds, gitdb, gitpython, wandb\n",
            "Successfully installed docker-pycreds-0.4.0 gitdb-4.0.11 gitpython-3.1.43 sentry-sdk-2.3.1 setproctitle-1.3.3 smmap-5.0.1 wandb-0.17.0\n"
          ]
        }
      ],
      "source": [
        "# %pip install transformers\n",
        "%pip install torch\n",
        "%pip install imblearn\n",
        "%pip install wandb --upgrade\n"
      ]
    },
    {
      "cell_type": "code",
      "execution_count": 3,
      "id": "6NQ1O-nyi2Zv",
      "metadata": {
        "colab": {
          "base_uri": "https://localhost:8080/"
        },
        "id": "6NQ1O-nyi2Zv",
        "outputId": "a5db8a78-7e7c-488c-ded5-9dd0a0e1cc10"
      },
      "outputs": [
        {
          "name": "stdout",
          "output_type": "stream",
          "text": [
            "Mounted at /content/drive\n"
          ]
        }
      ],
      "source": [
        "from google.colab import drive\n",
        "drive.mount('/content/drive')"
      ]
    },
    {
      "cell_type": "code",
      "execution_count": 4,
      "id": "02505ed3",
      "metadata": {
        "colab": {
          "base_uri": "https://localhost:8080/"
        },
        "execution": {
          "iopub.execute_input": "2023-08-23T04:53:25.959174Z",
          "iopub.status.busy": "2023-08-23T04:53:25.958686Z",
          "iopub.status.idle": "2023-08-23T04:53:29.864916Z",
          "shell.execute_reply": "2023-08-23T04:53:29.864349Z",
          "shell.execute_reply.started": "2023-08-23T04:53:25.959137Z"
        },
        "id": "02505ed3",
        "outputId": "1e0049ed-51a5-4745-c4b2-09d3e3abf437"
      },
      "outputs": [
        {
          "name": "stderr",
          "output_type": "stream",
          "text": [
            "<ipython-input-4-5c70c929f42e>:14: TqdmDeprecationWarning: This function will be removed in tqdm==5.0.0\n",
            "Please use `tqdm.notebook.*` instead of `tqdm._tqdm_notebook.*`\n",
            "  from tqdm._tqdm_notebook import tqdm_notebook\n"
          ]
        }
      ],
      "source": [
        "import numpy as np\n",
        "import pandas as pd\n",
        "\n",
        "from sklearn.model_selection import train_test_split, StratifiedKFold, StratifiedShuffleSplit\n",
        "from sklearn.metrics import accuracy_score, recall_score, precision_score, f1_score, roc_auc_score, classification_report\n",
        "\n",
        "import torch\n",
        "from transformers import AutoTokenizer, AutoModelForSequenceClassification\n",
        "from transformers import TrainingArguments, Trainer\n",
        "from transformers import BertTokenizer, BertForSequenceClassification\n",
        "from transformers import EarlyStoppingCallback, set_seed\n",
        "\n",
        "# Progress bar\n",
        "from tqdm._tqdm_notebook import tqdm_notebook\n",
        "from tqdm import tqdm\n",
        "tqdm_notebook.pandas()"
      ]
    },
    {
      "cell_type": "markdown",
      "id": "5a8c1621",
      "metadata": {
        "id": "5a8c1621"
      },
      "source": [
        "## Import Clean Data"
      ]
    },
    {
      "cell_type": "code",
      "execution_count": 5,
      "id": "c58048aa",
      "metadata": {
        "colab": {
          "base_uri": "https://localhost:8080/",
          "height": 49,
          "referenced_widgets": [
            "cd2af09c079c43b3b405609ac78a5095",
            "3ea764c522b74512bf284fb8c32d2d10",
            "efaf75da9b334a678f17ae9c2ed9ade9",
            "bdd9ba7e536b4ce480235c9fa9e5ff69",
            "bc7215cb7dbc476a8595766c9f7e07b2",
            "5afa397c4d104d9c9de95973f4621ea2",
            "c6362860ff73452ea33a5f095298723e",
            "93d8ac8fbe2e486b98fe2de765b05fd4",
            "c98e23c2f74f4a88ba4611ada69fd2cf",
            "2da9b18c812c4b318a9419ac633871bb",
            "e0542c8ed7e648d98b0a3acb37a0213b"
          ]
        },
        "execution": {
          "iopub.execute_input": "2023-08-23T04:53:29.865991Z",
          "iopub.status.busy": "2023-08-23T04:53:29.865636Z",
          "iopub.status.idle": "2023-08-23T04:53:30.271020Z",
          "shell.execute_reply": "2023-08-23T04:53:30.270357Z",
          "shell.execute_reply.started": "2023-08-23T04:53:29.865973Z"
        },
        "id": "c58048aa",
        "outputId": "4f9cf2f5-ad5e-4d9e-99db-3d8b420b29b8"
      },
      "outputs": [
        {
          "data": {
            "application/vnd.jupyter.widget-view+json": {
              "model_id": "cd2af09c079c43b3b405609ac78a5095",
              "version_major": 2,
              "version_minor": 0
            },
            "text/plain": [
              "  0%|          | 0/112247 [00:00<?, ?it/s]"
            ]
          },
          "metadata": {},
          "output_type": "display_data"
        }
      ],
      "source": [
        "###############################################################\n",
        "# Note: Change the name of data set used for feature creation\n",
        "###############################################################\n",
        "data_set='bully_data_clean_with_stopword'\n",
        "\n",
        "\n",
        "###################\n",
        "# Import Data Set #\n",
        "###################\n",
        "bully_data_cleaned = pd.read_csv('/content/drive/MyDrive/fyp/amica_data_clean_with_stopword_short.csv', encoding='utf8')\n",
        "bully_data_cleaned = bully_data_cleaned[~bully_data_cleaned['text_check'].isna()]\n",
        "bully_data_cleaned = bully_data_cleaned[bully_data_cleaned['text_check'] != \"\"]\n",
        "#bully_data_cleaned = bully_data_cleaned[bully_data_cleaned['role']!='None']\n",
        "bully_data_cleaned = bully_data_cleaned[['label','text_check']]\n",
        "bully_data_cleaned['label'] = bully_data_cleaned['label'].progress_apply(lambda x: 1 if x ==\"Cyberbullying\" else 0)\n",
        "bully_data_cleaned.rename(columns = {'text_check':'text'}, inplace = True)\n",
        "bully_data_cleaned = bully_data_cleaned.reset_index(drop=True)"
      ]
    },
    {
      "cell_type": "code",
      "execution_count": 6,
      "id": "f1ad3546",
      "metadata": {
        "colab": {
          "base_uri": "https://localhost:8080/"
        },
        "execution": {
          "iopub.execute_input": "2023-08-23T04:53:30.272539Z",
          "iopub.status.busy": "2023-08-23T04:53:30.272352Z",
          "iopub.status.idle": "2023-08-23T04:53:30.294272Z",
          "shell.execute_reply": "2023-08-23T04:53:30.293624Z",
          "shell.execute_reply.started": "2023-08-23T04:53:30.272523Z"
        },
        "id": "f1ad3546",
        "outputId": "4cac26ec-a37a-4fd9-fd7d-59b5df102168",
        "scrolled": true
      },
      "outputs": [
        {
          "name": "stdout",
          "output_type": "stream",
          "text": [
            "<class 'pandas.core.frame.DataFrame'>\n",
            "RangeIndex: 112247 entries, 0 to 112246\n",
            "Data columns (total 2 columns):\n",
            " #   Column  Non-Null Count   Dtype \n",
            "---  ------  --------------   ----- \n",
            " 0   label   112247 non-null  int64 \n",
            " 1   text    112247 non-null  object\n",
            "dtypes: int64(1), object(1)\n",
            "memory usage: 1.7+ MB\n"
          ]
        }
      ],
      "source": [
        "bully_data_cleaned.info()"
      ]
    },
    {
      "cell_type": "code",
      "execution_count": 7,
      "id": "y2TxGLSm81wJ",
      "metadata": {
        "colab": {
          "base_uri": "https://localhost:8080/"
        },
        "execution": {
          "iopub.execute_input": "2023-08-22T18:23:25.555382Z",
          "iopub.status.busy": "2023-08-22T18:23:25.554992Z",
          "iopub.status.idle": "2023-08-22T18:23:25.561868Z",
          "shell.execute_reply": "2023-08-22T18:23:25.561230Z",
          "shell.execute_reply.started": "2023-08-22T18:23:25.555350Z"
        },
        "id": "y2TxGLSm81wJ",
        "outputId": "33e35b78-de54-449d-e043-c25f1c847ce0"
      },
      "outputs": [
        {
          "data": {
            "text/plain": [
              "label\n",
              "0    106872\n",
              "1      5375\n",
              "Name: count, dtype: int64"
            ]
          },
          "execution_count": 7,
          "metadata": {},
          "output_type": "execute_result"
        }
      ],
      "source": [
        "bully_data_cleaned['label'].value_counts()"
      ]
    },
    {
      "cell_type": "markdown",
      "id": "61d6da90",
      "metadata": {
        "id": "61d6da90"
      },
      "source": [
        "## Define pretrained tokenizer and model"
      ]
    },
    {
      "cell_type": "code",
      "execution_count": 6,
      "id": "b09bcba2",
      "metadata": {
        "colab": {
          "base_uri": "https://localhost:8080/",
          "height": 370,
          "referenced_widgets": [
            "a0ee4e8d172e4ba5ba7d9f88f5b3fb42",
            "36fb1c571c964e24ad7816708c9e13e3",
            "fb54fac4b528484999e9e907314b2e1f",
            "cf021bf1dec14730929838c21e41b1ae",
            "f83c1763a6a24bfb9697f5d805b39f4a",
            "c92fe10201554806a3f7fa431b94d300",
            "83cfb8aef6fe4f7eb486f8f63db4878c",
            "ecb54fd2bbde48289c45c4c652260c08",
            "b08c88b33fc1421e96c3755719a8f046",
            "fb6c1601216d4db8a0fbb604af11a066",
            "beb7d09fb5d6429a9b0d1b452dd9dbaf",
            "cead0795bd16455fa22835142632403a",
            "680e6537d8e54baba56f5d1a2e120d21",
            "2d8e865ff2ae460195c3b4a6545c7ce3",
            "df2092c62cf34469b9ba2e710a15c3ec",
            "0fb4e41b234c46ef811d3dca4b53246f",
            "31a6eefbbd914afd83fa2d2c2e0554fe",
            "d2947ab2947a4bf29362290094551b4e",
            "c1afd1f30f9643878b41c4acf31cc11b",
            "0cf22338432a41b5a4fcbde46c4db3b9",
            "7455f70c9c61440ea212720dbafd4182",
            "d1a693d45df540b48c5ffcd6e6c2023a",
            "e848b11d838b428a8aa54035dad9ac8b",
            "e75ad252e4e042768ed94ee1f6838913",
            "31ba77a40c8445c8b29ec65d81b1122a",
            "e808fa6600c54b289354f7ed84d4e819",
            "1b9376214ffc4541a26d60340fe78e44",
            "843f06a51bdb4057ab27df5406a0d11a",
            "701cd273c6fe44a69f864f7512cedd57",
            "7cfacda8f99a471e85f0eaa59da7b737",
            "e1c806fd833c498fabe64d02497026c1",
            "202a0a5c983d4d9988642c5c3251d9bf",
            "870ad38e484a4857afe11411cf596c72",
            "5e9aff5b858a448cadde2ed5fd22a3ad",
            "405ae759a91448b9b3b6fc5d823a5075",
            "dd636a7ca97e4285a38a4de8bdf1782d",
            "24d85141e5f0446c934e15a7a1ac4f41",
            "e5c62a4174c94fd28b59d1f9a2392cbd",
            "32d7ff39ccc64ea1b91083988bf112ec",
            "cd5bf49bfe354598846b50c3c62b7e48",
            "821fcf39d6fd47fd840a751cd4119482",
            "4cf1d9a40e694811adf3b89084e78a9a",
            "015048b846f5488a957a80a113d0f545",
            "bc7484562c41433ea285fbdd549f37a0",
            "8bf9b8f9c5da4618912fe071c6b7da24",
            "491f463492704de0b13071871d463b10",
            "d777a501a8cc49b1b0d4c2e16d5e6333",
            "6acbd8e84b024f2993e868f3b842df0d",
            "f157a2b4a5e947b2b77a5c6e3c719888",
            "ab5488f705e342fb8b2b5b8b7fab4cf7",
            "f609c50f65dd4903bfe97dea5680b1ec",
            "b538ba1f05da47e096aed35199aacce5",
            "130c6394da5c44e0b2cea314c9f234d5",
            "68bf7f63b927495c9ddd487e13ec3c4a",
            "02c9657861544d0baf009b6fea04777b"
          ]
        },
        "execution": {
          "iopub.execute_input": "2023-08-23T04:53:30.295746Z",
          "iopub.status.busy": "2023-08-23T04:53:30.295472Z",
          "iopub.status.idle": "2023-08-23T04:53:34.191351Z",
          "shell.execute_reply": "2023-08-23T04:53:34.190913Z",
          "shell.execute_reply.started": "2023-08-23T04:53:30.295724Z"
        },
        "id": "b09bcba2",
        "outputId": "d21382bb-7f07-45b1-b698-cfa94dfc1b56"
      },
      "outputs": [
        {
          "name": "stderr",
          "output_type": "stream",
          "text": [
            "/usr/local/lib/python3.10/dist-packages/huggingface_hub/utils/_token.py:89: UserWarning: \n",
            "The secret `HF_TOKEN` does not exist in your Colab secrets.\n",
            "To authenticate with the Hugging Face Hub, create a token in your settings tab (https://huggingface.co/settings/tokens), set it as secret in your Google Colab and restart your session.\n",
            "You will be able to reuse this secret in all of your notebooks.\n",
            "Please note that authentication is recommended but still optional to access public models or datasets.\n",
            "  warnings.warn(\n"
          ]
        },
        {
          "data": {
            "application/vnd.jupyter.widget-view+json": {
              "model_id": "a0ee4e8d172e4ba5ba7d9f88f5b3fb42",
              "version_major": 2,
              "version_minor": 0
            },
            "text/plain": [
              "tokenizer_config.json:   0%|          | 0.00/48.0 [00:00<?, ?B/s]"
            ]
          },
          "metadata": {},
          "output_type": "display_data"
        },
        {
          "name": "stderr",
          "output_type": "stream",
          "text": [
            "/usr/local/lib/python3.10/dist-packages/huggingface_hub/file_download.py:1132: FutureWarning: `resume_download` is deprecated and will be removed in version 1.0.0. Downloads always resume when possible. If you want to force a new download, use `force_download=True`.\n",
            "  warnings.warn(\n"
          ]
        },
        {
          "data": {
            "application/vnd.jupyter.widget-view+json": {
              "model_id": "cead0795bd16455fa22835142632403a",
              "version_major": 2,
              "version_minor": 0
            },
            "text/plain": [
              "config.json:   0%|          | 0.00/483 [00:00<?, ?B/s]"
            ]
          },
          "metadata": {},
          "output_type": "display_data"
        },
        {
          "data": {
            "application/vnd.jupyter.widget-view+json": {
              "model_id": "e848b11d838b428a8aa54035dad9ac8b",
              "version_major": 2,
              "version_minor": 0
            },
            "text/plain": [
              "vocab.txt:   0%|          | 0.00/232k [00:00<?, ?B/s]"
            ]
          },
          "metadata": {},
          "output_type": "display_data"
        },
        {
          "data": {
            "application/vnd.jupyter.widget-view+json": {
              "model_id": "5e9aff5b858a448cadde2ed5fd22a3ad",
              "version_major": 2,
              "version_minor": 0
            },
            "text/plain": [
              "tokenizer.json:   0%|          | 0.00/466k [00:00<?, ?B/s]"
            ]
          },
          "metadata": {},
          "output_type": "display_data"
        },
        {
          "data": {
            "application/vnd.jupyter.widget-view+json": {
              "model_id": "8bf9b8f9c5da4618912fe071c6b7da24",
              "version_major": 2,
              "version_minor": 0
            },
            "text/plain": [
              "model.safetensors:   0%|          | 0.00/268M [00:00<?, ?B/s]"
            ]
          },
          "metadata": {},
          "output_type": "display_data"
        },
        {
          "name": "stderr",
          "output_type": "stream",
          "text": [
            "Some weights of DistilBertForSequenceClassification were not initialized from the model checkpoint at distilbert-base-uncased and are newly initialized: ['classifier.bias', 'classifier.weight', 'pre_classifier.bias', 'pre_classifier.weight']\n",
            "You should probably TRAIN this model on a down-stream task to be able to use it for predictions and inference.\n"
          ]
        }
      ],
      "source": [
        "from transformers import AutoTokenizer, AutoModelForSequenceClassification\n",
        "\n",
        "\n",
        "model_name = \"distilbert-base-uncased\"\n",
        "tokenizer = AutoTokenizer.from_pretrained(model_name)\n",
        "set_seed(1127)\n",
        "model = AutoModelForSequenceClassification.from_pretrained(model_name, num_labels=2)\n",
        "\n"
      ]
    },
    {
      "cell_type": "markdown",
      "id": "fe8c063e",
      "metadata": {
        "id": "fe8c063e"
      },
      "source": [
        "## Preprocess data and Fine Tune Transformers"
      ]
    },
    {
      "cell_type": "code",
      "execution_count": 7,
      "id": "b5e716fb",
      "metadata": {
        "execution": {
          "iopub.execute_input": "2023-08-23T04:53:36.690066Z",
          "iopub.status.busy": "2023-08-23T04:53:36.689274Z",
          "iopub.status.idle": "2023-08-23T04:53:49.424016Z",
          "shell.execute_reply": "2023-08-23T04:53:49.423362Z",
          "shell.execute_reply.started": "2023-08-23T04:53:36.690042Z"
        },
        "id": "b5e716fb"
      },
      "outputs": [],
      "source": [
        "# Data: Text Input and Label #\n",
        "X = list(bully_data_cleaned[\"text\"])\n",
        "y = list(bully_data_cleaned[\"label\"])\n",
        "\n",
        "# Create torch dataset\n",
        "class Dataset(torch.utils.data.Dataset):\n",
        "    def __init__(self, encodings, labels=None):\n",
        "        self.encodings = encodings\n",
        "        self.labels = labels\n",
        "\n",
        "    def __getitem__(self, idx):\n",
        "        item = {key: torch.tensor(val[idx]) for key, val in self.encodings.items()}\n",
        "        if self.labels:\n",
        "            item[\"labels\"] = torch.tensor(self.labels[idx])\n",
        "        return item\n",
        "\n",
        "    def __len__(self):\n",
        "        return len(self.encodings[\"input_ids\"])\n",
        "\n",
        "\n",
        "# Define Trainer parameters\n",
        "def compute_metrics(p):\n",
        "    pred, labels = p\n",
        "    pred = np.argmax(pred, axis=1)\n",
        "\n",
        "    accuracy = accuracy_score(y_true=labels, y_pred=pred)\n",
        "    recall_cb = recall_score(y_true=labels, y_pred=pred, average='binary', pos_label=1)\n",
        "    precision_cb = precision_score(y_true=labels, y_pred=pred, average='binary', pos_label=1)\n",
        "    f1_cb = f1_score(y_true=labels, y_pred=pred, average='binary', pos_label=1)\n",
        "\n",
        "    recall_ncb = recall_score(y_true=labels, y_pred=pred, average='binary', pos_label=0)\n",
        "    precision_ncb = precision_score(y_true=labels, y_pred=pred, average='binary', pos_label=0)\n",
        "    f1_ncb = f1_score(y_true=labels, y_pred=pred, average='binary', pos_label=0)\n",
        "\n",
        "    recall_overall = recall_score(y_true=labels, y_pred=pred, average='macro')\n",
        "    precision_overall = precision_score(y_true=labels, y_pred=pred, average='macro')\n",
        "    f1_overall = f1_score(y_true=labels, y_pred=pred, average='macro')\n",
        "\n",
        "\n",
        "    return {\"accuracy\": accuracy,\n",
        "            \"precision_cb\": precision_cb, \"recall_cb\": recall_cb, \"f1_cb\": f1_cb,\n",
        "            \"precision_ncb\": precision_ncb, \"recall_ncb\": recall_ncb, \"f1_ncb\": f1_ncb,\n",
        "            \"precision_overall\": precision_overall, \"recall_overall\": recall_overall, \"f1_overall\": f1_overall}\n",
        "\n",
        "\n",
        "# Plot Confusion Matrix\n",
        "import numpy as np\n",
        "import matplotlib.pyplot as plt\n",
        "import seaborn as sns\n",
        "\n",
        "def make_confusion_matrix(cf,\n",
        "                          group_names=None,\n",
        "                          categories='auto',\n",
        "                          count=True,\n",
        "                          percent=True,\n",
        "                          cbar=True,\n",
        "                          xyticks=True,\n",
        "                          xyplotlabels=True,\n",
        "                          sum_stats=True,\n",
        "                          figsize=None,\n",
        "                          cmap='Blues',\n",
        "                          title=None):\n",
        "    '''\n",
        "    This function will make a pretty plot of an sklearn Confusion Matrix cm using a Seaborn heatmap visualization.\n",
        "\n",
        "    Arguments\n",
        "    ---------\n",
        "    cf:            confusion matrix to be passed in\n",
        "\n",
        "    group_names:   List of strings that represent the labels row by row to be shown in each square.\n",
        "\n",
        "    categories:    List of strings containing the categories to be displayed on the x,y axis. Default is 'auto'\n",
        "\n",
        "    count:         If True, show the raw number in the confusion matrix. Default is True.\n",
        "\n",
        "    normalize:     If True, show the proportions for each category. Default is True.\n",
        "\n",
        "    cbar:          If True, show the color bar. The cbar values are based off the values in the confusion matrix.\n",
        "                   Default is True.\n",
        "\n",
        "    xyticks:       If True, show x and y ticks. Default is True.\n",
        "\n",
        "    xyplotlabels:  If True, show 'True Label' and 'Predicted Label' on the figure. Default is True.\n",
        "\n",
        "    sum_stats:     If True, display summary statistics below the figure. Default is True.\n",
        "\n",
        "    figsize:       Tuple representing the figure size. Default will be the matplotlib rcParams value.\n",
        "\n",
        "    cmap:          Colormap of the values displayed from matplotlib.pyplot.cm. Default is 'Blues'\n",
        "                   See http://matplotlib.org/examples/color/colormaps_reference.html\n",
        "\n",
        "    title:         Title for the heatmap. Default is None.\n",
        "\n",
        "    '''\n",
        "\n",
        "\n",
        "    # CONFUSION MATRIX IN PERCENTAGE\n",
        "    cf_pct = cf.astype('float')/cf.sum(axis=1)[:, np.newaxis]\n",
        "    # CODE TO GENERATE TEXT INSIDE EACH SQUARE\n",
        "    blanks = ['' for i in range(cf.size)]\n",
        "\n",
        "    if group_names and len(group_names)==cf.size:\n",
        "        group_labels = [\"{}\\n\".format(value) for value in group_names]\n",
        "    else:\n",
        "        group_labels = blanks\n",
        "\n",
        "    if count:\n",
        "        group_counts = [\"{0:0.0f}\\n\".format(value) for value in cf.flatten()]\n",
        "    else:\n",
        "        group_counts = blanks\n",
        "\n",
        "    if percent:\n",
        "        group_percentages = [\"{0:.2%}\".format(value) for value in cf_pct.flatten()]\n",
        "    else:\n",
        "        group_percentages = blanks\n",
        "\n",
        "    box_labels = [f\"{v1}{v2}{v3}\".strip() for v1, v2, v3 in zip(group_labels,group_counts,group_percentages)]\n",
        "    box_labels = np.asarray(box_labels).reshape(cf.shape[0],cf.shape[1])\n",
        "\n",
        "\n",
        "    # CODE TO GENERATE SUMMARY STATISTICS & TEXT FOR SUMMARY STATS\n",
        "    if sum_stats:\n",
        "        #Accuracy is sum of diagonal divided by total observations\n",
        "        accuracy  = np.trace(cf) / float(np.sum(cf))\n",
        "\n",
        "        #if it is a binary confusion matrix, show some more stats\n",
        "        if len(cf)==2:\n",
        "            #Metrics for Binary Confusion Matrices\n",
        "            precision = cf[1,1] / sum(cf[:,1])\n",
        "            recall    = cf[1,1] / sum(cf[1,:])\n",
        "            f1_score  = 2*precision*recall / (precision + recall)\n",
        "            stats_text = \"\\n\\nAccuracy={:0.3f}\\nPrecision={:0.3f}\\nRecall={:0.3f}\\nF1 Score={:0.3f}\".format(\n",
        "                accuracy,precision,recall,f1_score)\n",
        "        else:\n",
        "            stats_text = \"\\n\\nAccuracy={:0.3f}\".format(accuracy)\n",
        "    else:\n",
        "        stats_text = \"\"\n",
        "\n",
        "\n",
        "    # SET FIGURE PARAMETERS ACCORDING TO OTHER ARGUMENTS\n",
        "    if figsize==None:\n",
        "        #Get default figure size if not set\n",
        "        figsize = plt.rcParams.get('figure.figsize')\n",
        "\n",
        "    if xyticks==False:\n",
        "        #Do not show categories if xyticks is False\n",
        "        categories=False\n",
        "\n",
        "\n",
        "    # MAKE THE HEATMAP VISUALIZATION\n",
        "    plt.figure(figsize=figsize)\n",
        "    sns.heatmap(cf_pct,annot=box_labels,fmt=\"\",cmap=cmap,cbar=cbar,xticklabels=categories,yticklabels=categories)\n",
        "\n",
        "    if xyplotlabels:\n",
        "        plt.ylabel('True label')\n",
        "        plt.xlabel('Predicted label' + stats_text)\n",
        "    else:\n",
        "        plt.xlabel(stats_text)\n",
        "\n",
        "    if title:\n",
        "        plt.title(title)\n",
        "\n",
        "# Run cross-validation\n",
        "def run_cross_validation(model_name='DistilBert',\n",
        "                         X=X,\n",
        "                         y=y,\n",
        "                         splits=5,\n",
        "                         epoch=8,\n",
        "                         checkpoint=False):\n",
        "\n",
        "    kfold = StratifiedShuffleSplit(n_splits=splits, test_size=0.1, random_state=1127)\n",
        "    # kfold = StratifiedKFold(n_splits=splits, shuffle=True, random_state=1127)\n",
        "    n_fold = 1\n",
        "\n",
        "    print(\"Developing Model with Cross validation for: \" + model_name)\n",
        "    for train, test in tqdm(kfold.split(X, y)):\n",
        "\n",
        "        print(\"Running for Fold: \",n_fold)\n",
        "        train_index = list(train)\n",
        "        test_index = list(test)\n",
        "\n",
        "        X_train = [X[i] for i in train_index]\n",
        "        y_train = [y[i] for i in train_index]\n",
        "        X_val = [X[i] for i in test_index]\n",
        "        y_val = [y[i] for i in test_index]\n",
        "\n",
        "        # Tokenize\n",
        "        X_train_tokenized = tokenizer(X_train, padding=True, truncation=True, max_length=512)\n",
        "        X_val_tokenized = tokenizer(X_val, padding=True, truncation=True, max_length=512)\n",
        "\n",
        "        # Create torch dataset\n",
        "        train_dataset = Dataset(X_train_tokenized, y_train)\n",
        "        val_dataset = Dataset(X_val_tokenized, y_val)\n",
        "\n",
        "        # Fine Tune Transformer\n",
        "        # Define Trainer\n",
        "        args = TrainingArguments(\n",
        "            output_dir=\"content/drive/MyDrive_binary/output_\" + model_name + \"/fold\"+str(n_fold),\n",
        "            learning_rate=2e-5,\n",
        "            evaluation_strategy=\"epoch\",\n",
        "            save_strategy=\"epoch\",\n",
        "            per_device_train_batch_size=16,\n",
        "            per_device_eval_batch_size=16,\n",
        "            num_train_epochs=epoch, #1 was okay\n",
        "            seed=1127,\n",
        "            load_best_model_at_end=True,\n",
        "          )\n",
        "\n",
        "        trainer = Trainer(\n",
        "        #model_init=model_init,\n",
        "        model=model,\n",
        "        args=args,\n",
        "        train_dataset=train_dataset,\n",
        "        eval_dataset=val_dataset,\n",
        "        compute_metrics=compute_metrics,\n",
        "        callbacks=[EarlyStoppingCallback(early_stopping_patience=3)],\n",
        "        )\n",
        "\n",
        "        if n_fold <=4:\n",
        "            checkpoint_temp=True\n",
        "        else:\n",
        "            checkpoint_temp=False\n",
        "\n",
        "        trainer.train(resume_from_checkpoint=checkpoint)\n",
        "        print(\"Complete for fold\", n_fold)\n",
        "        n_fold= n_fold + 1\n",
        "\n",
        "\n",
        "# Run Hold Out Test\n",
        "\n",
        "# Train and Test Set\n",
        "X_train, X_test, y_train, y_test = train_test_split(X, y, test_size=0.1, stratify=y, random_state=1127)\n",
        "\n",
        "# Train and Validate Set\n",
        "# X_train, X_val, y_train, y_val = train_test_split(X_train, y_train, test_size=0.1, stratify=y_train, random_state=1127)\n",
        "X_train_tokenized = tokenizer(X_train, padding=True, truncation=True, max_length=512)\n",
        "X_val_tokenized = tokenizer(X_test, padding=True, truncation=True, max_length=512)\n",
        "\n",
        "# Create torch dataset\n",
        "train_dataset = Dataset(X_train_tokenized, y_train)\n",
        "val_dataset = Dataset(X_val_tokenized, y_test)\n",
        "\n",
        "def run_hold_out_split(model_name='DistilBert',\n",
        "                       epoch=8,\n",
        "                       train_dataset=train_dataset,\n",
        "                       eval_dataset=val_dataset,\n",
        "                       checkpoint=False):\n",
        "\n",
        "    print(\"Developing Model with Hold Out Splits for: \" + model_name)\n",
        "    # Fine Tune Transformer\n",
        "    # Define Trainer\n",
        "    args = TrainingArguments(\n",
        "      output_dir=\"content/drive/MyDrive_binary/output_\" + model_name + \"/holdout\",\n",
        "      learning_rate=2e-5,\n",
        "      evaluation_strategy=\"epoch\",\n",
        "      save_strategy=\"epoch\",\n",
        "      per_device_train_batch_size=16,\n",
        "      per_device_eval_batch_size=16,\n",
        "      num_train_epochs=epoch, #1 was okay\n",
        "      seed=1127,\n",
        "      load_best_model_at_end=True,\n",
        "    )\n",
        "\n",
        "    trainer = Trainer(\n",
        "    # model_init=model_init,\n",
        "    args=args,\n",
        "    model=model,\n",
        "    train_dataset=train_dataset,\n",
        "    eval_dataset=val_dataset,\n",
        "    compute_metrics=compute_metrics,\n",
        "    callbacks=[EarlyStoppingCallback(early_stopping_patience=5)],\n",
        "    )\n",
        "\n",
        "    trainer.train(resume_from_checkpoint=checkpoint)\n",
        "    print(\"Complete for hold-out validate set\")\n"
      ]
    },
    {
      "cell_type": "code",
      "execution_count": 8,
      "id": "EKrMcyWmEBlO",
      "metadata": {
        "execution": {
          "iopub.execute_input": "2023-08-23T04:53:49.425542Z",
          "iopub.status.busy": "2023-08-23T04:53:49.425029Z",
          "iopub.status.idle": "2023-08-23T04:53:49.435717Z",
          "shell.execute_reply": "2023-08-23T04:53:49.435258Z",
          "shell.execute_reply.started": "2023-08-23T04:53:49.425522Z"
        },
        "id": "EKrMcyWmEBlO"
      },
      "outputs": [],
      "source": [
        "# Predict (Hold Out Test)\n",
        "\n",
        "from sklearn.metrics import confusion_matrix\n",
        "def compute_metrics_holdout(model_name='DistilBert',\n",
        "                            model_path='content/drive/MyDrive_binary/output_DistilBert/holdout/checkpoint-3820',\n",
        "                            average_method='binary',\n",
        "                            X_test=X_test):\n",
        "\n",
        "    X_test_tokenized = tokenizer(X_test, padding=True, truncation=True, max_length=512)\n",
        "\n",
        "    # Create torch dataset\n",
        "    test_dataset = Dataset(X_test_tokenized)\n",
        "\n",
        "    # Load trained model\n",
        "    model_pred = AutoModelForSequenceClassification.from_pretrained(model_path, num_labels=2)\n",
        "\n",
        "    # Define test trainer\n",
        "    test_trainer = Trainer(model_pred)\n",
        "\n",
        "    # Make prediction\n",
        "    raw_pred, _, _ = test_trainer.predict(test_dataset)\n",
        "\n",
        "    # Preprocess raw predictions\n",
        "    y_pred = np.argmax(raw_pred, axis=1)\n",
        "\n",
        "    # Compute metrics\n",
        "    precision_cb = precision_score(y_test, y_pred, average=average_method, pos_label=1)\n",
        "    recall_cb = recall_score(y_test, y_pred, average=average_method, pos_label=1)\n",
        "    f1_cb = f1_score(y_test, y_pred, average=average_method, pos_label=1)\n",
        "\n",
        "    precision_ncb = precision_score(y_test, y_pred, average=average_method, pos_label=0)\n",
        "    recall_ncb = recall_score(y_test, y_pred, average=average_method, pos_label=0)\n",
        "    f1_ncb = f1_score(y_test, y_pred, average=average_method, pos_label=0)\n",
        "\n",
        "    precision_overall = precision_score(y_test, y_pred, average='macro')\n",
        "    recall_overall = recall_score(y_test, y_pred, average='macro')\n",
        "    f1_overall = f1_score(y_test, y_pred, average='macro')\n",
        "\n",
        "    # Print Results\n",
        "    print(\"Classification Report:\")\n",
        "    print(classification_report(y_test,y_pred))\n",
        "    print()\n",
        "    print(\"Label 1: Cyberbullying\")\n",
        "    print(\"Precision: \", precision_cb)\n",
        "    print(\"Recall: \", recall_cb)\n",
        "    print(\"F-measure: \", f1_cb)\n",
        "    print()\n",
        "    print(\"Label 0: Non-Cyberbullying\")\n",
        "    print(\"Precision: \", precision_ncb)\n",
        "    print(\"Recall: \", recall_ncb)\n",
        "    print(\"F-measure: \", f1_ncb)\n",
        "    print()\n",
        "    print(\"Macro Metrics\")\n",
        "    print(\"Precision: \", precision_overall)\n",
        "    print(\"Recall: \", recall_overall)\n",
        "    print(\"F-measure: \", f1_overall)\n",
        "    print()\n",
        "\n",
        "    # Confusion Matrix\n",
        "    conf_mat = confusion_matrix(y_test,y_pred)\n",
        "    categories = ['Non-Cyberbullying', 'Cyberbullying']\n",
        "    labels = ['True Negative','',\n",
        "            '','True Positive']\n",
        "\n",
        "    make_confusion_matrix(conf_mat,\n",
        "                        group_names=labels,\n",
        "                        categories=categories,\n",
        "                        figsize=(8,5),\n",
        "                        cbar=True,\n",
        "                        title='Fine Tuned ' + model_name + ' for Cyberbullying Detection',\n",
        "                        cmap='YlGnBu',\n",
        "                        sum_stats=False)\n",
        "\n"
      ]
    },
    {
      "cell_type": "markdown",
      "id": "q5A2sV2dKlPb",
      "metadata": {
        "id": "q5A2sV2dKlPb",
        "tags": []
      },
      "source": [
        "## Cross Validation (K = 5)"
      ]
    },
    {
      "cell_type": "code",
      "execution_count": 9,
      "id": "p5QGotWv8_-V",
      "metadata": {
        "colab": {
          "base_uri": "https://localhost:8080/",
          "height": 1000
        },
        "execution": {
          "iopub.execute_input": "2023-08-22T18:23:41.378281Z",
          "iopub.status.busy": "2023-08-22T18:23:41.377633Z",
          "iopub.status.idle": "2023-08-23T04:43:08.137120Z",
          "shell.execute_reply": "2023-08-23T04:43:08.136085Z",
          "shell.execute_reply.started": "2023-08-22T18:23:41.378281Z"
        },
        "id": "p5QGotWv8_-V",
        "outputId": "85730c97-58c2-4507-f13e-c197e89a4c01"
      },
      "outputs": [
        {
          "name": "stdout",
          "output_type": "stream",
          "text": [
            "Developing Model with Cross validation for: DistilBert\n"
          ]
        },
        {
          "name": "stderr",
          "output_type": "stream",
          "text": [
            "\r0it [00:00, ?it/s]"
          ]
        },
        {
          "name": "stdout",
          "output_type": "stream",
          "text": [
            "Running for Fold:  1\n"
          ]
        },
        {
          "name": "stderr",
          "output_type": "stream",
          "text": [
            "/usr/local/lib/python3.10/dist-packages/transformers/training_args.py:1474: FutureWarning: `evaluation_strategy` is deprecated and will be removed in version 4.46 of 🤗 Transformers. Use `eval_strategy` instead\n",
            "  warnings.warn(\n",
            "\u001b[34m\u001b[1mwandb\u001b[0m: \u001b[33mWARNING\u001b[0m The `run_name` is currently set to the same value as `TrainingArguments.output_dir`. If this was not intended, please specify a different run name by setting the `TrainingArguments.run_name` parameter.\n"
          ]
        },
        {
          "data": {
            "application/javascript": "\n        window._wandbApiKey = new Promise((resolve, reject) => {\n            function loadScript(url) {\n            return new Promise(function(resolve, reject) {\n                let newScript = document.createElement(\"script\");\n                newScript.onerror = reject;\n                newScript.onload = resolve;\n                document.body.appendChild(newScript);\n                newScript.src = url;\n            });\n            }\n            loadScript(\"https://cdn.jsdelivr.net/npm/postmate/build/postmate.min.js\").then(() => {\n            const iframe = document.createElement('iframe')\n            iframe.style.cssText = \"width:0;height:0;border:none\"\n            document.body.appendChild(iframe)\n            const handshake = new Postmate({\n                container: iframe,\n                url: 'https://wandb.ai/authorize'\n            });\n            const timeout = setTimeout(() => reject(\"Couldn't auto authenticate\"), 5000)\n            handshake.then(function(child) {\n                child.on('authorize', data => {\n                    clearTimeout(timeout)\n                    resolve(data)\n                });\n            });\n            })\n        });\n    ",
            "text/plain": [
              "<IPython.core.display.Javascript object>"
            ]
          },
          "metadata": {},
          "output_type": "display_data"
        },
        {
          "name": "stderr",
          "output_type": "stream",
          "text": [
            "\u001b[34m\u001b[1mwandb\u001b[0m: Logging into wandb.ai. (Learn how to deploy a W&B server locally: https://wandb.me/wandb-server)\n",
            "\u001b[34m\u001b[1mwandb\u001b[0m: You can find your API key in your browser here: https://wandb.ai/authorize\n",
            "wandb: Paste an API key from your profile and hit enter, or press ctrl+c to quit:\u001b[34m\u001b[1mwandb\u001b[0m: Appending key for api.wandb.ai to your netrc file: /root/.netrc\n"
          ]
        },
        {
          "data": {
            "text/html": [
              "Tracking run with wandb version 0.17.0"
            ],
            "text/plain": [
              "<IPython.core.display.HTML object>"
            ]
          },
          "metadata": {},
          "output_type": "display_data"
        },
        {
          "data": {
            "text/html": [
              "Run data is saved locally in <code>/content/wandb/run-20240527_065934-j76q00xn</code>"
            ],
            "text/plain": [
              "<IPython.core.display.HTML object>"
            ]
          },
          "metadata": {},
          "output_type": "display_data"
        },
        {
          "data": {
            "text/html": [
              "Syncing run <strong><a href='https://wandb.ai/universitimalaya/huggingface/runs/j76q00xn' target=\"_blank\">content/drive/MyDrive_binary/output_DistilBert/fold1</a></strong> to <a href='https://wandb.ai/universitimalaya/huggingface' target=\"_blank\">Weights & Biases</a> (<a href='https://wandb.me/run' target=\"_blank\">docs</a>)<br/>"
            ],
            "text/plain": [
              "<IPython.core.display.HTML object>"
            ]
          },
          "metadata": {},
          "output_type": "display_data"
        },
        {
          "data": {
            "text/html": [
              " View project at <a href='https://wandb.ai/universitimalaya/huggingface' target=\"_blank\">https://wandb.ai/universitimalaya/huggingface</a>"
            ],
            "text/plain": [
              "<IPython.core.display.HTML object>"
            ]
          },
          "metadata": {},
          "output_type": "display_data"
        },
        {
          "data": {
            "text/html": [
              " View run at <a href='https://wandb.ai/universitimalaya/huggingface/runs/j76q00xn' target=\"_blank\">https://wandb.ai/universitimalaya/huggingface/runs/j76q00xn</a>"
            ],
            "text/plain": [
              "<IPython.core.display.HTML object>"
            ]
          },
          "metadata": {},
          "output_type": "display_data"
        },
        {
          "data": {
            "text/html": [
              "\n",
              "    <div>\n",
              "      \n",
              "      <progress value='25256' max='25256' style='width:300px; height:20px; vertical-align: middle;'></progress>\n",
              "      [25256/25256 1:22:04, Epoch 4/4]\n",
              "    </div>\n",
              "    <table border=\"1\" class=\"dataframe\">\n",
              "  <thead>\n",
              " <tr style=\"text-align: left;\">\n",
              "      <th>Epoch</th>\n",
              "      <th>Training Loss</th>\n",
              "      <th>Validation Loss</th>\n",
              "      <th>Accuracy</th>\n",
              "      <th>Precision Cb</th>\n",
              "      <th>Recall Cb</th>\n",
              "      <th>F1 Cb</th>\n",
              "      <th>Precision Ncb</th>\n",
              "      <th>Recall Ncb</th>\n",
              "      <th>F1 Ncb</th>\n",
              "      <th>Precision Overall</th>\n",
              "      <th>Recall Overall</th>\n",
              "      <th>F1 Overall</th>\n",
              "    </tr>\n",
              "  </thead>\n",
              "  <tbody>\n",
              "    <tr>\n",
              "      <td>1</td>\n",
              "      <td>0.101300</td>\n",
              "      <td>0.113293</td>\n",
              "      <td>0.967394</td>\n",
              "      <td>0.733696</td>\n",
              "      <td>0.501859</td>\n",
              "      <td>0.596026</td>\n",
              "      <td>0.975315</td>\n",
              "      <td>0.990830</td>\n",
              "      <td>0.983012</td>\n",
              "      <td>0.854506</td>\n",
              "      <td>0.746344</td>\n",
              "      <td>0.789519</td>\n",
              "    </tr>\n",
              "    <tr>\n",
              "      <td>2</td>\n",
              "      <td>0.075700</td>\n",
              "      <td>0.119259</td>\n",
              "      <td>0.967127</td>\n",
              "      <td>0.673511</td>\n",
              "      <td>0.609665</td>\n",
              "      <td>0.640000</td>\n",
              "      <td>0.980443</td>\n",
              "      <td>0.985122</td>\n",
              "      <td>0.982777</td>\n",
              "      <td>0.826977</td>\n",
              "      <td>0.797394</td>\n",
              "      <td>0.811389</td>\n",
              "    </tr>\n",
              "    <tr>\n",
              "      <td>3</td>\n",
              "      <td>0.055500</td>\n",
              "      <td>0.154696</td>\n",
              "      <td>0.968107</td>\n",
              "      <td>0.722772</td>\n",
              "      <td>0.542751</td>\n",
              "      <td>0.619958</td>\n",
              "      <td>0.977266</td>\n",
              "      <td>0.989520</td>\n",
              "      <td>0.983355</td>\n",
              "      <td>0.850019</td>\n",
              "      <td>0.766135</td>\n",
              "      <td>0.801656</td>\n",
              "    </tr>\n",
              "    <tr>\n",
              "      <td>4</td>\n",
              "      <td>0.034100</td>\n",
              "      <td>0.191425</td>\n",
              "      <td>0.965523</td>\n",
              "      <td>0.660981</td>\n",
              "      <td>0.576208</td>\n",
              "      <td>0.615690</td>\n",
              "      <td>0.978803</td>\n",
              "      <td>0.985122</td>\n",
              "      <td>0.981952</td>\n",
              "      <td>0.819892</td>\n",
              "      <td>0.780665</td>\n",
              "      <td>0.798821</td>\n",
              "    </tr>\n",
              "  </tbody>\n",
              "</table><p>"
            ],
            "text/plain": [
              "<IPython.core.display.HTML object>"
            ]
          },
          "metadata": {},
          "output_type": "display_data"
        },
        {
          "name": "stderr",
          "output_type": "stream",
          "text": [
            "\r1it [1:22:43, 4963.53s/it]"
          ]
        },
        {
          "name": "stdout",
          "output_type": "stream",
          "text": [
            "Complete for fold 1\n",
            "Running for Fold:  2\n"
          ]
        },
        {
          "name": "stderr",
          "output_type": "stream",
          "text": [
            "/usr/local/lib/python3.10/dist-packages/transformers/training_args.py:1474: FutureWarning: `evaluation_strategy` is deprecated and will be removed in version 4.46 of 🤗 Transformers. Use `eval_strategy` instead\n",
            "  warnings.warn(\n"
          ]
        },
        {
          "data": {
            "text/html": [
              "\n",
              "    <div>\n",
              "      \n",
              "      <progress value='25256' max='25256' style='width:300px; height:20px; vertical-align: middle;'></progress>\n",
              "      [25256/25256 1:22:02, Epoch 4/4]\n",
              "    </div>\n",
              "    <table border=\"1\" class=\"dataframe\">\n",
              "  <thead>\n",
              " <tr style=\"text-align: left;\">\n",
              "      <th>Epoch</th>\n",
              "      <th>Training Loss</th>\n",
              "      <th>Validation Loss</th>\n",
              "      <th>Accuracy</th>\n",
              "      <th>Precision Cb</th>\n",
              "      <th>Recall Cb</th>\n",
              "      <th>F1 Cb</th>\n",
              "      <th>Precision Ncb</th>\n",
              "      <th>Recall Ncb</th>\n",
              "      <th>F1 Ncb</th>\n",
              "      <th>Precision Overall</th>\n",
              "      <th>Recall Overall</th>\n",
              "      <th>F1 Overall</th>\n",
              "    </tr>\n",
              "  </thead>\n",
              "  <tbody>\n",
              "    <tr>\n",
              "      <td>1</td>\n",
              "      <td>0.087400</td>\n",
              "      <td>0.085863</td>\n",
              "      <td>0.973007</td>\n",
              "      <td>0.795970</td>\n",
              "      <td>0.587361</td>\n",
              "      <td>0.675936</td>\n",
              "      <td>0.979498</td>\n",
              "      <td>0.992421</td>\n",
              "      <td>0.985917</td>\n",
              "      <td>0.887734</td>\n",
              "      <td>0.789891</td>\n",
              "      <td>0.830926</td>\n",
              "    </tr>\n",
              "    <tr>\n",
              "      <td>2</td>\n",
              "      <td>0.056000</td>\n",
              "      <td>0.105862</td>\n",
              "      <td>0.970690</td>\n",
              "      <td>0.694600</td>\n",
              "      <td>0.693309</td>\n",
              "      <td>0.693953</td>\n",
              "      <td>0.984562</td>\n",
              "      <td>0.984654</td>\n",
              "      <td>0.984608</td>\n",
              "      <td>0.839581</td>\n",
              "      <td>0.838981</td>\n",
              "      <td>0.839281</td>\n",
              "    </tr>\n",
              "    <tr>\n",
              "      <td>3</td>\n",
              "      <td>0.033300</td>\n",
              "      <td>0.138090</td>\n",
              "      <td>0.972383</td>\n",
              "      <td>0.727092</td>\n",
              "      <td>0.678439</td>\n",
              "      <td>0.701923</td>\n",
              "      <td>0.983866</td>\n",
              "      <td>0.987181</td>\n",
              "      <td>0.985521</td>\n",
              "      <td>0.855479</td>\n",
              "      <td>0.832810</td>\n",
              "      <td>0.843722</td>\n",
              "    </tr>\n",
              "    <tr>\n",
              "      <td>4</td>\n",
              "      <td>0.022200</td>\n",
              "      <td>0.162025</td>\n",
              "      <td>0.972739</td>\n",
              "      <td>0.738683</td>\n",
              "      <td>0.667286</td>\n",
              "      <td>0.701172</td>\n",
              "      <td>0.983332</td>\n",
              "      <td>0.988116</td>\n",
              "      <td>0.985718</td>\n",
              "      <td>0.861007</td>\n",
              "      <td>0.827701</td>\n",
              "      <td>0.843445</td>\n",
              "    </tr>\n",
              "  </tbody>\n",
              "</table><p>"
            ],
            "text/plain": [
              "<IPython.core.display.HTML object>"
            ]
          },
          "metadata": {},
          "output_type": "display_data"
        },
        {
          "name": "stderr",
          "output_type": "stream",
          "text": [
            "\r2it [2:45:07, 4951.81s/it]"
          ]
        },
        {
          "name": "stdout",
          "output_type": "stream",
          "text": [
            "Complete for fold 2\n",
            "Running for Fold:  3\n"
          ]
        },
        {
          "name": "stderr",
          "output_type": "stream",
          "text": [
            "/usr/local/lib/python3.10/dist-packages/transformers/training_args.py:1474: FutureWarning: `evaluation_strategy` is deprecated and will be removed in version 4.46 of 🤗 Transformers. Use `eval_strategy` instead\n",
            "  warnings.warn(\n"
          ]
        },
        {
          "data": {
            "text/html": [
              "\n",
              "    <div>\n",
              "      \n",
              "      <progress value='25256' max='25256' style='width:300px; height:20px; vertical-align: middle;'></progress>\n",
              "      [25256/25256 1:22:06, Epoch 4/4]\n",
              "    </div>\n",
              "    <table border=\"1\" class=\"dataframe\">\n",
              "  <thead>\n",
              " <tr style=\"text-align: left;\">\n",
              "      <th>Epoch</th>\n",
              "      <th>Training Loss</th>\n",
              "      <th>Validation Loss</th>\n",
              "      <th>Accuracy</th>\n",
              "      <th>Precision Cb</th>\n",
              "      <th>Recall Cb</th>\n",
              "      <th>F1 Cb</th>\n",
              "      <th>Precision Ncb</th>\n",
              "      <th>Recall Ncb</th>\n",
              "      <th>F1 Ncb</th>\n",
              "      <th>Precision Overall</th>\n",
              "      <th>Recall Overall</th>\n",
              "      <th>F1 Overall</th>\n",
              "    </tr>\n",
              "  </thead>\n",
              "  <tbody>\n",
              "    <tr>\n",
              "      <td>1</td>\n",
              "      <td>0.069700</td>\n",
              "      <td>0.067952</td>\n",
              "      <td>0.982806</td>\n",
              "      <td>0.892938</td>\n",
              "      <td>0.728625</td>\n",
              "      <td>0.802456</td>\n",
              "      <td>0.986464</td>\n",
              "      <td>0.995602</td>\n",
              "      <td>0.991012</td>\n",
              "      <td>0.939701</td>\n",
              "      <td>0.862113</td>\n",
              "      <td>0.896734</td>\n",
              "    </tr>\n",
              "    <tr>\n",
              "      <td>2</td>\n",
              "      <td>0.041600</td>\n",
              "      <td>0.071255</td>\n",
              "      <td>0.983519</td>\n",
              "      <td>0.842718</td>\n",
              "      <td>0.806691</td>\n",
              "      <td>0.824311</td>\n",
              "      <td>0.990289</td>\n",
              "      <td>0.992421</td>\n",
              "      <td>0.991354</td>\n",
              "      <td>0.916504</td>\n",
              "      <td>0.899556</td>\n",
              "      <td>0.907833</td>\n",
              "    </tr>\n",
              "    <tr>\n",
              "      <td>3</td>\n",
              "      <td>0.022400</td>\n",
              "      <td>0.097483</td>\n",
              "      <td>0.983341</td>\n",
              "      <td>0.874200</td>\n",
              "      <td>0.762082</td>\n",
              "      <td>0.814300</td>\n",
              "      <td>0.988100</td>\n",
              "      <td>0.994479</td>\n",
              "      <td>0.991279</td>\n",
              "      <td>0.931150</td>\n",
              "      <td>0.878281</td>\n",
              "      <td>0.902790</td>\n",
              "    </tr>\n",
              "    <tr>\n",
              "      <td>4</td>\n",
              "      <td>0.012200</td>\n",
              "      <td>0.106483</td>\n",
              "      <td>0.982094</td>\n",
              "      <td>0.836327</td>\n",
              "      <td>0.778810</td>\n",
              "      <td>0.806545</td>\n",
              "      <td>0.988903</td>\n",
              "      <td>0.992327</td>\n",
              "      <td>0.990612</td>\n",
              "      <td>0.912615</td>\n",
              "      <td>0.885569</td>\n",
              "      <td>0.898579</td>\n",
              "    </tr>\n",
              "  </tbody>\n",
              "</table><p>"
            ],
            "text/plain": [
              "<IPython.core.display.HTML object>"
            ]
          },
          "metadata": {},
          "output_type": "display_data"
        },
        {
          "name": "stderr",
          "output_type": "stream",
          "text": [
            "\r3it [4:07:35, 4950.08s/it]"
          ]
        },
        {
          "name": "stdout",
          "output_type": "stream",
          "text": [
            "Complete for fold 3\n",
            "Running for Fold:  4\n"
          ]
        },
        {
          "name": "stderr",
          "output_type": "stream",
          "text": [
            "/usr/local/lib/python3.10/dist-packages/transformers/training_args.py:1474: FutureWarning: `evaluation_strategy` is deprecated and will be removed in version 4.46 of 🤗 Transformers. Use `eval_strategy` instead\n",
            "  warnings.warn(\n"
          ]
        },
        {
          "data": {
            "text/html": [
              "\n",
              "    <div>\n",
              "      \n",
              "      <progress value='25256' max='25256' style='width:300px; height:20px; vertical-align: middle;'></progress>\n",
              "      [25256/25256 1:22:07, Epoch 4/4]\n",
              "    </div>\n",
              "    <table border=\"1\" class=\"dataframe\">\n",
              "  <thead>\n",
              " <tr style=\"text-align: left;\">\n",
              "      <th>Epoch</th>\n",
              "      <th>Training Loss</th>\n",
              "      <th>Validation Loss</th>\n",
              "      <th>Accuracy</th>\n",
              "      <th>Precision Cb</th>\n",
              "      <th>Recall Cb</th>\n",
              "      <th>F1 Cb</th>\n",
              "      <th>Precision Ncb</th>\n",
              "      <th>Recall Ncb</th>\n",
              "      <th>F1 Ncb</th>\n",
              "      <th>Precision Overall</th>\n",
              "      <th>Recall Overall</th>\n",
              "      <th>F1 Overall</th>\n",
              "    </tr>\n",
              "  </thead>\n",
              "  <tbody>\n",
              "    <tr>\n",
              "      <td>1</td>\n",
              "      <td>0.053100</td>\n",
              "      <td>0.049712</td>\n",
              "      <td>0.987439</td>\n",
              "      <td>0.925054</td>\n",
              "      <td>0.802974</td>\n",
              "      <td>0.859701</td>\n",
              "      <td>0.990147</td>\n",
              "      <td>0.996725</td>\n",
              "      <td>0.993425</td>\n",
              "      <td>0.957600</td>\n",
              "      <td>0.899849</td>\n",
              "      <td>0.926563</td>\n",
              "    </tr>\n",
              "    <tr>\n",
              "      <td>2</td>\n",
              "      <td>0.027600</td>\n",
              "      <td>0.060793</td>\n",
              "      <td>0.987795</td>\n",
              "      <td>0.874766</td>\n",
              "      <td>0.869888</td>\n",
              "      <td>0.872321</td>\n",
              "      <td>0.993452</td>\n",
              "      <td>0.993731</td>\n",
              "      <td>0.993591</td>\n",
              "      <td>0.934109</td>\n",
              "      <td>0.931810</td>\n",
              "      <td>0.932956</td>\n",
              "    </tr>\n",
              "    <tr>\n",
              "      <td>3</td>\n",
              "      <td>0.017000</td>\n",
              "      <td>0.066123</td>\n",
              "      <td>0.986459</td>\n",
              "      <td>0.839789</td>\n",
              "      <td>0.886617</td>\n",
              "      <td>0.862568</td>\n",
              "      <td>0.994276</td>\n",
              "      <td>0.991485</td>\n",
              "      <td>0.992879</td>\n",
              "      <td>0.917032</td>\n",
              "      <td>0.939051</td>\n",
              "      <td>0.927723</td>\n",
              "    </tr>\n",
              "    <tr>\n",
              "      <td>4</td>\n",
              "      <td>0.011400</td>\n",
              "      <td>0.076889</td>\n",
              "      <td>0.987617</td>\n",
              "      <td>0.884393</td>\n",
              "      <td>0.853160</td>\n",
              "      <td>0.868496</td>\n",
              "      <td>0.992621</td>\n",
              "      <td>0.994386</td>\n",
              "      <td>0.993503</td>\n",
              "      <td>0.938507</td>\n",
              "      <td>0.923773</td>\n",
              "      <td>0.930999</td>\n",
              "    </tr>\n",
              "  </tbody>\n",
              "</table><p>"
            ],
            "text/plain": [
              "<IPython.core.display.HTML object>"
            ]
          },
          "metadata": {},
          "output_type": "display_data"
        },
        {
          "name": "stderr",
          "output_type": "stream",
          "text": [
            "\r4it [5:30:02, 4949.09s/it]"
          ]
        },
        {
          "name": "stdout",
          "output_type": "stream",
          "text": [
            "Complete for fold 4\n",
            "Running for Fold:  5\n"
          ]
        },
        {
          "name": "stderr",
          "output_type": "stream",
          "text": [
            "/usr/local/lib/python3.10/dist-packages/transformers/training_args.py:1474: FutureWarning: `evaluation_strategy` is deprecated and will be removed in version 4.46 of 🤗 Transformers. Use `eval_strategy` instead\n",
            "  warnings.warn(\n"
          ]
        },
        {
          "data": {
            "text/html": [
              "\n",
              "    <div>\n",
              "      \n",
              "      <progress value='492' max='25256' style='width:300px; height:20px; vertical-align: middle;'></progress>\n",
              "      [  492/25256 01:31 < 1:17:26, 5.33 it/s, Epoch 0.08/4]\n",
              "    </div>\n",
              "    <table border=\"1\" class=\"dataframe\">\n",
              "  <thead>\n",
              " <tr style=\"text-align: left;\">\n",
              "      <th>Epoch</th>\n",
              "      <th>Training Loss</th>\n",
              "      <th>Validation Loss</th>\n",
              "    </tr>\n",
              "  </thead>\n",
              "  <tbody>\n",
              "  </tbody>\n",
              "</table><p>"
            ],
            "text/plain": [
              "<IPython.core.display.HTML object>"
            ]
          },
          "metadata": {},
          "output_type": "display_data"
        },
        {
          "data": {
            "text/html": [
              "\n",
              "    <div>\n",
              "      \n",
              "      <progress value='25256' max='25256' style='width:300px; height:20px; vertical-align: middle;'></progress>\n",
              "      [25256/25256 1:22:02, Epoch 4/4]\n",
              "    </div>\n",
              "    <table border=\"1\" class=\"dataframe\">\n",
              "  <thead>\n",
              " <tr style=\"text-align: left;\">\n",
              "      <th>Epoch</th>\n",
              "      <th>Training Loss</th>\n",
              "      <th>Validation Loss</th>\n",
              "      <th>Accuracy</th>\n",
              "      <th>Precision Cb</th>\n",
              "      <th>Recall Cb</th>\n",
              "      <th>F1 Cb</th>\n",
              "      <th>Precision Ncb</th>\n",
              "      <th>Recall Ncb</th>\n",
              "      <th>F1 Ncb</th>\n",
              "      <th>Precision Overall</th>\n",
              "      <th>Recall Overall</th>\n",
              "      <th>F1 Overall</th>\n",
              "    </tr>\n",
              "  </thead>\n",
              "  <tbody>\n",
              "    <tr>\n",
              "      <td>1</td>\n",
              "      <td>0.037900</td>\n",
              "      <td>0.040555</td>\n",
              "      <td>0.990646</td>\n",
              "      <td>0.930417</td>\n",
              "      <td>0.869888</td>\n",
              "      <td>0.899135</td>\n",
              "      <td>0.993471</td>\n",
              "      <td>0.996725</td>\n",
              "      <td>0.995096</td>\n",
              "      <td>0.961944</td>\n",
              "      <td>0.933307</td>\n",
              "      <td>0.947115</td>\n",
              "    </tr>\n",
              "    <tr>\n",
              "      <td>2</td>\n",
              "      <td>0.021400</td>\n",
              "      <td>0.053833</td>\n",
              "      <td>0.990200</td>\n",
              "      <td>0.914729</td>\n",
              "      <td>0.877323</td>\n",
              "      <td>0.895636</td>\n",
              "      <td>0.993837</td>\n",
              "      <td>0.995883</td>\n",
              "      <td>0.994859</td>\n",
              "      <td>0.954283</td>\n",
              "      <td>0.936603</td>\n",
              "      <td>0.945247</td>\n",
              "    </tr>\n",
              "    <tr>\n",
              "      <td>3</td>\n",
              "      <td>0.012900</td>\n",
              "      <td>0.051877</td>\n",
              "      <td>0.990468</td>\n",
              "      <td>0.908918</td>\n",
              "      <td>0.890335</td>\n",
              "      <td>0.899531</td>\n",
              "      <td>0.994485</td>\n",
              "      <td>0.995509</td>\n",
              "      <td>0.994996</td>\n",
              "      <td>0.951702</td>\n",
              "      <td>0.942922</td>\n",
              "      <td>0.947264</td>\n",
              "    </tr>\n",
              "    <tr>\n",
              "      <td>4</td>\n",
              "      <td>0.010800</td>\n",
              "      <td>0.061512</td>\n",
              "      <td>0.991002</td>\n",
              "      <td>0.930966</td>\n",
              "      <td>0.877323</td>\n",
              "      <td>0.903349</td>\n",
              "      <td>0.993842</td>\n",
              "      <td>0.996725</td>\n",
              "      <td>0.995281</td>\n",
              "      <td>0.962404</td>\n",
              "      <td>0.937024</td>\n",
              "      <td>0.949315</td>\n",
              "    </tr>\n",
              "  </tbody>\n",
              "</table><p>"
            ],
            "text/plain": [
              "<IPython.core.display.HTML object>"
            ]
          },
          "metadata": {},
          "output_type": "display_data"
        },
        {
          "name": "stderr",
          "output_type": "stream",
          "text": [
            "5it [6:52:26, 4949.26s/it]"
          ]
        },
        {
          "name": "stdout",
          "output_type": "stream",
          "text": [
            "Complete for fold 5\n"
          ]
        },
        {
          "name": "stderr",
          "output_type": "stream",
          "text": [
            "\n"
          ]
        }
      ],
      "source": [
        "run_cross_validation(model_name='DistilBert',\n",
        "                         X=X,\n",
        "                         y=y,\n",
        "                         splits=5,\n",
        "                         epoch=4,\n",
        "                         checkpoint=False)"
      ]
    },
    {
      "cell_type": "markdown",
      "id": "a3cabdda-c5a2-44ef-b8ef-61de87bc9003",
      "metadata": {
        "id": "a3cabdda-c5a2-44ef-b8ef-61de87bc9003",
        "jp-MarkdownHeadingCollapsed": true,
        "tags": []
      },
      "source": [
        "### [Continue] Cross Validation (K = 5)"
      ]
    },
    {
      "cell_type": "code",
      "execution_count": 10,
      "id": "20a158e0-251b-47f3-80bb-f5a47f2496a0",
      "metadata": {
        "colab": {
          "base_uri": "https://localhost:8080/",
          "height": 709
        },
        "execution": {
          "iopub.execute_input": "2023-08-23T04:53:50.739453Z",
          "iopub.status.busy": "2023-08-23T04:53:50.738656Z",
          "iopub.status.idle": "2023-08-23T04:55:32.379042Z",
          "shell.execute_reply": "2023-08-23T04:55:32.378209Z",
          "shell.execute_reply.started": "2023-08-23T04:53:50.739429Z"
        },
        "id": "20a158e0-251b-47f3-80bb-f5a47f2496a0",
        "outputId": "7ad559bf-f280-4f64-a064-5f415539953e"
      },
      "outputs": [
        {
          "name": "stdout",
          "output_type": "stream",
          "text": [
            "Developing Model with Cross validation for: DistilBert\n"
          ]
        },
        {
          "name": "stderr",
          "output_type": "stream",
          "text": [
            "\r0it [00:00, ?it/s]"
          ]
        },
        {
          "name": "stdout",
          "output_type": "stream",
          "text": [
            "Running for Fold:  1\n"
          ]
        },
        {
          "name": "stderr",
          "output_type": "stream",
          "text": [
            "/usr/local/lib/python3.10/dist-packages/transformers/training_args.py:1474: FutureWarning: `evaluation_strategy` is deprecated and will be removed in version 4.46 of 🤗 Transformers. Use `eval_strategy` instead\n",
            "  warnings.warn(\n"
          ]
        },
        {
          "data": {
            "text/html": [
              "\n",
              "    <div>\n",
              "      \n",
              "      <progress value='25256' max='25256' style='width:300px; height:20px; vertical-align: middle;'></progress>\n",
              "      [25256/25256 : < :, Epoch 4/4]\n",
              "    </div>\n",
              "    <table border=\"1\" class=\"dataframe\">\n",
              "  <thead>\n",
              " <tr style=\"text-align: left;\">\n",
              "      <th>Epoch</th>\n",
              "      <th>Training Loss</th>\n",
              "      <th>Validation Loss</th>\n",
              "    </tr>\n",
              "  </thead>\n",
              "  <tbody>\n",
              "  </tbody>\n",
              "</table><p>"
            ],
            "text/plain": [
              "<IPython.core.display.HTML object>"
            ]
          },
          "metadata": {},
          "output_type": "display_data"
        },
        {
          "name": "stderr",
          "output_type": "stream",
          "text": [
            "\r1it [00:23, 23.20s/it]"
          ]
        },
        {
          "name": "stdout",
          "output_type": "stream",
          "text": [
            "Complete for fold 1\n",
            "Running for Fold:  2\n"
          ]
        },
        {
          "name": "stderr",
          "output_type": "stream",
          "text": [
            "/usr/local/lib/python3.10/dist-packages/transformers/training_args.py:1474: FutureWarning: `evaluation_strategy` is deprecated and will be removed in version 4.46 of 🤗 Transformers. Use `eval_strategy` instead\n",
            "  warnings.warn(\n"
          ]
        },
        {
          "data": {
            "text/html": [
              "\n",
              "    <div>\n",
              "      \n",
              "      <progress value='25256' max='25256' style='width:300px; height:20px; vertical-align: middle;'></progress>\n",
              "      [25256/25256 : < :, Epoch 4/4]\n",
              "    </div>\n",
              "    <table border=\"1\" class=\"dataframe\">\n",
              "  <thead>\n",
              " <tr style=\"text-align: left;\">\n",
              "      <th>Epoch</th>\n",
              "      <th>Training Loss</th>\n",
              "      <th>Validation Loss</th>\n",
              "    </tr>\n",
              "  </thead>\n",
              "  <tbody>\n",
              "  </tbody>\n",
              "</table><p>"
            ],
            "text/plain": [
              "<IPython.core.display.HTML object>"
            ]
          },
          "metadata": {},
          "output_type": "display_data"
        },
        {
          "name": "stderr",
          "output_type": "stream",
          "text": [
            "\r2it [00:49, 25.28s/it]"
          ]
        },
        {
          "name": "stdout",
          "output_type": "stream",
          "text": [
            "Complete for fold 2\n",
            "Running for Fold:  3\n"
          ]
        },
        {
          "name": "stderr",
          "output_type": "stream",
          "text": [
            "/usr/local/lib/python3.10/dist-packages/transformers/training_args.py:1474: FutureWarning: `evaluation_strategy` is deprecated and will be removed in version 4.46 of 🤗 Transformers. Use `eval_strategy` instead\n",
            "  warnings.warn(\n"
          ]
        },
        {
          "data": {
            "text/html": [
              "\n",
              "    <div>\n",
              "      \n",
              "      <progress value='25256' max='25256' style='width:300px; height:20px; vertical-align: middle;'></progress>\n",
              "      [25256/25256 : < :, Epoch 4/4]\n",
              "    </div>\n",
              "    <table border=\"1\" class=\"dataframe\">\n",
              "  <thead>\n",
              " <tr style=\"text-align: left;\">\n",
              "      <th>Epoch</th>\n",
              "      <th>Training Loss</th>\n",
              "      <th>Validation Loss</th>\n",
              "    </tr>\n",
              "  </thead>\n",
              "  <tbody>\n",
              "  </tbody>\n",
              "</table><p>"
            ],
            "text/plain": [
              "<IPython.core.display.HTML object>"
            ]
          },
          "metadata": {},
          "output_type": "display_data"
        },
        {
          "name": "stderr",
          "output_type": "stream",
          "text": [
            "\r3it [01:06, 21.41s/it]"
          ]
        },
        {
          "name": "stdout",
          "output_type": "stream",
          "text": [
            "Complete for fold 3\n",
            "Running for Fold:  4\n"
          ]
        },
        {
          "name": "stderr",
          "output_type": "stream",
          "text": [
            "/usr/local/lib/python3.10/dist-packages/transformers/training_args.py:1474: FutureWarning: `evaluation_strategy` is deprecated and will be removed in version 4.46 of 🤗 Transformers. Use `eval_strategy` instead\n",
            "  warnings.warn(\n"
          ]
        },
        {
          "data": {
            "text/html": [
              "\n",
              "    <div>\n",
              "      \n",
              "      <progress value='25256' max='25256' style='width:300px; height:20px; vertical-align: middle;'></progress>\n",
              "      [25256/25256 : < :, Epoch 4/4]\n",
              "    </div>\n",
              "    <table border=\"1\" class=\"dataframe\">\n",
              "  <thead>\n",
              " <tr style=\"text-align: left;\">\n",
              "      <th>Epoch</th>\n",
              "      <th>Training Loss</th>\n",
              "      <th>Validation Loss</th>\n",
              "    </tr>\n",
              "  </thead>\n",
              "  <tbody>\n",
              "  </tbody>\n",
              "</table><p>"
            ],
            "text/plain": [
              "<IPython.core.display.HTML object>"
            ]
          },
          "metadata": {},
          "output_type": "display_data"
        },
        {
          "name": "stderr",
          "output_type": "stream",
          "text": [
            "\r4it [01:23, 19.66s/it]"
          ]
        },
        {
          "name": "stdout",
          "output_type": "stream",
          "text": [
            "Complete for fold 4\n",
            "Running for Fold:  5\n"
          ]
        },
        {
          "name": "stderr",
          "output_type": "stream",
          "text": [
            "/usr/local/lib/python3.10/dist-packages/transformers/training_args.py:1474: FutureWarning: `evaluation_strategy` is deprecated and will be removed in version 4.46 of 🤗 Transformers. Use `eval_strategy` instead\n",
            "  warnings.warn(\n"
          ]
        },
        {
          "data": {
            "text/html": [
              "\n",
              "    <div>\n",
              "      \n",
              "      <progress value='25256' max='25256' style='width:300px; height:20px; vertical-align: middle;'></progress>\n",
              "      [25256/25256 : < :, Epoch 4/4]\n",
              "    </div>\n",
              "    <table border=\"1\" class=\"dataframe\">\n",
              "  <thead>\n",
              " <tr style=\"text-align: left;\">\n",
              "      <th>Epoch</th>\n",
              "      <th>Training Loss</th>\n",
              "      <th>Validation Loss</th>\n",
              "    </tr>\n",
              "  </thead>\n",
              "  <tbody>\n",
              "  </tbody>\n",
              "</table><p>"
            ],
            "text/plain": [
              "<IPython.core.display.HTML object>"
            ]
          },
          "metadata": {},
          "output_type": "display_data"
        },
        {
          "name": "stderr",
          "output_type": "stream",
          "text": [
            "5it [01:40, 20.06s/it]"
          ]
        },
        {
          "name": "stdout",
          "output_type": "stream",
          "text": [
            "Complete for fold 5\n"
          ]
        },
        {
          "name": "stderr",
          "output_type": "stream",
          "text": [
            "\n"
          ]
        }
      ],
      "source": [
        "run_cross_validation(model_name='DistilBert',\n",
        "                         X=X,\n",
        "                         y=y,\n",
        "                         splits=5,\n",
        "                         epoch=4,\n",
        "                         checkpoint=True)"
      ]
    },
    {
      "cell_type": "markdown",
      "id": "W4F4117sKwZQ",
      "metadata": {
        "id": "W4F4117sKwZQ"
      },
      "source": [
        "## Hold Out Split"
      ]
    },
    {
      "cell_type": "code",
      "execution_count": 11,
      "id": "6f37e94d-0b71-406e-b0d3-e2e6c6ead9c7",
      "metadata": {
        "colab": {
          "base_uri": "https://localhost:8080/",
          "height": 307
        },
        "execution": {
          "iopub.execute_input": "2023-08-23T04:55:36.875039Z",
          "iopub.status.busy": "2023-08-23T04:55:36.874397Z",
          "iopub.status.idle": "2023-08-23T05:54:30.844732Z",
          "shell.execute_reply": "2023-08-23T05:54:30.844170Z",
          "shell.execute_reply.started": "2023-08-23T04:55:36.875014Z"
        },
        "id": "6f37e94d-0b71-406e-b0d3-e2e6c6ead9c7",
        "outputId": "f056088d-7196-4f7b-e593-f74d78fd03d6"
      },
      "outputs": [
        {
          "name": "stdout",
          "output_type": "stream",
          "text": [
            "Developing Model with Hold Out Splits for: DistilBert\n"
          ]
        },
        {
          "name": "stderr",
          "output_type": "stream",
          "text": [
            "/usr/local/lib/python3.10/dist-packages/transformers/training_args.py:1474: FutureWarning: `evaluation_strategy` is deprecated and will be removed in version 4.46 of 🤗 Transformers. Use `eval_strategy` instead\n",
            "  warnings.warn(\n"
          ]
        },
        {
          "data": {
            "text/html": [
              "\n",
              "    <div>\n",
              "      \n",
              "      <progress value='25256' max='25256' style='width:300px; height:20px; vertical-align: middle;'></progress>\n",
              "      [25256/25256 1:22:03, Epoch 4/4]\n",
              "    </div>\n",
              "    <table border=\"1\" class=\"dataframe\">\n",
              "  <thead>\n",
              " <tr style=\"text-align: left;\">\n",
              "      <th>Epoch</th>\n",
              "      <th>Training Loss</th>\n",
              "      <th>Validation Loss</th>\n",
              "      <th>Accuracy</th>\n",
              "      <th>Precision Cb</th>\n",
              "      <th>Recall Cb</th>\n",
              "      <th>F1 Cb</th>\n",
              "      <th>Precision Ncb</th>\n",
              "      <th>Recall Ncb</th>\n",
              "      <th>F1 Ncb</th>\n",
              "      <th>Precision Overall</th>\n",
              "      <th>Recall Overall</th>\n",
              "      <th>F1 Overall</th>\n",
              "    </tr>\n",
              "  </thead>\n",
              "  <tbody>\n",
              "    <tr>\n",
              "      <td>1</td>\n",
              "      <td>0.029500</td>\n",
              "      <td>0.041521</td>\n",
              "      <td>0.991626</td>\n",
              "      <td>0.953061</td>\n",
              "      <td>0.868030</td>\n",
              "      <td>0.908560</td>\n",
              "      <td>0.993386</td>\n",
              "      <td>0.997848</td>\n",
              "      <td>0.995612</td>\n",
              "      <td>0.973224</td>\n",
              "      <td>0.932939</td>\n",
              "      <td>0.952086</td>\n",
              "    </tr>\n",
              "    <tr>\n",
              "      <td>2</td>\n",
              "      <td>0.019500</td>\n",
              "      <td>0.035782</td>\n",
              "      <td>0.992249</td>\n",
              "      <td>0.927894</td>\n",
              "      <td>0.908922</td>\n",
              "      <td>0.918310</td>\n",
              "      <td>0.995420</td>\n",
              "      <td>0.996444</td>\n",
              "      <td>0.995932</td>\n",
              "      <td>0.961657</td>\n",
              "      <td>0.952683</td>\n",
              "      <td>0.957121</td>\n",
              "    </tr>\n",
              "    <tr>\n",
              "      <td>3</td>\n",
              "      <td>0.013300</td>\n",
              "      <td>0.045388</td>\n",
              "      <td>0.991537</td>\n",
              "      <td>0.933464</td>\n",
              "      <td>0.886617</td>\n",
              "      <td>0.909438</td>\n",
              "      <td>0.994307</td>\n",
              "      <td>0.996819</td>\n",
              "      <td>0.995561</td>\n",
              "      <td>0.963885</td>\n",
              "      <td>0.941718</td>\n",
              "      <td>0.952499</td>\n",
              "    </tr>\n",
              "    <tr>\n",
              "      <td>4</td>\n",
              "      <td>0.006900</td>\n",
              "      <td>0.047348</td>\n",
              "      <td>0.992517</td>\n",
              "      <td>0.945098</td>\n",
              "      <td>0.895911</td>\n",
              "      <td>0.919847</td>\n",
              "      <td>0.994774</td>\n",
              "      <td>0.997380</td>\n",
              "      <td>0.996075</td>\n",
              "      <td>0.969936</td>\n",
              "      <td>0.946645</td>\n",
              "      <td>0.957961</td>\n",
              "    </tr>\n",
              "  </tbody>\n",
              "</table><p>"
            ],
            "text/plain": [
              "<IPython.core.display.HTML object>"
            ]
          },
          "metadata": {},
          "output_type": "display_data"
        },
        {
          "name": "stdout",
          "output_type": "stream",
          "text": [
            "Complete for hold-out validate set\n"
          ]
        }
      ],
      "source": [
        "#holdout\n",
        "run_hold_out_split(model_name='DistilBert',\n",
        "                       epoch=4,\n",
        "                       train_dataset=train_dataset,\n",
        "                       eval_dataset=val_dataset,\n",
        "                       checkpoint=False)"
      ]
    },
    {
      "cell_type": "code",
      "execution_count": 12,
      "id": "cbb07800-22ad-4740-8778-ff3922c37e18",
      "metadata": {
        "colab": {
          "base_uri": "https://localhost:8080/",
          "height": 165
        },
        "execution": {
          "iopub.execute_input": "2023-08-23T05:55:01.121071Z",
          "iopub.status.busy": "2023-08-23T05:55:01.120514Z",
          "iopub.status.idle": "2023-08-23T05:55:01.735365Z",
          "shell.execute_reply": "2023-08-23T05:55:01.734847Z",
          "shell.execute_reply.started": "2023-08-23T05:55:01.121048Z"
        },
        "id": "cbb07800-22ad-4740-8778-ff3922c37e18",
        "outputId": "362d937e-5474-434c-e9a0-0c6ac3e6c081"
      },
      "outputs": [
        {
          "name": "stdout",
          "output_type": "stream",
          "text": [
            "Developing Model with Hold Out Splits for: DistilBert\n"
          ]
        },
        {
          "name": "stderr",
          "output_type": "stream",
          "text": [
            "/usr/local/lib/python3.10/dist-packages/transformers/training_args.py:1474: FutureWarning: `evaluation_strategy` is deprecated and will be removed in version 4.46 of 🤗 Transformers. Use `eval_strategy` instead\n",
            "  warnings.warn(\n"
          ]
        },
        {
          "data": {
            "text/html": [
              "\n",
              "    <div>\n",
              "      \n",
              "      <progress value='25256' max='25256' style='width:300px; height:20px; vertical-align: middle;'></progress>\n",
              "      [25256/25256 : < :, Epoch 4/4]\n",
              "    </div>\n",
              "    <table border=\"1\" class=\"dataframe\">\n",
              "  <thead>\n",
              " <tr style=\"text-align: left;\">\n",
              "      <th>Epoch</th>\n",
              "      <th>Training Loss</th>\n",
              "      <th>Validation Loss</th>\n",
              "    </tr>\n",
              "  </thead>\n",
              "  <tbody>\n",
              "  </tbody>\n",
              "</table><p>"
            ],
            "text/plain": [
              "<IPython.core.display.HTML object>"
            ]
          },
          "metadata": {},
          "output_type": "display_data"
        },
        {
          "name": "stdout",
          "output_type": "stream",
          "text": [
            "Complete for hold-out validate set\n"
          ]
        }
      ],
      "source": [
        "#holdout\n",
        "run_hold_out_split(model_name='DistilBert',\n",
        "                       epoch=4,\n",
        "                       train_dataset=train_dataset,\n",
        "                       eval_dataset=val_dataset,\n",
        "                       checkpoint=True)"
      ]
    },
    {
      "cell_type": "markdown",
      "id": "w5vyE3EkK2JQ",
      "metadata": {
        "id": "w5vyE3EkK2JQ",
        "tags": []
      },
      "source": [
        "### Test Split Confusion Matrix"
      ]
    },
    {
      "cell_type": "markdown",
      "id": "fG7eAEaFtIYk",
      "metadata": {
        "id": "fG7eAEaFtIYk"
      },
      "source": [
        "#### Epoch 1\n"
      ]
    },
    {
      "cell_type": "code",
      "execution_count": 13,
      "id": "ab06398b",
      "metadata": {
        "colab": {
          "base_uri": "https://localhost:8080/",
          "height": 938
        },
        "execution": {
          "iopub.execute_input": "2023-08-23T05:56:21.384593Z",
          "iopub.status.busy": "2023-08-23T05:56:21.384326Z",
          "iopub.status.idle": "2023-08-23T05:56:56.201275Z",
          "shell.execute_reply": "2023-08-23T05:56:56.200795Z",
          "shell.execute_reply.started": "2023-08-23T05:56:21.384574Z"
        },
        "id": "ab06398b",
        "outputId": "2e0325d0-9b72-4af2-eabb-9dd26e671799"
      },
      "outputs": [
        {
          "data": {
            "text/html": [],
            "text/plain": [
              "<IPython.core.display.HTML object>"
            ]
          },
          "metadata": {},
          "output_type": "display_data"
        },
        {
          "name": "stdout",
          "output_type": "stream",
          "text": [
            "Classification Report:\n",
            "              precision    recall  f1-score   support\n",
            "\n",
            "           0       0.99      1.00      1.00     10687\n",
            "           1       0.95      0.87      0.91       538\n",
            "\n",
            "    accuracy                           0.99     11225\n",
            "   macro avg       0.97      0.93      0.95     11225\n",
            "weighted avg       0.99      0.99      0.99     11225\n",
            "\n",
            "\n",
            "Label 1: Cyberbullying\n",
            "Precision:  0.9530612244897959\n",
            "Recall:  0.8680297397769516\n",
            "F-measure:  0.9085603112840466\n",
            "\n",
            "Label 0: Non-Cyberbullying\n",
            "Precision:  0.9933861201676758\n",
            "Recall:  0.9978478525311125\n",
            "F-measure:  0.9956119876762206\n",
            "\n",
            "Macro Metrics\n",
            "Precision:  0.9732236723287359\n",
            "Recall:  0.9329387961540321\n",
            "F-measure:  0.9520861494801336\n",
            "\n"
          ]
        },
        {
          "data": {
            "image/png": "[encoded data removed]",
            "text/plain": [
              "<Figure size 800x500 with 2 Axes>"
            ]
          },
          "metadata": {},
          "output_type": "display_data"
        }
      ],
      "source": [
        "compute_metrics_holdout(model_name='DistilBert',\n",
        "                        model_path='/content/content/drive/MyDrive_binary/output_DistilBert/holdout/checkpoint-6314',\n",
        "                        average_method='binary',\n",
        "                        X_test=X_test)"
      ]
    },
    {
      "cell_type": "markdown",
      "id": "Ir4eL3T8gtLf",
      "metadata": {
        "id": "Ir4eL3T8gtLf"
      },
      "source": [
        "#### Epoch 2"
      ]
    },
    {
      "cell_type": "code",
      "execution_count": 14,
      "id": "u34gKYLGgtLr",
      "metadata": {
        "colab": {
          "base_uri": "https://localhost:8080/",
          "height": 938
        },
        "execution": {
          "iopub.execute_input": "2023-08-23T05:56:56.203218Z",
          "iopub.status.busy": "2023-08-23T05:56:56.202987Z",
          "iopub.status.idle": "2023-08-23T05:57:31.982347Z",
          "shell.execute_reply": "2023-08-23T05:57:31.981753Z",
          "shell.execute_reply.started": "2023-08-23T05:56:56.203199Z"
        },
        "id": "u34gKYLGgtLr",
        "outputId": "20ab8d01-c1c4-4fe3-99a4-4f9f1c29f7d5"
      },
      "outputs": [
        {
          "data": {
            "text/html": [],
            "text/plain": [
              "<IPython.core.display.HTML object>"
            ]
          },
          "metadata": {},
          "output_type": "display_data"
        },
        {
          "name": "stdout",
          "output_type": "stream",
          "text": [
            "Classification Report:\n",
            "              precision    recall  f1-score   support\n",
            "\n",
            "           0       1.00      1.00      1.00     10687\n",
            "           1       0.93      0.91      0.92       538\n",
            "\n",
            "    accuracy                           0.99     11225\n",
            "   macro avg       0.96      0.95      0.96     11225\n",
            "weighted avg       0.99      0.99      0.99     11225\n",
            "\n",
            "\n",
            "Label 1: Cyberbullying\n",
            "Precision:  0.9278937381404174\n",
            "Recall:  0.9089219330855018\n",
            "F-measure:  0.9183098591549296\n",
            "\n",
            "Label 0: Non-Cyberbullying\n",
            "Precision:  0.9954197046176856\n",
            "Recall:  0.9964442780948817\n",
            "F-measure:  0.9959317278466214\n",
            "\n",
            "Macro Metrics\n",
            "Precision:  0.9616567213790514\n",
            "Recall:  0.9526831055901918\n",
            "F-measure:  0.9571207935007755\n",
            "\n"
          ]
        },
        {
          "data": {
            "image/png": "[encoded data removed]",
            "text/plain": [
              "<Figure size 800x500 with 2 Axes>"
            ]
          },
          "metadata": {},
          "output_type": "display_data"
        }
      ],
      "source": [
        "compute_metrics_holdout(model_name='DistilBert',\n",
        "                        model_path='/content/content/drive/MyDrive_binary/output_DistilBert/holdout/checkpoint-12628',\n",
        "                        average_method='binary',\n",
        "                        X_test=X_test)"
      ]
    },
    {
      "cell_type": "markdown",
      "id": "KdECewOiL4tf",
      "metadata": {
        "id": "KdECewOiL4tf"
      },
      "source": [
        "#### Epoch 3"
      ]
    },
    {
      "cell_type": "code",
      "execution_count": 15,
      "id": "Rj2PqaNBL4tg",
      "metadata": {
        "colab": {
          "base_uri": "https://localhost:8080/",
          "height": 938
        },
        "execution": {
          "iopub.execute_input": "2023-08-23T05:57:31.983262Z",
          "iopub.status.busy": "2023-08-23T05:57:31.983091Z",
          "iopub.status.idle": "2023-08-23T05:58:07.367089Z",
          "shell.execute_reply": "2023-08-23T05:58:07.366320Z",
          "shell.execute_reply.started": "2023-08-23T05:57:31.983246Z"
        },
        "id": "Rj2PqaNBL4tg",
        "outputId": "1f22a48e-8b9d-4113-d1ec-274a410303de"
      },
      "outputs": [
        {
          "data": {
            "text/html": [],
            "text/plain": [
              "<IPython.core.display.HTML object>"
            ]
          },
          "metadata": {},
          "output_type": "display_data"
        },
        {
          "name": "stdout",
          "output_type": "stream",
          "text": [
            "Classification Report:\n",
            "              precision    recall  f1-score   support\n",
            "\n",
            "           0       0.99      1.00      1.00     10687\n",
            "           1       0.93      0.89      0.91       538\n",
            "\n",
            "    accuracy                           0.99     11225\n",
            "   macro avg       0.96      0.94      0.95     11225\n",
            "weighted avg       0.99      0.99      0.99     11225\n",
            "\n",
            "\n",
            "Label 1: Cyberbullying\n",
            "Precision:  0.9334637964774951\n",
            "Recall:  0.8866171003717472\n",
            "F-measure:  0.909437559580553\n",
            "\n",
            "Label 0: Non-Cyberbullying\n",
            "Precision:  0.9943065148403958\n",
            "Recall:  0.9968185646112099\n",
            "F-measure:  0.9955609550955564\n",
            "\n",
            "Macro Metrics\n",
            "Precision:  0.9638851556589454\n",
            "Recall:  0.9417178324914786\n",
            "F-measure:  0.9524992573380546\n",
            "\n"
          ]
        },
        {
          "data": {
            "image/png": "[encoded data removed]",
            "text/plain": [
              "<Figure size 800x500 with 2 Axes>"
            ]
          },
          "metadata": {},
          "output_type": "display_data"
        }
      ],
      "source": [
        "compute_metrics_holdout(model_name='DistilBert',\n",
        "                        model_path='/content/content/drive/MyDrive_binary/output_DistilBert/holdout/checkpoint-18942',\n",
        "                        average_method='binary',\n",
        "                        X_test=X_test)"
      ]
    },
    {
      "cell_type": "markdown",
      "id": "uFLTBUzxL4MC",
      "metadata": {
        "id": "uFLTBUzxL4MC"
      },
      "source": [
        "#### Epoch 4"
      ]
    },
    {
      "cell_type": "code",
      "execution_count": 16,
      "id": "MrkHnZgHL4MC",
      "metadata": {
        "colab": {
          "base_uri": "https://localhost:8080/",
          "height": 938
        },
        "execution": {
          "iopub.execute_input": "2023-08-23T05:55:36.421405Z",
          "iopub.status.busy": "2023-08-23T05:55:36.421117Z",
          "iopub.status.idle": "2023-08-23T05:56:11.719122Z",
          "shell.execute_reply": "2023-08-23T05:56:11.718573Z",
          "shell.execute_reply.started": "2023-08-23T05:55:36.421389Z"
        },
        "id": "MrkHnZgHL4MC",
        "outputId": "62a12200-ccf4-4210-9eb2-e92c9519fd31"
      },
      "outputs": [
        {
          "data": {
            "text/html": [],
            "text/plain": [
              "<IPython.core.display.HTML object>"
            ]
          },
          "metadata": {},
          "output_type": "display_data"
        },
        {
          "name": "stdout",
          "output_type": "stream",
          "text": [
            "Classification Report:\n",
            "              precision    recall  f1-score   support\n",
            "\n",
            "           0       0.99      1.00      1.00     10687\n",
            "           1       0.95      0.90      0.92       538\n",
            "\n",
            "    accuracy                           0.99     11225\n",
            "   macro avg       0.97      0.95      0.96     11225\n",
            "weighted avg       0.99      0.99      0.99     11225\n",
            "\n",
            "\n",
            "Label 1: Cyberbullying\n",
            "Precision:  0.9450980392156862\n",
            "Recall:  0.895910780669145\n",
            "F-measure:  0.919847328244275\n",
            "\n",
            "Label 0: Non-Cyberbullying\n",
            "Precision:  0.9947736817545497\n",
            "Recall:  0.9973799943857022\n",
            "F-measure:  0.9960751331651249\n",
            "\n",
            "Macro Metrics\n",
            "Precision:  0.969935860485118\n",
            "Recall:  0.9466453875274237\n",
            "F-measure:  0.9579612307046999\n",
            "\n"
          ]
        },
        {
          "data": {
            "image/png": "[encoded data removed]",
            "text/plain": [
              "<Figure size 800x500 with 2 Axes>"
            ]
          },
          "metadata": {},
          "output_type": "display_data"
        }
      ],
      "source": [
        "compute_metrics_holdout(model_name='DistilBert',\n",
        "                        model_path='/content/content/drive/MyDrive_binary/output_DistilBert/holdout/checkpoint-25256',\n",
        "                        average_method='binary',\n",
        "                        X_test=X_test)"
      ]
    }
  ],
  "metadata": {
    "accelerator": "GPU",
    "colab": {
      "collapsed_sections": [
        "fG7eAEaFtIYk",
        "Ir4eL3T8gtLf",
        "KdECewOiL4tf",
        "uFLTBUzxL4MC"
      ],
      "gpuType": "A100",
      "machine_shape": "hm",
      "provenance": []
    },
    "kernelspec": {
      "display_name": "Python 3",
      "name": "python3"
    },
    "language_info": {
      "codemirror_mode": {
        "name": "ipython",
        "version": 3
      },
      "file_extension": ".py",
      "mimetype": "text/x-python",
      "name": "python",
      "nbconvert_exporter": "python",
      "pygments_lexer": "ipython3",
      "version": "3.9.16"
    },
    "widgets": {
      "application/vnd.jupyter.widget-state+json": {
        "015048b846f5488a957a80a113d0f545": {
          "model_module": "@jupyter-widgets/base",
          "model_module_version": "1.2.0",
          "model_name": "LayoutModel",
          "state": {
            "_model_module": "@jupyter-widgets/base",
            "_model_module_version": "1.2.0",
            "_model_name": "LayoutModel",
            "_view_count": null,
            "_view_module": "@jupyter-widgets/base",
            "_view_module_version": "1.2.0",
            "_view_name": "LayoutView",
            "align_content": null,
            "align_items": null,
            "align_self": null,
            "border": null,
            "bottom": null,
            "display": null,
            "flex": null,
            "flex_flow": null,
            "grid_area": null,
            "grid_auto_columns": null,
            "grid_auto_flow": null,
            "grid_auto_rows": null,
            "grid_column": null,
            "grid_gap": null,
            "grid_row": null,
            "grid_template_areas": null,
            "grid_template_columns": null,
            "grid_template_rows": null,
            "height": null,
            "justify_content": null,
            "justify_items": null,
            "left": null,
            "margin": null,
            "max_height": null,
            "max_width": null,
            "min_height": null,
            "min_width": null,
            "object_fit": null,
            "object_position": null,
            "order": null,
            "overflow": null,
            "overflow_x": null,
            "overflow_y": null,
            "padding": null,
            "right": null,
            "top": null,
            "visibility": null,
            "width": null
          }
        },
        "02c9657861544d0baf009b6fea04777b": {
          "model_module": "@jupyter-widgets/controls",
          "model_module_version": "1.5.0",
          "model_name": "DescriptionStyleModel",
          "state": {
            "_model_module": "@jupyter-widgets/controls",
            "_model_module_version": "1.5.0",
            "_model_name": "DescriptionStyleModel",
            "_view_count": null,
            "_view_module": "@jupyter-widgets/base",
            "_view_module_version": "1.2.0",
            "_view_name": "StyleView",
            "description_width": ""
          }
        },
        "0cf22338432a41b5a4fcbde46c4db3b9": {
          "model_module": "@jupyter-widgets/controls",
          "model_module_version": "1.5.0",
          "model_name": "ProgressStyleModel",
          "state": {
            "_model_module": "@jupyter-widgets/controls",
            "_model_module_version": "1.5.0",
            "_model_name": "ProgressStyleModel",
            "_view_count": null,
            "_view_module": "@jupyter-widgets/base",
            "_view_module_version": "1.2.0",
            "_view_name": "StyleView",
            "bar_color": null,
            "description_width": ""
          }
        },
        "0fb4e41b234c46ef811d3dca4b53246f": {
          "model_module": "@jupyter-widgets/base",
          "model_module_version": "1.2.0",
          "model_name": "LayoutModel",
          "state": {
            "_model_module": "@jupyter-widgets/base",
            "_model_module_version": "1.2.0",
            "_model_name": "LayoutModel",
            "_view_count": null,
            "_view_module": "@jupyter-widgets/base",
            "_view_module_version": "1.2.0",
            "_view_name": "LayoutView",
            "align_content": null,
            "align_items": null,
            "align_self": null,
            "border": null,
            "bottom": null,
            "display": null,
            "flex": null,
            "flex_flow": null,
            "grid_area": null,
            "grid_auto_columns": null,
            "grid_auto_flow": null,
            "grid_auto_rows": null,
            "grid_column": null,
            "grid_gap": null,
            "grid_row": null,
            "grid_template_areas": null,
            "grid_template_columns": null,
            "grid_template_rows": null,
            "height": null,
            "justify_content": null,
            "justify_items": null,
            "left": null,
            "margin": null,
            "max_height": null,
            "max_width": null,
            "min_height": null,
            "min_width": null,
            "object_fit": null,
            "object_position": null,
            "order": null,
            "overflow": null,
            "overflow_x": null,
            "overflow_y": null,
            "padding": null,
            "right": null,
            "top": null,
            "visibility": null,
            "width": null
          }
        },
        "130c6394da5c44e0b2cea314c9f234d5": {
          "model_module": "@jupyter-widgets/controls",
          "model_module_version": "1.5.0",
          "model_name": "ProgressStyleModel",
          "state": {
            "_model_module": "@jupyter-widgets/controls",
            "_model_module_version": "1.5.0",
            "_model_name": "ProgressStyleModel",
            "_view_count": null,
            "_view_module": "@jupyter-widgets/base",
            "_view_module_version": "1.2.0",
            "_view_name": "StyleView",
            "bar_color": null,
            "description_width": ""
          }
        },
        "1b9376214ffc4541a26d60340fe78e44": {
          "model_module": "@jupyter-widgets/base",
          "model_module_version": "1.2.0",
          "model_name": "LayoutModel",
          "state": {
            "_model_module": "@jupyter-widgets/base",
            "_model_module_version": "1.2.0",
            "_model_name": "LayoutModel",
            "_view_count": null,
            "_view_module": "@jupyter-widgets/base",
            "_view_module_version": "1.2.0",
            "_view_name": "LayoutView",
            "align_content": null,
            "align_items": null,
            "align_self": null,
            "border": null,
            "bottom": null,
            "display": null,
            "flex": null,
            "flex_flow": null,
            "grid_area": null,
            "grid_auto_columns": null,
            "grid_auto_flow": null,
            "grid_auto_rows": null,
            "grid_column": null,
            "grid_gap": null,
            "grid_row": null,
            "grid_template_areas": null,
            "grid_template_columns": null,
            "grid_template_rows": null,
            "height": null,
            "justify_content": null,
            "justify_items": null,
            "left": null,
            "margin": null,
            "max_height": null,
            "max_width": null,
            "min_height": null,
            "min_width": null,
            "object_fit": null,
            "object_position": null,
            "order": null,
            "overflow": null,
            "overflow_x": null,
            "overflow_y": null,
            "padding": null,
            "right": null,
            "top": null,
            "visibility": null,
            "width": null
          }
        },
        "202a0a5c983d4d9988642c5c3251d9bf": {
          "model_module": "@jupyter-widgets/base",
          "model_module_version": "1.2.0",
          "model_name": "LayoutModel",
          "state": {
            "_model_module": "@jupyter-widgets/base",
            "_model_module_version": "1.2.0",
            "_model_name": "LayoutModel",
            "_view_count": null,
            "_view_module": "@jupyter-widgets/base",
            "_view_module_version": "1.2.0",
            "_view_name": "LayoutView",
            "align_content": null,
            "align_items": null,
            "align_self": null,
            "border": null,
            "bottom": null,
            "display": null,
            "flex": null,
            "flex_flow": null,
            "grid_area": null,
            "grid_auto_columns": null,
            "grid_auto_flow": null,
            "grid_auto_rows": null,
            "grid_column": null,
            "grid_gap": null,
            "grid_row": null,
            "grid_template_areas": null,
            "grid_template_columns": null,
            "grid_template_rows": null,
            "height": null,
            "justify_content": null,
            "justify_items": null,
            "left": null,
            "margin": null,
            "max_height": null,
            "max_width": null,
            "min_height": null,
            "min_width": null,
            "object_fit": null,
            "object_position": null,
            "order": null,
            "overflow": null,
            "overflow_x": null,
            "overflow_y": null,
            "padding": null,
            "right": null,
            "top": null,
            "visibility": null,
            "width": null
          }
        },
        "24d85141e5f0446c934e15a7a1ac4f41": {
          "model_module": "@jupyter-widgets/controls",
          "model_module_version": "1.5.0",
          "model_name": "HTMLModel",
          "state": {
            "_dom_classes": [],
            "_model_module": "@jupyter-widgets/controls",
            "_model_module_version": "1.5.0",
            "_model_name": "HTMLModel",
            "_view_count": null,
            "_view_module": "@jupyter-widgets/controls",
            "_view_module_version": "1.5.0",
            "_view_name": "HTMLView",
            "description": "",
            "description_tooltip": null,
            "layout": "IPY_MODEL_015048b846f5488a957a80a113d0f545",
            "placeholder": "​",
            "style": "IPY_MODEL_bc7484562c41433ea285fbdd549f37a0",
            "value": " 466k/466k [00:00&lt;00:00, 26.1MB/s]"
          }
        },
        "2d8e865ff2ae460195c3b4a6545c7ce3": {
          "model_module": "@jupyter-widgets/controls",
          "model_module_version": "1.5.0",
          "model_name": "FloatProgressModel",
          "state": {
            "_dom_classes": [],
            "_model_module": "@jupyter-widgets/controls",
            "_model_module_version": "1.5.0",
            "_model_name": "FloatProgressModel",
            "_view_count": null,
            "_view_module": "@jupyter-widgets/controls",
            "_view_module_version": "1.5.0",
            "_view_name": "ProgressView",
            "bar_style": "success",
            "description": "",
            "description_tooltip": null,
            "layout": "IPY_MODEL_c1afd1f30f9643878b41c4acf31cc11b",
            "max": 483,
            "min": 0,
            "orientation": "horizontal",
            "style": "IPY_MODEL_0cf22338432a41b5a4fcbde46c4db3b9",
            "value": 483
          }
        },
        "2da9b18c812c4b318a9419ac633871bb": {
          "model_module": "@jupyter-widgets/base",
          "model_module_version": "1.2.0",
          "model_name": "LayoutModel",
          "state": {
            "_model_module": "@jupyter-widgets/base",
            "_model_module_version": "1.2.0",
            "_model_name": "LayoutModel",
            "_view_count": null,
            "_view_module": "@jupyter-widgets/base",
            "_view_module_version": "1.2.0",
            "_view_name": "LayoutView",
            "align_content": null,
            "align_items": null,
            "align_self": null,
            "border": null,
            "bottom": null,
            "display": null,
            "flex": null,
            "flex_flow": null,
            "grid_area": null,
            "grid_auto_columns": null,
            "grid_auto_flow": null,
            "grid_auto_rows": null,
            "grid_column": null,
            "grid_gap": null,
            "grid_row": null,
            "grid_template_areas": null,
            "grid_template_columns": null,
            "grid_template_rows": null,
            "height": null,
            "justify_content": null,
            "justify_items": null,
            "left": null,
            "margin": null,
            "max_height": null,
            "max_width": null,
            "min_height": null,
            "min_width": null,
            "object_fit": null,
            "object_position": null,
            "order": null,
            "overflow": null,
            "overflow_x": null,
            "overflow_y": null,
            "padding": null,
            "right": null,
            "top": null,
            "visibility": null,
            "width": null
          }
        },
        "31a6eefbbd914afd83fa2d2c2e0554fe": {
          "model_module": "@jupyter-widgets/base",
          "model_module_version": "1.2.0",
          "model_name": "LayoutModel",
          "state": {
            "_model_module": "@jupyter-widgets/base",
            "_model_module_version": "1.2.0",
            "_model_name": "LayoutModel",
            "_view_count": null,
            "_view_module": "@jupyter-widgets/base",
            "_view_module_version": "1.2.0",
            "_view_name": "LayoutView",
            "align_content": null,
            "align_items": null,
            "align_self": null,
            "border": null,
            "bottom": null,
            "display": null,
            "flex": null,
            "flex_flow": null,
            "grid_area": null,
            "grid_auto_columns": null,
            "grid_auto_flow": null,
            "grid_auto_rows": null,
            "grid_column": null,
            "grid_gap": null,
            "grid_row": null,
            "grid_template_areas": null,
            "grid_template_columns": null,
            "grid_template_rows": null,
            "height": null,
            "justify_content": null,
            "justify_items": null,
            "left": null,
            "margin": null,
            "max_height": null,
            "max_width": null,
            "min_height": null,
            "min_width": null,
            "object_fit": null,
            "object_position": null,
            "order": null,
            "overflow": null,
            "overflow_x": null,
            "overflow_y": null,
            "padding": null,
            "right": null,
            "top": null,
            "visibility": null,
            "width": null
          }
        },
        "31ba77a40c8445c8b29ec65d81b1122a": {
          "model_module": "@jupyter-widgets/controls",
          "model_module_version": "1.5.0",
          "model_name": "FloatProgressModel",
          "state": {
            "_dom_classes": [],
            "_model_module": "@jupyter-widgets/controls",
            "_model_module_version": "1.5.0",
            "_model_name": "FloatProgressModel",
            "_view_count": null,
            "_view_module": "@jupyter-widgets/controls",
            "_view_module_version": "1.5.0",
            "_view_name": "ProgressView",
            "bar_style": "success",
            "description": "",
            "description_tooltip": null,
            "layout": "IPY_MODEL_7cfacda8f99a471e85f0eaa59da7b737",
            "max": 231508,
            "min": 0,
            "orientation": "horizontal",
            "style": "IPY_MODEL_e1c806fd833c498fabe64d02497026c1",
            "value": 231508
          }
        },
        "32d7ff39ccc64ea1b91083988bf112ec": {
          "model_module": "@jupyter-widgets/base",
          "model_module_version": "1.2.0",
          "model_name": "LayoutModel",
          "state": {
            "_model_module": "@jupyter-widgets/base",
            "_model_module_version": "1.2.0",
            "_model_name": "LayoutModel",
            "_view_count": null,
            "_view_module": "@jupyter-widgets/base",
            "_view_module_version": "1.2.0",
            "_view_name": "LayoutView",
            "align_content": null,
            "align_items": null,
            "align_self": null,
            "border": null,
            "bottom": null,
            "display": null,
            "flex": null,
            "flex_flow": null,
            "grid_area": null,
            "grid_auto_columns": null,
            "grid_auto_flow": null,
            "grid_auto_rows": null,
            "grid_column": null,
            "grid_gap": null,
            "grid_row": null,
            "grid_template_areas": null,
            "grid_template_columns": null,
            "grid_template_rows": null,
            "height": null,
            "justify_content": null,
            "justify_items": null,
            "left": null,
            "margin": null,
            "max_height": null,
            "max_width": null,
            "min_height": null,
            "min_width": null,
            "object_fit": null,
            "object_position": null,
            "order": null,
            "overflow": null,
            "overflow_x": null,
            "overflow_y": null,
            "padding": null,
            "right": null,
            "top": null,
            "visibility": null,
            "width": null
          }
        },
        "36fb1c571c964e24ad7816708c9e13e3": {
          "model_module": "@jupyter-widgets/controls",
          "model_module_version": "1.5.0",
          "model_name": "HTMLModel",
          "state": {
            "_dom_classes": [],
            "_model_module": "@jupyter-widgets/controls",
            "_model_module_version": "1.5.0",
            "_model_name": "HTMLModel",
            "_view_count": null,
            "_view_module": "@jupyter-widgets/controls",
            "_view_module_version": "1.5.0",
            "_view_name": "HTMLView",
            "description": "",
            "description_tooltip": null,
            "layout": "IPY_MODEL_c92fe10201554806a3f7fa431b94d300",
            "placeholder": "​",
            "style": "IPY_MODEL_83cfb8aef6fe4f7eb486f8f63db4878c",
            "value": "tokenizer_config.json: 100%"
          }
        },
        "3ea764c522b74512bf284fb8c32d2d10": {
          "model_module": "@jupyter-widgets/controls",
          "model_module_version": "1.5.0",
          "model_name": "HTMLModel",
          "state": {
            "_dom_classes": [],
            "_model_module": "@jupyter-widgets/controls",
            "_model_module_version": "1.5.0",
            "_model_name": "HTMLModel",
            "_view_count": null,
            "_view_module": "@jupyter-widgets/controls",
            "_view_module_version": "1.5.0",
            "_view_name": "HTMLView",
            "description": "",
            "description_tooltip": null,
            "layout": "IPY_MODEL_5afa397c4d104d9c9de95973f4621ea2",
            "placeholder": "​",
            "style": "IPY_MODEL_c6362860ff73452ea33a5f095298723e",
            "value": "100%"
          }
        },
        "405ae759a91448b9b3b6fc5d823a5075": {
          "model_module": "@jupyter-widgets/controls",
          "model_module_version": "1.5.0",
          "model_name": "HTMLModel",
          "state": {
            "_dom_classes": [],
            "_model_module": "@jupyter-widgets/controls",
            "_model_module_version": "1.5.0",
            "_model_name": "HTMLModel",
            "_view_count": null,
            "_view_module": "@jupyter-widgets/controls",
            "_view_module_version": "1.5.0",
            "_view_name": "HTMLView",
            "description": "",
            "description_tooltip": null,
            "layout": "IPY_MODEL_32d7ff39ccc64ea1b91083988bf112ec",
            "placeholder": "​",
            "style": "IPY_MODEL_cd5bf49bfe354598846b50c3c62b7e48",
            "value": "tokenizer.json: 100%"
          }
        },
        "491f463492704de0b13071871d463b10": {
          "model_module": "@jupyter-widgets/controls",
          "model_module_version": "1.5.0",
          "model_name": "HTMLModel",
          "state": {
            "_dom_classes": [],
            "_model_module": "@jupyter-widgets/controls",
            "_model_module_version": "1.5.0",
            "_model_name": "HTMLModel",
            "_view_count": null,
            "_view_module": "@jupyter-widgets/controls",
            "_view_module_version": "1.5.0",
            "_view_name": "HTMLView",
            "description": "",
            "description_tooltip": null,
            "layout": "IPY_MODEL_ab5488f705e342fb8b2b5b8b7fab4cf7",
            "placeholder": "​",
            "style": "IPY_MODEL_f609c50f65dd4903bfe97dea5680b1ec",
            "value": "model.safetensors: 100%"
          }
        },
        "4cf1d9a40e694811adf3b89084e78a9a": {
          "model_module": "@jupyter-widgets/controls",
          "model_module_version": "1.5.0",
          "model_name": "ProgressStyleModel",
          "state": {
            "_model_module": "@jupyter-widgets/controls",
            "_model_module_version": "1.5.0",
            "_model_name": "ProgressStyleModel",
            "_view_count": null,
            "_view_module": "@jupyter-widgets/base",
            "_view_module_version": "1.2.0",
            "_view_name": "StyleView",
            "bar_color": null,
            "description_width": ""
          }
        },
        "5afa397c4d104d9c9de95973f4621ea2": {
          "model_module": "@jupyter-widgets/base",
          "model_module_version": "1.2.0",
          "model_name": "LayoutModel",
          "state": {
            "_model_module": "@jupyter-widgets/base",
            "_model_module_version": "1.2.0",
            "_model_name": "LayoutModel",
            "_view_count": null,
            "_view_module": "@jupyter-widgets/base",
            "_view_module_version": "1.2.0",
            "_view_name": "LayoutView",
            "align_content": null,
            "align_items": null,
            "align_self": null,
            "border": null,
            "bottom": null,
            "display": null,
            "flex": null,
            "flex_flow": null,
            "grid_area": null,
            "grid_auto_columns": null,
            "grid_auto_flow": null,
            "grid_auto_rows": null,
            "grid_column": null,
            "grid_gap": null,
            "grid_row": null,
            "grid_template_areas": null,
            "grid_template_columns": null,
            "grid_template_rows": null,
            "height": null,
            "justify_content": null,
            "justify_items": null,
            "left": null,
            "margin": null,
            "max_height": null,
            "max_width": null,
            "min_height": null,
            "min_width": null,
            "object_fit": null,
            "object_position": null,
            "order": null,
            "overflow": null,
            "overflow_x": null,
            "overflow_y": null,
            "padding": null,
            "right": null,
            "top": null,
            "visibility": null,
            "width": null
          }
        },
        "5e9aff5b858a448cadde2ed5fd22a3ad": {
          "model_module": "@jupyter-widgets/controls",
          "model_module_version": "1.5.0",
          "model_name": "HBoxModel",
          "state": {
            "_dom_classes": [],
            "_model_module": "@jupyter-widgets/controls",
            "_model_module_version": "1.5.0",
            "_model_name": "HBoxModel",
            "_view_count": null,
            "_view_module": "@jupyter-widgets/controls",
            "_view_module_version": "1.5.0",
            "_view_name": "HBoxView",
            "box_style": "",
            "children": [
              "IPY_MODEL_405ae759a91448b9b3b6fc5d823a5075",
              "IPY_MODEL_dd636a7ca97e4285a38a4de8bdf1782d",
              "IPY_MODEL_24d85141e5f0446c934e15a7a1ac4f41"
            ],
            "layout": "IPY_MODEL_e5c62a4174c94fd28b59d1f9a2392cbd"
          }
        },
        "680e6537d8e54baba56f5d1a2e120d21": {
          "model_module": "@jupyter-widgets/controls",
          "model_module_version": "1.5.0",
          "model_name": "HTMLModel",
          "state": {
            "_dom_classes": [],
            "_model_module": "@jupyter-widgets/controls",
            "_model_module_version": "1.5.0",
            "_model_name": "HTMLModel",
            "_view_count": null,
            "_view_module": "@jupyter-widgets/controls",
            "_view_module_version": "1.5.0",
            "_view_name": "HTMLView",
            "description": "",
            "description_tooltip": null,
            "layout": "IPY_MODEL_31a6eefbbd914afd83fa2d2c2e0554fe",
            "placeholder": "​",
            "style": "IPY_MODEL_d2947ab2947a4bf29362290094551b4e",
            "value": "config.json: 100%"
          }
        },
        "68bf7f63b927495c9ddd487e13ec3c4a": {
          "model_module": "@jupyter-widgets/base",
          "model_module_version": "1.2.0",
          "model_name": "LayoutModel",
          "state": {
            "_model_module": "@jupyter-widgets/base",
            "_model_module_version": "1.2.0",
            "_model_name": "LayoutModel",
            "_view_count": null,
            "_view_module": "@jupyter-widgets/base",
            "_view_module_version": "1.2.0",
            "_view_name": "LayoutView",
            "align_content": null,
            "align_items": null,
            "align_self": null,
            "border": null,
            "bottom": null,
            "display": null,
            "flex": null,
            "flex_flow": null,
            "grid_area": null,
            "grid_auto_columns": null,
            "grid_auto_flow": null,
            "grid_auto_rows": null,
            "grid_column": null,
            "grid_gap": null,
            "grid_row": null,
            "grid_template_areas": null,
            "grid_template_columns": null,
            "grid_template_rows": null,
            "height": null,
            "justify_content": null,
            "justify_items": null,
            "left": null,
            "margin": null,
            "max_height": null,
            "max_width": null,
            "min_height": null,
            "min_width": null,
            "object_fit": null,
            "object_position": null,
            "order": null,
            "overflow": null,
            "overflow_x": null,
            "overflow_y": null,
            "padding": null,
            "right": null,
            "top": null,
            "visibility": null,
            "width": null
          }
        },
        "6acbd8e84b024f2993e868f3b842df0d": {
          "model_module": "@jupyter-widgets/controls",
          "model_module_version": "1.5.0",
          "model_name": "HTMLModel",
          "state": {
            "_dom_classes": [],
            "_model_module": "@jupyter-widgets/controls",
            "_model_module_version": "1.5.0",
            "_model_name": "HTMLModel",
            "_view_count": null,
            "_view_module": "@jupyter-widgets/controls",
            "_view_module_version": "1.5.0",
            "_view_name": "HTMLView",
            "description": "",
            "description_tooltip": null,
            "layout": "IPY_MODEL_68bf7f63b927495c9ddd487e13ec3c4a",
            "placeholder": "​",
            "style": "IPY_MODEL_02c9657861544d0baf009b6fea04777b",
            "value": " 268M/268M [00:01&lt;00:00, 227MB/s]"
          }
        },
        "701cd273c6fe44a69f864f7512cedd57": {
          "model_module": "@jupyter-widgets/controls",
          "model_module_version": "1.5.0",
          "model_name": "DescriptionStyleModel",
          "state": {
            "_model_module": "@jupyter-widgets/controls",
            "_model_module_version": "1.5.0",
            "_model_name": "DescriptionStyleModel",
            "_view_count": null,
            "_view_module": "@jupyter-widgets/base",
            "_view_module_version": "1.2.0",
            "_view_name": "StyleView",
            "description_width": ""
          }
        },
        "7455f70c9c61440ea212720dbafd4182": {
          "model_module": "@jupyter-widgets/base",
          "model_module_version": "1.2.0",
          "model_name": "LayoutModel",
          "state": {
            "_model_module": "@jupyter-widgets/base",
            "_model_module_version": "1.2.0",
            "_model_name": "LayoutModel",
            "_view_count": null,
            "_view_module": "@jupyter-widgets/base",
            "_view_module_version": "1.2.0",
            "_view_name": "LayoutView",
            "align_content": null,
            "align_items": null,
            "align_self": null,
            "border": null,
            "bottom": null,
            "display": null,
            "flex": null,
            "flex_flow": null,
            "grid_area": null,
            "grid_auto_columns": null,
            "grid_auto_flow": null,
            "grid_auto_rows": null,
            "grid_column": null,
            "grid_gap": null,
            "grid_row": null,
            "grid_template_areas": null,
            "grid_template_columns": null,
            "grid_template_rows": null,
            "height": null,
            "justify_content": null,
            "justify_items": null,
            "left": null,
            "margin": null,
            "max_height": null,
            "max_width": null,
            "min_height": null,
            "min_width": null,
            "object_fit": null,
            "object_position": null,
            "order": null,
            "overflow": null,
            "overflow_x": null,
            "overflow_y": null,
            "padding": null,
            "right": null,
            "top": null,
            "visibility": null,
            "width": null
          }
        },
        "7cfacda8f99a471e85f0eaa59da7b737": {
          "model_module": "@jupyter-widgets/base",
          "model_module_version": "1.2.0",
          "model_name": "LayoutModel",
          "state": {
            "_model_module": "@jupyter-widgets/base",
            "_model_module_version": "1.2.0",
            "_model_name": "LayoutModel",
            "_view_count": null,
            "_view_module": "@jupyter-widgets/base",
            "_view_module_version": "1.2.0",
            "_view_name": "LayoutView",
            "align_content": null,
            "align_items": null,
            "align_self": null,
            "border": null,
            "bottom": null,
            "display": null,
            "flex": null,
            "flex_flow": null,
            "grid_area": null,
            "grid_auto_columns": null,
            "grid_auto_flow": null,
            "grid_auto_rows": null,
            "grid_column": null,
            "grid_gap": null,
            "grid_row": null,
            "grid_template_areas": null,
            "grid_template_columns": null,
            "grid_template_rows": null,
            "height": null,
            "justify_content": null,
            "justify_items": null,
            "left": null,
            "margin": null,
            "max_height": null,
            "max_width": null,
            "min_height": null,
            "min_width": null,
            "object_fit": null,
            "object_position": null,
            "order": null,
            "overflow": null,
            "overflow_x": null,
            "overflow_y": null,
            "padding": null,
            "right": null,
            "top": null,
            "visibility": null,
            "width": null
          }
        },
        "821fcf39d6fd47fd840a751cd4119482": {
          "model_module": "@jupyter-widgets/base",
          "model_module_version": "1.2.0",
          "model_name": "LayoutModel",
          "state": {
            "_model_module": "@jupyter-widgets/base",
            "_model_module_version": "1.2.0",
            "_model_name": "LayoutModel",
            "_view_count": null,
            "_view_module": "@jupyter-widgets/base",
            "_view_module_version": "1.2.0",
            "_view_name": "LayoutView",
            "align_content": null,
            "align_items": null,
            "align_self": null,
            "border": null,
            "bottom": null,
            "display": null,
            "flex": null,
            "flex_flow": null,
            "grid_area": null,
            "grid_auto_columns": null,
            "grid_auto_flow": null,
            "grid_auto_rows": null,
            "grid_column": null,
            "grid_gap": null,
            "grid_row": null,
            "grid_template_areas": null,
            "grid_template_columns": null,
            "grid_template_rows": null,
            "height": null,
            "justify_content": null,
            "justify_items": null,
            "left": null,
            "margin": null,
            "max_height": null,
            "max_width": null,
            "min_height": null,
            "min_width": null,
            "object_fit": null,
            "object_position": null,
            "order": null,
            "overflow": null,
            "overflow_x": null,
            "overflow_y": null,
            "padding": null,
            "right": null,
            "top": null,
            "visibility": null,
            "width": null
          }
        },
        "83cfb8aef6fe4f7eb486f8f63db4878c": {
          "model_module": "@jupyter-widgets/controls",
          "model_module_version": "1.5.0",
          "model_name": "DescriptionStyleModel",
          "state": {
            "_model_module": "@jupyter-widgets/controls",
            "_model_module_version": "1.5.0",
            "_model_name": "DescriptionStyleModel",
            "_view_count": null,
            "_view_module": "@jupyter-widgets/base",
            "_view_module_version": "1.2.0",
            "_view_name": "StyleView",
            "description_width": ""
          }
        },
        "843f06a51bdb4057ab27df5406a0d11a": {
          "model_module": "@jupyter-widgets/base",
          "model_module_version": "1.2.0",
          "model_name": "LayoutModel",
          "state": {
            "_model_module": "@jupyter-widgets/base",
            "_model_module_version": "1.2.0",
            "_model_name": "LayoutModel",
            "_view_count": null,
            "_view_module": "@jupyter-widgets/base",
            "_view_module_version": "1.2.0",
            "_view_name": "LayoutView",
            "align_content": null,
            "align_items": null,
            "align_self": null,
            "border": null,
            "bottom": null,
            "display": null,
            "flex": null,
            "flex_flow": null,
            "grid_area": null,
            "grid_auto_columns": null,
            "grid_auto_flow": null,
            "grid_auto_rows": null,
            "grid_column": null,
            "grid_gap": null,
            "grid_row": null,
            "grid_template_areas": null,
            "grid_template_columns": null,
            "grid_template_rows": null,
            "height": null,
            "justify_content": null,
            "justify_items": null,
            "left": null,
            "margin": null,
            "max_height": null,
            "max_width": null,
            "min_height": null,
            "min_width": null,
            "object_fit": null,
            "object_position": null,
            "order": null,
            "overflow": null,
            "overflow_x": null,
            "overflow_y": null,
            "padding": null,
            "right": null,
            "top": null,
            "visibility": null,
            "width": null
          }
        },
        "870ad38e484a4857afe11411cf596c72": {
          "model_module": "@jupyter-widgets/controls",
          "model_module_version": "1.5.0",
          "model_name": "DescriptionStyleModel",
          "state": {
            "_model_module": "@jupyter-widgets/controls",
            "_model_module_version": "1.5.0",
            "_model_name": "DescriptionStyleModel",
            "_view_count": null,
            "_view_module": "@jupyter-widgets/base",
            "_view_module_version": "1.2.0",
            "_view_name": "StyleView",
            "description_width": ""
          }
        },
        "8bf9b8f9c5da4618912fe071c6b7da24": {
          "model_module": "@jupyter-widgets/controls",
          "model_module_version": "1.5.0",
          "model_name": "HBoxModel",
          "state": {
            "_dom_classes": [],
            "_model_module": "@jupyter-widgets/controls",
            "_model_module_version": "1.5.0",
            "_model_name": "HBoxModel",
            "_view_count": null,
            "_view_module": "@jupyter-widgets/controls",
            "_view_module_version": "1.5.0",
            "_view_name": "HBoxView",
            "box_style": "",
            "children": [
              "IPY_MODEL_491f463492704de0b13071871d463b10",
              "IPY_MODEL_d777a501a8cc49b1b0d4c2e16d5e6333",
              "IPY_MODEL_6acbd8e84b024f2993e868f3b842df0d"
            ],
            "layout": "IPY_MODEL_f157a2b4a5e947b2b77a5c6e3c719888"
          }
        },
        "93d8ac8fbe2e486b98fe2de765b05fd4": {
          "model_module": "@jupyter-widgets/base",
          "model_module_version": "1.2.0",
          "model_name": "LayoutModel",
          "state": {
            "_model_module": "@jupyter-widgets/base",
            "_model_module_version": "1.2.0",
            "_model_name": "LayoutModel",
            "_view_count": null,
            "_view_module": "@jupyter-widgets/base",
            "_view_module_version": "1.2.0",
            "_view_name": "LayoutView",
            "align_content": null,
            "align_items": null,
            "align_self": null,
            "border": null,
            "bottom": null,
            "display": null,
            "flex": null,
            "flex_flow": null,
            "grid_area": null,
            "grid_auto_columns": null,
            "grid_auto_flow": null,
            "grid_auto_rows": null,
            "grid_column": null,
            "grid_gap": null,
            "grid_row": null,
            "grid_template_areas": null,
            "grid_template_columns": null,
            "grid_template_rows": null,
            "height": null,
            "justify_content": null,
            "justify_items": null,
            "left": null,
            "margin": null,
            "max_height": null,
            "max_width": null,
            "min_height": null,
            "min_width": null,
            "object_fit": null,
            "object_position": null,
            "order": null,
            "overflow": null,
            "overflow_x": null,
            "overflow_y": null,
            "padding": null,
            "right": null,
            "top": null,
            "visibility": null,
            "width": null
          }
        },
        "a0ee4e8d172e4ba5ba7d9f88f5b3fb42": {
          "model_module": "@jupyter-widgets/controls",
          "model_module_version": "1.5.0",
          "model_name": "HBoxModel",
          "state": {
            "_dom_classes": [],
            "_model_module": "@jupyter-widgets/controls",
            "_model_module_version": "1.5.0",
            "_model_name": "HBoxModel",
            "_view_count": null,
            "_view_module": "@jupyter-widgets/controls",
            "_view_module_version": "1.5.0",
            "_view_name": "HBoxView",
            "box_style": "",
            "children": [
              "IPY_MODEL_36fb1c571c964e24ad7816708c9e13e3",
              "IPY_MODEL_fb54fac4b528484999e9e907314b2e1f",
              "IPY_MODEL_cf021bf1dec14730929838c21e41b1ae"
            ],
            "layout": "IPY_MODEL_f83c1763a6a24bfb9697f5d805b39f4a"
          }
        },
        "ab5488f705e342fb8b2b5b8b7fab4cf7": {
          "model_module": "@jupyter-widgets/base",
          "model_module_version": "1.2.0",
          "model_name": "LayoutModel",
          "state": {
            "_model_module": "@jupyter-widgets/base",
            "_model_module_version": "1.2.0",
            "_model_name": "LayoutModel",
            "_view_count": null,
            "_view_module": "@jupyter-widgets/base",
            "_view_module_version": "1.2.0",
            "_view_name": "LayoutView",
            "align_content": null,
            "align_items": null,
            "align_self": null,
            "border": null,
            "bottom": null,
            "display": null,
            "flex": null,
            "flex_flow": null,
            "grid_area": null,
            "grid_auto_columns": null,
            "grid_auto_flow": null,
            "grid_auto_rows": null,
            "grid_column": null,
            "grid_gap": null,
            "grid_row": null,
            "grid_template_areas": null,
            "grid_template_columns": null,
            "grid_template_rows": null,
            "height": null,
            "justify_content": null,
            "justify_items": null,
            "left": null,
            "margin": null,
            "max_height": null,
            "max_width": null,
            "min_height": null,
            "min_width": null,
            "object_fit": null,
            "object_position": null,
            "order": null,
            "overflow": null,
            "overflow_x": null,
            "overflow_y": null,
            "padding": null,
            "right": null,
            "top": null,
            "visibility": null,
            "width": null
          }
        },
        "b08c88b33fc1421e96c3755719a8f046": {
          "model_module": "@jupyter-widgets/controls",
          "model_module_version": "1.5.0",
          "model_name": "ProgressStyleModel",
          "state": {
            "_model_module": "@jupyter-widgets/controls",
            "_model_module_version": "1.5.0",
            "_model_name": "ProgressStyleModel",
            "_view_count": null,
            "_view_module": "@jupyter-widgets/base",
            "_view_module_version": "1.2.0",
            "_view_name": "StyleView",
            "bar_color": null,
            "description_width": ""
          }
        },
        "b538ba1f05da47e096aed35199aacce5": {
          "model_module": "@jupyter-widgets/base",
          "model_module_version": "1.2.0",
          "model_name": "LayoutModel",
          "state": {
            "_model_module": "@jupyter-widgets/base",
            "_model_module_version": "1.2.0",
            "_model_name": "LayoutModel",
            "_view_count": null,
            "_view_module": "@jupyter-widgets/base",
            "_view_module_version": "1.2.0",
            "_view_name": "LayoutView",
            "align_content": null,
            "align_items": null,
            "align_self": null,
            "border": null,
            "bottom": null,
            "display": null,
            "flex": null,
            "flex_flow": null,
            "grid_area": null,
            "grid_auto_columns": null,
            "grid_auto_flow": null,
            "grid_auto_rows": null,
            "grid_column": null,
            "grid_gap": null,
            "grid_row": null,
            "grid_template_areas": null,
            "grid_template_columns": null,
            "grid_template_rows": null,
            "height": null,
            "justify_content": null,
            "justify_items": null,
            "left": null,
            "margin": null,
            "max_height": null,
            "max_width": null,
            "min_height": null,
            "min_width": null,
            "object_fit": null,
            "object_position": null,
            "order": null,
            "overflow": null,
            "overflow_x": null,
            "overflow_y": null,
            "padding": null,
            "right": null,
            "top": null,
            "visibility": null,
            "width": null
          }
        },
        "bc7215cb7dbc476a8595766c9f7e07b2": {
          "model_module": "@jupyter-widgets/base",
          "model_module_version": "1.2.0",
          "model_name": "LayoutModel",
          "state": {
            "_model_module": "@jupyter-widgets/base",
            "_model_module_version": "1.2.0",
            "_model_name": "LayoutModel",
            "_view_count": null,
            "_view_module": "@jupyter-widgets/base",
            "_view_module_version": "1.2.0",
            "_view_name": "LayoutView",
            "align_content": null,
            "align_items": null,
            "align_self": null,
            "border": null,
            "bottom": null,
            "display": null,
            "flex": null,
            "flex_flow": null,
            "grid_area": null,
            "grid_auto_columns": null,
            "grid_auto_flow": null,
            "grid_auto_rows": null,
            "grid_column": null,
            "grid_gap": null,
            "grid_row": null,
            "grid_template_areas": null,
            "grid_template_columns": null,
            "grid_template_rows": null,
            "height": null,
            "justify_content": null,
            "justify_items": null,
            "left": null,
            "margin": null,
            "max_height": null,
            "max_width": null,
            "min_height": null,
            "min_width": null,
            "object_fit": null,
            "object_position": null,
            "order": null,
            "overflow": null,
            "overflow_x": null,
            "overflow_y": null,
            "padding": null,
            "right": null,
            "top": null,
            "visibility": null,
            "width": null
          }
        },
        "bc7484562c41433ea285fbdd549f37a0": {
          "model_module": "@jupyter-widgets/controls",
          "model_module_version": "1.5.0",
          "model_name": "DescriptionStyleModel",
          "state": {
            "_model_module": "@jupyter-widgets/controls",
            "_model_module_version": "1.5.0",
            "_model_name": "DescriptionStyleModel",
            "_view_count": null,
            "_view_module": "@jupyter-widgets/base",
            "_view_module_version": "1.2.0",
            "_view_name": "StyleView",
            "description_width": ""
          }
        },
        "bdd9ba7e536b4ce480235c9fa9e5ff69": {
          "model_module": "@jupyter-widgets/controls",
          "model_module_version": "1.5.0",
          "model_name": "HTMLModel",
          "state": {
            "_dom_classes": [],
            "_model_module": "@jupyter-widgets/controls",
            "_model_module_version": "1.5.0",
            "_model_name": "HTMLModel",
            "_view_count": null,
            "_view_module": "@jupyter-widgets/controls",
            "_view_module_version": "1.5.0",
            "_view_name": "HTMLView",
            "description": "",
            "description_tooltip": null,
            "layout": "IPY_MODEL_2da9b18c812c4b318a9419ac633871bb",
            "placeholder": "​",
            "style": "IPY_MODEL_e0542c8ed7e648d98b0a3acb37a0213b",
            "value": " 112247/112247 [00:00&lt;00:00, 627784.61it/s]"
          }
        },
        "beb7d09fb5d6429a9b0d1b452dd9dbaf": {
          "model_module": "@jupyter-widgets/controls",
          "model_module_version": "1.5.0",
          "model_name": "DescriptionStyleModel",
          "state": {
            "_model_module": "@jupyter-widgets/controls",
            "_model_module_version": "1.5.0",
            "_model_name": "DescriptionStyleModel",
            "_view_count": null,
            "_view_module": "@jupyter-widgets/base",
            "_view_module_version": "1.2.0",
            "_view_name": "StyleView",
            "description_width": ""
          }
        },
        "c1afd1f30f9643878b41c4acf31cc11b": {
          "model_module": "@jupyter-widgets/base",
          "model_module_version": "1.2.0",
          "model_name": "LayoutModel",
          "state": {
            "_model_module": "@jupyter-widgets/base",
            "_model_module_version": "1.2.0",
            "_model_name": "LayoutModel",
            "_view_count": null,
            "_view_module": "@jupyter-widgets/base",
            "_view_module_version": "1.2.0",
            "_view_name": "LayoutView",
            "align_content": null,
            "align_items": null,
            "align_self": null,
            "border": null,
            "bottom": null,
            "display": null,
            "flex": null,
            "flex_flow": null,
            "grid_area": null,
            "grid_auto_columns": null,
            "grid_auto_flow": null,
            "grid_auto_rows": null,
            "grid_column": null,
            "grid_gap": null,
            "grid_row": null,
            "grid_template_areas": null,
            "grid_template_columns": null,
            "grid_template_rows": null,
            "height": null,
            "justify_content": null,
            "justify_items": null,
            "left": null,
            "margin": null,
            "max_height": null,
            "max_width": null,
            "min_height": null,
            "min_width": null,
            "object_fit": null,
            "object_position": null,
            "order": null,
            "overflow": null,
            "overflow_x": null,
            "overflow_y": null,
            "padding": null,
            "right": null,
            "top": null,
            "visibility": null,
            "width": null
          }
        },
        "c6362860ff73452ea33a5f095298723e": {
          "model_module": "@jupyter-widgets/controls",
          "model_module_version": "1.5.0",
          "model_name": "DescriptionStyleModel",
          "state": {
            "_model_module": "@jupyter-widgets/controls",
            "_model_module_version": "1.5.0",
            "_model_name": "DescriptionStyleModel",
            "_view_count": null,
            "_view_module": "@jupyter-widgets/base",
            "_view_module_version": "1.2.0",
            "_view_name": "StyleView",
            "description_width": ""
          }
        },
        "c92fe10201554806a3f7fa431b94d300": {
          "model_module": "@jupyter-widgets/base",
          "model_module_version": "1.2.0",
          "model_name": "LayoutModel",
          "state": {
            "_model_module": "@jupyter-widgets/base",
            "_model_module_version": "1.2.0",
            "_model_name": "LayoutModel",
            "_view_count": null,
            "_view_module": "@jupyter-widgets/base",
            "_view_module_version": "1.2.0",
            "_view_name": "LayoutView",
            "align_content": null,
            "align_items": null,
            "align_self": null,
            "border": null,
            "bottom": null,
            "display": null,
            "flex": null,
            "flex_flow": null,
            "grid_area": null,
            "grid_auto_columns": null,
            "grid_auto_flow": null,
            "grid_auto_rows": null,
            "grid_column": null,
            "grid_gap": null,
            "grid_row": null,
            "grid_template_areas": null,
            "grid_template_columns": null,
            "grid_template_rows": null,
            "height": null,
            "justify_content": null,
            "justify_items": null,
            "left": null,
            "margin": null,
            "max_height": null,
            "max_width": null,
            "min_height": null,
            "min_width": null,
            "object_fit": null,
            "object_position": null,
            "order": null,
            "overflow": null,
            "overflow_x": null,
            "overflow_y": null,
            "padding": null,
            "right": null,
            "top": null,
            "visibility": null,
            "width": null
          }
        },
        "c98e23c2f74f4a88ba4611ada69fd2cf": {
          "model_module": "@jupyter-widgets/controls",
          "model_module_version": "1.5.0",
          "model_name": "ProgressStyleModel",
          "state": {
            "_model_module": "@jupyter-widgets/controls",
            "_model_module_version": "1.5.0",
            "_model_name": "ProgressStyleModel",
            "_view_count": null,
            "_view_module": "@jupyter-widgets/base",
            "_view_module_version": "1.2.0",
            "_view_name": "StyleView",
            "bar_color": null,
            "description_width": ""
          }
        },
        "cd2af09c079c43b3b405609ac78a5095": {
          "model_module": "@jupyter-widgets/controls",
          "model_module_version": "1.5.0",
          "model_name": "HBoxModel",
          "state": {
            "_dom_classes": [],
            "_model_module": "@jupyter-widgets/controls",
            "_model_module_version": "1.5.0",
            "_model_name": "HBoxModel",
            "_view_count": null,
            "_view_module": "@jupyter-widgets/controls",
            "_view_module_version": "1.5.0",
            "_view_name": "HBoxView",
            "box_style": "",
            "children": [
              "IPY_MODEL_3ea764c522b74512bf284fb8c32d2d10",
              "IPY_MODEL_efaf75da9b334a678f17ae9c2ed9ade9",
              "IPY_MODEL_bdd9ba7e536b4ce480235c9fa9e5ff69"
            ],
            "layout": "IPY_MODEL_bc7215cb7dbc476a8595766c9f7e07b2"
          }
        },
        "cd5bf49bfe354598846b50c3c62b7e48": {
          "model_module": "@jupyter-widgets/controls",
          "model_module_version": "1.5.0",
          "model_name": "DescriptionStyleModel",
          "state": {
            "_model_module": "@jupyter-widgets/controls",
            "_model_module_version": "1.5.0",
            "_model_name": "DescriptionStyleModel",
            "_view_count": null,
            "_view_module": "@jupyter-widgets/base",
            "_view_module_version": "1.2.0",
            "_view_name": "StyleView",
            "description_width": ""
          }
        },
        "cead0795bd16455fa22835142632403a": {
          "model_module": "@jupyter-widgets/controls",
          "model_module_version": "1.5.0",
          "model_name": "HBoxModel",
          "state": {
            "_dom_classes": [],
            "_model_module": "@jupyter-widgets/controls",
            "_model_module_version": "1.5.0",
            "_model_name": "HBoxModel",
            "_view_count": null,
            "_view_module": "@jupyter-widgets/controls",
            "_view_module_version": "1.5.0",
            "_view_name": "HBoxView",
            "box_style": "",
            "children": [
              "IPY_MODEL_680e6537d8e54baba56f5d1a2e120d21",
              "IPY_MODEL_2d8e865ff2ae460195c3b4a6545c7ce3",
              "IPY_MODEL_df2092c62cf34469b9ba2e710a15c3ec"
            ],
            "layout": "IPY_MODEL_0fb4e41b234c46ef811d3dca4b53246f"
          }
        },
        "cf021bf1dec14730929838c21e41b1ae": {
          "model_module": "@jupyter-widgets/controls",
          "model_module_version": "1.5.0",
          "model_name": "HTMLModel",
          "state": {
            "_dom_classes": [],
            "_model_module": "@jupyter-widgets/controls",
            "_model_module_version": "1.5.0",
            "_model_name": "HTMLModel",
            "_view_count": null,
            "_view_module": "@jupyter-widgets/controls",
            "_view_module_version": "1.5.0",
            "_view_name": "HTMLView",
            "description": "",
            "description_tooltip": null,
            "layout": "IPY_MODEL_fb6c1601216d4db8a0fbb604af11a066",
            "placeholder": "​",
            "style": "IPY_MODEL_beb7d09fb5d6429a9b0d1b452dd9dbaf",
            "value": " 48.0/48.0 [00:00&lt;00:00, 4.10kB/s]"
          }
        },
        "d1a693d45df540b48c5ffcd6e6c2023a": {
          "model_module": "@jupyter-widgets/controls",
          "model_module_version": "1.5.0",
          "model_name": "DescriptionStyleModel",
          "state": {
            "_model_module": "@jupyter-widgets/controls",
            "_model_module_version": "1.5.0",
            "_model_name": "DescriptionStyleModel",
            "_view_count": null,
            "_view_module": "@jupyter-widgets/base",
            "_view_module_version": "1.2.0",
            "_view_name": "StyleView",
            "description_width": ""
          }
        },
        "d2947ab2947a4bf29362290094551b4e": {
          "model_module": "@jupyter-widgets/controls",
          "model_module_version": "1.5.0",
          "model_name": "DescriptionStyleModel",
          "state": {
            "_model_module": "@jupyter-widgets/controls",
            "_model_module_version": "1.5.0",
            "_model_name": "DescriptionStyleModel",
            "_view_count": null,
            "_view_module": "@jupyter-widgets/base",
            "_view_module_version": "1.2.0",
            "_view_name": "StyleView",
            "description_width": ""
          }
        },
        "d777a501a8cc49b1b0d4c2e16d5e6333": {
          "model_module": "@jupyter-widgets/controls",
          "model_module_version": "1.5.0",
          "model_name": "FloatProgressModel",
          "state": {
            "_dom_classes": [],
            "_model_module": "@jupyter-widgets/controls",
            "_model_module_version": "1.5.0",
            "_model_name": "FloatProgressModel",
            "_view_count": null,
            "_view_module": "@jupyter-widgets/controls",
            "_view_module_version": "1.5.0",
            "_view_name": "ProgressView",
            "bar_style": "success",
            "description": "",
            "description_tooltip": null,
            "layout": "IPY_MODEL_b538ba1f05da47e096aed35199aacce5",
            "max": 267954768,
            "min": 0,
            "orientation": "horizontal",
            "style": "IPY_MODEL_130c6394da5c44e0b2cea314c9f234d5",
            "value": 267954768
          }
        },
        "dd636a7ca97e4285a38a4de8bdf1782d": {
          "model_module": "@jupyter-widgets/controls",
          "model_module_version": "1.5.0",
          "model_name": "FloatProgressModel",
          "state": {
            "_dom_classes": [],
            "_model_module": "@jupyter-widgets/controls",
            "_model_module_version": "1.5.0",
            "_model_name": "FloatProgressModel",
            "_view_count": null,
            "_view_module": "@jupyter-widgets/controls",
            "_view_module_version": "1.5.0",
            "_view_name": "ProgressView",
            "bar_style": "success",
            "description": "",
            "description_tooltip": null,
            "layout": "IPY_MODEL_821fcf39d6fd47fd840a751cd4119482",
            "max": 466062,
            "min": 0,
            "orientation": "horizontal",
            "style": "IPY_MODEL_4cf1d9a40e694811adf3b89084e78a9a",
            "value": 466062
          }
        },
        "df2092c62cf34469b9ba2e710a15c3ec": {
          "model_module": "@jupyter-widgets/controls",
          "model_module_version": "1.5.0",
          "model_name": "HTMLModel",
          "state": {
            "_dom_classes": [],
            "_model_module": "@jupyter-widgets/controls",
            "_model_module_version": "1.5.0",
            "_model_name": "HTMLModel",
            "_view_count": null,
            "_view_module": "@jupyter-widgets/controls",
            "_view_module_version": "1.5.0",
            "_view_name": "HTMLView",
            "description": "",
            "description_tooltip": null,
            "layout": "IPY_MODEL_7455f70c9c61440ea212720dbafd4182",
            "placeholder": "​",
            "style": "IPY_MODEL_d1a693d45df540b48c5ffcd6e6c2023a",
            "value": " 483/483 [00:00&lt;00:00, 42.0kB/s]"
          }
        },
        "e0542c8ed7e648d98b0a3acb37a0213b": {
          "model_module": "@jupyter-widgets/controls",
          "model_module_version": "1.5.0",
          "model_name": "DescriptionStyleModel",
          "state": {
            "_model_module": "@jupyter-widgets/controls",
            "_model_module_version": "1.5.0",
            "_model_name": "DescriptionStyleModel",
            "_view_count": null,
            "_view_module": "@jupyter-widgets/base",
            "_view_module_version": "1.2.0",
            "_view_name": "StyleView",
            "description_width": ""
          }
        },
        "e1c806fd833c498fabe64d02497026c1": {
          "model_module": "@jupyter-widgets/controls",
          "model_module_version": "1.5.0",
          "model_name": "ProgressStyleModel",
          "state": {
            "_model_module": "@jupyter-widgets/controls",
            "_model_module_version": "1.5.0",
            "_model_name": "ProgressStyleModel",
            "_view_count": null,
            "_view_module": "@jupyter-widgets/base",
            "_view_module_version": "1.2.0",
            "_view_name": "StyleView",
            "bar_color": null,
            "description_width": ""
          }
        },
        "e5c62a4174c94fd28b59d1f9a2392cbd": {
          "model_module": "@jupyter-widgets/base",
          "model_module_version": "1.2.0",
          "model_name": "LayoutModel",
          "state": {
            "_model_module": "@jupyter-widgets/base",
            "_model_module_version": "1.2.0",
            "_model_name": "LayoutModel",
            "_view_count": null,
            "_view_module": "@jupyter-widgets/base",
            "_view_module_version": "1.2.0",
            "_view_name": "LayoutView",
            "align_content": null,
            "align_items": null,
            "align_self": null,
            "border": null,
            "bottom": null,
            "display": null,
            "flex": null,
            "flex_flow": null,
            "grid_area": null,
            "grid_auto_columns": null,
            "grid_auto_flow": null,
            "grid_auto_rows": null,
            "grid_column": null,
            "grid_gap": null,
            "grid_row": null,
            "grid_template_areas": null,
            "grid_template_columns": null,
            "grid_template_rows": null,
            "height": null,
            "justify_content": null,
            "justify_items": null,
            "left": null,
            "margin": null,
            "max_height": null,
            "max_width": null,
            "min_height": null,
            "min_width": null,
            "object_fit": null,
            "object_position": null,
            "order": null,
            "overflow": null,
            "overflow_x": null,
            "overflow_y": null,
            "padding": null,
            "right": null,
            "top": null,
            "visibility": null,
            "width": null
          }
        },
        "e75ad252e4e042768ed94ee1f6838913": {
          "model_module": "@jupyter-widgets/controls",
          "model_module_version": "1.5.0",
          "model_name": "HTMLModel",
          "state": {
            "_dom_classes": [],
            "_model_module": "@jupyter-widgets/controls",
            "_model_module_version": "1.5.0",
            "_model_name": "HTMLModel",
            "_view_count": null,
            "_view_module": "@jupyter-widgets/controls",
            "_view_module_version": "1.5.0",
            "_view_name": "HTMLView",
            "description": "",
            "description_tooltip": null,
            "layout": "IPY_MODEL_843f06a51bdb4057ab27df5406a0d11a",
            "placeholder": "​",
            "style": "IPY_MODEL_701cd273c6fe44a69f864f7512cedd57",
            "value": "vocab.txt: 100%"
          }
        },
        "e808fa6600c54b289354f7ed84d4e819": {
          "model_module": "@jupyter-widgets/controls",
          "model_module_version": "1.5.0",
          "model_name": "HTMLModel",
          "state": {
            "_dom_classes": [],
            "_model_module": "@jupyter-widgets/controls",
            "_model_module_version": "1.5.0",
            "_model_name": "HTMLModel",
            "_view_count": null,
            "_view_module": "@jupyter-widgets/controls",
            "_view_module_version": "1.5.0",
            "_view_name": "HTMLView",
            "description": "",
            "description_tooltip": null,
            "layout": "IPY_MODEL_202a0a5c983d4d9988642c5c3251d9bf",
            "placeholder": "​",
            "style": "IPY_MODEL_870ad38e484a4857afe11411cf596c72",
            "value": " 232k/232k [00:00&lt;00:00, 5.35MB/s]"
          }
        },
        "e848b11d838b428a8aa54035dad9ac8b": {
          "model_module": "@jupyter-widgets/controls",
          "model_module_version": "1.5.0",
          "model_name": "HBoxModel",
          "state": {
            "_dom_classes": [],
            "_model_module": "@jupyter-widgets/controls",
            "_model_module_version": "1.5.0",
            "_model_name": "HBoxModel",
            "_view_count": null,
            "_view_module": "@jupyter-widgets/controls",
            "_view_module_version": "1.5.0",
            "_view_name": "HBoxView",
            "box_style": "",
            "children": [
              "IPY_MODEL_e75ad252e4e042768ed94ee1f6838913",
              "IPY_MODEL_31ba77a40c8445c8b29ec65d81b1122a",
              "IPY_MODEL_e808fa6600c54b289354f7ed84d4e819"
            ],
            "layout": "IPY_MODEL_1b9376214ffc4541a26d60340fe78e44"
          }
        },
        "ecb54fd2bbde48289c45c4c652260c08": {
          "model_module": "@jupyter-widgets/base",
          "model_module_version": "1.2.0",
          "model_name": "LayoutModel",
          "state": {
            "_model_module": "@jupyter-widgets/base",
            "_model_module_version": "1.2.0",
            "_model_name": "LayoutModel",
            "_view_count": null,
            "_view_module": "@jupyter-widgets/base",
            "_view_module_version": "1.2.0",
            "_view_name": "LayoutView",
            "align_content": null,
            "align_items": null,
            "align_self": null,
            "border": null,
            "bottom": null,
            "display": null,
            "flex": null,
            "flex_flow": null,
            "grid_area": null,
            "grid_auto_columns": null,
            "grid_auto_flow": null,
            "grid_auto_rows": null,
            "grid_column": null,
            "grid_gap": null,
            "grid_row": null,
            "grid_template_areas": null,
            "grid_template_columns": null,
            "grid_template_rows": null,
            "height": null,
            "justify_content": null,
            "justify_items": null,
            "left": null,
            "margin": null,
            "max_height": null,
            "max_width": null,
            "min_height": null,
            "min_width": null,
            "object_fit": null,
            "object_position": null,
            "order": null,
            "overflow": null,
            "overflow_x": null,
            "overflow_y": null,
            "padding": null,
            "right": null,
            "top": null,
            "visibility": null,
            "width": null
          }
        },
        "efaf75da9b334a678f17ae9c2ed9ade9": {
          "model_module": "@jupyter-widgets/controls",
          "model_module_version": "1.5.0",
          "model_name": "FloatProgressModel",
          "state": {
            "_dom_classes": [],
            "_model_module": "@jupyter-widgets/controls",
            "_model_module_version": "1.5.0",
            "_model_name": "FloatProgressModel",
            "_view_count": null,
            "_view_module": "@jupyter-widgets/controls",
            "_view_module_version": "1.5.0",
            "_view_name": "ProgressView",
            "bar_style": "success",
            "description": "",
            "description_tooltip": null,
            "layout": "IPY_MODEL_93d8ac8fbe2e486b98fe2de765b05fd4",
            "max": 112247,
            "min": 0,
            "orientation": "horizontal",
            "style": "IPY_MODEL_c98e23c2f74f4a88ba4611ada69fd2cf",
            "value": 112247
          }
        },
        "f157a2b4a5e947b2b77a5c6e3c719888": {
          "model_module": "@jupyter-widgets/base",
          "model_module_version": "1.2.0",
          "model_name": "LayoutModel",
          "state": {
            "_model_module": "@jupyter-widgets/base",
            "_model_module_version": "1.2.0",
            "_model_name": "LayoutModel",
            "_view_count": null,
            "_view_module": "@jupyter-widgets/base",
            "_view_module_version": "1.2.0",
            "_view_name": "LayoutView",
            "align_content": null,
            "align_items": null,
            "align_self": null,
            "border": null,
            "bottom": null,
            "display": null,
            "flex": null,
            "flex_flow": null,
            "grid_area": null,
            "grid_auto_columns": null,
            "grid_auto_flow": null,
            "grid_auto_rows": null,
            "grid_column": null,
            "grid_gap": null,
            "grid_row": null,
            "grid_template_areas": null,
            "grid_template_columns": null,
            "grid_template_rows": null,
            "height": null,
            "justify_content": null,
            "justify_items": null,
            "left": null,
            "margin": null,
            "max_height": null,
            "max_width": null,
            "min_height": null,
            "min_width": null,
            "object_fit": null,
            "object_position": null,
            "order": null,
            "overflow": null,
            "overflow_x": null,
            "overflow_y": null,
            "padding": null,
            "right": null,
            "top": null,
            "visibility": null,
            "width": null
          }
        },
        "f609c50f65dd4903bfe97dea5680b1ec": {
          "model_module": "@jupyter-widgets/controls",
          "model_module_version": "1.5.0",
          "model_name": "DescriptionStyleModel",
          "state": {
            "_model_module": "@jupyter-widgets/controls",
            "_model_module_version": "1.5.0",
            "_model_name": "DescriptionStyleModel",
            "_view_count": null,
            "_view_module": "@jupyter-widgets/base",
            "_view_module_version": "1.2.0",
            "_view_name": "StyleView",
            "description_width": ""
          }
        },
        "f83c1763a6a24bfb9697f5d805b39f4a": {
          "model_module": "@jupyter-widgets/base",
          "model_module_version": "1.2.0",
          "model_name": "LayoutModel",
          "state": {
            "_model_module": "@jupyter-widgets/base",
            "_model_module_version": "1.2.0",
            "_model_name": "LayoutModel",
            "_view_count": null,
            "_view_module": "@jupyter-widgets/base",
            "_view_module_version": "1.2.0",
            "_view_name": "LayoutView",
            "align_content": null,
            "align_items": null,
            "align_self": null,
            "border": null,
            "bottom": null,
            "display": null,
            "flex": null,
            "flex_flow": null,
            "grid_area": null,
            "grid_auto_columns": null,
            "grid_auto_flow": null,
            "grid_auto_rows": null,
            "grid_column": null,
            "grid_gap": null,
            "grid_row": null,
            "grid_template_areas": null,
            "grid_template_columns": null,
            "grid_template_rows": null,
            "height": null,
            "justify_content": null,
            "justify_items": null,
            "left": null,
            "margin": null,
            "max_height": null,
            "max_width": null,
            "min_height": null,
            "min_width": null,
            "object_fit": null,
            "object_position": null,
            "order": null,
            "overflow": null,
            "overflow_x": null,
            "overflow_y": null,
            "padding": null,
            "right": null,
            "top": null,
            "visibility": null,
            "width": null
          }
        },
        "fb54fac4b528484999e9e907314b2e1f": {
          "model_module": "@jupyter-widgets/controls",
          "model_module_version": "1.5.0",
          "model_name": "FloatProgressModel",
          "state": {
            "_dom_classes": [],
            "_model_module": "@jupyter-widgets/controls",
            "_model_module_version": "1.5.0",
            "_model_name": "FloatProgressModel",
            "_view_count": null,
            "_view_module": "@jupyter-widgets/controls",
            "_view_module_version": "1.5.0",
            "_view_name": "ProgressView",
            "bar_style": "success",
            "description": "",
            "description_tooltip": null,
            "layout": "IPY_MODEL_ecb54fd2bbde48289c45c4c652260c08",
            "max": 48,
            "min": 0,
            "orientation": "horizontal",
            "style": "IPY_MODEL_b08c88b33fc1421e96c3755719a8f046",
            "value": 48
          }
        },
        "fb6c1601216d4db8a0fbb604af11a066": {
          "model_module": "@jupyter-widgets/base",
          "model_module_version": "1.2.0",
          "model_name": "LayoutModel",
          "state": {
            "_model_module": "@jupyter-widgets/base",
            "_model_module_version": "1.2.0",
            "_model_name": "LayoutModel",
            "_view_count": null,
            "_view_module": "@jupyter-widgets/base",
            "_view_module_version": "1.2.0",
            "_view_name": "LayoutView",
            "align_content": null,
            "align_items": null,
            "align_self": null,
            "border": null,
            "bottom": null,
            "display": null,
            "flex": null,
            "flex_flow": null,
            "grid_area": null,
            "grid_auto_columns": null,
            "grid_auto_flow": null,
            "grid_auto_rows": null,
            "grid_column": null,
            "grid_gap": null,
            "grid_row": null,
            "grid_template_areas": null,
            "grid_template_columns": null,
            "grid_template_rows": null,
            "height": null,
            "justify_content": null,
            "justify_items": null,
            "left": null,
            "margin": null,
            "max_height": null,
            "max_width": null,
            "min_height": null,
            "min_width": null,
            "object_fit": null,
            "object_position": null,
            "order": null,
            "overflow": null,
            "overflow_x": null,
            "overflow_y": null,
            "padding": null,
            "right": null,
            "top": null,
            "visibility": null,
            "width": null
          }
        }
      }
    }
  },
  "nbformat": 4,
  "nbformat_minor": 5
}
