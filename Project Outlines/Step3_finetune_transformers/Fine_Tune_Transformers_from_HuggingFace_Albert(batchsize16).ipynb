{
  "cells": [
    {
      "cell_type": "markdown",
      "id": "a0aff953",
      "metadata": {
        "id": "a0aff953"
      },
      "source": [
        "# Fine Tune Transformer from HuggingFace Albert (batchsize16)"
      ]
    },
    {
      "cell_type": "code",
      "execution_count": null,
      "id": "lspbB923kCc5",
      "metadata": {
        "colab": {
          "base_uri": "https://localhost:8080/"
        },
        "id": "lspbB923kCc5",
        "outputId": "71f358f4-9ced-4070-bccb-b316282fe903"
      },
      "outputs": [
        {
          "name": "stdout",
          "output_type": "stream",
          "text": [
            "Requirement already satisfied: transformers[torch] in /usr/local/lib/python3.10/dist-packages (4.40.1)\n",
            "Requirement already satisfied: filelock in /usr/local/lib/python3.10/dist-packages (from transformers[torch]) (3.13.4)\n",
            "Requirement already satisfied: huggingface-hub<1.0,>=0.19.3 in /usr/local/lib/python3.10/dist-packages (from transformers[torch]) (0.20.3)\n",
            "Requirement already satisfied: numpy>=1.17 in /usr/local/lib/python3.10/dist-packages (from transformers[torch]) (1.25.2)\n",
            "Requirement already satisfied: packaging>=20.0 in /usr/local/lib/python3.10/dist-packages (from transformers[torch]) (24.0)\n",
            "Requirement already satisfied: pyyaml>=5.1 in /usr/local/lib/python3.10/dist-packages (from transformers[torch]) (6.0.1)\n",
            "Requirement already satisfied: regex!=2019.12.17 in /usr/local/lib/python3.10/dist-packages (from transformers[torch]) (2023.12.25)\n",
            "Requirement already satisfied: requests in /usr/local/lib/python3.10/dist-packages (from transformers[torch]) (2.31.0)\n",
            "Requirement already satisfied: tokenizers<0.20,>=0.19 in /usr/local/lib/python3.10/dist-packages (from transformers[torch]) (0.19.1)\n",
            "Requirement already satisfied: safetensors>=0.4.1 in /usr/local/lib/python3.10/dist-packages (from transformers[torch]) (0.4.3)\n",
            "Requirement already satisfied: tqdm>=4.27 in /usr/local/lib/python3.10/dist-packages (from transformers[torch]) (4.66.2)\n",
            "Requirement already satisfied: torch in /usr/local/lib/python3.10/dist-packages (from transformers[torch]) (2.2.1+cu121)\n",
            "Requirement already satisfied: accelerate>=0.21.0 in /usr/local/lib/python3.10/dist-packages (from transformers[torch]) (0.29.3)\n",
            "Requirement already satisfied: psutil in /usr/local/lib/python3.10/dist-packages (from accelerate>=0.21.0->transformers[torch]) (5.9.5)\n",
            "Requirement already satisfied: fsspec>=2023.5.0 in /usr/local/lib/python3.10/dist-packages (from huggingface-hub<1.0,>=0.19.3->transformers[torch]) (2023.6.0)\n",
            "Requirement already satisfied: typing-extensions>=3.7.4.3 in /usr/local/lib/python3.10/dist-packages (from huggingface-hub<1.0,>=0.19.3->transformers[torch]) (4.11.0)\n",
            "Requirement already satisfied: sympy in /usr/local/lib/python3.10/dist-packages (from torch->transformers[torch]) (1.12)\n",
            "Requirement already satisfied: networkx in /usr/local/lib/python3.10/dist-packages (from torch->transformers[torch]) (3.3)\n",
            "Requirement already satisfied: jinja2 in /usr/local/lib/python3.10/dist-packages (from torch->transformers[torch]) (3.1.3)\n",
            "Requirement already satisfied: nvidia-cuda-nvrtc-cu12==12.1.105 in /usr/local/lib/python3.10/dist-packages (from torch->transformers[torch]) (12.1.105)\n",
            "Requirement already satisfied: nvidia-cuda-runtime-cu12==12.1.105 in /usr/local/lib/python3.10/dist-packages (from torch->transformers[torch]) (12.1.105)\n",
            "Requirement already satisfied: nvidia-cuda-cupti-cu12==12.1.105 in /usr/local/lib/python3.10/dist-packages (from torch->transformers[torch]) (12.1.105)\n",
            "Requirement already satisfied: nvidia-cudnn-cu12==8.9.2.26 in /usr/local/lib/python3.10/dist-packages (from torch->transformers[torch]) (8.9.2.26)\n",
            "Requirement already satisfied: nvidia-cublas-cu12==12.1.3.1 in /usr/local/lib/python3.10/dist-packages (from torch->transformers[torch]) (12.1.3.1)\n",
            "Requirement already satisfied: nvidia-cufft-cu12==11.0.2.54 in /usr/local/lib/python3.10/dist-packages (from torch->transformers[torch]) (11.0.2.54)\n",
            "Requirement already satisfied: nvidia-curand-cu12==10.3.2.106 in /usr/local/lib/python3.10/dist-packages (from torch->transformers[torch]) (10.3.2.106)\n",
            "Requirement already satisfied: nvidia-cusolver-cu12==11.4.5.107 in /usr/local/lib/python3.10/dist-packages (from torch->transformers[torch]) (11.4.5.107)\n",
            "Requirement already satisfied: nvidia-cusparse-cu12==12.1.0.106 in /usr/local/lib/python3.10/dist-packages (from torch->transformers[torch]) (12.1.0.106)\n",
            "Requirement already satisfied: nvidia-nccl-cu12==2.19.3 in /usr/local/lib/python3.10/dist-packages (from torch->transformers[torch]) (2.19.3)\n",
            "Requirement already satisfied: nvidia-nvtx-cu12==12.1.105 in /usr/local/lib/python3.10/dist-packages (from torch->transformers[torch]) (12.1.105)\n",
            "Requirement already satisfied: triton==2.2.0 in /usr/local/lib/python3.10/dist-packages (from torch->transformers[torch]) (2.2.0)\n",
            "Requirement already satisfied: nvidia-nvjitlink-cu12 in /usr/local/lib/python3.10/dist-packages (from nvidia-cusolver-cu12==11.4.5.107->torch->transformers[torch]) (12.4.127)\n",
            "Requirement already satisfied: charset-normalizer<4,>=2 in /usr/local/lib/python3.10/dist-packages (from requests->transformers[torch]) (3.3.2)\n",
            "Requirement already satisfied: idna<4,>=2.5 in /usr/local/lib/python3.10/dist-packages (from requests->transformers[torch]) (3.7)\n",
            "Requirement already satisfied: urllib3<3,>=1.21.1 in /usr/local/lib/python3.10/dist-packages (from requests->transformers[torch]) (2.0.7)\n",
            "Requirement already satisfied: certifi>=2017.4.17 in /usr/local/lib/python3.10/dist-packages (from requests->transformers[torch]) (2024.2.2)\n",
            "Requirement already satisfied: MarkupSafe>=2.0 in /usr/local/lib/python3.10/dist-packages (from jinja2->torch->transformers[torch]) (2.1.5)\n",
            "Requirement already satisfied: mpmath>=0.19 in /usr/local/lib/python3.10/dist-packages (from sympy->torch->transformers[torch]) (1.3.0)\n"
          ]
        }
      ],
      "source": [
        "pip install transformers[torch] -U"
      ]
    },
    {
      "cell_type": "code",
      "execution_count": null,
      "id": "OItEYDmL1hi2",
      "metadata": {
        "colab": {
          "base_uri": "https://localhost:8080/"
        },
        "execution": {
          "iopub.execute_input": "2023-08-23T04:53:13.859409Z",
          "iopub.status.busy": "2023-08-23T04:53:13.858815Z",
          "iopub.status.idle": "2023-08-23T04:53:25.957475Z",
          "shell.execute_reply": "2023-08-23T04:53:25.956828Z",
          "shell.execute_reply.started": "2023-08-23T04:53:13.859386Z"
        },
        "id": "OItEYDmL1hi2",
        "outputId": "218e882b-8ea5-4a90-f65f-aaf5d5651f4a"
      },
      "outputs": [
        {
          "name": "stdout",
          "output_type": "stream",
          "text": [
            "Requirement already satisfied: torch in /usr/local/lib/python3.10/dist-packages (2.2.1+cu121)\n",
            "Requirement already satisfied: filelock in /usr/local/lib/python3.10/dist-packages (from torch) (3.13.4)\n",
            "Requirement already satisfied: typing-extensions>=4.8.0 in /usr/local/lib/python3.10/dist-packages (from torch) (4.11.0)\n",
            "Requirement already satisfied: sympy in /usr/local/lib/python3.10/dist-packages (from torch) (1.12)\n",
            "Requirement already satisfied: networkx in /usr/local/lib/python3.10/dist-packages (from torch) (3.3)\n",
            "Requirement already satisfied: jinja2 in /usr/local/lib/python3.10/dist-packages (from torch) (3.1.3)\n",
            "Requirement already satisfied: fsspec in /usr/local/lib/python3.10/dist-packages (from torch) (2023.6.0)\n",
            "Requirement already satisfied: nvidia-cuda-nvrtc-cu12==12.1.105 in /usr/local/lib/python3.10/dist-packages (from torch) (12.1.105)\n",
            "Requirement already satisfied: nvidia-cuda-runtime-cu12==12.1.105 in /usr/local/lib/python3.10/dist-packages (from torch) (12.1.105)\n",
            "Requirement already satisfied: nvidia-cuda-cupti-cu12==12.1.105 in /usr/local/lib/python3.10/dist-packages (from torch) (12.1.105)\n",
            "Requirement already satisfied: nvidia-cudnn-cu12==8.9.2.26 in /usr/local/lib/python3.10/dist-packages (from torch) (8.9.2.26)\n",
            "Requirement already satisfied: nvidia-cublas-cu12==12.1.3.1 in /usr/local/lib/python3.10/dist-packages (from torch) (12.1.3.1)\n",
            "Requirement already satisfied: nvidia-cufft-cu12==11.0.2.54 in /usr/local/lib/python3.10/dist-packages (from torch) (11.0.2.54)\n",
            "Requirement already satisfied: nvidia-curand-cu12==10.3.2.106 in /usr/local/lib/python3.10/dist-packages (from torch) (10.3.2.106)\n",
            "Requirement already satisfied: nvidia-cusolver-cu12==11.4.5.107 in /usr/local/lib/python3.10/dist-packages (from torch) (11.4.5.107)\n",
            "Requirement already satisfied: nvidia-cusparse-cu12==12.1.0.106 in /usr/local/lib/python3.10/dist-packages (from torch) (12.1.0.106)\n",
            "Requirement already satisfied: nvidia-nccl-cu12==2.19.3 in /usr/local/lib/python3.10/dist-packages (from torch) (2.19.3)\n",
            "Requirement already satisfied: nvidia-nvtx-cu12==12.1.105 in /usr/local/lib/python3.10/dist-packages (from torch) (12.1.105)\n",
            "Requirement already satisfied: triton==2.2.0 in /usr/local/lib/python3.10/dist-packages (from torch) (2.2.0)\n",
            "Requirement already satisfied: nvidia-nvjitlink-cu12 in /usr/local/lib/python3.10/dist-packages (from nvidia-cusolver-cu12==11.4.5.107->torch) (12.4.127)\n",
            "Requirement already satisfied: MarkupSafe>=2.0 in /usr/local/lib/python3.10/dist-packages (from jinja2->torch) (2.1.5)\n",
            "Requirement already satisfied: mpmath>=0.19 in /usr/local/lib/python3.10/dist-packages (from sympy->torch) (1.3.0)\n",
            "Requirement already satisfied: imblearn in /usr/local/lib/python3.10/dist-packages (0.0)\n",
            "Requirement already satisfied: imbalanced-learn in /usr/local/lib/python3.10/dist-packages (from imblearn) (0.10.1)\n",
            "Requirement already satisfied: numpy>=1.17.3 in /usr/local/lib/python3.10/dist-packages (from imbalanced-learn->imblearn) (1.25.2)\n",
            "Requirement already satisfied: scipy>=1.3.2 in /usr/local/lib/python3.10/dist-packages (from imbalanced-learn->imblearn) (1.11.4)\n",
            "Requirement already satisfied: scikit-learn>=1.0.2 in /usr/local/lib/python3.10/dist-packages (from imbalanced-learn->imblearn) (1.2.2)\n",
            "Requirement already satisfied: joblib>=1.1.1 in /usr/local/lib/python3.10/dist-packages (from imbalanced-learn->imblearn) (1.4.0)\n",
            "Requirement already satisfied: threadpoolctl>=2.0.0 in /usr/local/lib/python3.10/dist-packages (from imbalanced-learn->imblearn) (3.4.0)\n"
          ]
        }
      ],
      "source": [
        "# %pip install transformers\n",
        "%pip install torch\n",
        "%pip install imblearn\n",
        "# %pip install wandb --upgrade\n"
      ]
    },
    {
      "cell_type": "code",
      "execution_count": null,
      "id": "6NQ1O-nyi2Zv",
      "metadata": {
        "colab": {
          "base_uri": "https://localhost:8080/"
        },
        "id": "6NQ1O-nyi2Zv",
        "outputId": "e99317e3-28be-4816-e90e-0f2a8b4d9218"
      },
      "outputs": [
        {
          "name": "stdout",
          "output_type": "stream",
          "text": [
            "Drive already mounted at /content/drive; to attempt to forcibly remount, call drive.mount(\"/content/drive\", force_remount=True).\n"
          ]
        }
      ],
      "source": [
        "from google.colab import drive\n",
        "drive.mount('/content/drive')"
      ]
    },
    {
      "cell_type": "code",
      "execution_count": null,
      "id": "02505ed3",
      "metadata": {
        "colab": {
          "base_uri": "https://localhost:8080/"
        },
        "execution": {
          "iopub.execute_input": "2023-08-23T04:53:25.959174Z",
          "iopub.status.busy": "2023-08-23T04:53:25.958686Z",
          "iopub.status.idle": "2023-08-23T04:53:29.864916Z",
          "shell.execute_reply": "2023-08-23T04:53:29.864349Z",
          "shell.execute_reply.started": "2023-08-23T04:53:25.959137Z"
        },
        "id": "02505ed3",
        "outputId": "80aaa197-48ac-49c5-ab5b-a88b25ef1bcd"
      },
      "outputs": [
        {
          "name": "stderr",
          "output_type": "stream",
          "text": [
            "<ipython-input-4-5c70c929f42e>:14: TqdmDeprecationWarning: This function will be removed in tqdm==5.0.0\n",
            "Please use `tqdm.notebook.*` instead of `tqdm._tqdm_notebook.*`\n",
            "  from tqdm._tqdm_notebook import tqdm_notebook\n"
          ]
        }
      ],
      "source": [
        "import numpy as np\n",
        "import pandas as pd\n",
        "\n",
        "from sklearn.model_selection import train_test_split, StratifiedKFold, StratifiedShuffleSplit\n",
        "from sklearn.metrics import accuracy_score, recall_score, precision_score, f1_score, roc_auc_score, classification_report\n",
        "\n",
        "import torch\n",
        "from transformers import AutoTokenizer, AutoModelForSequenceClassification\n",
        "from transformers import TrainingArguments, Trainer\n",
        "from transformers import BertTokenizer, BertForSequenceClassification\n",
        "from transformers import EarlyStoppingCallback, set_seed\n",
        "\n",
        "# Progress bar\n",
        "from tqdm._tqdm_notebook import tqdm_notebook\n",
        "from tqdm import tqdm\n",
        "tqdm_notebook.pandas()"
      ]
    },
    {
      "cell_type": "markdown",
      "id": "5a8c1621",
      "metadata": {
        "id": "5a8c1621"
      },
      "source": [
        "## Import Clean Data"
      ]
    },
    {
      "cell_type": "code",
      "execution_count": null,
      "id": "c58048aa",
      "metadata": {
        "colab": {
          "base_uri": "https://localhost:8080/",
          "height": 49,
          "referenced_widgets": [
            "5bab69842f234860ad20bc5325f40344",
            "5d8302939ff74400839ec09c3f12e56f",
            "db6f3470246f4a4185c3f8aaf10d8718",
            "d9431ee4b3c44fb591116269175a9bfb",
            "2f67c5cc0c3c4450882b78bd4e9c2ebe",
            "5fc193cfa3bd4b41b0efe66d9683870e",
            "1525fbd70e92464daffe8bbf71d0cdcd",
            "278b421d2b294f219e668d711999495f",
            "3f84873cdf344845a017faa3de4c32c0",
            "5b33a370ae544d22ac0829369ab8ae53",
            "605627d24cbc472aa918e29131e78f7c"
          ]
        },
        "execution": {
          "iopub.execute_input": "2023-08-23T04:53:29.865991Z",
          "iopub.status.busy": "2023-08-23T04:53:29.865636Z",
          "iopub.status.idle": "2023-08-23T04:53:30.271020Z",
          "shell.execute_reply": "2023-08-23T04:53:30.270357Z",
          "shell.execute_reply.started": "2023-08-23T04:53:29.865973Z"
        },
        "id": "c58048aa",
        "outputId": "1962d75c-680e-4617-ef5c-619f7c571cf3"
      },
      "outputs": [
        {
          "data": {
            "application/vnd.jupyter.widget-view+json": {
              "model_id": "5bab69842f234860ad20bc5325f40344",
              "version_major": 2,
              "version_minor": 0
            },
            "text/plain": [
              "  0%|          | 0/112247 [00:00<?, ?it/s]"
            ]
          },
          "metadata": {},
          "output_type": "display_data"
        }
      ],
      "source": [
        "###############################################################\n",
        "# Note: Change the name of data set used for feature creation\n",
        "###############################################################\n",
        "data_set='bully_data_clean_with_stopword'\n",
        "\n",
        "\n",
        "###################\n",
        "# Import Data Set #\n",
        "###################\n",
        "bully_data_cleaned = pd.read_csv('/content/drive/MyDrive/fyp/amica_data_clean_with_stopword_short.csv', encoding='utf8')\n",
        "bully_data_cleaned = bully_data_cleaned[~bully_data_cleaned['text_check'].isna()]\n",
        "bully_data_cleaned = bully_data_cleaned[bully_data_cleaned['text_check'] != \"\"]\n",
        "#bully_data_cleaned = bully_data_cleaned[bully_data_cleaned['role']!='None']\n",
        "bully_data_cleaned = bully_data_cleaned[['label','text_check']]\n",
        "bully_data_cleaned['label'] = bully_data_cleaned['label'].progress_apply(lambda x: 1 if x ==\"Cyberbullying\" else 0)\n",
        "bully_data_cleaned.rename(columns = {'text_check':'text'}, inplace = True)\n",
        "bully_data_cleaned = bully_data_cleaned.reset_index(drop=True)"
      ]
    },
    {
      "cell_type": "code",
      "execution_count": null,
      "id": "f1ad3546",
      "metadata": {
        "colab": {
          "base_uri": "https://localhost:8080/"
        },
        "execution": {
          "iopub.execute_input": "2023-08-23T04:53:30.272539Z",
          "iopub.status.busy": "2023-08-23T04:53:30.272352Z",
          "iopub.status.idle": "2023-08-23T04:53:30.294272Z",
          "shell.execute_reply": "2023-08-23T04:53:30.293624Z",
          "shell.execute_reply.started": "2023-08-23T04:53:30.272523Z"
        },
        "id": "f1ad3546",
        "outputId": "2d9e95fc-1082-4bb7-89ef-2adb393cbb8f",
        "scrolled": true
      },
      "outputs": [
        {
          "name": "stdout",
          "output_type": "stream",
          "text": [
            "<class 'pandas.core.frame.DataFrame'>\n",
            "RangeIndex: 112247 entries, 0 to 112246\n",
            "Data columns (total 2 columns):\n",
            " #   Column  Non-Null Count   Dtype \n",
            "---  ------  --------------   ----- \n",
            " 0   label   112247 non-null  int64 \n",
            " 1   text    112247 non-null  object\n",
            "dtypes: int64(1), object(1)\n",
            "memory usage: 1.7+ MB\n"
          ]
        }
      ],
      "source": [
        "bully_data_cleaned.info()"
      ]
    },
    {
      "cell_type": "code",
      "execution_count": null,
      "id": "y2TxGLSm81wJ",
      "metadata": {
        "colab": {
          "base_uri": "https://localhost:8080/"
        },
        "execution": {
          "iopub.execute_input": "2023-08-22T18:23:25.555382Z",
          "iopub.status.busy": "2023-08-22T18:23:25.554992Z",
          "iopub.status.idle": "2023-08-22T18:23:25.561868Z",
          "shell.execute_reply": "2023-08-22T18:23:25.561230Z",
          "shell.execute_reply.started": "2023-08-22T18:23:25.555350Z"
        },
        "id": "y2TxGLSm81wJ",
        "outputId": "6f0121dc-837d-474b-f6af-84e9f68c304c"
      },
      "outputs": [
        {
          "data": {
            "text/plain": [
              "label\n",
              "0    106872\n",
              "1      5375\n",
              "Name: count, dtype: int64"
            ]
          },
          "execution_count": 7,
          "metadata": {},
          "output_type": "execute_result"
        }
      ],
      "source": [
        "bully_data_cleaned['label'].value_counts()"
      ]
    },
    {
      "cell_type": "markdown",
      "id": "61d6da90",
      "metadata": {
        "id": "61d6da90"
      },
      "source": [
        "## Define pretrained tokenizer and model"
      ]
    },
    {
      "cell_type": "code",
      "execution_count": null,
      "id": "b09bcba2",
      "metadata": {
        "colab": {
          "base_uri": "https://localhost:8080/"
        },
        "execution": {
          "iopub.execute_input": "2023-08-23T04:53:30.295746Z",
          "iopub.status.busy": "2023-08-23T04:53:30.295472Z",
          "iopub.status.idle": "2023-08-23T04:53:34.191351Z",
          "shell.execute_reply": "2023-08-23T04:53:34.190913Z",
          "shell.execute_reply.started": "2023-08-23T04:53:30.295724Z"
        },
        "id": "b09bcba2",
        "outputId": "fff2dd19-247c-4465-e226-b468a1e8e7b6"
      },
      "outputs": [
        {
          "name": "stderr",
          "output_type": "stream",
          "text": [
            "/usr/local/lib/python3.10/dist-packages/huggingface_hub/utils/_token.py:88: UserWarning: \n",
            "The secret `HF_TOKEN` does not exist in your Colab secrets.\n",
            "To authenticate with the Hugging Face Hub, create a token in your settings tab (https://huggingface.co/settings/tokens), set it as secret in your Google Colab and restart your session.\n",
            "You will be able to reuse this secret in all of your notebooks.\n",
            "Please note that authentication is recommended but still optional to access public models or datasets.\n",
            "  warnings.warn(\n",
            "Some weights of AlbertForSequenceClassification were not initialized from the model checkpoint at albert-base-v2 and are newly initialized: ['classifier.bias', 'classifier.weight']\n",
            "You should probably TRAIN this model on a down-stream task to be able to use it for predictions and inference.\n"
          ]
        }
      ],
      "source": [
        "from transformers import AutoTokenizer, AutoModelForSequenceClassification\n",
        "\n",
        "\n",
        "model_name = \"albert-base-v2\"\n",
        "tokenizer = AutoTokenizer.from_pretrained(model_name)\n",
        "set_seed(1127)\n",
        "model = AutoModelForSequenceClassification.from_pretrained(model_name, num_labels=2)\n",
        "\n"
      ]
    },
    {
      "cell_type": "markdown",
      "id": "fe8c063e",
      "metadata": {
        "id": "fe8c063e"
      },
      "source": [
        "## Preprocess data and Fine Tune Transformers"
      ]
    },
    {
      "cell_type": "code",
      "execution_count": null,
      "id": "b5e716fb",
      "metadata": {
        "execution": {
          "iopub.execute_input": "2023-08-23T04:53:36.690066Z",
          "iopub.status.busy": "2023-08-23T04:53:36.689274Z",
          "iopub.status.idle": "2023-08-23T04:53:49.424016Z",
          "shell.execute_reply": "2023-08-23T04:53:49.423362Z",
          "shell.execute_reply.started": "2023-08-23T04:53:36.690042Z"
        },
        "id": "b5e716fb"
      },
      "outputs": [],
      "source": [
        "# Data: Text Input and Label #\n",
        "X = list(bully_data_cleaned[\"text\"])\n",
        "y = list(bully_data_cleaned[\"label\"])\n",
        "\n",
        "# Create torch dataset\n",
        "class Dataset(torch.utils.data.Dataset):\n",
        "    def __init__(self, encodings, labels=None):\n",
        "        self.encodings = encodings\n",
        "        self.labels = labels\n",
        "\n",
        "    def __getitem__(self, idx):\n",
        "        item = {key: torch.tensor(val[idx]) for key, val in self.encodings.items()}\n",
        "        if self.labels:\n",
        "            item[\"labels\"] = torch.tensor(self.labels[idx])\n",
        "        return item\n",
        "\n",
        "    def __len__(self):\n",
        "        return len(self.encodings[\"input_ids\"])\n",
        "\n",
        "\n",
        "# Define Trainer parameters\n",
        "def compute_metrics(p):\n",
        "    pred, labels = p\n",
        "    pred = np.argmax(pred, axis=1)\n",
        "\n",
        "    accuracy = accuracy_score(y_true=labels, y_pred=pred)\n",
        "    recall_cb = recall_score(y_true=labels, y_pred=pred, average='binary', pos_label=1)\n",
        "    precision_cb = precision_score(y_true=labels, y_pred=pred, average='binary', pos_label=1)\n",
        "    f1_cb = f1_score(y_true=labels, y_pred=pred, average='binary', pos_label=1)\n",
        "\n",
        "    recall_ncb = recall_score(y_true=labels, y_pred=pred, average='binary', pos_label=0)\n",
        "    precision_ncb = precision_score(y_true=labels, y_pred=pred, average='binary', pos_label=0)\n",
        "    f1_ncb = f1_score(y_true=labels, y_pred=pred, average='binary', pos_label=0)\n",
        "\n",
        "    recall_overall = recall_score(y_true=labels, y_pred=pred, average='macro')\n",
        "    precision_overall = precision_score(y_true=labels, y_pred=pred, average='macro')\n",
        "    f1_overall = f1_score(y_true=labels, y_pred=pred, average='macro')\n",
        "\n",
        "\n",
        "    return {\"accuracy\": accuracy,\n",
        "            \"precision_cb\": precision_cb, \"recall_cb\": recall_cb, \"f1_cb\": f1_cb,\n",
        "            \"precision_ncb\": precision_ncb, \"recall_ncb\": recall_ncb, \"f1_ncb\": f1_ncb,\n",
        "            \"precision_overall\": precision_overall, \"recall_overall\": recall_overall, \"f1_overall\": f1_overall}\n",
        "\n",
        "\n",
        "# Plot Confusion Matrix\n",
        "import numpy as np\n",
        "import matplotlib.pyplot as plt\n",
        "import seaborn as sns\n",
        "\n",
        "def make_confusion_matrix(cf,\n",
        "                          group_names=None,\n",
        "                          categories='auto',\n",
        "                          count=True,\n",
        "                          percent=True,\n",
        "                          cbar=True,\n",
        "                          xyticks=True,\n",
        "                          xyplotlabels=True,\n",
        "                          sum_stats=True,\n",
        "                          figsize=None,\n",
        "                          cmap='Blues',\n",
        "                          title=None):\n",
        "    '''\n",
        "    This function will make a pretty plot of an sklearn Confusion Matrix cm using a Seaborn heatmap visualization.\n",
        "\n",
        "    Arguments\n",
        "    ---------\n",
        "    cf:            confusion matrix to be passed in\n",
        "\n",
        "    group_names:   List of strings that represent the labels row by row to be shown in each square.\n",
        "\n",
        "    categories:    List of strings containing the categories to be displayed on the x,y axis. Default is 'auto'\n",
        "\n",
        "    count:         If True, show the raw number in the confusion matrix. Default is True.\n",
        "\n",
        "    normalize:     If True, show the proportions for each category. Default is True.\n",
        "\n",
        "    cbar:          If True, show the color bar. The cbar values are based off the values in the confusion matrix.\n",
        "                   Default is True.\n",
        "\n",
        "    xyticks:       If True, show x and y ticks. Default is True.\n",
        "\n",
        "    xyplotlabels:  If True, show 'True Label' and 'Predicted Label' on the figure. Default is True.\n",
        "\n",
        "    sum_stats:     If True, display summary statistics below the figure. Default is True.\n",
        "\n",
        "    figsize:       Tuple representing the figure size. Default will be the matplotlib rcParams value.\n",
        "\n",
        "    cmap:          Colormap of the values displayed from matplotlib.pyplot.cm. Default is 'Blues'\n",
        "                   See http://matplotlib.org/examples/color/colormaps_reference.html\n",
        "\n",
        "    title:         Title for the heatmap. Default is None.\n",
        "\n",
        "    '''\n",
        "\n",
        "\n",
        "    # CONFUSION MATRIX IN PERCENTAGE\n",
        "    cf_pct = cf.astype('float')/cf.sum(axis=1)[:, np.newaxis]\n",
        "    # CODE TO GENERATE TEXT INSIDE EACH SQUARE\n",
        "    blanks = ['' for i in range(cf.size)]\n",
        "\n",
        "    if group_names and len(group_names)==cf.size:\n",
        "        group_labels = [\"{}\\n\".format(value) for value in group_names]\n",
        "    else:\n",
        "        group_labels = blanks\n",
        "\n",
        "    if count:\n",
        "        group_counts = [\"{0:0.0f}\\n\".format(value) for value in cf.flatten()]\n",
        "    else:\n",
        "        group_counts = blanks\n",
        "\n",
        "    if percent:\n",
        "        group_percentages = [\"{0:.2%}\".format(value) for value in cf_pct.flatten()]\n",
        "    else:\n",
        "        group_percentages = blanks\n",
        "\n",
        "    box_labels = [f\"{v1}{v2}{v3}\".strip() for v1, v2, v3 in zip(group_labels,group_counts,group_percentages)]\n",
        "    box_labels = np.asarray(box_labels).reshape(cf.shape[0],cf.shape[1])\n",
        "\n",
        "\n",
        "    # CODE TO GENERATE SUMMARY STATISTICS & TEXT FOR SUMMARY STATS\n",
        "    if sum_stats:\n",
        "        #Accuracy is sum of diagonal divided by total observations\n",
        "        accuracy  = np.trace(cf) / float(np.sum(cf))\n",
        "\n",
        "        #if it is a binary confusion matrix, show some more stats\n",
        "        if len(cf)==2:\n",
        "            #Metrics for Binary Confusion Matrices\n",
        "            precision = cf[1,1] / sum(cf[:,1])\n",
        "            recall    = cf[1,1] / sum(cf[1,:])\n",
        "            f1_score  = 2*precision*recall / (precision + recall)\n",
        "            stats_text = \"\\n\\nAccuracy={:0.3f}\\nPrecision={:0.3f}\\nRecall={:0.3f}\\nF1 Score={:0.3f}\".format(\n",
        "                accuracy,precision,recall,f1_score)\n",
        "        else:\n",
        "            stats_text = \"\\n\\nAccuracy={:0.3f}\".format(accuracy)\n",
        "    else:\n",
        "        stats_text = \"\"\n",
        "\n",
        "\n",
        "    # SET FIGURE PARAMETERS ACCORDING TO OTHER ARGUMENTS\n",
        "    if figsize==None:\n",
        "        #Get default figure size if not set\n",
        "        figsize = plt.rcParams.get('figure.figsize')\n",
        "\n",
        "    if xyticks==False:\n",
        "        #Do not show categories if xyticks is False\n",
        "        categories=False\n",
        "\n",
        "\n",
        "    # MAKE THE HEATMAP VISUALIZATION\n",
        "    plt.figure(figsize=figsize)\n",
        "    sns.heatmap(cf_pct,annot=box_labels,fmt=\"\",cmap=cmap,cbar=cbar,xticklabels=categories,yticklabels=categories)\n",
        "\n",
        "    if xyplotlabels:\n",
        "        plt.ylabel('True label')\n",
        "        plt.xlabel('Predicted label' + stats_text)\n",
        "    else:\n",
        "        plt.xlabel(stats_text)\n",
        "\n",
        "    if title:\n",
        "        plt.title(title)\n",
        "\n",
        "# Run cross-validation\n",
        "def run_cross_validation(model_name='DistilBert',\n",
        "                         X=X,\n",
        "                         y=y,\n",
        "                         splits=5,\n",
        "                         epoch=8,\n",
        "                         checkpoint=False):\n",
        "\n",
        "    kfold = StratifiedShuffleSplit(n_splits=splits, test_size=0.1, random_state=1127)\n",
        "    # kfold = StratifiedKFold(n_splits=splits, shuffle=True, random_state=1127)\n",
        "    n_fold = 1\n",
        "\n",
        "    print(\"Developing Model with Cross validation for: \" + model_name)\n",
        "    for train, test in tqdm(kfold.split(X, y)):\n",
        "\n",
        "        print(\"Running for Fold: \",n_fold)\n",
        "        train_index = list(train)\n",
        "        test_index = list(test)\n",
        "\n",
        "        X_train = [X[i] for i in train_index]\n",
        "        y_train = [y[i] for i in train_index]\n",
        "        X_val = [X[i] for i in test_index]\n",
        "        y_val = [y[i] for i in test_index]\n",
        "\n",
        "        # Tokenize\n",
        "        X_train_tokenized = tokenizer(X_train, padding=True, truncation=True, max_length=512)\n",
        "        X_val_tokenized = tokenizer(X_val, padding=True, truncation=True, max_length=512)\n",
        "\n",
        "        # Create torch dataset\n",
        "        train_dataset = Dataset(X_train_tokenized, y_train)\n",
        "        val_dataset = Dataset(X_val_tokenized, y_val)\n",
        "\n",
        "        # Fine Tune Transformer\n",
        "        # Define Trainer\n",
        "        args = TrainingArguments(\n",
        "            output_dir=\"content/drive/MyDrive_binary/output_\" + model_name + \"/fold\"+str(n_fold),\n",
        "            learning_rate=2e-5,\n",
        "            evaluation_strategy=\"epoch\",\n",
        "            save_strategy=\"epoch\",\n",
        "            per_device_train_batch_size=16,\n",
        "            per_device_eval_batch_size=16,\n",
        "            num_train_epochs=epoch, #1 was okay\n",
        "            seed=1127,\n",
        "            load_best_model_at_end=True,\n",
        "        )\n",
        "\n",
        "        trainer = Trainer(\n",
        "        #model_init=model_init,\n",
        "        model=model,\n",
        "        args=args,\n",
        "        train_dataset=train_dataset,\n",
        "        eval_dataset=val_dataset,\n",
        "        compute_metrics=compute_metrics,\n",
        "        callbacks=[EarlyStoppingCallback(early_stopping_patience=3)],\n",
        "        )\n",
        "\n",
        "        if n_fold <=4:\n",
        "            checkpoint_temp=True\n",
        "        else:\n",
        "            checkpoint_temp=False\n",
        "\n",
        "        trainer.train(resume_from_checkpoint=checkpoint)\n",
        "        print(\"Complete for fold\", n_fold)\n",
        "        n_fold= n_fold + 1\n",
        "\n",
        "\n",
        "# Run Hold Out Test\n",
        "\n",
        "# Train and Test Set\n",
        "X_train, X_test, y_train, y_test = train_test_split(X, y, test_size=0.1, stratify=y, random_state=1127)\n",
        "\n",
        "# Train and Validate Set\n",
        "# X_train, X_val, y_train, y_val = train_test_split(X_train, y_train, test_size=0.1, stratify=y_train, random_state=1127)\n",
        "X_train_tokenized = tokenizer(X_train, padding=True, truncation=True, max_length=512)\n",
        "X_val_tokenized = tokenizer(X_test, padding=True, truncation=True, max_length=512)\n",
        "\n",
        "# Create torch dataset\n",
        "train_dataset = Dataset(X_train_tokenized, y_train)\n",
        "val_dataset = Dataset(X_val_tokenized, y_test)\n",
        "\n",
        "def run_hold_out_split(model_name='DistilBert',\n",
        "                       epoch=8,\n",
        "                       train_dataset=train_dataset,\n",
        "                       eval_dataset=val_dataset,\n",
        "                       checkpoint=False):\n",
        "\n",
        "    print(\"Developing Model with Hold Out Splits for: \" + model_name)\n",
        "    # Fine Tune Transformer\n",
        "    # Define Trainer\n",
        "    args = TrainingArguments(\n",
        "      output_dir=\"content/drive/MyDrive_binary/output_\" + model_name + \"/holdout\",\n",
        "      learning_rate=2e-5,\n",
        "      evaluation_strategy=\"epoch\",\n",
        "      save_strategy=\"epoch\",\n",
        "      per_device_train_batch_size=16,\n",
        "      per_device_eval_batch_size=16,\n",
        "      num_train_epochs=epoch, #1 was okay\n",
        "      seed=1127,\n",
        "      load_best_model_at_end=True,\n",
        "    )\n",
        "\n",
        "    trainer = Trainer(\n",
        "    # model_init=model_init,\n",
        "    args=args,\n",
        "    model=model,\n",
        "    train_dataset=train_dataset,\n",
        "    eval_dataset=val_dataset,\n",
        "    compute_metrics=compute_metrics,\n",
        "    callbacks=[EarlyStoppingCallback(early_stopping_patience=5)],\n",
        "    )\n",
        "\n",
        "    trainer.train(resume_from_checkpoint=checkpoint)\n",
        "    print(\"Complete for hold-out validate set\")\n"
      ]
    },
    {
      "cell_type": "code",
      "execution_count": null,
      "id": "EKrMcyWmEBlO",
      "metadata": {
        "execution": {
          "iopub.execute_input": "2023-08-23T04:53:49.425542Z",
          "iopub.status.busy": "2023-08-23T04:53:49.425029Z",
          "iopub.status.idle": "2023-08-23T04:53:49.435717Z",
          "shell.execute_reply": "2023-08-23T04:53:49.435258Z",
          "shell.execute_reply.started": "2023-08-23T04:53:49.425522Z"
        },
        "id": "EKrMcyWmEBlO"
      },
      "outputs": [],
      "source": [
        "# Predict (Hold Out Test)\n",
        "\n",
        "from sklearn.metrics import confusion_matrix\n",
        "def compute_metrics_holdout(model_name='DistilBert',\n",
        "                            model_path='content/drive/MyDrive_binary/output_DistilBert/holdout/checkpoint-3820',\n",
        "                            average_method='binary',\n",
        "                            X_test=X_test):\n",
        "\n",
        "    X_test_tokenized = tokenizer(X_test, padding=True, truncation=True, max_length=512)\n",
        "\n",
        "    # Create torch dataset\n",
        "    test_dataset = Dataset(X_test_tokenized)\n",
        "\n",
        "    # Load trained model\n",
        "    model_pred = AutoModelForSequenceClassification.from_pretrained(model_path, num_labels=2)\n",
        "\n",
        "    # Define test trainer\n",
        "    test_trainer = Trainer(model_pred)\n",
        "\n",
        "    # Make prediction\n",
        "    raw_pred, _, _ = test_trainer.predict(test_dataset)\n",
        "\n",
        "    # Preprocess raw predictions\n",
        "    y_pred = np.argmax(raw_pred, axis=1)\n",
        "\n",
        "    # Compute metrics\n",
        "    precision_cb = precision_score(y_test, y_pred, average=average_method, pos_label=1)\n",
        "    recall_cb = recall_score(y_test, y_pred, average=average_method, pos_label=1)\n",
        "    f1_cb = f1_score(y_test, y_pred, average=average_method, pos_label=1)\n",
        "\n",
        "    precision_ncb = precision_score(y_test, y_pred, average=average_method, pos_label=0)\n",
        "    recall_ncb = recall_score(y_test, y_pred, average=average_method, pos_label=0)\n",
        "    f1_ncb = f1_score(y_test, y_pred, average=average_method, pos_label=0)\n",
        "\n",
        "    precision_overall = precision_score(y_test, y_pred, average='macro')\n",
        "    recall_overall = recall_score(y_test, y_pred, average='macro')\n",
        "    f1_overall = f1_score(y_test, y_pred, average='macro')\n",
        "\n",
        "    # Print Results\n",
        "    print(\"Classification Report:\")\n",
        "    print(classification_report(y_test,y_pred))\n",
        "    print()\n",
        "    print(\"Label 1: Cyberbullying\")\n",
        "    print(\"Precision: \", precision_cb)\n",
        "    print(\"Recall: \", recall_cb)\n",
        "    print(\"F-measure: \", f1_cb)\n",
        "    print()\n",
        "    print(\"Label 0: Non-Cyberbullying\")\n",
        "    print(\"Precision: \", precision_ncb)\n",
        "    print(\"Recall: \", recall_ncb)\n",
        "    print(\"F-measure: \", f1_ncb)\n",
        "    print()\n",
        "    print(\"Macro Metrics\")\n",
        "    print(\"Precision: \", precision_overall)\n",
        "    print(\"Recall: \", recall_overall)\n",
        "    print(\"F-measure: \", f1_overall)\n",
        "    print()\n",
        "\n",
        "    # Confusion Matrix\n",
        "    conf_mat = confusion_matrix(y_test,y_pred)\n",
        "    categories = ['Non-Cyberbullying', 'Cyberbullying']\n",
        "    labels = ['True Negative','',\n",
        "            '','True Positive']\n",
        "\n",
        "    make_confusion_matrix(conf_mat,\n",
        "                        group_names=labels,\n",
        "                        categories=categories,\n",
        "                        figsize=(8,5),\n",
        "                        cbar=True,\n",
        "                        title='Fine Tuned ' + model_name + ' for Cyberbullying Detection',\n",
        "                        cmap='YlGnBu',\n",
        "                        sum_stats=False)\n",
        "\n"
      ]
    },
    {
      "cell_type": "markdown",
      "id": "q5A2sV2dKlPb",
      "metadata": {
        "id": "q5A2sV2dKlPb",
        "tags": []
      },
      "source": [
        "## Cross Validation (K = 5)"
      ]
    },
    {
      "cell_type": "code",
      "execution_count": null,
      "id": "CBsbcZJPdIco",
      "metadata": {
        "colab": {
          "base_uri": "https://localhost:8080/",
          "height": 1000
        },
        "id": "CBsbcZJPdIco",
        "outputId": "f2c7b09f-d5a5-429a-be52-a2506b830290"
      },
      "outputs": [
        {
          "name": "stdout",
          "output_type": "stream",
          "text": [
            "Developing Model with Cross validation for: Albert\n"
          ]
        },
        {
          "name": "stderr",
          "output_type": "stream",
          "text": [
            "\r0it [00:00, ?it/s]"
          ]
        },
        {
          "name": "stdout",
          "output_type": "stream",
          "text": [
            "Running for Fold:  1\n"
          ]
        },
        {
          "data": {
            "text/html": [
              "\n",
              "    <div>\n",
              "      \n",
              "      <progress value='25256' max='25256' style='width:300px; height:20px; vertical-align: middle;'></progress>\n",
              "      [25256/25256 2:46:32, Epoch 4/4]\n",
              "    </div>\n",
              "    <table border=\"1\" class=\"dataframe\">\n",
              "  <thead>\n",
              " <tr style=\"text-align: left;\">\n",
              "      <th>Epoch</th>\n",
              "      <th>Training Loss</th>\n",
              "      <th>Validation Loss</th>\n",
              "      <th>Accuracy</th>\n",
              "      <th>Precision Cb</th>\n",
              "      <th>Recall Cb</th>\n",
              "      <th>F1 Cb</th>\n",
              "      <th>Precision Ncb</th>\n",
              "      <th>Recall Ncb</th>\n",
              "      <th>F1 Ncb</th>\n",
              "      <th>Precision Overall</th>\n",
              "      <th>Recall Overall</th>\n",
              "      <th>F1 Overall</th>\n",
              "    </tr>\n",
              "  </thead>\n",
              "  <tbody>\n",
              "    <tr>\n",
              "      <td>1</td>\n",
              "      <td>0.140400</td>\n",
              "      <td>0.153879</td>\n",
              "      <td>0.961514</td>\n",
              "      <td>0.743119</td>\n",
              "      <td>0.301115</td>\n",
              "      <td>0.428571</td>\n",
              "      <td>0.965840</td>\n",
              "      <td>0.994760</td>\n",
              "      <td>0.980087</td>\n",
              "      <td>0.854480</td>\n",
              "      <td>0.647938</td>\n",
              "      <td>0.704329</td>\n",
              "    </tr>\n",
              "    <tr>\n",
              "      <td>2</td>\n",
              "      <td>0.108900</td>\n",
              "      <td>0.119151</td>\n",
              "      <td>0.966414</td>\n",
              "      <td>0.724234</td>\n",
              "      <td>0.483271</td>\n",
              "      <td>0.579710</td>\n",
              "      <td>0.974416</td>\n",
              "      <td>0.990736</td>\n",
              "      <td>0.982508</td>\n",
              "      <td>0.849325</td>\n",
              "      <td>0.737004</td>\n",
              "      <td>0.781109</td>\n",
              "    </tr>\n",
              "    <tr>\n",
              "      <td>3</td>\n",
              "      <td>0.102500</td>\n",
              "      <td>0.124396</td>\n",
              "      <td>0.966236</td>\n",
              "      <td>0.760656</td>\n",
              "      <td>0.431227</td>\n",
              "      <td>0.550415</td>\n",
              "      <td>0.971978</td>\n",
              "      <td>0.993169</td>\n",
              "      <td>0.982459</td>\n",
              "      <td>0.866317</td>\n",
              "      <td>0.712198</td>\n",
              "      <td>0.766437</td>\n",
              "    </tr>\n",
              "    <tr>\n",
              "      <td>4</td>\n",
              "      <td>0.091500</td>\n",
              "      <td>0.126942</td>\n",
              "      <td>0.966503</td>\n",
              "      <td>0.731429</td>\n",
              "      <td>0.475836</td>\n",
              "      <td>0.576577</td>\n",
              "      <td>0.974069</td>\n",
              "      <td>0.991204</td>\n",
              "      <td>0.982562</td>\n",
              "      <td>0.852749</td>\n",
              "      <td>0.733520</td>\n",
              "      <td>0.779569</td>\n",
              "    </tr>\n",
              "  </tbody>\n",
              "</table><p>"
            ],
            "text/plain": [
              "<IPython.core.display.HTML object>"
            ]
          },
          "metadata": {},
          "output_type": "display_data"
        },
        {
          "name": "stderr",
          "output_type": "stream",
          "text": [
            "\r1it [2:46:58, 10018.43s/it]"
          ]
        },
        {
          "name": "stdout",
          "output_type": "stream",
          "text": [
            "Complete for fold 1\n",
            "Running for Fold:  2\n"
          ]
        },
        {
          "data": {
            "text/html": [
              "\n",
              "    <div>\n",
              "      \n",
              "      <progress value='25256' max='25256' style='width:300px; height:20px; vertical-align: middle;'></progress>\n",
              "      [25256/25256 2:46:28, Epoch 4/4]\n",
              "    </div>\n",
              "    <table border=\"1\" class=\"dataframe\">\n",
              "  <thead>\n",
              " <tr style=\"text-align: left;\">\n",
              "      <th>Epoch</th>\n",
              "      <th>Training Loss</th>\n",
              "      <th>Validation Loss</th>\n",
              "      <th>Accuracy</th>\n",
              "      <th>Precision Cb</th>\n",
              "      <th>Recall Cb</th>\n",
              "      <th>F1 Cb</th>\n",
              "      <th>Precision Ncb</th>\n",
              "      <th>Recall Ncb</th>\n",
              "      <th>F1 Ncb</th>\n",
              "      <th>Precision Overall</th>\n",
              "      <th>Recall Overall</th>\n",
              "      <th>F1 Overall</th>\n",
              "    </tr>\n",
              "  </thead>\n",
              "  <tbody>\n",
              "    <tr>\n",
              "      <td>1</td>\n",
              "      <td>0.117800</td>\n",
              "      <td>0.117752</td>\n",
              "      <td>0.964454</td>\n",
              "      <td>0.643299</td>\n",
              "      <td>0.579926</td>\n",
              "      <td>0.609971</td>\n",
              "      <td>0.978957</td>\n",
              "      <td>0.983812</td>\n",
              "      <td>0.981379</td>\n",
              "      <td>0.811128</td>\n",
              "      <td>0.781869</td>\n",
              "      <td>0.795675</td>\n",
              "    </tr>\n",
              "    <tr>\n",
              "      <td>2</td>\n",
              "      <td>0.109500</td>\n",
              "      <td>0.132814</td>\n",
              "      <td>0.964543</td>\n",
              "      <td>0.812500</td>\n",
              "      <td>0.338290</td>\n",
              "      <td>0.477690</td>\n",
              "      <td>0.967639</td>\n",
              "      <td>0.996070</td>\n",
              "      <td>0.981649</td>\n",
              "      <td>0.890070</td>\n",
              "      <td>0.667180</td>\n",
              "      <td>0.729670</td>\n",
              "    </tr>\n",
              "    <tr>\n",
              "      <td>3</td>\n",
              "      <td>0.089400</td>\n",
              "      <td>0.127073</td>\n",
              "      <td>0.966949</td>\n",
              "      <td>0.682713</td>\n",
              "      <td>0.579926</td>\n",
              "      <td>0.627136</td>\n",
              "      <td>0.979012</td>\n",
              "      <td>0.986432</td>\n",
              "      <td>0.982708</td>\n",
              "      <td>0.830863</td>\n",
              "      <td>0.783179</td>\n",
              "      <td>0.804922</td>\n",
              "    </tr>\n",
              "    <tr>\n",
              "      <td>4</td>\n",
              "      <td>0.074800</td>\n",
              "      <td>0.127904</td>\n",
              "      <td>0.968374</td>\n",
              "      <td>0.714286</td>\n",
              "      <td>0.566914</td>\n",
              "      <td>0.632124</td>\n",
              "      <td>0.978422</td>\n",
              "      <td>0.988584</td>\n",
              "      <td>0.983477</td>\n",
              "      <td>0.846354</td>\n",
              "      <td>0.777749</td>\n",
              "      <td>0.807801</td>\n",
              "    </tr>\n",
              "  </tbody>\n",
              "</table><p>"
            ],
            "text/plain": [
              "<IPython.core.display.HTML object>"
            ]
          },
          "metadata": {},
          "output_type": "display_data"
        },
        {
          "name": "stderr",
          "output_type": "stream",
          "text": [
            "\r2it [5:33:53, 10016.65s/it]"
          ]
        },
        {
          "name": "stdout",
          "output_type": "stream",
          "text": [
            "Complete for fold 2\n",
            "Running for Fold:  3\n"
          ]
        },
        {
          "data": {
            "text/html": [
              "\n",
              "    <div>\n",
              "      \n",
              "      <progress value='25256' max='25256' style='width:300px; height:20px; vertical-align: middle;'></progress>\n",
              "      [25256/25256 2:46:34, Epoch 4/4]\n",
              "    </div>\n",
              "    <table border=\"1\" class=\"dataframe\">\n",
              "  <thead>\n",
              " <tr style=\"text-align: left;\">\n",
              "      <th>Epoch</th>\n",
              "      <th>Training Loss</th>\n",
              "      <th>Validation Loss</th>\n",
              "      <th>Accuracy</th>\n",
              "      <th>Precision Cb</th>\n",
              "      <th>Recall Cb</th>\n",
              "      <th>F1 Cb</th>\n",
              "      <th>Precision Ncb</th>\n",
              "      <th>Recall Ncb</th>\n",
              "      <th>F1 Ncb</th>\n",
              "      <th>Precision Overall</th>\n",
              "      <th>Recall Overall</th>\n",
              "      <th>F1 Overall</th>\n",
              "    </tr>\n",
              "  </thead>\n",
              "  <tbody>\n",
              "    <tr>\n",
              "      <td>1</td>\n",
              "      <td>0.114100</td>\n",
              "      <td>0.104160</td>\n",
              "      <td>0.972116</td>\n",
              "      <td>0.764706</td>\n",
              "      <td>0.604089</td>\n",
              "      <td>0.674974</td>\n",
              "      <td>0.980278</td>\n",
              "      <td>0.990643</td>\n",
              "      <td>0.985433</td>\n",
              "      <td>0.872492</td>\n",
              "      <td>0.797366</td>\n",
              "      <td>0.830204</td>\n",
              "    </tr>\n",
              "    <tr>\n",
              "      <td>2</td>\n",
              "      <td>0.096400</td>\n",
              "      <td>0.111842</td>\n",
              "      <td>0.969532</td>\n",
              "      <td>0.684906</td>\n",
              "      <td>0.674721</td>\n",
              "      <td>0.679775</td>\n",
              "      <td>0.983637</td>\n",
              "      <td>0.984374</td>\n",
              "      <td>0.984005</td>\n",
              "      <td>0.834271</td>\n",
              "      <td>0.829547</td>\n",
              "      <td>0.831890</td>\n",
              "    </tr>\n",
              "    <tr>\n",
              "      <td>3</td>\n",
              "      <td>0.089100</td>\n",
              "      <td>0.107356</td>\n",
              "      <td>0.970334</td>\n",
              "      <td>0.712215</td>\n",
              "      <td>0.639405</td>\n",
              "      <td>0.673849</td>\n",
              "      <td>0.981940</td>\n",
              "      <td>0.986994</td>\n",
              "      <td>0.984460</td>\n",
              "      <td>0.847078</td>\n",
              "      <td>0.813199</td>\n",
              "      <td>0.829155</td>\n",
              "    </tr>\n",
              "    <tr>\n",
              "      <td>4</td>\n",
              "      <td>0.069200</td>\n",
              "      <td>0.120050</td>\n",
              "      <td>0.970512</td>\n",
              "      <td>0.720682</td>\n",
              "      <td>0.628253</td>\n",
              "      <td>0.671301</td>\n",
              "      <td>0.981406</td>\n",
              "      <td>0.987742</td>\n",
              "      <td>0.984564</td>\n",
              "      <td>0.851044</td>\n",
              "      <td>0.807997</td>\n",
              "      <td>0.827932</td>\n",
              "    </tr>\n",
              "  </tbody>\n",
              "</table><p>"
            ],
            "text/plain": [
              "<IPython.core.display.HTML object>"
            ]
          },
          "metadata": {},
          "output_type": "display_data"
        },
        {
          "name": "stderr",
          "output_type": "stream",
          "text": [
            "\r3it [8:20:57, 10019.87s/it]"
          ]
        },
        {
          "name": "stdout",
          "output_type": "stream",
          "text": [
            "Complete for fold 3\n",
            "Running for Fold:  4\n"
          ]
        },
        {
          "data": {
            "text/html": [
              "\n",
              "    <div>\n",
              "      \n",
              "      <progress value='25256' max='25256' style='width:300px; height:20px; vertical-align: middle;'></progress>\n",
              "      [25256/25256 2:46:39, Epoch 4/4]\n",
              "    </div>\n",
              "    <table border=\"1\" class=\"dataframe\">\n",
              "  <thead>\n",
              " <tr style=\"text-align: left;\">\n",
              "      <th>Epoch</th>\n",
              "      <th>Training Loss</th>\n",
              "      <th>Validation Loss</th>\n",
              "      <th>Accuracy</th>\n",
              "      <th>Precision Cb</th>\n",
              "      <th>Recall Cb</th>\n",
              "      <th>F1 Cb</th>\n",
              "      <th>Precision Ncb</th>\n",
              "      <th>Recall Ncb</th>\n",
              "      <th>F1 Ncb</th>\n",
              "      <th>Precision Overall</th>\n",
              "      <th>Recall Overall</th>\n",
              "      <th>F1 Overall</th>\n",
              "    </tr>\n",
              "  </thead>\n",
              "  <tbody>\n",
              "    <tr>\n",
              "      <td>1</td>\n",
              "      <td>0.100400</td>\n",
              "      <td>0.105825</td>\n",
              "      <td>0.970334</td>\n",
              "      <td>0.713987</td>\n",
              "      <td>0.635688</td>\n",
              "      <td>0.672566</td>\n",
              "      <td>0.981761</td>\n",
              "      <td>0.987181</td>\n",
              "      <td>0.984463</td>\n",
              "      <td>0.847874</td>\n",
              "      <td>0.811434</td>\n",
              "      <td>0.828515</td>\n",
              "    </tr>\n",
              "    <tr>\n",
              "      <td>2</td>\n",
              "      <td>0.091100</td>\n",
              "      <td>0.107335</td>\n",
              "      <td>0.970869</td>\n",
              "      <td>0.722105</td>\n",
              "      <td>0.637546</td>\n",
              "      <td>0.677196</td>\n",
              "      <td>0.981860</td>\n",
              "      <td>0.987649</td>\n",
              "      <td>0.984746</td>\n",
              "      <td>0.851983</td>\n",
              "      <td>0.812598</td>\n",
              "      <td>0.830971</td>\n",
              "    </tr>\n",
              "    <tr>\n",
              "      <td>3</td>\n",
              "      <td>0.081900</td>\n",
              "      <td>0.109089</td>\n",
              "      <td>0.970780</td>\n",
              "      <td>0.736486</td>\n",
              "      <td>0.607807</td>\n",
              "      <td>0.665988</td>\n",
              "      <td>0.980429</td>\n",
              "      <td>0.989052</td>\n",
              "      <td>0.984721</td>\n",
              "      <td>0.858458</td>\n",
              "      <td>0.798429</td>\n",
              "      <td>0.825355</td>\n",
              "    </tr>\n",
              "    <tr>\n",
              "      <td>4</td>\n",
              "      <td>0.054900</td>\n",
              "      <td>0.137040</td>\n",
              "      <td>0.969889</td>\n",
              "      <td>0.716450</td>\n",
              "      <td>0.615242</td>\n",
              "      <td>0.662000</td>\n",
              "      <td>0.980767</td>\n",
              "      <td>0.987742</td>\n",
              "      <td>0.984242</td>\n",
              "      <td>0.848609</td>\n",
              "      <td>0.801492</td>\n",
              "      <td>0.823121</td>\n",
              "    </tr>\n",
              "  </tbody>\n",
              "</table><p>"
            ],
            "text/plain": [
              "<IPython.core.display.HTML object>"
            ]
          },
          "metadata": {},
          "output_type": "display_data"
        },
        {
          "name": "stderr",
          "output_type": "stream",
          "text": [
            "\r4it [11:08:03, 10022.42s/it]"
          ]
        },
        {
          "name": "stdout",
          "output_type": "stream",
          "text": [
            "Complete for fold 4\n",
            "Running for Fold:  5\n"
          ]
        },
        {
          "data": {
            "text/html": [
              "\n",
              "    <div>\n",
              "      \n",
              "      <progress value='18943' max='25256' style='width:300px; height:20px; vertical-align: middle;'></progress>\n",
              "      [18943/25256 2:03:21 < 41:07, 2.56 it/s, Epoch 3/4]\n",
              "    </div>\n",
              "    <table border=\"1\" class=\"dataframe\">\n",
              "  <thead>\n",
              " <tr style=\"text-align: left;\">\n",
              "      <th>Epoch</th>\n",
              "      <th>Training Loss</th>\n",
              "      <th>Validation Loss</th>\n",
              "      <th>Accuracy</th>\n",
              "      <th>Precision Cb</th>\n",
              "      <th>Recall Cb</th>\n",
              "      <th>F1 Cb</th>\n",
              "      <th>Precision Ncb</th>\n",
              "      <th>Recall Ncb</th>\n",
              "      <th>F1 Ncb</th>\n",
              "      <th>Precision Overall</th>\n",
              "      <th>Recall Overall</th>\n",
              "      <th>F1 Overall</th>\n",
              "    </tr>\n",
              "  </thead>\n",
              "  <tbody>\n",
              "    <tr>\n",
              "      <td>1</td>\n",
              "      <td>0.102600</td>\n",
              "      <td>0.107040</td>\n",
              "      <td>0.971492</td>\n",
              "      <td>0.760766</td>\n",
              "      <td>0.591078</td>\n",
              "      <td>0.665272</td>\n",
              "      <td>0.979643</td>\n",
              "      <td>0.990643</td>\n",
              "      <td>0.985112</td>\n",
              "      <td>0.870204</td>\n",
              "      <td>0.790860</td>\n",
              "      <td>0.825192</td>\n",
              "    </tr>\n",
              "    <tr>\n",
              "      <td>2</td>\n",
              "      <td>0.072700</td>\n",
              "      <td>0.104400</td>\n",
              "      <td>0.972205</td>\n",
              "      <td>0.752232</td>\n",
              "      <td>0.626394</td>\n",
              "      <td>0.683570</td>\n",
              "      <td>0.981349</td>\n",
              "      <td>0.989614</td>\n",
              "      <td>0.985464</td>\n",
              "      <td>0.866791</td>\n",
              "      <td>0.808004</td>\n",
              "      <td>0.834517</td>\n",
              "    </tr>\n",
              "  </tbody>\n",
              "</table><p>\n",
              "    <div>\n",
              "      \n",
              "      <progress value='231' max='702' style='width:300px; height:20px; vertical-align: middle;'></progress>\n",
              "      [231/702 00:30 < 01:03, 7.43 it/s]\n",
              "    </div>\n",
              "    "
            ],
            "text/plain": [
              "<IPython.core.display.HTML object>"
            ]
          },
          "metadata": {},
          "output_type": "display_data"
        },
        {
          "data": {
            "text/html": [
              "\n",
              "    <div>\n",
              "      \n",
              "      <progress value='25256' max='25256' style='width:300px; height:20px; vertical-align: middle;'></progress>\n",
              "      [25256/25256 2:46:35, Epoch 4/4]\n",
              "    </div>\n",
              "    <table border=\"1\" class=\"dataframe\">\n",
              "  <thead>\n",
              " <tr style=\"text-align: left;\">\n",
              "      <th>Epoch</th>\n",
              "      <th>Training Loss</th>\n",
              "      <th>Validation Loss</th>\n",
              "      <th>Accuracy</th>\n",
              "      <th>Precision Cb</th>\n",
              "      <th>Recall Cb</th>\n",
              "      <th>F1 Cb</th>\n",
              "      <th>Precision Ncb</th>\n",
              "      <th>Recall Ncb</th>\n",
              "      <th>F1 Ncb</th>\n",
              "      <th>Precision Overall</th>\n",
              "      <th>Recall Overall</th>\n",
              "      <th>F1 Overall</th>\n",
              "    </tr>\n",
              "  </thead>\n",
              "  <tbody>\n",
              "    <tr>\n",
              "      <td>1</td>\n",
              "      <td>0.102600</td>\n",
              "      <td>0.107040</td>\n",
              "      <td>0.971492</td>\n",
              "      <td>0.760766</td>\n",
              "      <td>0.591078</td>\n",
              "      <td>0.665272</td>\n",
              "      <td>0.979643</td>\n",
              "      <td>0.990643</td>\n",
              "      <td>0.985112</td>\n",
              "      <td>0.870204</td>\n",
              "      <td>0.790860</td>\n",
              "      <td>0.825192</td>\n",
              "    </tr>\n",
              "    <tr>\n",
              "      <td>2</td>\n",
              "      <td>0.072700</td>\n",
              "      <td>0.104400</td>\n",
              "      <td>0.972205</td>\n",
              "      <td>0.752232</td>\n",
              "      <td>0.626394</td>\n",
              "      <td>0.683570</td>\n",
              "      <td>0.981349</td>\n",
              "      <td>0.989614</td>\n",
              "      <td>0.985464</td>\n",
              "      <td>0.866791</td>\n",
              "      <td>0.808004</td>\n",
              "      <td>0.834517</td>\n",
              "    </tr>\n",
              "    <tr>\n",
              "      <td>3</td>\n",
              "      <td>0.063500</td>\n",
              "      <td>0.115206</td>\n",
              "      <td>0.973185</td>\n",
              "      <td>0.736527</td>\n",
              "      <td>0.685874</td>\n",
              "      <td>0.710298</td>\n",
              "      <td>0.984241</td>\n",
              "      <td>0.987649</td>\n",
              "      <td>0.985942</td>\n",
              "      <td>0.860384</td>\n",
              "      <td>0.836761</td>\n",
              "      <td>0.848120</td>\n",
              "    </tr>\n",
              "    <tr>\n",
              "      <td>4</td>\n",
              "      <td>0.049300</td>\n",
              "      <td>0.136722</td>\n",
              "      <td>0.971314</td>\n",
              "      <td>0.709302</td>\n",
              "      <td>0.680297</td>\n",
              "      <td>0.694497</td>\n",
              "      <td>0.983939</td>\n",
              "      <td>0.985964</td>\n",
              "      <td>0.984950</td>\n",
              "      <td>0.846621</td>\n",
              "      <td>0.833131</td>\n",
              "      <td>0.839724</td>\n",
              "    </tr>\n",
              "  </tbody>\n",
              "</table><p>"
            ],
            "text/plain": [
              "<IPython.core.display.HTML object>"
            ]
          },
          "metadata": {},
          "output_type": "display_data"
        },
        {
          "name": "stderr",
          "output_type": "stream",
          "text": [
            "5it [13:55:08, 10021.68s/it]"
          ]
        },
        {
          "name": "stdout",
          "output_type": "stream",
          "text": [
            "Complete for fold 5\n"
          ]
        },
        {
          "name": "stderr",
          "output_type": "stream",
          "text": [
            "\n"
          ]
        }
      ],
      "source": [
        "run_cross_validation(model_name='Albert',\n",
        "                         X=X,\n",
        "                         y=y,\n",
        "                         splits=5,\n",
        "                         epoch=4,\n",
        "                         checkpoint=False)"
      ]
    },
    {
      "cell_type": "code",
      "execution_count": null,
      "id": "p5QGotWv8_-V",
      "metadata": {
        "colab": {
          "base_uri": "https://localhost:8080/",
          "height": 516
        },
        "execution": {
          "iopub.execute_input": "2023-08-22T18:23:41.378281Z",
          "iopub.status.busy": "2023-08-22T18:23:41.377633Z",
          "iopub.status.idle": "2023-08-23T04:43:08.137120Z",
          "shell.execute_reply": "2023-08-23T04:43:08.136085Z",
          "shell.execute_reply.started": "2023-08-22T18:23:41.378281Z"
        },
        "id": "p5QGotWv8_-V",
        "outputId": "cee9d88a-ab2e-445e-b7df-b003db0175d9"
      },
      "outputs": [
        {
          "name": "stdout",
          "output_type": "stream",
          "text": [
            "Developing Model with Cross validation for: Albert\n"
          ]
        },
        {
          "name": "stderr",
          "output_type": "stream",
          "text": [
            "\r0it [00:00, ?it/s]"
          ]
        },
        {
          "name": "stdout",
          "output_type": "stream",
          "text": [
            "Running for Fold:  1\n"
          ]
        },
        {
          "data": {
            "text/html": [
              "\n",
              "    <div>\n",
              "      \n",
              "      <progress value='25256' max='25256' style='width:300px; height:20px; vertical-align: middle;'></progress>\n",
              "      [25256/25256 : < :, Epoch 4/4]\n",
              "    </div>\n",
              "    <table border=\"1\" class=\"dataframe\">\n",
              "  <thead>\n",
              " <tr style=\"text-align: left;\">\n",
              "      <th>Epoch</th>\n",
              "      <th>Training Loss</th>\n",
              "      <th>Validation Loss</th>\n",
              "    </tr>\n",
              "  </thead>\n",
              "  <tbody>\n",
              "  </tbody>\n",
              "</table><p>"
            ],
            "text/plain": [
              "<IPython.core.display.HTML object>"
            ]
          },
          "metadata": {},
          "output_type": "display_data"
        },
        {
          "name": "stderr",
          "output_type": "stream",
          "text": [
            "\r1it [00:29, 29.04s/it]"
          ]
        },
        {
          "name": "stdout",
          "output_type": "stream",
          "text": [
            "Complete for fold 1\n",
            "Running for Fold:  2\n"
          ]
        },
        {
          "data": {
            "text/html": [
              "\n",
              "    <div>\n",
              "      \n",
              "      <progress value='25256' max='25256' style='width:300px; height:20px; vertical-align: middle;'></progress>\n",
              "      [25256/25256 : < :, Epoch 4/4]\n",
              "    </div>\n",
              "    <table border=\"1\" class=\"dataframe\">\n",
              "  <thead>\n",
              " <tr style=\"text-align: left;\">\n",
              "      <th>Epoch</th>\n",
              "      <th>Training Loss</th>\n",
              "      <th>Validation Loss</th>\n",
              "    </tr>\n",
              "  </thead>\n",
              "  <tbody>\n",
              "  </tbody>\n",
              "</table><p>"
            ],
            "text/plain": [
              "<IPython.core.display.HTML object>"
            ]
          },
          "metadata": {},
          "output_type": "display_data"
        },
        {
          "name": "stderr",
          "output_type": "stream",
          "text": [
            "\r2it [01:03, 32.14s/it]"
          ]
        },
        {
          "name": "stdout",
          "output_type": "stream",
          "text": [
            "Complete for fold 2\n",
            "Running for Fold:  3\n"
          ]
        },
        {
          "data": {
            "text/html": [
              "\n",
              "    <div>\n",
              "      \n",
              "      <progress value='25256' max='25256' style='width:300px; height:20px; vertical-align: middle;'></progress>\n",
              "      [25256/25256 : < :, Epoch 4/4]\n",
              "    </div>\n",
              "    <table border=\"1\" class=\"dataframe\">\n",
              "  <thead>\n",
              " <tr style=\"text-align: left;\">\n",
              "      <th>Epoch</th>\n",
              "      <th>Training Loss</th>\n",
              "      <th>Validation Loss</th>\n",
              "    </tr>\n",
              "  </thead>\n",
              "  <tbody>\n",
              "  </tbody>\n",
              "</table><p>"
            ],
            "text/plain": [
              "<IPython.core.display.HTML object>"
            ]
          },
          "metadata": {},
          "output_type": "display_data"
        },
        {
          "name": "stderr",
          "output_type": "stream",
          "text": [
            "\r3it [01:26, 28.01s/it]"
          ]
        },
        {
          "name": "stdout",
          "output_type": "stream",
          "text": [
            "Complete for fold 3\n",
            "Running for Fold:  4\n"
          ]
        },
        {
          "data": {
            "text/html": [
              "\n",
              "    <div>\n",
              "      \n",
              "      <progress value='25256' max='25256' style='width:300px; height:20px; vertical-align: middle;'></progress>\n",
              "      [25256/25256 : < :, Epoch 4/4]\n",
              "    </div>\n",
              "    <table border=\"1\" class=\"dataframe\">\n",
              "  <thead>\n",
              " <tr style=\"text-align: left;\">\n",
              "      <th>Epoch</th>\n",
              "      <th>Training Loss</th>\n",
              "      <th>Validation Loss</th>\n",
              "    </tr>\n",
              "  </thead>\n",
              "  <tbody>\n",
              "  </tbody>\n",
              "</table><p>"
            ],
            "text/plain": [
              "<IPython.core.display.HTML object>"
            ]
          },
          "metadata": {},
          "output_type": "display_data"
        },
        {
          "name": "stderr",
          "output_type": "stream",
          "text": [
            "\r4it [01:49, 26.24s/it]"
          ]
        },
        {
          "name": "stdout",
          "output_type": "stream",
          "text": [
            "Complete for fold 4\n",
            "Running for Fold:  5\n"
          ]
        },
        {
          "data": {
            "text/html": [
              "\n",
              "    <div>\n",
              "      \n",
              "      <progress value='25256' max='25256' style='width:300px; height:20px; vertical-align: middle;'></progress>\n",
              "      [25256/25256 : < :, Epoch 4/4]\n",
              "    </div>\n",
              "    <table border=\"1\" class=\"dataframe\">\n",
              "  <thead>\n",
              " <tr style=\"text-align: left;\">\n",
              "      <th>Epoch</th>\n",
              "      <th>Training Loss</th>\n",
              "      <th>Validation Loss</th>\n",
              "    </tr>\n",
              "  </thead>\n",
              "  <tbody>\n",
              "  </tbody>\n",
              "</table><p>"
            ],
            "text/plain": [
              "<IPython.core.display.HTML object>"
            ]
          },
          "metadata": {},
          "output_type": "display_data"
        },
        {
          "name": "stderr",
          "output_type": "stream",
          "text": [
            "5it [02:13, 26.65s/it]"
          ]
        },
        {
          "name": "stdout",
          "output_type": "stream",
          "text": [
            "Complete for fold 5\n"
          ]
        },
        {
          "name": "stderr",
          "output_type": "stream",
          "text": [
            "\n"
          ]
        }
      ],
      "source": [
        "run_cross_validation(model_name='Albert',\n",
        "                         X=X,\n",
        "                         y=y,\n",
        "                         splits=5,\n",
        "                         epoch=4,\n",
        "                         checkpoint=True)"
      ]
    },
    {
      "cell_type": "markdown",
      "id": "W4F4117sKwZQ",
      "metadata": {
        "id": "W4F4117sKwZQ"
      },
      "source": [
        "## Hold Out Split"
      ]
    },
    {
      "cell_type": "code",
      "execution_count": null,
      "id": "6f37e94d-0b71-406e-b0d3-e2e6c6ead9c7",
      "metadata": {
        "colab": {
          "base_uri": "https://localhost:8080/",
          "height": 253
        },
        "execution": {
          "iopub.execute_input": "2023-08-23T04:55:36.875039Z",
          "iopub.status.busy": "2023-08-23T04:55:36.874397Z",
          "iopub.status.idle": "2023-08-23T05:54:30.844732Z",
          "shell.execute_reply": "2023-08-23T05:54:30.844170Z",
          "shell.execute_reply.started": "2023-08-23T04:55:36.875014Z"
        },
        "id": "6f37e94d-0b71-406e-b0d3-e2e6c6ead9c7",
        "outputId": "aca74e97-e372-409e-fe0e-b5aba944badf"
      },
      "outputs": [
        {
          "name": "stdout",
          "output_type": "stream",
          "text": [
            "Developing Model with Hold Out Splits for: Albert\n"
          ]
        },
        {
          "data": {
            "text/html": [
              "\n",
              "    <div>\n",
              "      \n",
              "      <progress value='25256' max='25256' style='width:300px; height:20px; vertical-align: middle;'></progress>\n",
              "      [25256/25256 2:46:43, Epoch 4/4]\n",
              "    </div>\n",
              "    <table border=\"1\" class=\"dataframe\">\n",
              "  <thead>\n",
              " <tr style=\"text-align: left;\">\n",
              "      <th>Epoch</th>\n",
              "      <th>Training Loss</th>\n",
              "      <th>Validation Loss</th>\n",
              "      <th>Accuracy</th>\n",
              "      <th>Precision Cb</th>\n",
              "      <th>Recall Cb</th>\n",
              "      <th>F1 Cb</th>\n",
              "      <th>Precision Ncb</th>\n",
              "      <th>Recall Ncb</th>\n",
              "      <th>F1 Ncb</th>\n",
              "      <th>Precision Overall</th>\n",
              "      <th>Recall Overall</th>\n",
              "      <th>F1 Overall</th>\n",
              "    </tr>\n",
              "  </thead>\n",
              "  <tbody>\n",
              "    <tr>\n",
              "      <td>1</td>\n",
              "      <td>0.082800</td>\n",
              "      <td>0.104970</td>\n",
              "      <td>0.974343</td>\n",
              "      <td>0.876506</td>\n",
              "      <td>0.540892</td>\n",
              "      <td>0.668966</td>\n",
              "      <td>0.977325</td>\n",
              "      <td>0.996164</td>\n",
              "      <td>0.986654</td>\n",
              "      <td>0.926915</td>\n",
              "      <td>0.768528</td>\n",
              "      <td>0.827810</td>\n",
              "    </tr>\n",
              "    <tr>\n",
              "      <td>2</td>\n",
              "      <td>0.060800</td>\n",
              "      <td>0.102692</td>\n",
              "      <td>0.976748</td>\n",
              "      <td>0.760829</td>\n",
              "      <td>0.750929</td>\n",
              "      <td>0.755847</td>\n",
              "      <td>0.987470</td>\n",
              "      <td>0.988116</td>\n",
              "      <td>0.987793</td>\n",
              "      <td>0.874149</td>\n",
              "      <td>0.869523</td>\n",
              "      <td>0.871820</td>\n",
              "    </tr>\n",
              "    <tr>\n",
              "      <td>3</td>\n",
              "      <td>0.043600</td>\n",
              "      <td>0.110195</td>\n",
              "      <td>0.978085</td>\n",
              "      <td>0.802905</td>\n",
              "      <td>0.719331</td>\n",
              "      <td>0.758824</td>\n",
              "      <td>0.985944</td>\n",
              "      <td>0.991111</td>\n",
              "      <td>0.988521</td>\n",
              "      <td>0.894424</td>\n",
              "      <td>0.855221</td>\n",
              "      <td>0.873672</td>\n",
              "    </tr>\n",
              "    <tr>\n",
              "      <td>4</td>\n",
              "      <td>0.042300</td>\n",
              "      <td>0.125740</td>\n",
              "      <td>0.976570</td>\n",
              "      <td>0.757974</td>\n",
              "      <td>0.750929</td>\n",
              "      <td>0.754435</td>\n",
              "      <td>0.987467</td>\n",
              "      <td>0.987929</td>\n",
              "      <td>0.987698</td>\n",
              "      <td>0.872720</td>\n",
              "      <td>0.869429</td>\n",
              "      <td>0.871067</td>\n",
              "    </tr>\n",
              "  </tbody>\n",
              "</table><p>"
            ],
            "text/plain": [
              "<IPython.core.display.HTML object>"
            ]
          },
          "metadata": {},
          "output_type": "display_data"
        },
        {
          "name": "stdout",
          "output_type": "stream",
          "text": [
            "Complete for hold-out validate set\n"
          ]
        }
      ],
      "source": [
        "#holdout\n",
        "run_hold_out_split(model_name='Albert',\n",
        "                       epoch=4,\n",
        "                       train_dataset=train_dataset,\n",
        "                       eval_dataset=val_dataset,\n",
        "                       checkpoint=False)"
      ]
    },
    {
      "cell_type": "code",
      "execution_count": null,
      "id": "cbb07800-22ad-4740-8778-ff3922c37e18",
      "metadata": {
        "colab": {
          "base_uri": "https://localhost:8080/",
          "height": 110
        },
        "execution": {
          "iopub.execute_input": "2023-08-23T05:55:01.121071Z",
          "iopub.status.busy": "2023-08-23T05:55:01.120514Z",
          "iopub.status.idle": "2023-08-23T05:55:01.735365Z",
          "shell.execute_reply": "2023-08-23T05:55:01.734847Z",
          "shell.execute_reply.started": "2023-08-23T05:55:01.121048Z"
        },
        "id": "cbb07800-22ad-4740-8778-ff3922c37e18",
        "outputId": "bceed5f3-fd42-4a96-a651-a5f0faf7a489"
      },
      "outputs": [
        {
          "name": "stdout",
          "output_type": "stream",
          "text": [
            "Developing Model with Hold Out Splits for: Albert\n"
          ]
        },
        {
          "data": {
            "text/html": [
              "\n",
              "    <div>\n",
              "      \n",
              "      <progress value='25256' max='25256' style='width:300px; height:20px; vertical-align: middle;'></progress>\n",
              "      [25256/25256 : < :, Epoch 4/4]\n",
              "    </div>\n",
              "    <table border=\"1\" class=\"dataframe\">\n",
              "  <thead>\n",
              " <tr style=\"text-align: left;\">\n",
              "      <th>Epoch</th>\n",
              "      <th>Training Loss</th>\n",
              "      <th>Validation Loss</th>\n",
              "    </tr>\n",
              "  </thead>\n",
              "  <tbody>\n",
              "  </tbody>\n",
              "</table><p>"
            ],
            "text/plain": [
              "<IPython.core.display.HTML object>"
            ]
          },
          "metadata": {},
          "output_type": "display_data"
        },
        {
          "name": "stdout",
          "output_type": "stream",
          "text": [
            "Complete for hold-out validate set\n"
          ]
        }
      ],
      "source": [
        "#holdout\n",
        "run_hold_out_split(model_name='Albert',\n",
        "                       epoch=4,\n",
        "                       train_dataset=train_dataset,\n",
        "                       eval_dataset=val_dataset,\n",
        "                       checkpoint=True)"
      ]
    },
    {
      "cell_type": "markdown",
      "id": "w5vyE3EkK2JQ",
      "metadata": {
        "id": "w5vyE3EkK2JQ",
        "tags": []
      },
      "source": [
        "### Test Split Confusion Matrix"
      ]
    },
    {
      "cell_type": "markdown",
      "id": "fG7eAEaFtIYk",
      "metadata": {
        "id": "fG7eAEaFtIYk"
      },
      "source": [
        "#### Epoch 1\n"
      ]
    },
    {
      "cell_type": "code",
      "execution_count": null,
      "id": "MrkHnZgHL4MC",
      "metadata": {
        "colab": {
          "base_uri": "https://localhost:8080/",
          "height": 938
        },
        "execution": {
          "iopub.execute_input": "2023-08-23T05:55:36.421405Z",
          "iopub.status.busy": "2023-08-23T05:55:36.421117Z",
          "iopub.status.idle": "2023-08-23T05:56:11.719122Z",
          "shell.execute_reply": "2023-08-23T05:56:11.718573Z",
          "shell.execute_reply.started": "2023-08-23T05:55:36.421389Z"
        },
        "id": "MrkHnZgHL4MC",
        "outputId": "03c5569f-ffd8-42da-ded6-ecae081eb14b"
      },
      "outputs": [
        {
          "data": {
            "text/html": [],
            "text/plain": [
              "<IPython.core.display.HTML object>"
            ]
          },
          "metadata": {},
          "output_type": "display_data"
        },
        {
          "name": "stdout",
          "output_type": "stream",
          "text": [
            "Classification Report:\n",
            "              precision    recall  f1-score   support\n",
            "\n",
            "           0       0.98      1.00      0.99     10687\n",
            "           1       0.88      0.54      0.67       538\n",
            "\n",
            "    accuracy                           0.97     11225\n",
            "   macro avg       0.93      0.77      0.83     11225\n",
            "weighted avg       0.97      0.97      0.97     11225\n",
            "\n",
            "\n",
            "Label 1: Cyberbullying\n",
            "Precision:  0.8765060240963856\n",
            "Recall:  0.5408921933085502\n",
            "F-measure:  0.6689655172413793\n",
            "\n",
            "Label 0: Non-Cyberbullying\n",
            "Precision:  0.9773248875424585\n",
            "Recall:  0.9961635632076354\n",
            "F-measure:  0.9866543095458759\n",
            "\n",
            "Macro Metrics\n",
            "Precision:  0.926915455819422\n",
            "Recall:  0.7685278782580929\n",
            "F-measure:  0.8278099133936276\n",
            "\n"
          ]
        },
        {
          "data": {
            "image/png": "[encoded data removed]",
            "text/plain": [
              "<Figure size 800x500 with 2 Axes>"
            ]
          },
          "metadata": {},
          "output_type": "display_data"
        }
      ],
      "source": [
        "compute_metrics_holdout(model_name='Albert',\n",
        "                        model_path='/content/content/drive/MyDrive_binary/output_Albert/holdout/checkpoint-6314',\n",
        "                        average_method='binary',\n",
        "                        X_test=X_test)"
      ]
    },
    {
      "cell_type": "markdown",
      "id": "Ir4eL3T8gtLf",
      "metadata": {
        "id": "Ir4eL3T8gtLf"
      },
      "source": [
        "#### Epoch 2"
      ]
    },
    {
      "cell_type": "code",
      "execution_count": null,
      "id": "ab06398b",
      "metadata": {
        "colab": {
          "base_uri": "https://localhost:8080/",
          "height": 938
        },
        "execution": {
          "iopub.execute_input": "2023-08-23T05:56:21.384593Z",
          "iopub.status.busy": "2023-08-23T05:56:21.384326Z",
          "iopub.status.idle": "2023-08-23T05:56:56.201275Z",
          "shell.execute_reply": "2023-08-23T05:56:56.200795Z",
          "shell.execute_reply.started": "2023-08-23T05:56:21.384574Z"
        },
        "id": "ab06398b",
        "outputId": "2557dfa8-8646-4d69-d23d-d02e5445f813"
      },
      "outputs": [
        {
          "data": {
            "text/html": [],
            "text/plain": [
              "<IPython.core.display.HTML object>"
            ]
          },
          "metadata": {},
          "output_type": "display_data"
        },
        {
          "name": "stdout",
          "output_type": "stream",
          "text": [
            "Classification Report:\n",
            "              precision    recall  f1-score   support\n",
            "\n",
            "           0       0.99      0.99      0.99     10687\n",
            "           1       0.76      0.75      0.76       538\n",
            "\n",
            "    accuracy                           0.98     11225\n",
            "   macro avg       0.87      0.87      0.87     11225\n",
            "weighted avg       0.98      0.98      0.98     11225\n",
            "\n",
            "\n",
            "Label 1: Cyberbullying\n",
            "Precision:  0.7608286252354048\n",
            "Recall:  0.7509293680297398\n",
            "F-measure:  0.7558465855940131\n",
            "\n",
            "Label 0: Non-Cyberbullying\n",
            "Precision:  0.9874696091266131\n",
            "Recall:  0.9881164031065781\n",
            "F-measure:  0.9877929002385296\n",
            "\n",
            "Macro Metrics\n",
            "Precision:  0.874149117181009\n",
            "Recall:  0.8695228855681589\n",
            "F-measure:  0.8718197429162713\n",
            "\n"
          ]
        },
        {
          "data": {
            "image/png": "[encoded data removed]",
            "text/plain": [
              "<Figure size 800x500 with 2 Axes>"
            ]
          },
          "metadata": {},
          "output_type": "display_data"
        }
      ],
      "source": [
        "compute_metrics_holdout(model_name='Albert',\n",
        "                        model_path='/content/content/drive/MyDrive_binary/output_Albert/holdout/checkpoint-12628',\n",
        "                        average_method='binary',\n",
        "                        X_test=X_test)"
      ]
    },
    {
      "cell_type": "markdown",
      "id": "KdECewOiL4tf",
      "metadata": {
        "id": "KdECewOiL4tf"
      },
      "source": [
        "#### Epoch 3"
      ]
    },
    {
      "cell_type": "code",
      "execution_count": null,
      "id": "u34gKYLGgtLr",
      "metadata": {
        "colab": {
          "base_uri": "https://localhost:8080/",
          "height": 938
        },
        "execution": {
          "iopub.execute_input": "2023-08-23T05:56:56.203218Z",
          "iopub.status.busy": "2023-08-23T05:56:56.202987Z",
          "iopub.status.idle": "2023-08-23T05:57:31.982347Z",
          "shell.execute_reply": "2023-08-23T05:57:31.981753Z",
          "shell.execute_reply.started": "2023-08-23T05:56:56.203199Z"
        },
        "id": "u34gKYLGgtLr",
        "outputId": "f157b620-7ad9-493f-af30-a92e88c5a6c6"
      },
      "outputs": [
        {
          "data": {
            "text/html": [],
            "text/plain": [
              "<IPython.core.display.HTML object>"
            ]
          },
          "metadata": {},
          "output_type": "display_data"
        },
        {
          "name": "stdout",
          "output_type": "stream",
          "text": [
            "Classification Report:\n",
            "              precision    recall  f1-score   support\n",
            "\n",
            "           0       0.99      0.99      0.99     10687\n",
            "           1       0.80      0.72      0.76       538\n",
            "\n",
            "    accuracy                           0.98     11225\n",
            "   macro avg       0.89      0.86      0.87     11225\n",
            "weighted avg       0.98      0.98      0.98     11225\n",
            "\n",
            "\n",
            "Label 1: Cyberbullying\n",
            "Precision:  0.8029045643153527\n",
            "Recall:  0.7193308550185874\n",
            "F-measure:  0.7588235294117647\n",
            "\n",
            "Label 0: Non-Cyberbullying\n",
            "Precision:  0.9859443358465978\n",
            "Recall:  0.9911106952372041\n",
            "F-measure:  0.9885207652823146\n",
            "\n",
            "Macro Metrics\n",
            "Precision:  0.8944244500809753\n",
            "Recall:  0.8552207751278957\n",
            "F-measure:  0.8736721473470397\n",
            "\n"
          ]
        },
        {
          "data": {
            "image/png": "[encoded data removed]",
            "text/plain": [
              "<Figure size 800x500 with 2 Axes>"
            ]
          },
          "metadata": {},
          "output_type": "display_data"
        }
      ],
      "source": [
        "compute_metrics_holdout(model_name='Albert',\n",
        "                        model_path='/content/content/drive/MyDrive_binary/output_Albert/holdout/checkpoint-18942',\n",
        "                        average_method='binary',\n",
        "                        X_test=X_test)"
      ]
    },
    {
      "cell_type": "markdown",
      "id": "uFLTBUzxL4MC",
      "metadata": {
        "id": "uFLTBUzxL4MC"
      },
      "source": [
        "#### Epoch 4"
      ]
    },
    {
      "cell_type": "code",
      "execution_count": null,
      "id": "Rj2PqaNBL4tg",
      "metadata": {
        "colab": {
          "base_uri": "https://localhost:8080/",
          "height": 938
        },
        "execution": {
          "iopub.execute_input": "2023-08-23T05:57:31.983262Z",
          "iopub.status.busy": "2023-08-23T05:57:31.983091Z",
          "iopub.status.idle": "2023-08-23T05:58:07.367089Z",
          "shell.execute_reply": "2023-08-23T05:58:07.366320Z",
          "shell.execute_reply.started": "2023-08-23T05:57:31.983246Z"
        },
        "id": "Rj2PqaNBL4tg",
        "outputId": "40c74fb4-2fee-4f3a-c31c-06307d13c771"
      },
      "outputs": [
        {
          "data": {
            "text/html": [],
            "text/plain": [
              "<IPython.core.display.HTML object>"
            ]
          },
          "metadata": {},
          "output_type": "display_data"
        },
        {
          "name": "stdout",
          "output_type": "stream",
          "text": [
            "Classification Report:\n",
            "              precision    recall  f1-score   support\n",
            "\n",
            "           0       0.99      0.99      0.99     10687\n",
            "           1       0.76      0.75      0.75       538\n",
            "\n",
            "    accuracy                           0.98     11225\n",
            "   macro avg       0.87      0.87      0.87     11225\n",
            "weighted avg       0.98      0.98      0.98     11225\n",
            "\n",
            "\n",
            "Label 1: Cyberbullying\n",
            "Precision:  0.7579737335834896\n",
            "Recall:  0.7509293680297398\n",
            "F-measure:  0.7544351073762837\n",
            "\n",
            "Label 0: Non-Cyberbullying\n",
            "Precision:  0.987467265245043\n",
            "Recall:  0.987929259848414\n",
            "F-measure:  0.9876982085223817\n",
            "\n",
            "Macro Metrics\n",
            "Precision:  0.8727204994142663\n",
            "Recall:  0.8694293139390769\n",
            "F-measure:  0.8710666579493327\n",
            "\n"
          ]
        },
        {
          "data": {
            "image/png": "[encoded data removed]",
            "text/plain": [
              "<Figure size 800x500 with 2 Axes>"
            ]
          },
          "metadata": {},
          "output_type": "display_data"
        }
      ],
      "source": [
        "compute_metrics_holdout(model_name='Albert',\n",
        "                        model_path='/content/content/drive/MyDrive_binary/output_Albert/holdout/checkpoint-25256',\n",
        "                        average_method='binary',\n",
        "                        X_test=X_test)"
      ]
    }
  ],
  "metadata": {
    "accelerator": "GPU",
    "colab": {
      "collapsed_sections": [
        "fG7eAEaFtIYk",
        "Ir4eL3T8gtLf",
        "KdECewOiL4tf",
        "uFLTBUzxL4MC"
      ],
      "gpuType": "L4",
      "machine_shape": "hm",
      "provenance": []
    },
    "kernelspec": {
      "display_name": "Python 3",
      "name": "python3"
    },
    "language_info": {
      "codemirror_mode": {
        "name": "ipython",
        "version": 3
      },
      "file_extension": ".py",
      "mimetype": "text/x-python",
      "name": "python",
      "nbconvert_exporter": "python",
      "pygments_lexer": "ipython3",
      "version": "3.9.16"
    },
    "widgets": {
      "application/vnd.jupyter.widget-state+json": {
        "1525fbd70e92464daffe8bbf71d0cdcd": {
          "model_module": "@jupyter-widgets/controls",
          "model_module_version": "1.5.0",
          "model_name": "DescriptionStyleModel",
          "state": {
            "_model_module": "@jupyter-widgets/controls",
            "_model_module_version": "1.5.0",
            "_model_name": "DescriptionStyleModel",
            "_view_count": null,
            "_view_module": "@jupyter-widgets/base",
            "_view_module_version": "1.2.0",
            "_view_name": "StyleView",
            "description_width": ""
          }
        },
        "278b421d2b294f219e668d711999495f": {
          "model_module": "@jupyter-widgets/base",
          "model_module_version": "1.2.0",
          "model_name": "LayoutModel",
          "state": {
            "_model_module": "@jupyter-widgets/base",
            "_model_module_version": "1.2.0",
            "_model_name": "LayoutModel",
            "_view_count": null,
            "_view_module": "@jupyter-widgets/base",
            "_view_module_version": "1.2.0",
            "_view_name": "LayoutView",
            "align_content": null,
            "align_items": null,
            "align_self": null,
            "border": null,
            "bottom": null,
            "display": null,
            "flex": null,
            "flex_flow": null,
            "grid_area": null,
            "grid_auto_columns": null,
            "grid_auto_flow": null,
            "grid_auto_rows": null,
            "grid_column": null,
            "grid_gap": null,
            "grid_row": null,
            "grid_template_areas": null,
            "grid_template_columns": null,
            "grid_template_rows": null,
            "height": null,
            "justify_content": null,
            "justify_items": null,
            "left": null,
            "margin": null,
            "max_height": null,
            "max_width": null,
            "min_height": null,
            "min_width": null,
            "object_fit": null,
            "object_position": null,
            "order": null,
            "overflow": null,
            "overflow_x": null,
            "overflow_y": null,
            "padding": null,
            "right": null,
            "top": null,
            "visibility": null,
            "width": null
          }
        },
        "2f67c5cc0c3c4450882b78bd4e9c2ebe": {
          "model_module": "@jupyter-widgets/base",
          "model_module_version": "1.2.0",
          "model_name": "LayoutModel",
          "state": {
            "_model_module": "@jupyter-widgets/base",
            "_model_module_version": "1.2.0",
            "_model_name": "LayoutModel",
            "_view_count": null,
            "_view_module": "@jupyter-widgets/base",
            "_view_module_version": "1.2.0",
            "_view_name": "LayoutView",
            "align_content": null,
            "align_items": null,
            "align_self": null,
            "border": null,
            "bottom": null,
            "display": null,
            "flex": null,
            "flex_flow": null,
            "grid_area": null,
            "grid_auto_columns": null,
            "grid_auto_flow": null,
            "grid_auto_rows": null,
            "grid_column": null,
            "grid_gap": null,
            "grid_row": null,
            "grid_template_areas": null,
            "grid_template_columns": null,
            "grid_template_rows": null,
            "height": null,
            "justify_content": null,
            "justify_items": null,
            "left": null,
            "margin": null,
            "max_height": null,
            "max_width": null,
            "min_height": null,
            "min_width": null,
            "object_fit": null,
            "object_position": null,
            "order": null,
            "overflow": null,
            "overflow_x": null,
            "overflow_y": null,
            "padding": null,
            "right": null,
            "top": null,
            "visibility": null,
            "width": null
          }
        },
        "3f84873cdf344845a017faa3de4c32c0": {
          "model_module": "@jupyter-widgets/controls",
          "model_module_version": "1.5.0",
          "model_name": "ProgressStyleModel",
          "state": {
            "_model_module": "@jupyter-widgets/controls",
            "_model_module_version": "1.5.0",
            "_model_name": "ProgressStyleModel",
            "_view_count": null,
            "_view_module": "@jupyter-widgets/base",
            "_view_module_version": "1.2.0",
            "_view_name": "StyleView",
            "bar_color": null,
            "description_width": ""
          }
        },
        "5b33a370ae544d22ac0829369ab8ae53": {
          "model_module": "@jupyter-widgets/base",
          "model_module_version": "1.2.0",
          "model_name": "LayoutModel",
          "state": {
            "_model_module": "@jupyter-widgets/base",
            "_model_module_version": "1.2.0",
            "_model_name": "LayoutModel",
            "_view_count": null,
            "_view_module": "@jupyter-widgets/base",
            "_view_module_version": "1.2.0",
            "_view_name": "LayoutView",
            "align_content": null,
            "align_items": null,
            "align_self": null,
            "border": null,
            "bottom": null,
            "display": null,
            "flex": null,
            "flex_flow": null,
            "grid_area": null,
            "grid_auto_columns": null,
            "grid_auto_flow": null,
            "grid_auto_rows": null,
            "grid_column": null,
            "grid_gap": null,
            "grid_row": null,
            "grid_template_areas": null,
            "grid_template_columns": null,
            "grid_template_rows": null,
            "height": null,
            "justify_content": null,
            "justify_items": null,
            "left": null,
            "margin": null,
            "max_height": null,
            "max_width": null,
            "min_height": null,
            "min_width": null,
            "object_fit": null,
            "object_position": null,
            "order": null,
            "overflow": null,
            "overflow_x": null,
            "overflow_y": null,
            "padding": null,
            "right": null,
            "top": null,
            "visibility": null,
            "width": null
          }
        },
        "5bab69842f234860ad20bc5325f40344": {
          "model_module": "@jupyter-widgets/controls",
          "model_module_version": "1.5.0",
          "model_name": "HBoxModel",
          "state": {
            "_dom_classes": [],
            "_model_module": "@jupyter-widgets/controls",
            "_model_module_version": "1.5.0",
            "_model_name": "HBoxModel",
            "_view_count": null,
            "_view_module": "@jupyter-widgets/controls",
            "_view_module_version": "1.5.0",
            "_view_name": "HBoxView",
            "box_style": "",
            "children": [
              "IPY_MODEL_5d8302939ff74400839ec09c3f12e56f",
              "IPY_MODEL_db6f3470246f4a4185c3f8aaf10d8718",
              "IPY_MODEL_d9431ee4b3c44fb591116269175a9bfb"
            ],
            "layout": "IPY_MODEL_2f67c5cc0c3c4450882b78bd4e9c2ebe"
          }
        },
        "5d8302939ff74400839ec09c3f12e56f": {
          "model_module": "@jupyter-widgets/controls",
          "model_module_version": "1.5.0",
          "model_name": "HTMLModel",
          "state": {
            "_dom_classes": [],
            "_model_module": "@jupyter-widgets/controls",
            "_model_module_version": "1.5.0",
            "_model_name": "HTMLModel",
            "_view_count": null,
            "_view_module": "@jupyter-widgets/controls",
            "_view_module_version": "1.5.0",
            "_view_name": "HTMLView",
            "description": "",
            "description_tooltip": null,
            "layout": "IPY_MODEL_5fc193cfa3bd4b41b0efe66d9683870e",
            "placeholder": "​",
            "style": "IPY_MODEL_1525fbd70e92464daffe8bbf71d0cdcd",
            "value": "100%"
          }
        },
        "5fc193cfa3bd4b41b0efe66d9683870e": {
          "model_module": "@jupyter-widgets/base",
          "model_module_version": "1.2.0",
          "model_name": "LayoutModel",
          "state": {
            "_model_module": "@jupyter-widgets/base",
            "_model_module_version": "1.2.0",
            "_model_name": "LayoutModel",
            "_view_count": null,
            "_view_module": "@jupyter-widgets/base",
            "_view_module_version": "1.2.0",
            "_view_name": "LayoutView",
            "align_content": null,
            "align_items": null,
            "align_self": null,
            "border": null,
            "bottom": null,
            "display": null,
            "flex": null,
            "flex_flow": null,
            "grid_area": null,
            "grid_auto_columns": null,
            "grid_auto_flow": null,
            "grid_auto_rows": null,
            "grid_column": null,
            "grid_gap": null,
            "grid_row": null,
            "grid_template_areas": null,
            "grid_template_columns": null,
            "grid_template_rows": null,
            "height": null,
            "justify_content": null,
            "justify_items": null,
            "left": null,
            "margin": null,
            "max_height": null,
            "max_width": null,
            "min_height": null,
            "min_width": null,
            "object_fit": null,
            "object_position": null,
            "order": null,
            "overflow": null,
            "overflow_x": null,
            "overflow_y": null,
            "padding": null,
            "right": null,
            "top": null,
            "visibility": null,
            "width": null
          }
        },
        "605627d24cbc472aa918e29131e78f7c": {
          "model_module": "@jupyter-widgets/controls",
          "model_module_version": "1.5.0",
          "model_name": "DescriptionStyleModel",
          "state": {
            "_model_module": "@jupyter-widgets/controls",
            "_model_module_version": "1.5.0",
            "_model_name": "DescriptionStyleModel",
            "_view_count": null,
            "_view_module": "@jupyter-widgets/base",
            "_view_module_version": "1.2.0",
            "_view_name": "StyleView",
            "description_width": ""
          }
        },
        "d9431ee4b3c44fb591116269175a9bfb": {
          "model_module": "@jupyter-widgets/controls",
          "model_module_version": "1.5.0",
          "model_name": "HTMLModel",
          "state": {
            "_dom_classes": [],
            "_model_module": "@jupyter-widgets/controls",
            "_model_module_version": "1.5.0",
            "_model_name": "HTMLModel",
            "_view_count": null,
            "_view_module": "@jupyter-widgets/controls",
            "_view_module_version": "1.5.0",
            "_view_name": "HTMLView",
            "description": "",
            "description_tooltip": null,
            "layout": "IPY_MODEL_5b33a370ae544d22ac0829369ab8ae53",
            "placeholder": "​",
            "style": "IPY_MODEL_605627d24cbc472aa918e29131e78f7c",
            "value": " 112247/112247 [00:00&lt;00:00, 682370.89it/s]"
          }
        },
        "db6f3470246f4a4185c3f8aaf10d8718": {
          "model_module": "@jupyter-widgets/controls",
          "model_module_version": "1.5.0",
          "model_name": "FloatProgressModel",
          "state": {
            "_dom_classes": [],
            "_model_module": "@jupyter-widgets/controls",
            "_model_module_version": "1.5.0",
            "_model_name": "FloatProgressModel",
            "_view_count": null,
            "_view_module": "@jupyter-widgets/controls",
            "_view_module_version": "1.5.0",
            "_view_name": "ProgressView",
            "bar_style": "success",
            "description": "",
            "description_tooltip": null,
            "layout": "IPY_MODEL_278b421d2b294f219e668d711999495f",
            "max": 112247,
            "min": 0,
            "orientation": "horizontal",
            "style": "IPY_MODEL_3f84873cdf344845a017faa3de4c32c0",
            "value": 112247
          }
        }
      }
    }
  },
  "nbformat": 4,
  "nbformat_minor": 5
}
