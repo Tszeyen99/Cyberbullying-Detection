{
  "cells": [
    {
      "cell_type": "markdown",
      "id": "a0aff953",
      "metadata": {
        "id": "a0aff953"
      },
      "source": [
        "# Fine Tune Transformer from HuggingFace DistilBert (batchsize8)"
      ]
    },
    {
      "cell_type": "code",
      "execution_count": null,
      "id": "lspbB923kCc5",
      "metadata": {
        "colab": {
          "base_uri": "https://localhost:8080/"
        },
        "id": "lspbB923kCc5",
        "outputId": "79b9e095-8888-41f9-e179-6b062aa260d8"
      },
      "outputs": [
        {
          "name": "stdout",
          "output_type": "stream",
          "text": [
            "Requirement already satisfied: transformers[torch] in /usr/local/lib/python3.10/dist-packages (4.40.1)\n",
            "Requirement already satisfied: filelock in /usr/local/lib/python3.10/dist-packages (from transformers[torch]) (3.13.4)\n",
            "Requirement already satisfied: huggingface-hub<1.0,>=0.19.3 in /usr/local/lib/python3.10/dist-packages (from transformers[torch]) (0.20.3)\n",
            "Requirement already satisfied: numpy>=1.17 in /usr/local/lib/python3.10/dist-packages (from transformers[torch]) (1.25.2)\n",
            "Requirement already satisfied: packaging>=20.0 in /usr/local/lib/python3.10/dist-packages (from transformers[torch]) (24.0)\n",
            "Requirement already satisfied: pyyaml>=5.1 in /usr/local/lib/python3.10/dist-packages (from transformers[torch]) (6.0.1)\n",
            "Requirement already satisfied: regex!=2019.12.17 in /usr/local/lib/python3.10/dist-packages (from transformers[torch]) (2023.12.25)\n",
            "Requirement already satisfied: requests in /usr/local/lib/python3.10/dist-packages (from transformers[torch]) (2.31.0)\n",
            "Requirement already satisfied: tokenizers<0.20,>=0.19 in /usr/local/lib/python3.10/dist-packages (from transformers[torch]) (0.19.1)\n",
            "Requirement already satisfied: safetensors>=0.4.1 in /usr/local/lib/python3.10/dist-packages (from transformers[torch]) (0.4.3)\n",
            "Requirement already satisfied: tqdm>=4.27 in /usr/local/lib/python3.10/dist-packages (from transformers[torch]) (4.66.2)\n",
            "Requirement already satisfied: torch in /usr/local/lib/python3.10/dist-packages (from transformers[torch]) (2.2.1+cu121)\n",
            "Requirement already satisfied: accelerate>=0.21.0 in /usr/local/lib/python3.10/dist-packages (from transformers[torch]) (0.29.3)\n",
            "Requirement already satisfied: psutil in /usr/local/lib/python3.10/dist-packages (from accelerate>=0.21.0->transformers[torch]) (5.9.5)\n",
            "Requirement already satisfied: fsspec>=2023.5.0 in /usr/local/lib/python3.10/dist-packages (from huggingface-hub<1.0,>=0.19.3->transformers[torch]) (2023.6.0)\n",
            "Requirement already satisfied: typing-extensions>=3.7.4.3 in /usr/local/lib/python3.10/dist-packages (from huggingface-hub<1.0,>=0.19.3->transformers[torch]) (4.11.0)\n",
            "Requirement already satisfied: sympy in /usr/local/lib/python3.10/dist-packages (from torch->transformers[torch]) (1.12)\n",
            "Requirement already satisfied: networkx in /usr/local/lib/python3.10/dist-packages (from torch->transformers[torch]) (3.3)\n",
            "Requirement already satisfied: jinja2 in /usr/local/lib/python3.10/dist-packages (from torch->transformers[torch]) (3.1.3)\n",
            "Requirement already satisfied: nvidia-cuda-nvrtc-cu12==12.1.105 in /usr/local/lib/python3.10/dist-packages (from torch->transformers[torch]) (12.1.105)\n",
            "Requirement already satisfied: nvidia-cuda-runtime-cu12==12.1.105 in /usr/local/lib/python3.10/dist-packages (from torch->transformers[torch]) (12.1.105)\n",
            "Requirement already satisfied: nvidia-cuda-cupti-cu12==12.1.105 in /usr/local/lib/python3.10/dist-packages (from torch->transformers[torch]) (12.1.105)\n",
            "Requirement already satisfied: nvidia-cudnn-cu12==8.9.2.26 in /usr/local/lib/python3.10/dist-packages (from torch->transformers[torch]) (8.9.2.26)\n",
            "Requirement already satisfied: nvidia-cublas-cu12==12.1.3.1 in /usr/local/lib/python3.10/dist-packages (from torch->transformers[torch]) (12.1.3.1)\n",
            "Requirement already satisfied: nvidia-cufft-cu12==11.0.2.54 in /usr/local/lib/python3.10/dist-packages (from torch->transformers[torch]) (11.0.2.54)\n",
            "Requirement already satisfied: nvidia-curand-cu12==10.3.2.106 in /usr/local/lib/python3.10/dist-packages (from torch->transformers[torch]) (10.3.2.106)\n",
            "Requirement already satisfied: nvidia-cusolver-cu12==11.4.5.107 in /usr/local/lib/python3.10/dist-packages (from torch->transformers[torch]) (11.4.5.107)\n",
            "Requirement already satisfied: nvidia-cusparse-cu12==12.1.0.106 in /usr/local/lib/python3.10/dist-packages (from torch->transformers[torch]) (12.1.0.106)\n",
            "Requirement already satisfied: nvidia-nccl-cu12==2.19.3 in /usr/local/lib/python3.10/dist-packages (from torch->transformers[torch]) (2.19.3)\n",
            "Requirement already satisfied: nvidia-nvtx-cu12==12.1.105 in /usr/local/lib/python3.10/dist-packages (from torch->transformers[torch]) (12.1.105)\n",
            "Requirement already satisfied: triton==2.2.0 in /usr/local/lib/python3.10/dist-packages (from torch->transformers[torch]) (2.2.0)\n",
            "Requirement already satisfied: nvidia-nvjitlink-cu12 in /usr/local/lib/python3.10/dist-packages (from nvidia-cusolver-cu12==11.4.5.107->torch->transformers[torch]) (12.4.127)\n",
            "Requirement already satisfied: charset-normalizer<4,>=2 in /usr/local/lib/python3.10/dist-packages (from requests->transformers[torch]) (3.3.2)\n",
            "Requirement already satisfied: idna<4,>=2.5 in /usr/local/lib/python3.10/dist-packages (from requests->transformers[torch]) (3.7)\n",
            "Requirement already satisfied: urllib3<3,>=1.21.1 in /usr/local/lib/python3.10/dist-packages (from requests->transformers[torch]) (2.0.7)\n",
            "Requirement already satisfied: certifi>=2017.4.17 in /usr/local/lib/python3.10/dist-packages (from requests->transformers[torch]) (2024.2.2)\n",
            "Requirement already satisfied: MarkupSafe>=2.0 in /usr/local/lib/python3.10/dist-packages (from jinja2->torch->transformers[torch]) (2.1.5)\n",
            "Requirement already satisfied: mpmath>=0.19 in /usr/local/lib/python3.10/dist-packages (from sympy->torch->transformers[torch]) (1.3.0)\n"
          ]
        }
      ],
      "source": [
        "pip install transformers[torch] -U"
      ]
    },
    {
      "cell_type": "code",
      "execution_count": null,
      "id": "OItEYDmL1hi2",
      "metadata": {
        "colab": {
          "base_uri": "https://localhost:8080/"
        },
        "execution": {
          "iopub.execute_input": "2023-08-23T04:53:13.859409Z",
          "iopub.status.busy": "2023-08-23T04:53:13.858815Z",
          "iopub.status.idle": "2023-08-23T04:53:25.957475Z",
          "shell.execute_reply": "2023-08-23T04:53:25.956828Z",
          "shell.execute_reply.started": "2023-08-23T04:53:13.859386Z"
        },
        "id": "OItEYDmL1hi2",
        "outputId": "c14a5abb-f01e-42a4-8f5c-a45682d2c2af"
      },
      "outputs": [
        {
          "name": "stdout",
          "output_type": "stream",
          "text": [
            "Requirement already satisfied: torch in /usr/local/lib/python3.10/dist-packages (2.2.1+cu121)\n",
            "Requirement already satisfied: filelock in /usr/local/lib/python3.10/dist-packages (from torch) (3.13.4)\n",
            "Requirement already satisfied: typing-extensions>=4.8.0 in /usr/local/lib/python3.10/dist-packages (from torch) (4.11.0)\n",
            "Requirement already satisfied: sympy in /usr/local/lib/python3.10/dist-packages (from torch) (1.12)\n",
            "Requirement already satisfied: networkx in /usr/local/lib/python3.10/dist-packages (from torch) (3.3)\n",
            "Requirement already satisfied: jinja2 in /usr/local/lib/python3.10/dist-packages (from torch) (3.1.3)\n",
            "Requirement already satisfied: fsspec in /usr/local/lib/python3.10/dist-packages (from torch) (2023.6.0)\n",
            "Requirement already satisfied: nvidia-cuda-nvrtc-cu12==12.1.105 in /usr/local/lib/python3.10/dist-packages (from torch) (12.1.105)\n",
            "Requirement already satisfied: nvidia-cuda-runtime-cu12==12.1.105 in /usr/local/lib/python3.10/dist-packages (from torch) (12.1.105)\n",
            "Requirement already satisfied: nvidia-cuda-cupti-cu12==12.1.105 in /usr/local/lib/python3.10/dist-packages (from torch) (12.1.105)\n",
            "Requirement already satisfied: nvidia-cudnn-cu12==8.9.2.26 in /usr/local/lib/python3.10/dist-packages (from torch) (8.9.2.26)\n",
            "Requirement already satisfied: nvidia-cublas-cu12==12.1.3.1 in /usr/local/lib/python3.10/dist-packages (from torch) (12.1.3.1)\n",
            "Requirement already satisfied: nvidia-cufft-cu12==11.0.2.54 in /usr/local/lib/python3.10/dist-packages (from torch) (11.0.2.54)\n",
            "Requirement already satisfied: nvidia-curand-cu12==10.3.2.106 in /usr/local/lib/python3.10/dist-packages (from torch) (10.3.2.106)\n",
            "Requirement already satisfied: nvidia-cusolver-cu12==11.4.5.107 in /usr/local/lib/python3.10/dist-packages (from torch) (11.4.5.107)\n",
            "Requirement already satisfied: nvidia-cusparse-cu12==12.1.0.106 in /usr/local/lib/python3.10/dist-packages (from torch) (12.1.0.106)\n",
            "Requirement already satisfied: nvidia-nccl-cu12==2.19.3 in /usr/local/lib/python3.10/dist-packages (from torch) (2.19.3)\n",
            "Requirement already satisfied: nvidia-nvtx-cu12==12.1.105 in /usr/local/lib/python3.10/dist-packages (from torch) (12.1.105)\n",
            "Requirement already satisfied: triton==2.2.0 in /usr/local/lib/python3.10/dist-packages (from torch) (2.2.0)\n",
            "Requirement already satisfied: nvidia-nvjitlink-cu12 in /usr/local/lib/python3.10/dist-packages (from nvidia-cusolver-cu12==11.4.5.107->torch) (12.4.127)\n",
            "Requirement already satisfied: MarkupSafe>=2.0 in /usr/local/lib/python3.10/dist-packages (from jinja2->torch) (2.1.5)\n",
            "Requirement already satisfied: mpmath>=0.19 in /usr/local/lib/python3.10/dist-packages (from sympy->torch) (1.3.0)\n",
            "Requirement already satisfied: imblearn in /usr/local/lib/python3.10/dist-packages (0.0)\n",
            "Requirement already satisfied: imbalanced-learn in /usr/local/lib/python3.10/dist-packages (from imblearn) (0.10.1)\n",
            "Requirement already satisfied: numpy>=1.17.3 in /usr/local/lib/python3.10/dist-packages (from imbalanced-learn->imblearn) (1.25.2)\n",
            "Requirement already satisfied: scipy>=1.3.2 in /usr/local/lib/python3.10/dist-packages (from imbalanced-learn->imblearn) (1.11.4)\n",
            "Requirement already satisfied: scikit-learn>=1.0.2 in /usr/local/lib/python3.10/dist-packages (from imbalanced-learn->imblearn) (1.2.2)\n",
            "Requirement already satisfied: joblib>=1.1.1 in /usr/local/lib/python3.10/dist-packages (from imbalanced-learn->imblearn) (1.4.0)\n",
            "Requirement already satisfied: threadpoolctl>=2.0.0 in /usr/local/lib/python3.10/dist-packages (from imbalanced-learn->imblearn) (3.4.0)\n",
            "Requirement already satisfied: wandb in /usr/local/lib/python3.10/dist-packages (0.16.6)\n",
            "Requirement already satisfied: Click!=8.0.0,>=7.1 in /usr/local/lib/python3.10/dist-packages (from wandb) (8.1.7)\n",
            "Requirement already satisfied: GitPython!=3.1.29,>=1.0.0 in /usr/local/lib/python3.10/dist-packages (from wandb) (3.1.43)\n",
            "Requirement already satisfied: requests<3,>=2.0.0 in /usr/local/lib/python3.10/dist-packages (from wandb) (2.31.0)\n",
            "Requirement already satisfied: psutil>=5.0.0 in /usr/local/lib/python3.10/dist-packages (from wandb) (5.9.5)\n",
            "Requirement already satisfied: sentry-sdk>=1.0.0 in /usr/local/lib/python3.10/dist-packages (from wandb) (1.45.0)\n",
            "Requirement already satisfied: docker-pycreds>=0.4.0 in /usr/local/lib/python3.10/dist-packages (from wandb) (0.4.0)\n",
            "Requirement already satisfied: PyYAML in /usr/local/lib/python3.10/dist-packages (from wandb) (6.0.1)\n",
            "Requirement already satisfied: setproctitle in /usr/local/lib/python3.10/dist-packages (from wandb) (1.3.3)\n",
            "Requirement already satisfied: setuptools in /usr/local/lib/python3.10/dist-packages (from wandb) (67.7.2)\n",
            "Requirement already satisfied: appdirs>=1.4.3 in /usr/local/lib/python3.10/dist-packages (from wandb) (1.4.4)\n",
            "Requirement already satisfied: protobuf!=4.21.0,<5,>=3.19.0 in /usr/local/lib/python3.10/dist-packages (from wandb) (3.20.3)\n",
            "Requirement already satisfied: six>=1.4.0 in /usr/local/lib/python3.10/dist-packages (from docker-pycreds>=0.4.0->wandb) (1.16.0)\n",
            "Requirement already satisfied: gitdb<5,>=4.0.1 in /usr/local/lib/python3.10/dist-packages (from GitPython!=3.1.29,>=1.0.0->wandb) (4.0.11)\n",
            "Requirement already satisfied: charset-normalizer<4,>=2 in /usr/local/lib/python3.10/dist-packages (from requests<3,>=2.0.0->wandb) (3.3.2)\n",
            "Requirement already satisfied: idna<4,>=2.5 in /usr/local/lib/python3.10/dist-packages (from requests<3,>=2.0.0->wandb) (3.7)\n",
            "Requirement already satisfied: urllib3<3,>=1.21.1 in /usr/local/lib/python3.10/dist-packages (from requests<3,>=2.0.0->wandb) (2.0.7)\n",
            "Requirement already satisfied: certifi>=2017.4.17 in /usr/local/lib/python3.10/dist-packages (from requests<3,>=2.0.0->wandb) (2024.2.2)\n",
            "Requirement already satisfied: smmap<6,>=3.0.1 in /usr/local/lib/python3.10/dist-packages (from gitdb<5,>=4.0.1->GitPython!=3.1.29,>=1.0.0->wandb) (5.0.1)\n"
          ]
        }
      ],
      "source": [
        "# %pip install transformers\n",
        "%pip install torch\n",
        "%pip install imblearn\n",
        "%pip install wandb --upgrade\n"
      ]
    },
    {
      "cell_type": "code",
      "execution_count": null,
      "id": "6NQ1O-nyi2Zv",
      "metadata": {
        "colab": {
          "base_uri": "https://localhost:8080/"
        },
        "id": "6NQ1O-nyi2Zv",
        "outputId": "e817de27-0452-4eed-ebb8-92d3e4edd982"
      },
      "outputs": [
        {
          "name": "stdout",
          "output_type": "stream",
          "text": [
            "Mounted at /content/drive\n"
          ]
        }
      ],
      "source": [
        "from google.colab import drive\n",
        "drive.mount('/content/drive')"
      ]
    },
    {
      "cell_type": "code",
      "execution_count": null,
      "id": "02505ed3",
      "metadata": {
        "colab": {
          "base_uri": "https://localhost:8080/"
        },
        "execution": {
          "iopub.execute_input": "2023-08-23T04:53:25.959174Z",
          "iopub.status.busy": "2023-08-23T04:53:25.958686Z",
          "iopub.status.idle": "2023-08-23T04:53:29.864916Z",
          "shell.execute_reply": "2023-08-23T04:53:29.864349Z",
          "shell.execute_reply.started": "2023-08-23T04:53:25.959137Z"
        },
        "id": "02505ed3",
        "outputId": "d5abe80e-4dad-430e-850d-8a98e40a6976"
      },
      "outputs": [
        {
          "name": "stderr",
          "output_type": "stream",
          "text": [
            "<ipython-input-6-5c70c929f42e>:14: TqdmDeprecationWarning: This function will be removed in tqdm==5.0.0\n",
            "Please use `tqdm.notebook.*` instead of `tqdm._tqdm_notebook.*`\n",
            "  from tqdm._tqdm_notebook import tqdm_notebook\n"
          ]
        }
      ],
      "source": [
        "import numpy as np\n",
        "import pandas as pd\n",
        "\n",
        "from sklearn.model_selection import train_test_split, StratifiedKFold, StratifiedShuffleSplit\n",
        "from sklearn.metrics import accuracy_score, recall_score, precision_score, f1_score, roc_auc_score, classification_report\n",
        "\n",
        "import torch\n",
        "from transformers import AutoTokenizer, AutoModelForSequenceClassification\n",
        "from transformers import TrainingArguments, Trainer\n",
        "from transformers import BertTokenizer, BertForSequenceClassification\n",
        "from transformers import EarlyStoppingCallback, set_seed\n",
        "\n",
        "# Progress bar\n",
        "from tqdm._tqdm_notebook import tqdm_notebook\n",
        "from tqdm import tqdm\n",
        "tqdm_notebook.pandas()"
      ]
    },
    {
      "cell_type": "markdown",
      "id": "5a8c1621",
      "metadata": {
        "id": "5a8c1621"
      },
      "source": [
        "## Import Clean Data"
      ]
    },
    {
      "cell_type": "code",
      "execution_count": null,
      "id": "c58048aa",
      "metadata": {
        "colab": {
          "base_uri": "https://localhost:8080/",
          "height": 49,
          "referenced_widgets": [
            "cc3ad1e243a245cca1778214f74bd062",
            "53e6592430e34827be8561c1e78059b7",
            "549612c1b28e43499d5cd132ae69d424",
            "83fe4aec3dbc4900a458a4c7cbc80c09",
            "5e5ff3a47fb54c06bf8a1a88e6d4ed23",
            "cbb424af70ed41a2815536d989115591",
            "c1ea86dfad524ea092b1b208f32e52b7",
            "2c36d2c4cd8f41d6bb8dc75feaec6358",
            "64996a0e9ae8432e97f915488988dc1d",
            "ff7ad61b124d4186af7ae2048d5da469",
            "0e783b48009f4c09b915739c9986fd47"
          ]
        },
        "execution": {
          "iopub.execute_input": "2023-08-23T04:53:29.865991Z",
          "iopub.status.busy": "2023-08-23T04:53:29.865636Z",
          "iopub.status.idle": "2023-08-23T04:53:30.271020Z",
          "shell.execute_reply": "2023-08-23T04:53:30.270357Z",
          "shell.execute_reply.started": "2023-08-23T04:53:29.865973Z"
        },
        "id": "c58048aa",
        "outputId": "d7df3112-6930-41b8-ae49-394117020e0f"
      },
      "outputs": [
        {
          "data": {
            "application/vnd.jupyter.widget-view+json": {
              "model_id": "cc3ad1e243a245cca1778214f74bd062",
              "version_major": 2,
              "version_minor": 0
            },
            "text/plain": [
              "  0%|          | 0/112247 [00:00<?, ?it/s]"
            ]
          },
          "metadata": {},
          "output_type": "display_data"
        }
      ],
      "source": [
        "###############################################################\n",
        "# Note: Change the name of data set used for feature creation\n",
        "###############################################################\n",
        "data_set='bully_data_clean_with_stopword'\n",
        "\n",
        "\n",
        "###################\n",
        "# Import Data Set #\n",
        "###################\n",
        "bully_data_cleaned = pd.read_csv('/content/drive/MyDrive/fyp/amica_data_clean_with_stopword_short.csv', encoding='utf8')\n",
        "bully_data_cleaned = bully_data_cleaned[~bully_data_cleaned['text_check'].isna()]\n",
        "bully_data_cleaned = bully_data_cleaned[bully_data_cleaned['text_check'] != \"\"]\n",
        "#bully_data_cleaned = bully_data_cleaned[bully_data_cleaned['role']!='None']\n",
        "bully_data_cleaned = bully_data_cleaned[['label','text_check']]\n",
        "bully_data_cleaned['label'] = bully_data_cleaned['label'].progress_apply(lambda x: 1 if x ==\"Cyberbullying\" else 0)\n",
        "bully_data_cleaned.rename(columns = {'text_check':'text'}, inplace = True)\n",
        "bully_data_cleaned = bully_data_cleaned.reset_index(drop=True)"
      ]
    },
    {
      "cell_type": "code",
      "execution_count": null,
      "id": "f1ad3546",
      "metadata": {
        "colab": {
          "base_uri": "https://localhost:8080/"
        },
        "execution": {
          "iopub.execute_input": "2023-08-23T04:53:30.272539Z",
          "iopub.status.busy": "2023-08-23T04:53:30.272352Z",
          "iopub.status.idle": "2023-08-23T04:53:30.294272Z",
          "shell.execute_reply": "2023-08-23T04:53:30.293624Z",
          "shell.execute_reply.started": "2023-08-23T04:53:30.272523Z"
        },
        "id": "f1ad3546",
        "outputId": "2e555c83-ccb7-4662-e4f1-4115c34183b4",
        "scrolled": true
      },
      "outputs": [
        {
          "name": "stdout",
          "output_type": "stream",
          "text": [
            "<class 'pandas.core.frame.DataFrame'>\n",
            "RangeIndex: 112247 entries, 0 to 112246\n",
            "Data columns (total 2 columns):\n",
            " #   Column  Non-Null Count   Dtype \n",
            "---  ------  --------------   ----- \n",
            " 0   label   112247 non-null  int64 \n",
            " 1   text    112247 non-null  object\n",
            "dtypes: int64(1), object(1)\n",
            "memory usage: 1.7+ MB\n"
          ]
        }
      ],
      "source": [
        "bully_data_cleaned.info()"
      ]
    },
    {
      "cell_type": "code",
      "execution_count": null,
      "id": "y2TxGLSm81wJ",
      "metadata": {
        "colab": {
          "base_uri": "https://localhost:8080/"
        },
        "execution": {
          "iopub.execute_input": "2023-08-22T18:23:25.555382Z",
          "iopub.status.busy": "2023-08-22T18:23:25.554992Z",
          "iopub.status.idle": "2023-08-22T18:23:25.561868Z",
          "shell.execute_reply": "2023-08-22T18:23:25.561230Z",
          "shell.execute_reply.started": "2023-08-22T18:23:25.555350Z"
        },
        "id": "y2TxGLSm81wJ",
        "outputId": "4024a240-61d4-48ef-8ec5-6540aaa8ff72"
      },
      "outputs": [
        {
          "data": {
            "text/plain": [
              "label\n",
              "0    106872\n",
              "1      5375\n",
              "Name: count, dtype: int64"
            ]
          },
          "execution_count": 9,
          "metadata": {},
          "output_type": "execute_result"
        }
      ],
      "source": [
        "bully_data_cleaned['label'].value_counts()"
      ]
    },
    {
      "cell_type": "markdown",
      "id": "61d6da90",
      "metadata": {
        "id": "61d6da90"
      },
      "source": [
        "## Define pretrained tokenizer and model"
      ]
    },
    {
      "cell_type": "code",
      "execution_count": null,
      "id": "b09bcba2",
      "metadata": {
        "colab": {
          "base_uri": "https://localhost:8080/"
        },
        "execution": {
          "iopub.execute_input": "2023-08-23T04:53:30.295746Z",
          "iopub.status.busy": "2023-08-23T04:53:30.295472Z",
          "iopub.status.idle": "2023-08-23T04:53:34.191351Z",
          "shell.execute_reply": "2023-08-23T04:53:34.190913Z",
          "shell.execute_reply.started": "2023-08-23T04:53:30.295724Z"
        },
        "id": "b09bcba2",
        "outputId": "5ec1d947-6be0-4fbf-ac15-0f690c21c512"
      },
      "outputs": [
        {
          "name": "stderr",
          "output_type": "stream",
          "text": [
            "/usr/local/lib/python3.10/dist-packages/huggingface_hub/utils/_token.py:88: UserWarning: \n",
            "The secret `HF_TOKEN` does not exist in your Colab secrets.\n",
            "To authenticate with the Hugging Face Hub, create a token in your settings tab (https://huggingface.co/settings/tokens), set it as secret in your Google Colab and restart your session.\n",
            "You will be able to reuse this secret in all of your notebooks.\n",
            "Please note that authentication is recommended but still optional to access public models or datasets.\n",
            "  warnings.warn(\n",
            "Some weights of DistilBertForSequenceClassification were not initialized from the model checkpoint at distilbert-base-uncased and are newly initialized: ['classifier.bias', 'classifier.weight', 'pre_classifier.bias', 'pre_classifier.weight']\n",
            "You should probably TRAIN this model on a down-stream task to be able to use it for predictions and inference.\n"
          ]
        }
      ],
      "source": [
        "from transformers import AutoTokenizer, AutoModelForSequenceClassification\n",
        "\n",
        "\n",
        "model_name = \"distilbert-base-uncased\"\n",
        "tokenizer = AutoTokenizer.from_pretrained(model_name)\n",
        "set_seed(1127)\n",
        "model = AutoModelForSequenceClassification.from_pretrained(model_name, num_labels=2)\n",
        "\n"
      ]
    },
    {
      "cell_type": "markdown",
      "id": "fe8c063e",
      "metadata": {
        "id": "fe8c063e"
      },
      "source": [
        "## Preprocess data and Fine Tune Transformers"
      ]
    },
    {
      "cell_type": "code",
      "execution_count": null,
      "id": "b5e716fb",
      "metadata": {
        "execution": {
          "iopub.execute_input": "2023-08-23T04:53:36.690066Z",
          "iopub.status.busy": "2023-08-23T04:53:36.689274Z",
          "iopub.status.idle": "2023-08-23T04:53:49.424016Z",
          "shell.execute_reply": "2023-08-23T04:53:49.423362Z",
          "shell.execute_reply.started": "2023-08-23T04:53:36.690042Z"
        },
        "id": "b5e716fb"
      },
      "outputs": [],
      "source": [
        "# Data: Text Input and Label #\n",
        "X = list(bully_data_cleaned[\"text\"])\n",
        "y = list(bully_data_cleaned[\"label\"])\n",
        "\n",
        "# Create torch dataset\n",
        "class Dataset(torch.utils.data.Dataset):\n",
        "    def __init__(self, encodings, labels=None):\n",
        "        self.encodings = encodings\n",
        "        self.labels = labels\n",
        "\n",
        "    def __getitem__(self, idx):\n",
        "        item = {key: torch.tensor(val[idx]) for key, val in self.encodings.items()}\n",
        "        if self.labels:\n",
        "            item[\"labels\"] = torch.tensor(self.labels[idx])\n",
        "        return item\n",
        "\n",
        "    def __len__(self):\n",
        "        return len(self.encodings[\"input_ids\"])\n",
        "\n",
        "\n",
        "# Define Trainer parameters\n",
        "def compute_metrics(p):\n",
        "    pred, labels = p\n",
        "    pred = np.argmax(pred, axis=1)\n",
        "\n",
        "    accuracy = accuracy_score(y_true=labels, y_pred=pred)\n",
        "    recall_cb = recall_score(y_true=labels, y_pred=pred, average='binary', pos_label=1)\n",
        "    precision_cb = precision_score(y_true=labels, y_pred=pred, average='binary', pos_label=1)\n",
        "    f1_cb = f1_score(y_true=labels, y_pred=pred, average='binary', pos_label=1)\n",
        "\n",
        "    recall_ncb = recall_score(y_true=labels, y_pred=pred, average='binary', pos_label=0)\n",
        "    precision_ncb = precision_score(y_true=labels, y_pred=pred, average='binary', pos_label=0)\n",
        "    f1_ncb = f1_score(y_true=labels, y_pred=pred, average='binary', pos_label=0)\n",
        "\n",
        "    recall_overall = recall_score(y_true=labels, y_pred=pred, average='macro')\n",
        "    precision_overall = precision_score(y_true=labels, y_pred=pred, average='macro')\n",
        "    f1_overall = f1_score(y_true=labels, y_pred=pred, average='macro')\n",
        "\n",
        "\n",
        "    return {\"accuracy\": accuracy,\n",
        "            \"precision_cb\": precision_cb, \"recall_cb\": recall_cb, \"f1_cb\": f1_cb,\n",
        "            \"precision_ncb\": precision_ncb, \"recall_ncb\": recall_ncb, \"f1_ncb\": f1_ncb,\n",
        "            \"precision_overall\": precision_overall, \"recall_overall\": recall_overall, \"f1_overall\": f1_overall}\n",
        "\n",
        "\n",
        "# Plot Confusion Matrix\n",
        "import numpy as np\n",
        "import matplotlib.pyplot as plt\n",
        "import seaborn as sns\n",
        "\n",
        "def make_confusion_matrix(cf,\n",
        "                          group_names=None,\n",
        "                          categories='auto',\n",
        "                          count=True,\n",
        "                          percent=True,\n",
        "                          cbar=True,\n",
        "                          xyticks=True,\n",
        "                          xyplotlabels=True,\n",
        "                          sum_stats=True,\n",
        "                          figsize=None,\n",
        "                          cmap='Blues',\n",
        "                          title=None):\n",
        "    '''\n",
        "    This function will make a pretty plot of an sklearn Confusion Matrix cm using a Seaborn heatmap visualization.\n",
        "\n",
        "    Arguments\n",
        "    ---------\n",
        "    cf:            confusion matrix to be passed in\n",
        "\n",
        "    group_names:   List of strings that represent the labels row by row to be shown in each square.\n",
        "\n",
        "    categories:    List of strings containing the categories to be displayed on the x,y axis. Default is 'auto'\n",
        "\n",
        "    count:         If True, show the raw number in the confusion matrix. Default is True.\n",
        "\n",
        "    normalize:     If True, show the proportions for each category. Default is True.\n",
        "\n",
        "    cbar:          If True, show the color bar. The cbar values are based off the values in the confusion matrix.\n",
        "                   Default is True.\n",
        "\n",
        "    xyticks:       If True, show x and y ticks. Default is True.\n",
        "\n",
        "    xyplotlabels:  If True, show 'True Label' and 'Predicted Label' on the figure. Default is True.\n",
        "\n",
        "    sum_stats:     If True, display summary statistics below the figure. Default is True.\n",
        "\n",
        "    figsize:       Tuple representing the figure size. Default will be the matplotlib rcParams value.\n",
        "\n",
        "    cmap:          Colormap of the values displayed from matplotlib.pyplot.cm. Default is 'Blues'\n",
        "                   See http://matplotlib.org/examples/color/colormaps_reference.html\n",
        "\n",
        "    title:         Title for the heatmap. Default is None.\n",
        "\n",
        "    '''\n",
        "\n",
        "\n",
        "    # CONFUSION MATRIX IN PERCENTAGE\n",
        "    cf_pct = cf.astype('float')/cf.sum(axis=1)[:, np.newaxis]\n",
        "    # CODE TO GENERATE TEXT INSIDE EACH SQUARE\n",
        "    blanks = ['' for i in range(cf.size)]\n",
        "\n",
        "    if group_names and len(group_names)==cf.size:\n",
        "        group_labels = [\"{}\\n\".format(value) for value in group_names]\n",
        "    else:\n",
        "        group_labels = blanks\n",
        "\n",
        "    if count:\n",
        "        group_counts = [\"{0:0.0f}\\n\".format(value) for value in cf.flatten()]\n",
        "    else:\n",
        "        group_counts = blanks\n",
        "\n",
        "    if percent:\n",
        "        group_percentages = [\"{0:.2%}\".format(value) for value in cf_pct.flatten()]\n",
        "    else:\n",
        "        group_percentages = blanks\n",
        "\n",
        "    box_labels = [f\"{v1}{v2}{v3}\".strip() for v1, v2, v3 in zip(group_labels,group_counts,group_percentages)]\n",
        "    box_labels = np.asarray(box_labels).reshape(cf.shape[0],cf.shape[1])\n",
        "\n",
        "\n",
        "    # CODE TO GENERATE SUMMARY STATISTICS & TEXT FOR SUMMARY STATS\n",
        "    if sum_stats:\n",
        "        #Accuracy is sum of diagonal divided by total observations\n",
        "        accuracy  = np.trace(cf) / float(np.sum(cf))\n",
        "\n",
        "        #if it is a binary confusion matrix, show some more stats\n",
        "        if len(cf)==2:\n",
        "            #Metrics for Binary Confusion Matrices\n",
        "            precision = cf[1,1] / sum(cf[:,1])\n",
        "            recall    = cf[1,1] / sum(cf[1,:])\n",
        "            f1_score  = 2*precision*recall / (precision + recall)\n",
        "            stats_text = \"\\n\\nAccuracy={:0.3f}\\nPrecision={:0.3f}\\nRecall={:0.3f}\\nF1 Score={:0.3f}\".format(\n",
        "                accuracy,precision,recall,f1_score)\n",
        "        else:\n",
        "            stats_text = \"\\n\\nAccuracy={:0.3f}\".format(accuracy)\n",
        "    else:\n",
        "        stats_text = \"\"\n",
        "\n",
        "\n",
        "    # SET FIGURE PARAMETERS ACCORDING TO OTHER ARGUMENTS\n",
        "    if figsize==None:\n",
        "        #Get default figure size if not set\n",
        "        figsize = plt.rcParams.get('figure.figsize')\n",
        "\n",
        "    if xyticks==False:\n",
        "        #Do not show categories if xyticks is False\n",
        "        categories=False\n",
        "\n",
        "\n",
        "    # MAKE THE HEATMAP VISUALIZATION\n",
        "    plt.figure(figsize=figsize)\n",
        "    sns.heatmap(cf_pct,annot=box_labels,fmt=\"\",cmap=cmap,cbar=cbar,xticklabels=categories,yticklabels=categories)\n",
        "\n",
        "    if xyplotlabels:\n",
        "        plt.ylabel('True label')\n",
        "        plt.xlabel('Predicted label' + stats_text)\n",
        "    else:\n",
        "        plt.xlabel(stats_text)\n",
        "\n",
        "    if title:\n",
        "        plt.title(title)\n",
        "\n",
        "# Run cross-validation\n",
        "def run_cross_validation(model_name='DistilBert',\n",
        "                         X=X,\n",
        "                         y=y,\n",
        "                         splits=5,\n",
        "                         epoch=8,\n",
        "                         checkpoint=False):\n",
        "\n",
        "    kfold = StratifiedShuffleSplit(n_splits=splits, test_size=0.1, random_state=1127)\n",
        "    # kfold = StratifiedKFold(n_splits=splits, shuffle=True, random_state=1127)\n",
        "    n_fold = 1\n",
        "\n",
        "    print(\"Developing Model with Cross validation for: \" + model_name)\n",
        "    for train, test in tqdm(kfold.split(X, y)):\n",
        "\n",
        "        print(\"Running for Fold: \",n_fold)\n",
        "        train_index = list(train)\n",
        "        test_index = list(test)\n",
        "\n",
        "        X_train = [X[i] for i in train_index]\n",
        "        y_train = [y[i] for i in train_index]\n",
        "        X_val = [X[i] for i in test_index]\n",
        "        y_val = [y[i] for i in test_index]\n",
        "\n",
        "        # Tokenize\n",
        "        X_train_tokenized = tokenizer(X_train, padding=True, truncation=True, max_length=512)\n",
        "        X_val_tokenized = tokenizer(X_val, padding=True, truncation=True, max_length=512)\n",
        "\n",
        "        # Create torch dataset\n",
        "        train_dataset = Dataset(X_train_tokenized, y_train)\n",
        "        val_dataset = Dataset(X_val_tokenized, y_val)\n",
        "\n",
        "        # Fine Tune Transformer\n",
        "        # Define Trainer\n",
        "        args = TrainingArguments(\n",
        "            output_dir=\"content/drive/MyDrive_binary/output_\" + model_name + \"/fold\"+str(n_fold),\n",
        "            evaluation_strategy=\"epoch\",\n",
        "            save_strategy=\"epoch\",\n",
        "            #eval_steps=500,\n",
        "            #per_device_train_batch_size=1,\n",
        "            #per_device_eval_batch_size=1,\n",
        "            num_train_epochs=epoch, #1 was okay\n",
        "            seed=1127,\n",
        "            load_best_model_at_end=True,\n",
        "        )\n",
        "\n",
        "        trainer = Trainer(\n",
        "        #model_init=model_init,\n",
        "        model=model,\n",
        "        args=args,\n",
        "        train_dataset=train_dataset,\n",
        "        eval_dataset=val_dataset,\n",
        "        compute_metrics=compute_metrics,\n",
        "        callbacks=[EarlyStoppingCallback(early_stopping_patience=3)],\n",
        "        )\n",
        "\n",
        "        if n_fold <=4:\n",
        "            checkpoint_temp=True\n",
        "        else:\n",
        "            checkpoint_temp=False\n",
        "\n",
        "        trainer.train(resume_from_checkpoint=checkpoint)\n",
        "        print(\"Complete for fold\", n_fold)\n",
        "        n_fold= n_fold + 1\n",
        "\n",
        "\n",
        "# Run Hold Out Test\n",
        "\n",
        "# Train and Test Set\n",
        "X_train, X_test, y_train, y_test = train_test_split(X, y, test_size=0.1, stratify=y, random_state=1127)\n",
        "\n",
        "# Train and Validate Set\n",
        "# X_train, X_val, y_train, y_val = train_test_split(X_train, y_train, test_size=0.1, stratify=y_train, random_state=1127)\n",
        "X_train_tokenized = tokenizer(X_train, padding=True, truncation=True, max_length=512)\n",
        "X_val_tokenized = tokenizer(X_test, padding=True, truncation=True, max_length=512)\n",
        "\n",
        "# Create torch dataset\n",
        "train_dataset = Dataset(X_train_tokenized, y_train)\n",
        "val_dataset = Dataset(X_val_tokenized, y_test)\n",
        "\n",
        "def run_hold_out_split(model_name='DistilBert',\n",
        "                       epoch=8,\n",
        "                       train_dataset=train_dataset,\n",
        "                       eval_dataset=val_dataset,\n",
        "                       checkpoint=False):\n",
        "\n",
        "    print(\"Developing Model with Hold Out Splits for: \" + model_name)\n",
        "    # Fine Tune Transformer\n",
        "    # Define Trainer\n",
        "    args = TrainingArguments(\n",
        "      output_dir=\"content/drive/MyDrive_binary/output_\" + model_name + \"/holdout\",\n",
        "      evaluation_strategy=\"epoch\",\n",
        "      save_strategy=\"epoch\",\n",
        "      #eval_steps=500,\n",
        "      #per_device_train_batch_size=1,\n",
        "      #per_device_eval_batch_size=1,\n",
        "      num_train_epochs=epoch, #1 was okay\n",
        "      seed=1127,\n",
        "      load_best_model_at_end=True,\n",
        "    )\n",
        "\n",
        "    trainer = Trainer(\n",
        "    # model_init=model_init,\n",
        "    args=args,\n",
        "    model=model,\n",
        "    train_dataset=train_dataset,\n",
        "    eval_dataset=val_dataset,\n",
        "    compute_metrics=compute_metrics,\n",
        "    callbacks=[EarlyStoppingCallback(early_stopping_patience=5)],\n",
        "    )\n",
        "\n",
        "    trainer.train(resume_from_checkpoint=checkpoint)\n",
        "    print(\"Complete for hold-out validate set\")\n"
      ]
    },
    {
      "cell_type": "code",
      "execution_count": null,
      "id": "EKrMcyWmEBlO",
      "metadata": {
        "execution": {
          "iopub.execute_input": "2023-08-23T04:53:49.425542Z",
          "iopub.status.busy": "2023-08-23T04:53:49.425029Z",
          "iopub.status.idle": "2023-08-23T04:53:49.435717Z",
          "shell.execute_reply": "2023-08-23T04:53:49.435258Z",
          "shell.execute_reply.started": "2023-08-23T04:53:49.425522Z"
        },
        "id": "EKrMcyWmEBlO"
      },
      "outputs": [],
      "source": [
        "# Predict (Hold Out Test)\n",
        "\n",
        "from sklearn.metrics import confusion_matrix\n",
        "def compute_metrics_holdout(model_name='DistilBert',\n",
        "                            model_path='content/drive/MyDrive_binary/output_DistilBert/holdout/checkpoint-3820',\n",
        "                            average_method='binary',\n",
        "                            X_test=X_test):\n",
        "\n",
        "    X_test_tokenized = tokenizer(X_test, padding=True, truncation=True, max_length=512)\n",
        "\n",
        "    # Create torch dataset\n",
        "    test_dataset = Dataset(X_test_tokenized)\n",
        "\n",
        "    # Load trained model\n",
        "    model_pred = AutoModelForSequenceClassification.from_pretrained(model_path, num_labels=2)\n",
        "\n",
        "    # Define test trainer\n",
        "    test_trainer = Trainer(model_pred)\n",
        "\n",
        "    # Make prediction\n",
        "    raw_pred, _, _ = test_trainer.predict(test_dataset)\n",
        "\n",
        "    # Preprocess raw predictions\n",
        "    y_pred = np.argmax(raw_pred, axis=1)\n",
        "\n",
        "    # Compute metrics\n",
        "    precision_cb = precision_score(y_test, y_pred, average=average_method, pos_label=1)\n",
        "    recall_cb = recall_score(y_test, y_pred, average=average_method, pos_label=1)\n",
        "    f1_cb = f1_score(y_test, y_pred, average=average_method, pos_label=1)\n",
        "\n",
        "    precision_ncb = precision_score(y_test, y_pred, average=average_method, pos_label=0)\n",
        "    recall_ncb = recall_score(y_test, y_pred, average=average_method, pos_label=0)\n",
        "    f1_ncb = f1_score(y_test, y_pred, average=average_method, pos_label=0)\n",
        "\n",
        "    precision_overall = precision_score(y_test, y_pred, average='macro')\n",
        "    recall_overall = recall_score(y_test, y_pred, average='macro')\n",
        "    f1_overall = f1_score(y_test, y_pred, average='macro')\n",
        "\n",
        "    # Print Results\n",
        "    print(\"Classification Report:\")\n",
        "    print(classification_report(y_test,y_pred))\n",
        "    print()\n",
        "    print(\"Label 1: Cyberbullying\")\n",
        "    print(\"Precision: \", precision_cb)\n",
        "    print(\"Recall: \", recall_cb)\n",
        "    print(\"F-measure: \", f1_cb)\n",
        "    print()\n",
        "    print(\"Label 0: Non-Cyberbullying\")\n",
        "    print(\"Precision: \", precision_ncb)\n",
        "    print(\"Recall: \", recall_ncb)\n",
        "    print(\"F-measure: \", f1_ncb)\n",
        "    print()\n",
        "    print(\"Macro Metrics\")\n",
        "    print(\"Precision: \", precision_overall)\n",
        "    print(\"Recall: \", recall_overall)\n",
        "    print(\"F-measure: \", f1_overall)\n",
        "    print()\n",
        "\n",
        "    # Confusion Matrix\n",
        "    conf_mat = confusion_matrix(y_test,y_pred)\n",
        "    categories = ['Non-Cyberbullying', 'Cyberbullying']\n",
        "    labels = ['True Negative','',\n",
        "            '','True Positive']\n",
        "\n",
        "    make_confusion_matrix(conf_mat,\n",
        "                        group_names=labels,\n",
        "                        categories=categories,\n",
        "                        figsize=(8,5),\n",
        "                        cbar=True,\n",
        "                        title='Fine Tuned ' + model_name + ' for Cyberbullying Detection',\n",
        "                        cmap='YlGnBu',\n",
        "                        sum_stats=False)\n",
        "\n"
      ]
    },
    {
      "cell_type": "markdown",
      "id": "q5A2sV2dKlPb",
      "metadata": {
        "id": "q5A2sV2dKlPb",
        "tags": []
      },
      "source": [
        "## Cross Validation (K = 5)"
      ]
    },
    {
      "cell_type": "code",
      "execution_count": null,
      "id": "p5QGotWv8_-V",
      "metadata": {
        "colab": {
          "base_uri": "https://localhost:8080/",
          "height": 1000
        },
        "execution": {
          "iopub.execute_input": "2023-08-22T18:23:41.378281Z",
          "iopub.status.busy": "2023-08-22T18:23:41.377633Z",
          "iopub.status.idle": "2023-08-23T04:43:08.137120Z",
          "shell.execute_reply": "2023-08-23T04:43:08.136085Z",
          "shell.execute_reply.started": "2023-08-22T18:23:41.378281Z"
        },
        "id": "p5QGotWv8_-V",
        "outputId": "fb91db40-71f6-4988-f9e3-0f06da56575e"
      },
      "outputs": [
        {
          "name": "stdout",
          "output_type": "stream",
          "text": [
            "Developing Model with Cross validation for: DistilBert\n"
          ]
        },
        {
          "name": "stderr",
          "output_type": "stream",
          "text": [
            "\r0it [00:00, ?it/s]"
          ]
        },
        {
          "name": "stdout",
          "output_type": "stream",
          "text": [
            "Running for Fold:  1\n"
          ]
        },
        {
          "data": {
            "text/html": [
              "\n",
              "    <div>\n",
              "      \n",
              "      <progress value='50512' max='50512' style='width:300px; height:20px; vertical-align: middle;'></progress>\n",
              "      [50512/50512 1:27:20, Epoch 4/4]\n",
              "    </div>\n",
              "    <table border=\"1\" class=\"dataframe\">\n",
              "  <thead>\n",
              " <tr style=\"text-align: left;\">\n",
              "      <th>Epoch</th>\n",
              "      <th>Training Loss</th>\n",
              "      <th>Validation Loss</th>\n",
              "      <th>Accuracy</th>\n",
              "      <th>Precision Cb</th>\n",
              "      <th>Recall Cb</th>\n",
              "      <th>F1 Cb</th>\n",
              "      <th>Precision Ncb</th>\n",
              "      <th>Recall Ncb</th>\n",
              "      <th>F1 Ncb</th>\n",
              "      <th>Precision Overall</th>\n",
              "      <th>Recall Overall</th>\n",
              "      <th>F1 Overall</th>\n",
              "    </tr>\n",
              "  </thead>\n",
              "  <tbody>\n",
              "    <tr>\n",
              "      <td>1</td>\n",
              "      <td>0.156700</td>\n",
              "      <td>0.168656</td>\n",
              "      <td>0.962851</td>\n",
              "      <td>0.682779</td>\n",
              "      <td>0.420074</td>\n",
              "      <td>0.520138</td>\n",
              "      <td>0.971360</td>\n",
              "      <td>0.990175</td>\n",
              "      <td>0.980677</td>\n",
              "      <td>0.827070</td>\n",
              "      <td>0.705125</td>\n",
              "      <td>0.750408</td>\n",
              "    </tr>\n",
              "    <tr>\n",
              "      <td>2</td>\n",
              "      <td>0.108700</td>\n",
              "      <td>0.117097</td>\n",
              "      <td>0.964989</td>\n",
              "      <td>0.687339</td>\n",
              "      <td>0.494424</td>\n",
              "      <td>0.575135</td>\n",
              "      <td>0.974903</td>\n",
              "      <td>0.988678</td>\n",
              "      <td>0.981742</td>\n",
              "      <td>0.831121</td>\n",
              "      <td>0.741551</td>\n",
              "      <td>0.778439</td>\n",
              "    </tr>\n",
              "    <tr>\n",
              "      <td>3</td>\n",
              "      <td>0.111600</td>\n",
              "      <td>0.140398</td>\n",
              "      <td>0.965434</td>\n",
              "      <td>0.714286</td>\n",
              "      <td>0.464684</td>\n",
              "      <td>0.563063</td>\n",
              "      <td>0.973517</td>\n",
              "      <td>0.990643</td>\n",
              "      <td>0.982005</td>\n",
              "      <td>0.843901</td>\n",
              "      <td>0.727663</td>\n",
              "      <td>0.772534</td>\n",
              "    </tr>\n",
              "    <tr>\n",
              "      <td>4</td>\n",
              "      <td>0.109400</td>\n",
              "      <td>0.143993</td>\n",
              "      <td>0.965612</td>\n",
              "      <td>0.714689</td>\n",
              "      <td>0.470260</td>\n",
              "      <td>0.567265</td>\n",
              "      <td>0.973783</td>\n",
              "      <td>0.990549</td>\n",
              "      <td>0.982095</td>\n",
              "      <td>0.844236</td>\n",
              "      <td>0.730405</td>\n",
              "      <td>0.774680</td>\n",
              "    </tr>\n",
              "  </tbody>\n",
              "</table><p>"
            ],
            "text/plain": [
              "<IPython.core.display.HTML object>"
            ]
          },
          "metadata": {},
          "output_type": "display_data"
        },
        {
          "name": "stderr",
          "output_type": "stream",
          "text": [
            "\r1it [1:27:39, 5259.06s/it]"
          ]
        },
        {
          "name": "stdout",
          "output_type": "stream",
          "text": [
            "Complete for fold 1\n",
            "Running for Fold:  2\n"
          ]
        },
        {
          "data": {
            "text/html": [
              "\n",
              "    <div>\n",
              "      \n",
              "      <progress value='50512' max='50512' style='width:300px; height:20px; vertical-align: middle;'></progress>\n",
              "      [50512/50512 1:27:48, Epoch 4/4]\n",
              "    </div>\n",
              "    <table border=\"1\" class=\"dataframe\">\n",
              "  <thead>\n",
              " <tr style=\"text-align: left;\">\n",
              "      <th>Epoch</th>\n",
              "      <th>Training Loss</th>\n",
              "      <th>Validation Loss</th>\n",
              "      <th>Accuracy</th>\n",
              "      <th>Precision Cb</th>\n",
              "      <th>Recall Cb</th>\n",
              "      <th>F1 Cb</th>\n",
              "      <th>Precision Ncb</th>\n",
              "      <th>Recall Ncb</th>\n",
              "      <th>F1 Ncb</th>\n",
              "      <th>Precision Overall</th>\n",
              "      <th>Recall Overall</th>\n",
              "      <th>F1 Overall</th>\n",
              "    </tr>\n",
              "  </thead>\n",
              "  <tbody>\n",
              "    <tr>\n",
              "      <td>1</td>\n",
              "      <td>0.128700</td>\n",
              "      <td>0.145762</td>\n",
              "      <td>0.959020</td>\n",
              "      <td>0.564356</td>\n",
              "      <td>0.635688</td>\n",
              "      <td>0.597902</td>\n",
              "      <td>0.981543</td>\n",
              "      <td>0.975297</td>\n",
              "      <td>0.978410</td>\n",
              "      <td>0.772949</td>\n",
              "      <td>0.805492</td>\n",
              "      <td>0.788156</td>\n",
              "    </tr>\n",
              "    <tr>\n",
              "      <td>2</td>\n",
              "      <td>0.134200</td>\n",
              "      <td>0.147849</td>\n",
              "      <td>0.966058</td>\n",
              "      <td>0.754045</td>\n",
              "      <td>0.433086</td>\n",
              "      <td>0.550177</td>\n",
              "      <td>0.972059</td>\n",
              "      <td>0.992889</td>\n",
              "      <td>0.982364</td>\n",
              "      <td>0.863052</td>\n",
              "      <td>0.712987</td>\n",
              "      <td>0.766270</td>\n",
              "    </tr>\n",
              "    <tr>\n",
              "      <td>3</td>\n",
              "      <td>0.104700</td>\n",
              "      <td>0.136967</td>\n",
              "      <td>0.967840</td>\n",
              "      <td>0.697987</td>\n",
              "      <td>0.579926</td>\n",
              "      <td>0.633503</td>\n",
              "      <td>0.979031</td>\n",
              "      <td>0.987368</td>\n",
              "      <td>0.983182</td>\n",
              "      <td>0.838509</td>\n",
              "      <td>0.783647</td>\n",
              "      <td>0.808342</td>\n",
              "    </tr>\n",
              "    <tr>\n",
              "      <td>4</td>\n",
              "      <td>0.102700</td>\n",
              "      <td>0.132017</td>\n",
              "      <td>0.967751</td>\n",
              "      <td>0.717822</td>\n",
              "      <td>0.539033</td>\n",
              "      <td>0.615711</td>\n",
              "      <td>0.977082</td>\n",
              "      <td>0.989333</td>\n",
              "      <td>0.983169</td>\n",
              "      <td>0.847452</td>\n",
              "      <td>0.764183</td>\n",
              "      <td>0.799440</td>\n",
              "    </tr>\n",
              "  </tbody>\n",
              "</table><p>"
            ],
            "text/plain": [
              "<IPython.core.display.HTML object>"
            ]
          },
          "metadata": {},
          "output_type": "display_data"
        },
        {
          "name": "stderr",
          "output_type": "stream",
          "text": [
            "\r2it [2:55:48, 5277.17s/it]"
          ]
        },
        {
          "name": "stdout",
          "output_type": "stream",
          "text": [
            "Complete for fold 2\n",
            "Running for Fold:  3\n"
          ]
        },
        {
          "data": {
            "text/html": [
              "\n",
              "    <div>\n",
              "      \n",
              "      <progress value='50512' max='50512' style='width:300px; height:20px; vertical-align: middle;'></progress>\n",
              "      [50512/50512 1:28:10, Epoch 4/4]\n",
              "    </div>\n",
              "    <table border=\"1\" class=\"dataframe\">\n",
              "  <thead>\n",
              " <tr style=\"text-align: left;\">\n",
              "      <th>Epoch</th>\n",
              "      <th>Training Loss</th>\n",
              "      <th>Validation Loss</th>\n",
              "      <th>Accuracy</th>\n",
              "      <th>Precision Cb</th>\n",
              "      <th>Recall Cb</th>\n",
              "      <th>F1 Cb</th>\n",
              "      <th>Precision Ncb</th>\n",
              "      <th>Recall Ncb</th>\n",
              "      <th>F1 Ncb</th>\n",
              "      <th>Precision Overall</th>\n",
              "      <th>Recall Overall</th>\n",
              "      <th>F1 Overall</th>\n",
              "    </tr>\n",
              "  </thead>\n",
              "  <tbody>\n",
              "    <tr>\n",
              "      <td>1</td>\n",
              "      <td>0.135700</td>\n",
              "      <td>0.136752</td>\n",
              "      <td>0.959376</td>\n",
              "      <td>0.565079</td>\n",
              "      <td>0.661710</td>\n",
              "      <td>0.609589</td>\n",
              "      <td>0.982822</td>\n",
              "      <td>0.974361</td>\n",
              "      <td>0.978573</td>\n",
              "      <td>0.773951</td>\n",
              "      <td>0.818036</td>\n",
              "      <td>0.794081</td>\n",
              "    </tr>\n",
              "    <tr>\n",
              "      <td>2</td>\n",
              "      <td>0.139100</td>\n",
              "      <td>0.137555</td>\n",
              "      <td>0.960535</td>\n",
              "      <td>0.580372</td>\n",
              "      <td>0.637546</td>\n",
              "      <td>0.607617</td>\n",
              "      <td>0.981663</td>\n",
              "      <td>0.976794</td>\n",
              "      <td>0.979222</td>\n",
              "      <td>0.781017</td>\n",
              "      <td>0.807170</td>\n",
              "      <td>0.793420</td>\n",
              "    </tr>\n",
              "    <tr>\n",
              "      <td>3</td>\n",
              "      <td>0.122900</td>\n",
              "      <td>0.110417</td>\n",
              "      <td>0.969265</td>\n",
              "      <td>0.714922</td>\n",
              "      <td>0.596654</td>\n",
              "      <td>0.650456</td>\n",
              "      <td>0.979863</td>\n",
              "      <td>0.988023</td>\n",
              "      <td>0.983926</td>\n",
              "      <td>0.847392</td>\n",
              "      <td>0.792339</td>\n",
              "      <td>0.817191</td>\n",
              "    </tr>\n",
              "    <tr>\n",
              "      <td>4</td>\n",
              "      <td>0.095100</td>\n",
              "      <td>0.116712</td>\n",
              "      <td>0.971136</td>\n",
              "      <td>0.754762</td>\n",
              "      <td>0.589219</td>\n",
              "      <td>0.661795</td>\n",
              "      <td>0.979547</td>\n",
              "      <td>0.990362</td>\n",
              "      <td>0.984925</td>\n",
              "      <td>0.867154</td>\n",
              "      <td>0.789791</td>\n",
              "      <td>0.823360</td>\n",
              "    </tr>\n",
              "  </tbody>\n",
              "</table><p>"
            ],
            "text/plain": [
              "<IPython.core.display.HTML object>"
            ]
          },
          "metadata": {},
          "output_type": "display_data"
        },
        {
          "name": "stderr",
          "output_type": "stream",
          "text": [
            "\r3it [4:24:20, 5293.02s/it]"
          ]
        },
        {
          "name": "stdout",
          "output_type": "stream",
          "text": [
            "Complete for fold 3\n",
            "Running for Fold:  4\n"
          ]
        },
        {
          "data": {
            "text/html": [
              "\n",
              "    <div>\n",
              "      \n",
              "      <progress value='50512' max='50512' style='width:300px; height:20px; vertical-align: middle;'></progress>\n",
              "      [50512/50512 1:28:12, Epoch 4/4]\n",
              "    </div>\n",
              "    <table border=\"1\" class=\"dataframe\">\n",
              "  <thead>\n",
              " <tr style=\"text-align: left;\">\n",
              "      <th>Epoch</th>\n",
              "      <th>Training Loss</th>\n",
              "      <th>Validation Loss</th>\n",
              "      <th>Accuracy</th>\n",
              "      <th>Precision Cb</th>\n",
              "      <th>Recall Cb</th>\n",
              "      <th>F1 Cb</th>\n",
              "      <th>Precision Ncb</th>\n",
              "      <th>Recall Ncb</th>\n",
              "      <th>F1 Ncb</th>\n",
              "      <th>Precision Overall</th>\n",
              "      <th>Recall Overall</th>\n",
              "      <th>F1 Overall</th>\n",
              "    </tr>\n",
              "  </thead>\n",
              "  <tbody>\n",
              "    <tr>\n",
              "      <td>1</td>\n",
              "      <td>0.152400</td>\n",
              "      <td>0.154040</td>\n",
              "      <td>0.964900</td>\n",
              "      <td>0.714286</td>\n",
              "      <td>0.446097</td>\n",
              "      <td>0.549199</td>\n",
              "      <td>0.972633</td>\n",
              "      <td>0.991017</td>\n",
              "      <td>0.981739</td>\n",
              "      <td>0.843459</td>\n",
              "      <td>0.718557</td>\n",
              "      <td>0.765469</td>\n",
              "    </tr>\n",
              "    <tr>\n",
              "      <td>2</td>\n",
              "      <td>0.160900</td>\n",
              "      <td>0.146358</td>\n",
              "      <td>0.968196</td>\n",
              "      <td>0.738786</td>\n",
              "      <td>0.520446</td>\n",
              "      <td>0.610687</td>\n",
              "      <td>0.976212</td>\n",
              "      <td>0.990736</td>\n",
              "      <td>0.983421</td>\n",
              "      <td>0.857499</td>\n",
              "      <td>0.755591</td>\n",
              "      <td>0.797054</td>\n",
              "    </tr>\n",
              "    <tr>\n",
              "      <td>3</td>\n",
              "      <td>0.131800</td>\n",
              "      <td>0.133819</td>\n",
              "      <td>0.970601</td>\n",
              "      <td>0.785714</td>\n",
              "      <td>0.531599</td>\n",
              "      <td>0.634146</td>\n",
              "      <td>0.976798</td>\n",
              "      <td>0.992701</td>\n",
              "      <td>0.984685</td>\n",
              "      <td>0.881256</td>\n",
              "      <td>0.762150</td>\n",
              "      <td>0.809416</td>\n",
              "    </tr>\n",
              "    <tr>\n",
              "      <td>4</td>\n",
              "      <td>0.110600</td>\n",
              "      <td>0.126872</td>\n",
              "      <td>0.971581</td>\n",
              "      <td>0.765133</td>\n",
              "      <td>0.587361</td>\n",
              "      <td>0.664564</td>\n",
              "      <td>0.979467</td>\n",
              "      <td>0.990924</td>\n",
              "      <td>0.985162</td>\n",
              "      <td>0.872300</td>\n",
              "      <td>0.789142</td>\n",
              "      <td>0.824863</td>\n",
              "    </tr>\n",
              "  </tbody>\n",
              "</table><p>"
            ],
            "text/plain": [
              "<IPython.core.display.HTML object>"
            ]
          },
          "metadata": {},
          "output_type": "display_data"
        },
        {
          "name": "stderr",
          "output_type": "stream",
          "text": [
            "\r4it [5:52:55, 5301.70s/it]"
          ]
        },
        {
          "name": "stdout",
          "output_type": "stream",
          "text": [
            "Complete for fold 4\n",
            "Running for Fold:  5\n"
          ]
        },
        {
          "data": {
            "text/html": [
              "\n",
              "    <div>\n",
              "      \n",
              "      <progress value='15530' max='50512' style='width:300px; height:20px; vertical-align: middle;'></progress>\n",
              "      [15530/50512 26:56 < 1:00:40, 9.61 it/s, Epoch 1.23/4]\n",
              "    </div>\n",
              "    <table border=\"1\" class=\"dataframe\">\n",
              "  <thead>\n",
              " <tr style=\"text-align: left;\">\n",
              "      <th>Epoch</th>\n",
              "      <th>Training Loss</th>\n",
              "      <th>Validation Loss</th>\n",
              "      <th>Accuracy</th>\n",
              "      <th>Precision Cb</th>\n",
              "      <th>Recall Cb</th>\n",
              "      <th>F1 Cb</th>\n",
              "      <th>Precision Ncb</th>\n",
              "      <th>Recall Ncb</th>\n",
              "      <th>F1 Ncb</th>\n",
              "      <th>Precision Overall</th>\n",
              "      <th>Recall Overall</th>\n",
              "      <th>F1 Overall</th>\n",
              "    </tr>\n",
              "  </thead>\n",
              "  <tbody>\n",
              "    <tr>\n",
              "      <td>1</td>\n",
              "      <td>0.153200</td>\n",
              "      <td>0.175669</td>\n",
              "      <td>0.967929</td>\n",
              "      <td>0.750000</td>\n",
              "      <td>0.496283</td>\n",
              "      <td>0.597315</td>\n",
              "      <td>0.975067</td>\n",
              "      <td>0.991672</td>\n",
              "      <td>0.983299</td>\n",
              "      <td>0.862533</td>\n",
              "      <td>0.743977</td>\n",
              "      <td>0.790307</td>\n",
              "    </tr>\n",
              "  </tbody>\n",
              "</table><p>"
            ],
            "text/plain": [
              "<IPython.core.display.HTML object>"
            ]
          },
          "metadata": {},
          "output_type": "display_data"
        },
        {
          "data": {
            "text/html": [
              "\n",
              "    <div>\n",
              "      \n",
              "      <progress value='50512' max='50512' style='width:300px; height:20px; vertical-align: middle;'></progress>\n",
              "      [50512/50512 1:28:12, Epoch 4/4]\n",
              "    </div>\n",
              "    <table border=\"1\" class=\"dataframe\">\n",
              "  <thead>\n",
              " <tr style=\"text-align: left;\">\n",
              "      <th>Epoch</th>\n",
              "      <th>Training Loss</th>\n",
              "      <th>Validation Loss</th>\n",
              "      <th>Accuracy</th>\n",
              "      <th>Precision Cb</th>\n",
              "      <th>Recall Cb</th>\n",
              "      <th>F1 Cb</th>\n",
              "      <th>Precision Ncb</th>\n",
              "      <th>Recall Ncb</th>\n",
              "      <th>F1 Ncb</th>\n",
              "      <th>Precision Overall</th>\n",
              "      <th>Recall Overall</th>\n",
              "      <th>F1 Overall</th>\n",
              "    </tr>\n",
              "  </thead>\n",
              "  <tbody>\n",
              "    <tr>\n",
              "      <td>1</td>\n",
              "      <td>0.153200</td>\n",
              "      <td>0.175669</td>\n",
              "      <td>0.967929</td>\n",
              "      <td>0.750000</td>\n",
              "      <td>0.496283</td>\n",
              "      <td>0.597315</td>\n",
              "      <td>0.975067</td>\n",
              "      <td>0.991672</td>\n",
              "      <td>0.983299</td>\n",
              "      <td>0.862533</td>\n",
              "      <td>0.743977</td>\n",
              "      <td>0.790307</td>\n",
              "    </tr>\n",
              "    <tr>\n",
              "      <td>2</td>\n",
              "      <td>0.105300</td>\n",
              "      <td>0.140938</td>\n",
              "      <td>0.968731</td>\n",
              "      <td>0.769452</td>\n",
              "      <td>0.496283</td>\n",
              "      <td>0.603390</td>\n",
              "      <td>0.975087</td>\n",
              "      <td>0.992514</td>\n",
              "      <td>0.983724</td>\n",
              "      <td>0.872270</td>\n",
              "      <td>0.744398</td>\n",
              "      <td>0.793557</td>\n",
              "    </tr>\n",
              "    <tr>\n",
              "      <td>3</td>\n",
              "      <td>0.088500</td>\n",
              "      <td>0.146924</td>\n",
              "      <td>0.968820</td>\n",
              "      <td>0.783133</td>\n",
              "      <td>0.483271</td>\n",
              "      <td>0.597701</td>\n",
              "      <td>0.974479</td>\n",
              "      <td>0.993263</td>\n",
              "      <td>0.983781</td>\n",
              "      <td>0.878806</td>\n",
              "      <td>0.738267</td>\n",
              "      <td>0.790741</td>\n",
              "    </tr>\n",
              "    <tr>\n",
              "      <td>4</td>\n",
              "      <td>0.079200</td>\n",
              "      <td>0.142383</td>\n",
              "      <td>0.969265</td>\n",
              "      <td>0.738272</td>\n",
              "      <td>0.555762</td>\n",
              "      <td>0.634146</td>\n",
              "      <td>0.977911</td>\n",
              "      <td>0.990081</td>\n",
              "      <td>0.983959</td>\n",
              "      <td>0.858091</td>\n",
              "      <td>0.772922</td>\n",
              "      <td>0.809053</td>\n",
              "    </tr>\n",
              "  </tbody>\n",
              "</table><p>"
            ],
            "text/plain": [
              "<IPython.core.display.HTML object>"
            ]
          },
          "metadata": {},
          "output_type": "display_data"
        },
        {
          "name": "stderr",
          "output_type": "stream",
          "text": [
            "5it [7:21:32, 5298.43s/it]"
          ]
        },
        {
          "name": "stdout",
          "output_type": "stream",
          "text": [
            "Complete for fold 5\n"
          ]
        },
        {
          "name": "stderr",
          "output_type": "stream",
          "text": [
            "\n"
          ]
        }
      ],
      "source": [
        "run_cross_validation(model_name='DistilBert',\n",
        "                         X=X,\n",
        "                         y=y,\n",
        "                         splits=5,\n",
        "                         epoch=4,\n",
        "                         checkpoint=False)"
      ]
    },
    {
      "cell_type": "markdown",
      "id": "a3cabdda-c5a2-44ef-b8ef-61de87bc9003",
      "metadata": {
        "id": "a3cabdda-c5a2-44ef-b8ef-61de87bc9003",
        "jp-MarkdownHeadingCollapsed": true,
        "tags": []
      },
      "source": [
        "### [Continue] Cross Validation (K = 5)"
      ]
    },
    {
      "cell_type": "code",
      "execution_count": null,
      "id": "20a158e0-251b-47f3-80bb-f5a47f2496a0",
      "metadata": {
        "colab": {
          "base_uri": "https://localhost:8080/",
          "height": 516
        },
        "execution": {
          "iopub.execute_input": "2023-08-23T04:53:50.739453Z",
          "iopub.status.busy": "2023-08-23T04:53:50.738656Z",
          "iopub.status.idle": "2023-08-23T04:55:32.379042Z",
          "shell.execute_reply": "2023-08-23T04:55:32.378209Z",
          "shell.execute_reply.started": "2023-08-23T04:53:50.739429Z"
        },
        "id": "20a158e0-251b-47f3-80bb-f5a47f2496a0",
        "outputId": "b29d49c2-b357-4abb-dc8a-d31c2752b6b6"
      },
      "outputs": [
        {
          "name": "stdout",
          "output_type": "stream",
          "text": [
            "Developing Model with Cross validation for: DistilBert\n"
          ]
        },
        {
          "name": "stderr",
          "output_type": "stream",
          "text": [
            "\r0it [00:00, ?it/s]"
          ]
        },
        {
          "name": "stdout",
          "output_type": "stream",
          "text": [
            "Running for Fold:  1\n"
          ]
        },
        {
          "data": {
            "text/html": [
              "\n",
              "    <div>\n",
              "      \n",
              "      <progress value='50512' max='50512' style='width:300px; height:20px; vertical-align: middle;'></progress>\n",
              "      [50512/50512 : < :, Epoch 4/4]\n",
              "    </div>\n",
              "    <table border=\"1\" class=\"dataframe\">\n",
              "  <thead>\n",
              " <tr style=\"text-align: left;\">\n",
              "      <th>Epoch</th>\n",
              "      <th>Training Loss</th>\n",
              "      <th>Validation Loss</th>\n",
              "    </tr>\n",
              "  </thead>\n",
              "  <tbody>\n",
              "  </tbody>\n",
              "</table><p>"
            ],
            "text/plain": [
              "<IPython.core.display.HTML object>"
            ]
          },
          "metadata": {},
          "output_type": "display_data"
        },
        {
          "name": "stderr",
          "output_type": "stream",
          "text": [
            "\r1it [00:30, 30.41s/it]"
          ]
        },
        {
          "name": "stdout",
          "output_type": "stream",
          "text": [
            "Complete for fold 1\n",
            "Running for Fold:  2\n"
          ]
        },
        {
          "data": {
            "text/html": [
              "\n",
              "    <div>\n",
              "      \n",
              "      <progress value='50512' max='50512' style='width:300px; height:20px; vertical-align: middle;'></progress>\n",
              "      [50512/50512 : < :, Epoch 4/4]\n",
              "    </div>\n",
              "    <table border=\"1\" class=\"dataframe\">\n",
              "  <thead>\n",
              " <tr style=\"text-align: left;\">\n",
              "      <th>Epoch</th>\n",
              "      <th>Training Loss</th>\n",
              "      <th>Validation Loss</th>\n",
              "    </tr>\n",
              "  </thead>\n",
              "  <tbody>\n",
              "  </tbody>\n",
              "</table><p>"
            ],
            "text/plain": [
              "<IPython.core.display.HTML object>"
            ]
          },
          "metadata": {},
          "output_type": "display_data"
        },
        {
          "name": "stderr",
          "output_type": "stream",
          "text": [
            "\r2it [01:04, 32.31s/it]"
          ]
        },
        {
          "name": "stdout",
          "output_type": "stream",
          "text": [
            "Complete for fold 2\n",
            "Running for Fold:  3\n"
          ]
        },
        {
          "data": {
            "text/html": [
              "\n",
              "    <div>\n",
              "      \n",
              "      <progress value='50512' max='50512' style='width:300px; height:20px; vertical-align: middle;'></progress>\n",
              "      [50512/50512 : < :, Epoch 4/4]\n",
              "    </div>\n",
              "    <table border=\"1\" class=\"dataframe\">\n",
              "  <thead>\n",
              " <tr style=\"text-align: left;\">\n",
              "      <th>Epoch</th>\n",
              "      <th>Training Loss</th>\n",
              "      <th>Validation Loss</th>\n",
              "    </tr>\n",
              "  </thead>\n",
              "  <tbody>\n",
              "  </tbody>\n",
              "</table><p>"
            ],
            "text/plain": [
              "<IPython.core.display.HTML object>"
            ]
          },
          "metadata": {},
          "output_type": "display_data"
        },
        {
          "name": "stderr",
          "output_type": "stream",
          "text": [
            "\r3it [01:24, 26.67s/it]"
          ]
        },
        {
          "name": "stdout",
          "output_type": "stream",
          "text": [
            "Complete for fold 3\n",
            "Running for Fold:  4\n"
          ]
        },
        {
          "data": {
            "text/html": [
              "\n",
              "    <div>\n",
              "      \n",
              "      <progress value='50512' max='50512' style='width:300px; height:20px; vertical-align: middle;'></progress>\n",
              "      [50512/50512 : < :, Epoch 4/4]\n",
              "    </div>\n",
              "    <table border=\"1\" class=\"dataframe\">\n",
              "  <thead>\n",
              " <tr style=\"text-align: left;\">\n",
              "      <th>Epoch</th>\n",
              "      <th>Training Loss</th>\n",
              "      <th>Validation Loss</th>\n",
              "    </tr>\n",
              "  </thead>\n",
              "  <tbody>\n",
              "  </tbody>\n",
              "</table><p>"
            ],
            "text/plain": [
              "<IPython.core.display.HTML object>"
            ]
          },
          "metadata": {},
          "output_type": "display_data"
        },
        {
          "name": "stderr",
          "output_type": "stream",
          "text": [
            "\r4it [01:43, 24.03s/it]"
          ]
        },
        {
          "name": "stdout",
          "output_type": "stream",
          "text": [
            "Complete for fold 4\n",
            "Running for Fold:  5\n"
          ]
        },
        {
          "data": {
            "text/html": [
              "\n",
              "    <div>\n",
              "      \n",
              "      <progress value='50512' max='50512' style='width:300px; height:20px; vertical-align: middle;'></progress>\n",
              "      [50512/50512 : < :, Epoch 4/4]\n",
              "    </div>\n",
              "    <table border=\"1\" class=\"dataframe\">\n",
              "  <thead>\n",
              " <tr style=\"text-align: left;\">\n",
              "      <th>Epoch</th>\n",
              "      <th>Training Loss</th>\n",
              "      <th>Validation Loss</th>\n",
              "    </tr>\n",
              "  </thead>\n",
              "  <tbody>\n",
              "  </tbody>\n",
              "</table><p>"
            ],
            "text/plain": [
              "<IPython.core.display.HTML object>"
            ]
          },
          "metadata": {},
          "output_type": "display_data"
        },
        {
          "name": "stderr",
          "output_type": "stream",
          "text": [
            "5it [02:03, 24.77s/it]"
          ]
        },
        {
          "name": "stdout",
          "output_type": "stream",
          "text": [
            "Complete for fold 5\n"
          ]
        },
        {
          "name": "stderr",
          "output_type": "stream",
          "text": [
            "\n"
          ]
        }
      ],
      "source": [
        "run_cross_validation(model_name='DistilBert',\n",
        "                         X=X,\n",
        "                         y=y,\n",
        "                         splits=5,\n",
        "                         epoch=4,\n",
        "                         checkpoint=True)"
      ]
    },
    {
      "cell_type": "markdown",
      "id": "W4F4117sKwZQ",
      "metadata": {
        "id": "W4F4117sKwZQ"
      },
      "source": [
        "## Hold Out Split"
      ]
    },
    {
      "cell_type": "code",
      "execution_count": null,
      "id": "6f37e94d-0b71-406e-b0d3-e2e6c6ead9c7",
      "metadata": {
        "colab": {
          "base_uri": "https://localhost:8080/",
          "height": 235
        },
        "execution": {
          "iopub.execute_input": "2023-08-23T04:55:36.875039Z",
          "iopub.status.busy": "2023-08-23T04:55:36.874397Z",
          "iopub.status.idle": "2023-08-23T05:54:30.844732Z",
          "shell.execute_reply": "2023-08-23T05:54:30.844170Z",
          "shell.execute_reply.started": "2023-08-23T04:55:36.875014Z"
        },
        "id": "6f37e94d-0b71-406e-b0d3-e2e6c6ead9c7",
        "outputId": "51bd6ba2-9bdf-4b24-c3a7-b1b3255cb8d2"
      },
      "outputs": [
        {
          "name": "stdout",
          "output_type": "stream",
          "text": [
            "Developing Model with Hold Out Splits for: DistilBert\n"
          ]
        },
        {
          "data": {
            "text/html": [
              "\n",
              "    <div>\n",
              "      \n",
              "      <progress value='50512' max='50512' style='width:300px; height:20px; vertical-align: middle;'></progress>\n",
              "      [50512/50512 1:28:09, Epoch 4/4]\n",
              "    </div>\n",
              "    <table border=\"1\" class=\"dataframe\">\n",
              "  <thead>\n",
              " <tr style=\"text-align: left;\">\n",
              "      <th>Epoch</th>\n",
              "      <th>Training Loss</th>\n",
              "      <th>Validation Loss</th>\n",
              "      <th>Accuracy</th>\n",
              "      <th>Precision Cb</th>\n",
              "      <th>Recall Cb</th>\n",
              "      <th>F1 Cb</th>\n",
              "      <th>Precision Ncb</th>\n",
              "      <th>Recall Ncb</th>\n",
              "      <th>F1 Ncb</th>\n",
              "      <th>Precision Overall</th>\n",
              "      <th>Recall Overall</th>\n",
              "      <th>F1 Overall</th>\n",
              "    </tr>\n",
              "  </thead>\n",
              "  <tbody>\n",
              "    <tr>\n",
              "      <td>1</td>\n",
              "      <td>0.121100</td>\n",
              "      <td>0.153068</td>\n",
              "      <td>0.970780</td>\n",
              "      <td>0.716942</td>\n",
              "      <td>0.644981</td>\n",
              "      <td>0.679061</td>\n",
              "      <td>0.982218</td>\n",
              "      <td>0.987181</td>\n",
              "      <td>0.984693</td>\n",
              "      <td>0.849580</td>\n",
              "      <td>0.816081</td>\n",
              "      <td>0.831877</td>\n",
              "    </tr>\n",
              "    <tr>\n",
              "      <td>2</td>\n",
              "      <td>0.094800</td>\n",
              "      <td>0.103272</td>\n",
              "      <td>0.971581</td>\n",
              "      <td>0.765133</td>\n",
              "      <td>0.587361</td>\n",
              "      <td>0.664564</td>\n",
              "      <td>0.979467</td>\n",
              "      <td>0.990924</td>\n",
              "      <td>0.985162</td>\n",
              "      <td>0.872300</td>\n",
              "      <td>0.789142</td>\n",
              "      <td>0.824863</td>\n",
              "    </tr>\n",
              "    <tr>\n",
              "      <td>3</td>\n",
              "      <td>0.105100</td>\n",
              "      <td>0.151155</td>\n",
              "      <td>0.970067</td>\n",
              "      <td>0.737089</td>\n",
              "      <td>0.583643</td>\n",
              "      <td>0.651452</td>\n",
              "      <td>0.979257</td>\n",
              "      <td>0.989520</td>\n",
              "      <td>0.984362</td>\n",
              "      <td>0.858173</td>\n",
              "      <td>0.786582</td>\n",
              "      <td>0.817907</td>\n",
              "    </tr>\n",
              "    <tr>\n",
              "      <td>4</td>\n",
              "      <td>0.098900</td>\n",
              "      <td>0.145850</td>\n",
              "      <td>0.970690</td>\n",
              "      <td>0.741339</td>\n",
              "      <td>0.596654</td>\n",
              "      <td>0.661174</td>\n",
              "      <td>0.979893</td>\n",
              "      <td>0.989520</td>\n",
              "      <td>0.984683</td>\n",
              "      <td>0.860616</td>\n",
              "      <td>0.793087</td>\n",
              "      <td>0.822928</td>\n",
              "    </tr>\n",
              "  </tbody>\n",
              "</table><p>"
            ],
            "text/plain": [
              "<IPython.core.display.HTML object>"
            ]
          },
          "metadata": {},
          "output_type": "display_data"
        },
        {
          "name": "stdout",
          "output_type": "stream",
          "text": [
            "Complete for hold-out validate set\n"
          ]
        }
      ],
      "source": [
        "#holdout\n",
        "run_hold_out_split(model_name='DistilBert',\n",
        "                       epoch=4,\n",
        "                       train_dataset=train_dataset,\n",
        "                       eval_dataset=val_dataset,\n",
        "                       checkpoint=False)"
      ]
    },
    {
      "cell_type": "code",
      "execution_count": null,
      "id": "cbb07800-22ad-4740-8778-ff3922c37e18",
      "metadata": {
        "colab": {
          "base_uri": "https://localhost:8080/",
          "height": 110
        },
        "execution": {
          "iopub.execute_input": "2023-08-23T05:55:01.121071Z",
          "iopub.status.busy": "2023-08-23T05:55:01.120514Z",
          "iopub.status.idle": "2023-08-23T05:55:01.735365Z",
          "shell.execute_reply": "2023-08-23T05:55:01.734847Z",
          "shell.execute_reply.started": "2023-08-23T05:55:01.121048Z"
        },
        "id": "cbb07800-22ad-4740-8778-ff3922c37e18",
        "outputId": "8ec5b7dc-de26-4da5-9395-41e3f19f519f"
      },
      "outputs": [
        {
          "name": "stdout",
          "output_type": "stream",
          "text": [
            "Developing Model with Hold Out Splits for: DistilBert\n"
          ]
        },
        {
          "data": {
            "text/html": [
              "\n",
              "    <div>\n",
              "      \n",
              "      <progress value='50512' max='50512' style='width:300px; height:20px; vertical-align: middle;'></progress>\n",
              "      [50512/50512 : < :, Epoch 4/4]\n",
              "    </div>\n",
              "    <table border=\"1\" class=\"dataframe\">\n",
              "  <thead>\n",
              " <tr style=\"text-align: left;\">\n",
              "      <th>Epoch</th>\n",
              "      <th>Training Loss</th>\n",
              "      <th>Validation Loss</th>\n",
              "    </tr>\n",
              "  </thead>\n",
              "  <tbody>\n",
              "  </tbody>\n",
              "</table><p>"
            ],
            "text/plain": [
              "<IPython.core.display.HTML object>"
            ]
          },
          "metadata": {},
          "output_type": "display_data"
        },
        {
          "name": "stdout",
          "output_type": "stream",
          "text": [
            "Complete for hold-out validate set\n"
          ]
        }
      ],
      "source": [
        "#holdout\n",
        "run_hold_out_split(model_name='DistilBert',\n",
        "                       epoch=4,\n",
        "                       train_dataset=train_dataset,\n",
        "                       eval_dataset=val_dataset,\n",
        "                       checkpoint=True)"
      ]
    },
    {
      "cell_type": "markdown",
      "id": "w5vyE3EkK2JQ",
      "metadata": {
        "id": "w5vyE3EkK2JQ",
        "tags": []
      },
      "source": [
        "### Test Split Confusion Matrix"
      ]
    },
    {
      "cell_type": "markdown",
      "id": "fG7eAEaFtIYk",
      "metadata": {
        "id": "fG7eAEaFtIYk"
      },
      "source": [
        "#### Epoch 1\n"
      ]
    },
    {
      "cell_type": "code",
      "execution_count": null,
      "id": "ab06398b",
      "metadata": {
        "colab": {
          "base_uri": "https://localhost:8080/",
          "height": 938
        },
        "execution": {
          "iopub.execute_input": "2023-08-23T05:56:21.384593Z",
          "iopub.status.busy": "2023-08-23T05:56:21.384326Z",
          "iopub.status.idle": "2023-08-23T05:56:56.201275Z",
          "shell.execute_reply": "2023-08-23T05:56:56.200795Z",
          "shell.execute_reply.started": "2023-08-23T05:56:21.384574Z"
        },
        "id": "ab06398b",
        "outputId": "5e4fc9ec-e610-4eee-a4f1-557b6b81af88"
      },
      "outputs": [
        {
          "data": {
            "text/html": [],
            "text/plain": [
              "<IPython.core.display.HTML object>"
            ]
          },
          "metadata": {},
          "output_type": "display_data"
        },
        {
          "name": "stdout",
          "output_type": "stream",
          "text": [
            "Classification Report:\n",
            "              precision    recall  f1-score   support\n",
            "\n",
            "           0       0.98      0.99      0.98     10687\n",
            "           1       0.72      0.64      0.68       538\n",
            "\n",
            "    accuracy                           0.97     11225\n",
            "   macro avg       0.85      0.82      0.83     11225\n",
            "weighted avg       0.97      0.97      0.97     11225\n",
            "\n",
            "\n",
            "Label 1: Cyberbullying\n",
            "Precision:  0.7169421487603306\n",
            "Recall:  0.6449814126394052\n",
            "F-measure:  0.6790606653620352\n",
            "\n",
            "Label 0: Non-Cyberbullying\n",
            "Precision:  0.9822176706079508\n",
            "Recall:  0.9871806868157574\n",
            "F-measure:  0.9846929251446704\n",
            "\n",
            "Macro Metrics\n",
            "Precision:  0.8495799096841408\n",
            "Recall:  0.8160810497275813\n",
            "F-measure:  0.8318767952533528\n",
            "\n"
          ]
        },
        {
          "data": {
            "image/png": "[encoded data removed]",
            "text/plain": [
              "<Figure size 800x500 with 2 Axes>"
            ]
          },
          "metadata": {},
          "output_type": "display_data"
        }
      ],
      "source": [
        "compute_metrics_holdout(model_name='DistilBert',\n",
        "                        model_path='/content/content/drive/MyDrive_binary/output_DistilBert/holdout/checkpoint-12628',\n",
        "                        average_method='binary',\n",
        "                        X_test=X_test)"
      ]
    },
    {
      "cell_type": "markdown",
      "id": "Ir4eL3T8gtLf",
      "metadata": {
        "id": "Ir4eL3T8gtLf"
      },
      "source": [
        "#### Epoch 2"
      ]
    },
    {
      "cell_type": "code",
      "execution_count": null,
      "id": "u34gKYLGgtLr",
      "metadata": {
        "colab": {
          "base_uri": "https://localhost:8080/",
          "height": 938
        },
        "execution": {
          "iopub.execute_input": "2023-08-23T05:56:56.203218Z",
          "iopub.status.busy": "2023-08-23T05:56:56.202987Z",
          "iopub.status.idle": "2023-08-23T05:57:31.982347Z",
          "shell.execute_reply": "2023-08-23T05:57:31.981753Z",
          "shell.execute_reply.started": "2023-08-23T05:56:56.203199Z"
        },
        "id": "u34gKYLGgtLr",
        "outputId": "f845a82a-15ae-4c15-c002-b697a0d948b7"
      },
      "outputs": [
        {
          "data": {
            "text/html": [],
            "text/plain": [
              "<IPython.core.display.HTML object>"
            ]
          },
          "metadata": {},
          "output_type": "display_data"
        },
        {
          "name": "stdout",
          "output_type": "stream",
          "text": [
            "Classification Report:\n",
            "              precision    recall  f1-score   support\n",
            "\n",
            "           0       0.98      0.99      0.99     10687\n",
            "           1       0.77      0.59      0.66       538\n",
            "\n",
            "    accuracy                           0.97     11225\n",
            "   macro avg       0.87      0.79      0.82     11225\n",
            "weighted avg       0.97      0.97      0.97     11225\n",
            "\n",
            "\n",
            "Label 1: Cyberbullying\n",
            "Precision:  0.7651331719128329\n",
            "Recall:  0.587360594795539\n",
            "F-measure:  0.6645636172450053\n",
            "\n",
            "Label 0: Non-Cyberbullying\n",
            "Precision:  0.9794672586015538\n",
            "Recall:  0.9909235519790399\n",
            "F-measure:  0.9851621005628168\n",
            "\n",
            "Macro Metrics\n",
            "Precision:  0.8723002152571934\n",
            "Recall:  0.7891420733872895\n",
            "F-measure:  0.8248628589039111\n",
            "\n"
          ]
        },
        {
          "data": {
            "image/png": "[encoded data removed]",
            "text/plain": [
              "<Figure size 800x500 with 2 Axes>"
            ]
          },
          "metadata": {},
          "output_type": "display_data"
        }
      ],
      "source": [
        "compute_metrics_holdout(model_name='DistilBert',\n",
        "                        model_path='/content/content/drive/MyDrive_binary/output_DistilBert/holdout/checkpoint-25256',\n",
        "                        average_method='binary',\n",
        "                        X_test=X_test)"
      ]
    },
    {
      "cell_type": "markdown",
      "id": "KdECewOiL4tf",
      "metadata": {
        "id": "KdECewOiL4tf"
      },
      "source": [
        "#### Epoch 3"
      ]
    },
    {
      "cell_type": "code",
      "execution_count": null,
      "id": "Rj2PqaNBL4tg",
      "metadata": {
        "colab": {
          "base_uri": "https://localhost:8080/",
          "height": 938
        },
        "execution": {
          "iopub.execute_input": "2023-08-23T05:57:31.983262Z",
          "iopub.status.busy": "2023-08-23T05:57:31.983091Z",
          "iopub.status.idle": "2023-08-23T05:58:07.367089Z",
          "shell.execute_reply": "2023-08-23T05:58:07.366320Z",
          "shell.execute_reply.started": "2023-08-23T05:57:31.983246Z"
        },
        "id": "Rj2PqaNBL4tg",
        "outputId": "8a46842a-94aa-4cef-d99e-06c867d8e531"
      },
      "outputs": [
        {
          "data": {
            "text/html": [],
            "text/plain": [
              "<IPython.core.display.HTML object>"
            ]
          },
          "metadata": {},
          "output_type": "display_data"
        },
        {
          "name": "stdout",
          "output_type": "stream",
          "text": [
            "Classification Report:\n",
            "              precision    recall  f1-score   support\n",
            "\n",
            "           0       0.98      0.99      0.98     10687\n",
            "           1       0.74      0.58      0.65       538\n",
            "\n",
            "    accuracy                           0.97     11225\n",
            "   macro avg       0.86      0.79      0.82     11225\n",
            "weighted avg       0.97      0.97      0.97     11225\n",
            "\n",
            "\n",
            "Label 1: Cyberbullying\n",
            "Precision:  0.7370892018779343\n",
            "Recall:  0.5836431226765799\n",
            "F-measure:  0.6514522821576764\n",
            "\n",
            "Label 0: Non-Cyberbullying\n",
            "Precision:  0.9792573386424669\n",
            "Recall:  0.9895199775428091\n",
            "F-measure:  0.984361910080983\n",
            "\n",
            "Macro Metrics\n",
            "Precision:  0.8581732702602005\n",
            "Recall:  0.7865815501096944\n",
            "F-measure:  0.8179070961193297\n",
            "\n"
          ]
        },
        {
          "data": {
            "image/png": "[encoded data removed]",
            "text/plain": [
              "<Figure size 800x500 with 2 Axes>"
            ]
          },
          "metadata": {},
          "output_type": "display_data"
        }
      ],
      "source": [
        "compute_metrics_holdout(model_name='DistilBert',\n",
        "                        model_path='/content/content/drive/MyDrive_binary/output_DistilBert/holdout/checkpoint-37884',\n",
        "                        average_method='binary',\n",
        "                        X_test=X_test)"
      ]
    },
    {
      "cell_type": "markdown",
      "id": "uFLTBUzxL4MC",
      "metadata": {
        "id": "uFLTBUzxL4MC"
      },
      "source": [
        "#### Epoch 4"
      ]
    },
    {
      "cell_type": "code",
      "execution_count": null,
      "id": "MrkHnZgHL4MC",
      "metadata": {
        "colab": {
          "base_uri": "https://localhost:8080/",
          "height": 938
        },
        "execution": {
          "iopub.execute_input": "2023-08-23T05:55:36.421405Z",
          "iopub.status.busy": "2023-08-23T05:55:36.421117Z",
          "iopub.status.idle": "2023-08-23T05:56:11.719122Z",
          "shell.execute_reply": "2023-08-23T05:56:11.718573Z",
          "shell.execute_reply.started": "2023-08-23T05:55:36.421389Z"
        },
        "id": "MrkHnZgHL4MC",
        "outputId": "02512b4c-632a-4d89-9403-649a13c11c60"
      },
      "outputs": [
        {
          "data": {
            "text/html": [],
            "text/plain": [
              "<IPython.core.display.HTML object>"
            ]
          },
          "metadata": {},
          "output_type": "display_data"
        },
        {
          "name": "stdout",
          "output_type": "stream",
          "text": [
            "Classification Report:\n",
            "              precision    recall  f1-score   support\n",
            "\n",
            "           0       0.98      0.99      0.98     10687\n",
            "           1       0.74      0.60      0.66       538\n",
            "\n",
            "    accuracy                           0.97     11225\n",
            "   macro avg       0.86      0.79      0.82     11225\n",
            "weighted avg       0.97      0.97      0.97     11225\n",
            "\n",
            "\n",
            "Label 1: Cyberbullying\n",
            "Precision:  0.7413394919168591\n",
            "Recall:  0.5966542750929368\n",
            "F-measure:  0.6611740473738414\n",
            "\n",
            "Label 0: Non-Cyberbullying\n",
            "Precision:  0.9798925129725723\n",
            "Recall:  0.9895199775428091\n",
            "F-measure:  0.9846827133479212\n",
            "\n",
            "Macro Metrics\n",
            "Precision:  0.8606160024447157\n",
            "Recall:  0.7930871263178729\n",
            "F-measure:  0.8229283803608813\n",
            "\n"
          ]
        },
        {
          "data": {
            "image/png": "[encoded data removed]",
            "text/plain": [
              "<Figure size 800x500 with 2 Axes>"
            ]
          },
          "metadata": {},
          "output_type": "display_data"
        }
      ],
      "source": [
        "compute_metrics_holdout(model_name='DistilBert',\n",
        "                        model_path='/content/content/drive/MyDrive_binary/output_DistilBert/holdout/checkpoint-50512',\n",
        "                        average_method='binary',\n",
        "                        X_test=X_test)"
      ]
    }
  ],
  "metadata": {
    "colab": {
      "collapsed_sections": [
        "t6kQkR3fK9T0",
        "fG7eAEaFtIYk",
        "Ir4eL3T8gtLf",
        "KdECewOiL4tf",
        "uFLTBUzxL4MC",
        "eFNCqLf6L3pO",
        "OYWrSlPXL3Ac",
        "jhRILtDlL2XU",
        "OC_9eI5WMF8p",
        "5CH0cmxrMFSV",
        "xgLbAOZ7MEdd",
        "wTPokVq2pcUu",
        "5vlEdGyfpcUv",
        "3SHI4jYYpcUv",
        "jptg0BcZpcUv",
        "_AlZhKF5pcUv",
        "6MAeDeTWpcUv",
        "yqeXDiEipcUw",
        "ArQmCEzspcUw",
        "oDn0CPRXpcUw",
        "mYNtqY5cpcUw"
      ],
      "machine_shape": "hm",
      "provenance": []
    },
    "kernelspec": {
      "display_name": "Python 3",
      "name": "python3"
    },
    "language_info": {
      "codemirror_mode": {
        "name": "ipython",
        "version": 3
      },
      "file_extension": ".py",
      "mimetype": "text/x-python",
      "name": "python",
      "nbconvert_exporter": "python",
      "pygments_lexer": "ipython3",
      "version": "3.9.16"
    },
    "widgets": {
      "application/vnd.jupyter.widget-state+json": {
        "0e783b48009f4c09b915739c9986fd47": {
          "model_module": "@jupyter-widgets/controls",
          "model_module_version": "1.5.0",
          "model_name": "DescriptionStyleModel",
          "state": {
            "_model_module": "@jupyter-widgets/controls",
            "_model_module_version": "1.5.0",
            "_model_name": "DescriptionStyleModel",
            "_view_count": null,
            "_view_module": "@jupyter-widgets/base",
            "_view_module_version": "1.2.0",
            "_view_name": "StyleView",
            "description_width": ""
          }
        },
        "2c36d2c4cd8f41d6bb8dc75feaec6358": {
          "model_module": "@jupyter-widgets/base",
          "model_module_version": "1.2.0",
          "model_name": "LayoutModel",
          "state": {
            "_model_module": "@jupyter-widgets/base",
            "_model_module_version": "1.2.0",
            "_model_name": "LayoutModel",
            "_view_count": null,
            "_view_module": "@jupyter-widgets/base",
            "_view_module_version": "1.2.0",
            "_view_name": "LayoutView",
            "align_content": null,
            "align_items": null,
            "align_self": null,
            "border": null,
            "bottom": null,
            "display": null,
            "flex": null,
            "flex_flow": null,
            "grid_area": null,
            "grid_auto_columns": null,
            "grid_auto_flow": null,
            "grid_auto_rows": null,
            "grid_column": null,
            "grid_gap": null,
            "grid_row": null,
            "grid_template_areas": null,
            "grid_template_columns": null,
            "grid_template_rows": null,
            "height": null,
            "justify_content": null,
            "justify_items": null,
            "left": null,
            "margin": null,
            "max_height": null,
            "max_width": null,
            "min_height": null,
            "min_width": null,
            "object_fit": null,
            "object_position": null,
            "order": null,
            "overflow": null,
            "overflow_x": null,
            "overflow_y": null,
            "padding": null,
            "right": null,
            "top": null,
            "visibility": null,
            "width": null
          }
        },
        "53e6592430e34827be8561c1e78059b7": {
          "model_module": "@jupyter-widgets/controls",
          "model_module_version": "1.5.0",
          "model_name": "HTMLModel",
          "state": {
            "_dom_classes": [],
            "_model_module": "@jupyter-widgets/controls",
            "_model_module_version": "1.5.0",
            "_model_name": "HTMLModel",
            "_view_count": null,
            "_view_module": "@jupyter-widgets/controls",
            "_view_module_version": "1.5.0",
            "_view_name": "HTMLView",
            "description": "",
            "description_tooltip": null,
            "layout": "IPY_MODEL_cbb424af70ed41a2815536d989115591",
            "placeholder": "​",
            "style": "IPY_MODEL_c1ea86dfad524ea092b1b208f32e52b7",
            "value": "100%"
          }
        },
        "549612c1b28e43499d5cd132ae69d424": {
          "model_module": "@jupyter-widgets/controls",
          "model_module_version": "1.5.0",
          "model_name": "FloatProgressModel",
          "state": {
            "_dom_classes": [],
            "_model_module": "@jupyter-widgets/controls",
            "_model_module_version": "1.5.0",
            "_model_name": "FloatProgressModel",
            "_view_count": null,
            "_view_module": "@jupyter-widgets/controls",
            "_view_module_version": "1.5.0",
            "_view_name": "ProgressView",
            "bar_style": "success",
            "description": "",
            "description_tooltip": null,
            "layout": "IPY_MODEL_2c36d2c4cd8f41d6bb8dc75feaec6358",
            "max": 112247,
            "min": 0,
            "orientation": "horizontal",
            "style": "IPY_MODEL_64996a0e9ae8432e97f915488988dc1d",
            "value": 112247
          }
        },
        "5e5ff3a47fb54c06bf8a1a88e6d4ed23": {
          "model_module": "@jupyter-widgets/base",
          "model_module_version": "1.2.0",
          "model_name": "LayoutModel",
          "state": {
            "_model_module": "@jupyter-widgets/base",
            "_model_module_version": "1.2.0",
            "_model_name": "LayoutModel",
            "_view_count": null,
            "_view_module": "@jupyter-widgets/base",
            "_view_module_version": "1.2.0",
            "_view_name": "LayoutView",
            "align_content": null,
            "align_items": null,
            "align_self": null,
            "border": null,
            "bottom": null,
            "display": null,
            "flex": null,
            "flex_flow": null,
            "grid_area": null,
            "grid_auto_columns": null,
            "grid_auto_flow": null,
            "grid_auto_rows": null,
            "grid_column": null,
            "grid_gap": null,
            "grid_row": null,
            "grid_template_areas": null,
            "grid_template_columns": null,
            "grid_template_rows": null,
            "height": null,
            "justify_content": null,
            "justify_items": null,
            "left": null,
            "margin": null,
            "max_height": null,
            "max_width": null,
            "min_height": null,
            "min_width": null,
            "object_fit": null,
            "object_position": null,
            "order": null,
            "overflow": null,
            "overflow_x": null,
            "overflow_y": null,
            "padding": null,
            "right": null,
            "top": null,
            "visibility": null,
            "width": null
          }
        },
        "64996a0e9ae8432e97f915488988dc1d": {
          "model_module": "@jupyter-widgets/controls",
          "model_module_version": "1.5.0",
          "model_name": "ProgressStyleModel",
          "state": {
            "_model_module": "@jupyter-widgets/controls",
            "_model_module_version": "1.5.0",
            "_model_name": "ProgressStyleModel",
            "_view_count": null,
            "_view_module": "@jupyter-widgets/base",
            "_view_module_version": "1.2.0",
            "_view_name": "StyleView",
            "bar_color": null,
            "description_width": ""
          }
        },
        "83fe4aec3dbc4900a458a4c7cbc80c09": {
          "model_module": "@jupyter-widgets/controls",
          "model_module_version": "1.5.0",
          "model_name": "HTMLModel",
          "state": {
            "_dom_classes": [],
            "_model_module": "@jupyter-widgets/controls",
            "_model_module_version": "1.5.0",
            "_model_name": "HTMLModel",
            "_view_count": null,
            "_view_module": "@jupyter-widgets/controls",
            "_view_module_version": "1.5.0",
            "_view_name": "HTMLView",
            "description": "",
            "description_tooltip": null,
            "layout": "IPY_MODEL_ff7ad61b124d4186af7ae2048d5da469",
            "placeholder": "​",
            "style": "IPY_MODEL_0e783b48009f4c09b915739c9986fd47",
            "value": " 112247/112247 [00:00&lt;00:00, 450159.36it/s]"
          }
        },
        "c1ea86dfad524ea092b1b208f32e52b7": {
          "model_module": "@jupyter-widgets/controls",
          "model_module_version": "1.5.0",
          "model_name": "DescriptionStyleModel",
          "state": {
            "_model_module": "@jupyter-widgets/controls",
            "_model_module_version": "1.5.0",
            "_model_name": "DescriptionStyleModel",
            "_view_count": null,
            "_view_module": "@jupyter-widgets/base",
            "_view_module_version": "1.2.0",
            "_view_name": "StyleView",
            "description_width": ""
          }
        },
        "cbb424af70ed41a2815536d989115591": {
          "model_module": "@jupyter-widgets/base",
          "model_module_version": "1.2.0",
          "model_name": "LayoutModel",
          "state": {
            "_model_module": "@jupyter-widgets/base",
            "_model_module_version": "1.2.0",
            "_model_name": "LayoutModel",
            "_view_count": null,
            "_view_module": "@jupyter-widgets/base",
            "_view_module_version": "1.2.0",
            "_view_name": "LayoutView",
            "align_content": null,
            "align_items": null,
            "align_self": null,
            "border": null,
            "bottom": null,
            "display": null,
            "flex": null,
            "flex_flow": null,
            "grid_area": null,
            "grid_auto_columns": null,
            "grid_auto_flow": null,
            "grid_auto_rows": null,
            "grid_column": null,
            "grid_gap": null,
            "grid_row": null,
            "grid_template_areas": null,
            "grid_template_columns": null,
            "grid_template_rows": null,
            "height": null,
            "justify_content": null,
            "justify_items": null,
            "left": null,
            "margin": null,
            "max_height": null,
            "max_width": null,
            "min_height": null,
            "min_width": null,
            "object_fit": null,
            "object_position": null,
            "order": null,
            "overflow": null,
            "overflow_x": null,
            "overflow_y": null,
            "padding": null,
            "right": null,
            "top": null,
            "visibility": null,
            "width": null
          }
        },
        "cc3ad1e243a245cca1778214f74bd062": {
          "model_module": "@jupyter-widgets/controls",
          "model_module_version": "1.5.0",
          "model_name": "HBoxModel",
          "state": {
            "_dom_classes": [],
            "_model_module": "@jupyter-widgets/controls",
            "_model_module_version": "1.5.0",
            "_model_name": "HBoxModel",
            "_view_count": null,
            "_view_module": "@jupyter-widgets/controls",
            "_view_module_version": "1.5.0",
            "_view_name": "HBoxView",
            "box_style": "",
            "children": [
              "IPY_MODEL_53e6592430e34827be8561c1e78059b7",
              "IPY_MODEL_549612c1b28e43499d5cd132ae69d424",
              "IPY_MODEL_83fe4aec3dbc4900a458a4c7cbc80c09"
            ],
            "layout": "IPY_MODEL_5e5ff3a47fb54c06bf8a1a88e6d4ed23"
          }
        },
        "ff7ad61b124d4186af7ae2048d5da469": {
          "model_module": "@jupyter-widgets/base",
          "model_module_version": "1.2.0",
          "model_name": "LayoutModel",
          "state": {
            "_model_module": "@jupyter-widgets/base",
            "_model_module_version": "1.2.0",
            "_model_name": "LayoutModel",
            "_view_count": null,
            "_view_module": "@jupyter-widgets/base",
            "_view_module_version": "1.2.0",
            "_view_name": "LayoutView",
            "align_content": null,
            "align_items": null,
            "align_self": null,
            "border": null,
            "bottom": null,
            "display": null,
            "flex": null,
            "flex_flow": null,
            "grid_area": null,
            "grid_auto_columns": null,
            "grid_auto_flow": null,
            "grid_auto_rows": null,
            "grid_column": null,
            "grid_gap": null,
            "grid_row": null,
            "grid_template_areas": null,
            "grid_template_columns": null,
            "grid_template_rows": null,
            "height": null,
            "justify_content": null,
            "justify_items": null,
            "left": null,
            "margin": null,
            "max_height": null,
            "max_width": null,
            "min_height": null,
            "min_width": null,
            "object_fit": null,
            "object_position": null,
            "order": null,
            "overflow": null,
            "overflow_x": null,
            "overflow_y": null,
            "padding": null,
            "right": null,
            "top": null,
            "visibility": null,
            "width": null
          }
        }
      }
    }
  },
  "nbformat": 4,
  "nbformat_minor": 5
}
